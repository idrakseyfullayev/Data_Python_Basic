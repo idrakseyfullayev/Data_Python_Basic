{
 "cells": [
  {
   "cell_type": "markdown",
   "id": "be74e0ab",
   "metadata": {},
   "source": [
    "##  Function def() "
   ]
  },
  {
   "cell_type": "markdown",
   "id": "16b4af2b",
   "metadata": {},
   "source": [
    "\n",
    "\n",
    "### **1. Positional (mövqeli) parametrlər**\n",
    "\n",
    "Bu parametrlər **funksiya çağırışında sırayla ötürülür**:\n",
    "\n",
    "* `required` → Mütləq ötürülməlidir, default dəyəri yoxdur\n",
    "-  → `def topla(a, b):`\n",
    "-  → `topla(2, 3)`\n",
    "\n",
    "* `optional` → Default dəyəri var, ötürülməsə də olar\n",
    "-  → `def topla(a, b=0):`\n",
    "-  → `topla(5)` → `a=5, b=0`\n",
    "\n",
    "---\n",
    "\n",
    "### **2. Non-positional (mövqesiz) parametrlər**\n",
    "\n",
    "Bu parametrlər **istədiyin qədər** ötürülə bilər, **mövqe vacib deyil**:\n",
    "\n",
    "* `*args` → Sonsuz sayda **mövqeli** parametr qəbul edir (tuple şəklində)\n",
    "-  → `def topla(*args):`\n",
    "\n",
    "* `**kwargs` → Sonsuz sayda **açar=qiymət** cütü qəbul edir (dict şəklində)\n",
    "-  → `def topla(**kwargs):`\n",
    "\n",
    "---\n",
    "\n",
    "### Əsas qayda:\n",
    "- Positional (**required**→ **optional**) →  Non-positional(**args** → **kwargs**) sırası ilə yazılmalıdır.**\n",
    "\n",
    "\n"
   ]
  },
  {
   "cell_type": "code",
   "execution_count": null,
   "id": "d308be4d",
   "metadata": {},
   "outputs": [],
   "source": []
  },
  {
   "cell_type": "markdown",
   "id": "12aed878",
   "metadata": {},
   "source": [
    "## Nümunələr"
   ]
  },
  {
   "cell_type": "markdown",
   "id": "6c33cffd",
   "metadata": {},
   "source": [
    "\n",
    "\n",
    "### **1. Positional (mövqeli) parametrlər**\n",
    "\n",
    "#### *required* → (mütləq ötürülməlidir)\n",
    "\n",
    "```python\n",
    "def topla(a, b):\n",
    "    return a + b\n",
    "\n",
    "print(topla(3, 4))   # → 7\n",
    "```\n",
    "\n",
    "#### *optional* → (default dəyər var, ötürülməsə də olar)\n",
    "\n",
    "```python\n",
    "def topla(a, b=0):\n",
    "    return a + b\n",
    "\n",
    "print(topla(5))      # → 5\n",
    "```\n",
    "\n",
    "---\n",
    "\n",
    "### **2. Non-positional (mövqesiz) parametrlər**\n",
    "\n",
    "#### *args* → (sonsuz sayda mövqeli parametr qəbul edir)\n",
    "\n",
    "```python\n",
    "def topla(*args):\n",
    "    return sum(args)\n",
    "\n",
    "print(topla(1, 2, 3, 4))  # → 10\n",
    "```\n",
    "\n",
    "#### **kwargs** → (sonsuz sayda açar=qiymət cütü qəbul edir)\n",
    "\n",
    "```python\n",
    "def goster(**kwargs):\n",
    "    for k, v in kwargs.items():\n",
    "        print(k, \":\", v)\n",
    "\n",
    "goster(ad=\"Ali\", yas=25)  \n",
    "# → ad : Ali\n",
    "# → yas : 25\n",
    "```\n",
    "\n",
    "\n"
   ]
  },
  {
   "cell_type": "code",
   "execution_count": null,
   "id": "d8eb122b",
   "metadata": {},
   "outputs": [],
   "source": []
  },
  {
   "cell_type": "markdown",
   "id": "d0eac80a",
   "metadata": {},
   "source": [
    "## 4 növ bir nümunədə "
   ]
  },
  {
   "cell_type": "code",
   "execution_count": 14,
   "id": "6236267e",
   "metadata": {},
   "outputs": [
    {
     "name": "stdout",
     "output_type": "stream",
     "text": [
      "a: 10\n",
      "b: 20\n",
      "args: (30, 40)\n",
      "kwargs: {'ad': 'Aysel', 'yas': 22}\n"
     ]
    }
   ],
   "source": [
    "def funksiya(a, b=0, *args, **kwargs):\n",
    "    print(\"a:\", a)                 # required\n",
    "    print(\"b:\", b)                 # optional\n",
    "    print(\"args:\", args)          # *args\n",
    "    print(\"kwargs:\", kwargs)      # **kwargs\n",
    "\n",
    "# Çağırış:\n",
    "funksiya(10, 20, 30, 40, ad=\"Aysel\", yas=22)\n"
   ]
  },
  {
   "cell_type": "code",
   "execution_count": null,
   "id": "51a85a58",
   "metadata": {},
   "outputs": [],
   "source": []
  },
  {
   "cell_type": "markdown",
   "id": "1e730296",
   "metadata": {},
   "source": [
    "## * və **  nədir?"
   ]
  },
  {
   "cell_type": "markdown",
   "id": "20a489c9",
   "metadata": {},
   "source": [
    "### 🔹 `*` → Tuple (mövqeli arqumentləri **toplayır** və ya **açır**)\n",
    "\n",
    "### 1. \\*Pack → arqumentləri **tuple** kimi toplamaq:\n",
    "\n",
    "```python\n",
    "def topla(*args):\n",
    "    print(args)\n",
    "\n",
    "topla(1, 2, 3)\n",
    "# Çıxış: (1, 2, 3) → tuple şəklində\n",
    "```\n",
    "\n",
    "### 2. \\*Unpack → mövcud list/tuple-u **ayrılıqda göndərmək**:\n",
    "\n",
    "```python\n",
    "ededler = [1, 2, 3]\n",
    "topla(*ededler)\n",
    "# 1, 2, 3 ayrı-ayrılıqda ötürülür\n",
    "```\n",
    "\n",
    "---\n",
    "\n",
    "### 🔹 `**` → Dict (açar=qiymət cütlərini **toplayır** və ya **açır**)\n",
    "\n",
    "### 1. \\*\\*Pack → açar=qiymət cütlərini **dict** kimi toplamaq:\n",
    "\n",
    "```python\n",
    "def info(**kwargs):\n",
    "    print(kwargs)\n",
    "\n",
    "info(ad=\"Ayan\", yas=23)\n",
    "# Çıxış: {'ad': 'Ayan', 'yas': 23}\n",
    "```\n",
    "\n",
    "### 2. \\*\\*Unpack → mövcud dictionary-ni **açar=qiymət** kimi ötürmək:\n",
    "\n",
    "```python\n",
    "melumat = {\"ad\": \"Ayan\", \"yas\": 23}\n",
    "info(**melumat)\n",
    "# ad=\"Ayan\", yas=23 kimi ötürülür\n",
    "```\n",
    "\n",
    "---\n",
    "\n",
    "### 📌 Nəticə:\n",
    "\n",
    "| Simvol | Görəvi                                              | Format           |\n",
    "| ------ | --------------------------------------------------- | ---------------- |\n",
    "| `*`    | Mövqeli dəyərləri `tuple` kimi toplar və ya açar    | `(1, 2, 3)`      |\n",
    "| `**`   | Açar=qiymət dəyərləri `dict` kimi toplar və ya açar | `{'ad': 'Ayan'}` |\n",
    "\n",
    "İstəyirsənsə bununla bağlı kiçik test və ya tapşırıq da hazırlaya bilərəm. Hazırsan?\n"
   ]
  },
  {
   "cell_type": "code",
   "execution_count": null,
   "id": "071298cc",
   "metadata": {},
   "outputs": [],
   "source": []
  }
 ],
 "metadata": {
  "kernelspec": {
   "display_name": "Python 3 (ipykernel)",
   "language": "python",
   "name": "python3"
  },
  "language_info": {
   "codemirror_mode": {
    "name": "ipython",
    "version": 3
   },
   "file_extension": ".py",
   "mimetype": "text/x-python",
   "name": "python",
   "nbconvert_exporter": "python",
   "pygments_lexer": "ipython3",
   "version": "3.11.5"
  }
 },
 "nbformat": 4,
 "nbformat_minor": 5
}
