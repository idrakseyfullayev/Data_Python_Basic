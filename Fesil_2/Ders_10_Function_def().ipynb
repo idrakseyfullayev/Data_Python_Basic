{
 "cells": [
  {
   "cell_type": "markdown",
   "id": "fc7e4606",
   "metadata": {},
   "source": [
    "##     Functions"
   ]
  },
  {
   "cell_type": "code",
   "execution_count": 9,
   "id": "bc985d88",
   "metadata": {},
   "outputs": [],
   "source": [
    "def topla(a, b):\n",
    "    c = a + b\n",
    "    return c"
   ]
  },
  {
   "cell_type": "code",
   "execution_count": 10,
   "id": "c4938929",
   "metadata": {},
   "outputs": [
    {
     "name": "stdout",
     "output_type": "stream",
     "text": [
      "15\n"
     ]
    }
   ],
   "source": [
    "a = 5\n",
    "b = 10\n",
    "\n",
    "print(topla(a, b))"
   ]
  },
  {
   "cell_type": "code",
   "execution_count": 11,
   "id": "a2b3cb68",
   "metadata": {},
   "outputs": [
    {
     "data": {
      "text/plain": [
       "15"
      ]
     },
     "execution_count": 11,
     "metadata": {},
     "output_type": "execute_result"
    }
   ],
   "source": [
    "number1 = 5\n",
    "number2 = 10\n",
    "\n",
    "topla(number1, number2)"
   ]
  },
  {
   "cell_type": "code",
   "execution_count": 12,
   "id": "9fec4fb5",
   "metadata": {},
   "outputs": [
    {
     "name": "stdout",
     "output_type": "stream",
     "text": [
      "16\n"
     ]
    }
   ],
   "source": [
    "a = 5\n",
    "b = 10\n",
    "\n",
    "def topla(a,b):\n",
    "    a += 1\n",
    "    c = a + b\n",
    "    print(c)\n",
    "\n",
    "x = topla(a, b)    \n",
    "\n",
    "x"
   ]
  },
  {
   "cell_type": "code",
   "execution_count": 13,
   "id": "17cde015",
   "metadata": {},
   "outputs": [
    {
     "name": "stdout",
     "output_type": "stream",
     "text": [
      "16\n",
      "None\n"
     ]
    }
   ],
   "source": [
    "a = 5\n",
    "b = 10\n",
    "\n",
    "def topla(a,b):\n",
    "    a += 1\n",
    "    c = a + b\n",
    "    print(c)\n",
    "\n",
    "x = topla(a, b)    \n",
    "\n",
    "print(x)"
   ]
  },
  {
   "cell_type": "code",
   "execution_count": 20,
   "id": "e06b6374",
   "metadata": {},
   "outputs": [
    {
     "name": "stdout",
     "output_type": "stream",
     "text": [
      "(6, 10, 16)\n"
     ]
    }
   ],
   "source": [
    "def topla(a,b):\n",
    "    a += 1\n",
    "    c = a + b\n",
    "    return a, b, c\n",
    "\n",
    "a = 5\n",
    "b = 10\n",
    "\n",
    "x = topla(a, b)\n",
    "print(x)"
   ]
  },
  {
   "cell_type": "code",
   "execution_count": 21,
   "id": "dcb156ce",
   "metadata": {},
   "outputs": [
    {
     "name": "stdout",
     "output_type": "stream",
     "text": [
      "6, 10, 16\n"
     ]
    }
   ],
   "source": [
    "def topla(a,b):\n",
    "    a += 1\n",
    "    c = a + b\n",
    "    return f\"{a}, {b}, {c}\"\n",
    "\n",
    "a = 5\n",
    "b = 10\n",
    "\n",
    "x = topla(a, b)\n",
    "print(x)"
   ]
  },
  {
   "cell_type": "code",
   "execution_count": 25,
   "id": "ab4f36bf",
   "metadata": {},
   "outputs": [
    {
     "name": "stdout",
     "output_type": "stream",
     "text": [
      "4\n",
      "16\n",
      "216\n",
      "343\n"
     ]
    }
   ],
   "source": [
    "def func(a, b, c, d):\n",
    "    list1 = [a, b, c, d]\n",
    "    for i in list1:\n",
    "        if i < 5:\n",
    "            print(i**2)\n",
    "        else:\n",
    "            print(i**3)\n",
    "\n",
    "number1 = 2\n",
    "number2 = 4\n",
    "number3 = 6\n",
    "number4 = 7\n",
    "\n",
    "func(number1, number2, number3, number4)"
   ]
  },
  {
   "cell_type": "code",
   "execution_count": 26,
   "id": "d287c71d",
   "metadata": {},
   "outputs": [
    {
     "name": "stdout",
     "output_type": "stream",
     "text": [
      "1\n",
      "4\n",
      "9\n",
      "216\n"
     ]
    }
   ],
   "source": [
    "number1 = 1\n",
    "number2 = 2\n",
    "number3 = 3\n",
    "number4 = 6\n",
    "\n",
    "func(number1, number2, number3, number4)"
   ]
  },
  {
   "cell_type": "code",
   "execution_count": 27,
   "id": "237db2eb",
   "metadata": {},
   "outputs": [],
   "source": [
    "def reverse_(a):\n",
    "    return a[::-1]"
   ]
  },
  {
   "cell_type": "code",
   "execution_count": 31,
   "id": "9488b485",
   "metadata": {},
   "outputs": [
    {
     "data": {
      "text/plain": [
       "'ukaB'"
      ]
     },
     "execution_count": 31,
     "metadata": {},
     "output_type": "execute_result"
    }
   ],
   "source": [
    "text = 'Baku'\n",
    "\n",
    "reverse_(text)"
   ]
  },
  {
   "cell_type": "code",
   "execution_count": 32,
   "id": "c82ca006",
   "metadata": {},
   "outputs": [
    {
     "data": {
      "text/plain": [
       "'acnaG'"
      ]
     },
     "execution_count": 32,
     "metadata": {},
     "output_type": "execute_result"
    }
   ],
   "source": [
    "text = 'Ganca'\n",
    "\n",
    "reverse_(text)"
   ]
  },
  {
   "cell_type": "code",
   "execution_count": 39,
   "id": "02a99db2",
   "metadata": {},
   "outputs": [],
   "source": [
    "def bolunen_2_e(x, y):\n",
    "    for i in range(x, y+1):\n",
    "        if not i % 2:\n",
    "            print(i, end=\", \")"
   ]
  },
  {
   "cell_type": "code",
   "execution_count": 40,
   "id": "3fc1380c",
   "metadata": {},
   "outputs": [
    {
     "name": "stdout",
     "output_type": "stream",
     "text": [
      "2, 4, 6, 8, 10, 12, 14, 16, 18, 20, "
     ]
    }
   ],
   "source": [
    "first = 1\n",
    "last = 20\n",
    "\n",
    "bolunen_2_e(first, last)"
   ]
  },
  {
   "cell_type": "code",
   "execution_count": 46,
   "id": "90bece22",
   "metadata": {},
   "outputs": [
    {
     "data": {
      "text/plain": [
       "2"
      ]
     },
     "execution_count": 46,
     "metadata": {},
     "output_type": "execute_result"
    }
   ],
   "source": [
    "def bolunen_2_e(x, y):\n",
    "    for i in range(x, y+1):\n",
    "        if not i % 2:\n",
    "            return i\n",
    "        \n",
    "first = 1\n",
    "last = 20\n",
    "\n",
    "bolunen_2_e(first, last)        "
   ]
  },
  {
   "cell_type": "code",
   "execution_count": 51,
   "id": "d18ff93e",
   "metadata": {},
   "outputs": [
    {
     "name": "stdout",
     "output_type": "stream",
     "text": [
      "0, 1, 2, 3, 4, 5, 6, 7, 8, 9, "
     ]
    }
   ],
   "source": [
    "def func(a):\n",
    "    for i in range(a):\n",
    "        print(i, end=\", \")\n",
    "\n",
    "func(10)        "
   ]
  },
  {
   "cell_type": "code",
   "execution_count": 52,
   "id": "dae843fd",
   "metadata": {},
   "outputs": [
    {
     "data": {
      "text/plain": [
       "0"
      ]
     },
     "execution_count": 52,
     "metadata": {},
     "output_type": "execute_result"
    }
   ],
   "source": [
    "def func(a):\n",
    "    for i in range(a):\n",
    "        return i\n",
    "    \n",
    "func(10)    "
   ]
  },
  {
   "cell_type": "code",
   "execution_count": 54,
   "id": "60618c54",
   "metadata": {},
   "outputs": [
    {
     "data": {
      "text/plain": [
       "[0, 1, 2, 3, 4, 5, 6, 7, 8, 9]"
      ]
     },
     "execution_count": 54,
     "metadata": {},
     "output_type": "execute_result"
    }
   ],
   "source": [
    "def func(a):\n",
    "    list1 = []\n",
    "    \n",
    "    for i in range(a):\n",
    "        list1.append(i)\n",
    "        \n",
    "    return list1    \n",
    "    \n",
    "func(10)"
   ]
  },
  {
   "cell_type": "code",
   "execution_count": 60,
   "id": "182f9ec2",
   "metadata": {},
   "outputs": [
    {
     "data": {
      "text/plain": [
       "[0, 1, 2, 3, 4, 5, 6, 7, 8, 9]"
      ]
     },
     "execution_count": 60,
     "metadata": {},
     "output_type": "execute_result"
    }
   ],
   "source": [
    "list1 = []\n",
    "\n",
    "def func(a):\n",
    "    \n",
    "    for i in range(a):\n",
    "        list1.append(i)\n",
    "        \n",
    "    return list1\n",
    "    \n",
    "func(10)"
   ]
  },
  {
   "cell_type": "code",
   "execution_count": 61,
   "id": "f5f8fd34",
   "metadata": {},
   "outputs": [
    {
     "data": {
      "text/plain": [
       "[0, 1, 2, 3, 4, 5, 6, 7, 8, 9]"
      ]
     },
     "execution_count": 61,
     "metadata": {},
     "output_type": "execute_result"
    }
   ],
   "source": [
    "def func(a):\n",
    "    \n",
    "    for i in range(a):\n",
    "        list1.append(i)\n",
    "        \n",
    "    return list1\n",
    "\n",
    "list1 = []\n",
    "    \n",
    "func(10)"
   ]
  },
  {
   "cell_type": "code",
   "execution_count": 64,
   "id": "e143cdcc",
   "metadata": {},
   "outputs": [
    {
     "data": {
      "text/plain": [
       "'Baku'"
      ]
     },
     "execution_count": 64,
     "metadata": {},
     "output_type": "execute_result"
    }
   ],
   "source": [
    "def func(x):\n",
    "    \n",
    "    text = \"\"\n",
    "    \n",
    "    for i in x:\n",
    "        text += i\n",
    "        \n",
    "    return text\n",
    "\n",
    "\n",
    "list1 = [\"B\", \"a\", \"k\", \"u\"]\n",
    "\n",
    "func(list1)"
   ]
  },
  {
   "cell_type": "code",
   "execution_count": null,
   "id": "4fdb9405",
   "metadata": {},
   "outputs": [],
   "source": [
    "    "
   ]
  },
  {
   "cell_type": "markdown",
   "id": "aad6e448",
   "metadata": {},
   "source": [
    "### Positional (required→ optional) → Non-positional(args → kwargs) sırası ilə yazılmalıdır.**"
   ]
  },
  {
   "cell_type": "markdown",
   "id": "cca39387",
   "metadata": {},
   "source": [
    "### 1. Positional (mövqeli) parametrlər"
   ]
  },
  {
   "cell_type": "markdown",
   "id": "910c6572",
   "metadata": {},
   "source": [
    "#### required → (mütləq ötürülməlidir)"
   ]
  },
  {
   "cell_type": "code",
   "execution_count": 70,
   "id": "b4cbd0be",
   "metadata": {},
   "outputs": [
    {
     "data": {
      "text/plain": [
       "7"
      ]
     },
     "execution_count": 70,
     "metadata": {},
     "output_type": "execute_result"
    }
   ],
   "source": [
    "def topla(a, b):\n",
    "    return a + b\n",
    "\n",
    "topla(3, 4)"
   ]
  },
  {
   "cell_type": "markdown",
   "id": "beb4e1f2",
   "metadata": {},
   "source": [
    "#### optional → (default dəyər var, ötürülməsə də olar)"
   ]
  },
  {
   "cell_type": "code",
   "execution_count": 71,
   "id": "7262e0aa",
   "metadata": {},
   "outputs": [
    {
     "name": "stdout",
     "output_type": "stream",
     "text": [
      "5\n"
     ]
    }
   ],
   "source": [
    "def topla(a, b=0):\n",
    "    return a + b\n",
    "\n",
    "print(topla(5))"
   ]
  },
  {
   "cell_type": "code",
   "execution_count": 72,
   "id": "04f8582c",
   "metadata": {},
   "outputs": [
    {
     "data": {
      "text/plain": [
       "7"
      ]
     },
     "execution_count": 72,
     "metadata": {},
     "output_type": "execute_result"
    }
   ],
   "source": [
    "def topla(a, b=0):\n",
    "    return a + b\n",
    "\n",
    "topla(5, 2)"
   ]
  },
  {
   "cell_type": "code",
   "execution_count": null,
   "id": "78d18da1",
   "metadata": {},
   "outputs": [],
   "source": []
  },
  {
   "cell_type": "markdown",
   "id": "4a2bcf5d",
   "metadata": {},
   "source": [
    "### 2. Non-positional (mövqesiz) parametrlər"
   ]
  },
  {
   "cell_type": "markdown",
   "id": "4df47db1",
   "metadata": {},
   "source": [
    "#### args → (sonsuz sayda mövqeli parametr qəbul edir)"
   ]
  },
  {
   "cell_type": "code",
   "execution_count": 78,
   "id": "86eea85e",
   "metadata": {},
   "outputs": [
    {
     "data": {
      "text/plain": [
       "10"
      ]
     },
     "execution_count": 78,
     "metadata": {},
     "output_type": "execute_result"
    }
   ],
   "source": [
    "def topla(*args):\n",
    "    return sum(args)\n",
    "\n",
    "topla(1, 2, 3, 4)"
   ]
  },
  {
   "cell_type": "code",
   "execution_count": 86,
   "id": "85c05259",
   "metadata": {},
   "outputs": [
    {
     "name": "stdout",
     "output_type": "stream",
     "text": [
      "1, 2, 3, 4, "
     ]
    }
   ],
   "source": [
    "def topla(*args):\n",
    "    for i in args:\n",
    "        print(i, end=\", \")\n",
    "\n",
    "topla(1, 2, 3, 4)"
   ]
  },
  {
   "cell_type": "code",
   "execution_count": 87,
   "id": "f033df1a",
   "metadata": {},
   "outputs": [
    {
     "data": {
      "text/plain": [
       "(1, 2, 3, 4)"
      ]
     },
     "execution_count": 87,
     "metadata": {},
     "output_type": "execute_result"
    }
   ],
   "source": [
    "def topla(*args):\n",
    "    return(args)\n",
    "\n",
    "topla(1, 2, 3, 4)"
   ]
  },
  {
   "cell_type": "code",
   "execution_count": 88,
   "id": "f4b2e5c0",
   "metadata": {},
   "outputs": [
    {
     "ename": "TypeError",
     "evalue": "unsupported operand type(s) for +: 'int' and 'list'",
     "output_type": "error",
     "traceback": [
      "\u001b[1;31m---------------------------------------------------------------------------\u001b[0m",
      "\u001b[1;31mTypeError\u001b[0m                                 Traceback (most recent call last)",
      "Cell \u001b[1;32mIn[88], line 4\u001b[0m\n\u001b[0;32m      1\u001b[0m \u001b[38;5;28;01mdef\u001b[39;00m \u001b[38;5;21mtopla\u001b[39m(\u001b[38;5;241m*\u001b[39margs):\n\u001b[0;32m      2\u001b[0m     \u001b[38;5;28;01mreturn\u001b[39;00m \u001b[38;5;28msum\u001b[39m(args)\n\u001b[1;32m----> 4\u001b[0m topla([\u001b[38;5;241m1\u001b[39m, \u001b[38;5;241m2\u001b[39m, \u001b[38;5;241m3\u001b[39m, \u001b[38;5;241m4\u001b[39m])\n",
      "Cell \u001b[1;32mIn[88], line 2\u001b[0m, in \u001b[0;36mtopla\u001b[1;34m(*args)\u001b[0m\n\u001b[0;32m      1\u001b[0m \u001b[38;5;28;01mdef\u001b[39;00m \u001b[38;5;21mtopla\u001b[39m(\u001b[38;5;241m*\u001b[39margs):\n\u001b[1;32m----> 2\u001b[0m     \u001b[38;5;28;01mreturn\u001b[39;00m \u001b[38;5;28msum\u001b[39m(args)\n",
      "\u001b[1;31mTypeError\u001b[0m: unsupported operand type(s) for +: 'int' and 'list'"
     ]
    }
   ],
   "source": [
    "def topla(*args):\n",
    "    return sum(args)\n",
    "\n",
    "topla([1, 2, 3, 4])"
   ]
  },
  {
   "cell_type": "code",
   "execution_count": 89,
   "id": "f8536077",
   "metadata": {},
   "outputs": [
    {
     "data": {
      "text/plain": [
       "10"
      ]
     },
     "execution_count": 89,
     "metadata": {},
     "output_type": "execute_result"
    }
   ],
   "source": [
    "def topla(*args):\n",
    "    return sum(args)\n",
    "\n",
    "topla(*[1, 2, 3, 4])"
   ]
  },
  {
   "cell_type": "code",
   "execution_count": 90,
   "id": "1834473b",
   "metadata": {},
   "outputs": [
    {
     "name": "stdout",
     "output_type": "stream",
     "text": [
      "1 2 3 4 5\n"
     ]
    }
   ],
   "source": [
    "print(*[1,2,3,4,5])"
   ]
  },
  {
   "cell_type": "markdown",
   "id": "1f7c9841",
   "metadata": {},
   "source": [
    "#### kwargs → (sonsuz sayda açar=qiymət cütü qəbul edir)"
   ]
  },
  {
   "cell_type": "code",
   "execution_count": 92,
   "id": "afa7a372",
   "metadata": {},
   "outputs": [
    {
     "name": "stdout",
     "output_type": "stream",
     "text": [
      "ad : Ali\n",
      "yas : 25\n"
     ]
    }
   ],
   "source": [
    "def goster(**kwargs):\n",
    "    for k, v in kwargs.items():\n",
    "        print(k, \":\", v)\n",
    "\n",
    "goster(ad=\"Ali\", yas=25)  "
   ]
  },
  {
   "cell_type": "markdown",
   "id": "60815eee",
   "metadata": {},
   "source": [
    "### 4 növ bir nümunədə"
   ]
  },
  {
   "cell_type": "code",
   "execution_count": 93,
   "id": "19ade1f8",
   "metadata": {},
   "outputs": [
    {
     "name": "stdout",
     "output_type": "stream",
     "text": [
      "a: 10\n",
      "b: 20\n",
      "args: (30, 40)\n",
      "kwargs: {'ad': 'Aysel', 'yas': 22}\n"
     ]
    }
   ],
   "source": [
    "def func(a, b=0, *args, **kwargs):\n",
    "    print(\"a:\", a)                 # required\n",
    "    print(\"b:\", b)                 # optional\n",
    "    print(\"args:\", args)          # *args\n",
    "    print(\"kwargs:\", kwargs)      # **kwargs\n",
    "\n",
    "\n",
    "func(10, 20, 30, 40, ad=\"Aysel\", yas=22)"
   ]
  },
  {
   "cell_type": "markdown",
   "id": "6577e03c",
   "metadata": {},
   "source": []
  },
  {
   "cell_type": "markdown",
   "id": "cd556d7d",
   "metadata": {},
   "source": [
    "## * və ** nədir?"
   ]
  },
  {
   "cell_type": "markdown",
   "id": "6e2ff45a",
   "metadata": {},
   "source": [
    "### 🔹 `*` → Tuple (mövqeli arqumentləri **toplayır** və ya **açır**)"
   ]
  },
  {
   "cell_type": "markdown",
   "id": "b5c344a2",
   "metadata": {},
   "source": [
    "### 1. \\*Pack → arqumentləri **tuple** kimi toplamaq:"
   ]
  },
  {
   "cell_type": "code",
   "execution_count": 103,
   "id": "98459cf0",
   "metadata": {},
   "outputs": [
    {
     "name": "stdout",
     "output_type": "stream",
     "text": [
      "(1, 2, 3)\n"
     ]
    }
   ],
   "source": [
    "def topla(*args):\n",
    "    print(args)\n",
    "\n",
    "topla(1, 2, 3)"
   ]
  },
  {
   "cell_type": "markdown",
   "id": "f27493e6",
   "metadata": {},
   "source": [
    "### 2. \\*Unpack → mövcud list/tuple-u **ayrılıqda göndərmək**:"
   ]
  },
  {
   "cell_type": "code",
   "execution_count": 105,
   "id": "bef04b02",
   "metadata": {},
   "outputs": [
    {
     "name": "stdout",
     "output_type": "stream",
     "text": [
      "(1, 2, 3)\n"
     ]
    }
   ],
   "source": [
    "def topla(*args):\n",
    "    print(args)\n",
    "\n",
    "ededler = [1, 2, 3]\n",
    "topla(*ededler)\n"
   ]
  },
  {
   "cell_type": "code",
   "execution_count": 108,
   "id": "94305ad9",
   "metadata": {},
   "outputs": [
    {
     "name": "stdout",
     "output_type": "stream",
     "text": [
      "1 2 3, "
     ]
    }
   ],
   "source": [
    "ededler = [1, 2, 3]\n",
    "\n",
    "print(*ededler, end=\", \")"
   ]
  },
  {
   "cell_type": "markdown",
   "id": "17197e34",
   "metadata": {},
   "source": [
    "### 🔹 `**` → Dict (açar=qiymət cütlərini **toplayır** və ya **açır**)"
   ]
  },
  {
   "cell_type": "markdown",
   "id": "6fed99cd",
   "metadata": {},
   "source": [
    "### 1. \\*\\*Pack → açar=qiymət cütlərini **dict** kimi toplamaq:"
   ]
  },
  {
   "cell_type": "code",
   "execution_count": 109,
   "id": "4719cd69",
   "metadata": {},
   "outputs": [
    {
     "name": "stdout",
     "output_type": "stream",
     "text": [
      "{'ad': 'Ayan', 'yas': 23}\n"
     ]
    }
   ],
   "source": [
    "def info(**kwargs):\n",
    "    print(kwargs)\n",
    "\n",
    "info(ad=\"Ayan\", yas=23)"
   ]
  },
  {
   "cell_type": "markdown",
   "id": "b8bf3373",
   "metadata": {},
   "source": [
    "### 2. \\*\\*Unpack → mövcud dictionary-ni **açar=qiymət** kimi ötürmək:"
   ]
  },
  {
   "cell_type": "code",
   "execution_count": 113,
   "id": "b9ece582",
   "metadata": {},
   "outputs": [
    {
     "name": "stdout",
     "output_type": "stream",
     "text": [
      "{'ad': 'Ayan', 'yas': 23}\n"
     ]
    }
   ],
   "source": [
    "def info(**kwargs):\n",
    "    print(kwargs)\n",
    "\n",
    "melumat = {\"ad\": \"Ayan\", \"yas\": 23}\n",
    "info(**melumat)"
   ]
  },
  {
   "cell_type": "code",
   "execution_count": 119,
   "id": "bdda6c23",
   "metadata": {},
   "outputs": [
    {
     "ename": "TypeError",
     "evalue": "'ad' is an invalid keyword argument for print()",
     "output_type": "error",
     "traceback": [
      "\u001b[1;31m---------------------------------------------------------------------------\u001b[0m",
      "\u001b[1;31mTypeError\u001b[0m                                 Traceback (most recent call last)",
      "Cell \u001b[1;32mIn[119], line 3\u001b[0m\n\u001b[0;32m      1\u001b[0m melumat \u001b[38;5;241m=\u001b[39m {\u001b[38;5;124m\"\u001b[39m\u001b[38;5;124mad\u001b[39m\u001b[38;5;124m\"\u001b[39m: \u001b[38;5;124m\"\u001b[39m\u001b[38;5;124mAyan\u001b[39m\u001b[38;5;124m\"\u001b[39m, \u001b[38;5;124m\"\u001b[39m\u001b[38;5;124myas\u001b[39m\u001b[38;5;124m\"\u001b[39m: \u001b[38;5;241m23\u001b[39m}\n\u001b[1;32m----> 3\u001b[0m \u001b[38;5;28mprint\u001b[39m(\u001b[38;5;241m*\u001b[39m\u001b[38;5;241m*\u001b[39mmelumat)\n",
      "\u001b[1;31mTypeError\u001b[0m: 'ad' is an invalid keyword argument for print()"
     ]
    }
   ],
   "source": [
    "melumat = {\"ad\": \"Ayan\", \"yas\": 23}\n",
    "\n",
    "print(**melumat)  #  səhv yoldurç, heç vaxt işləməz"
   ]
  },
  {
   "cell_type": "code",
   "execution_count": null,
   "id": "50bc0d4e",
   "metadata": {},
   "outputs": [],
   "source": []
  },
  {
   "cell_type": "markdown",
   "id": "0280785f",
   "metadata": {},
   "source": [
    "### Əlavələr nümnələr"
   ]
  },
  {
   "cell_type": "code",
   "execution_count": 121,
   "id": "3709d8ad",
   "metadata": {},
   "outputs": [
    {
     "name": "stdout",
     "output_type": "stream",
     "text": [
      "(-0.2041684766872809, -9.79583152331272)\n"
     ]
    }
   ],
   "source": [
    "def kvadrat_tenlik(a, b, c):\n",
    "    D = b**2 - 4*a*c\n",
    "\n",
    "    if D > 0:\n",
    "        x1 = (-b + D**0.5) / (2*a)\n",
    "        x2 = (-b - D**0.5) / (2*a)\n",
    "        return x1, x2\n",
    "    elif D ==0:\n",
    "        x = (-b) / (2*a) \n",
    "        return x  \n",
    "    else:\n",
    "        return \"Helli yocdur\"\n",
    "\n",
    "a = 1\n",
    "b = 10\n",
    "c = 2    \n",
    "print(kvadrat_tenlik(a, b, c))"
   ]
  },
  {
   "cell_type": "code",
   "execution_count": 125,
   "id": "6a96f42f",
   "metadata": {},
   "outputs": [
    {
     "data": {
      "text/plain": [
       "(-0.9009804864072155, -11.099019513592784)"
      ]
     },
     "execution_count": 125,
     "metadata": {},
     "output_type": "execute_result"
    }
   ],
   "source": [
    "def kvadrat_tenlik(c, a=1, b=12):\n",
    "    D = b**2 - 4*a*c\n",
    "\n",
    "    if D > 0:\n",
    "        x1 = (-b + D**0.5) / (2*a)\n",
    "        x2 = (-b - D**0.5) / (2*a)\n",
    "        return x1, x2\n",
    "    elif D ==0:\n",
    "        x = (-b) / (2*a) \n",
    "        return x  \n",
    "    else:\n",
    "        return \"Helli yoxdur\"\n",
    "\n",
    "c = 10    \n",
    "kvadrat_tenlik(c)"
   ]
  },
  {
   "cell_type": "code",
   "execution_count": 127,
   "id": "00c9ee6b",
   "metadata": {},
   "outputs": [
    {
     "data": {
      "text/plain": [
       "25"
      ]
     },
     "execution_count": 127,
     "metadata": {},
     "output_type": "execute_result"
    }
   ],
   "source": [
    "def topla(*args):\n",
    "    a = 0\n",
    "    for i in args:\n",
    "        a += i\n",
    "    return(a)  \n",
    "       \n",
    "topla(3, 5, 8, 9)"
   ]
  },
  {
   "cell_type": "code",
   "execution_count": 128,
   "id": "9b7678fa",
   "metadata": {},
   "outputs": [
    {
     "data": {
      "text/plain": [
       "3"
      ]
     },
     "execution_count": 128,
     "metadata": {},
     "output_type": "execute_result"
    }
   ],
   "source": [
    "def topla(*args):\n",
    "    a = 0\n",
    "    for i in args:\n",
    "        a += i\n",
    "        return(a)  # burda niye 3 cap olundu\n",
    "       \n",
    "topla(3, 5, 8, 9)"
   ]
  },
  {
   "cell_type": "code",
   "execution_count": 135,
   "id": "0dbe46b7",
   "metadata": {},
   "outputs": [
    {
     "name": "stdout",
     "output_type": "stream",
     "text": [
      "3\n",
      "8\n",
      "16\n",
      "25\n"
     ]
    }
   ],
   "source": [
    "def topla(*args):\n",
    "    a = 0\n",
    "    for i in args:\n",
    "        a += i\n",
    "        print(a)\n",
    "        \n",
    "       \n",
    "topla(3, 5, 8, 9)"
   ]
  },
  {
   "cell_type": "code",
   "execution_count": 137,
   "id": "6d97d4f9",
   "metadata": {},
   "outputs": [
    {
     "name": "stdout",
     "output_type": "stream",
     "text": [
      "25\n"
     ]
    }
   ],
   "source": [
    "def topla(*args):\n",
    "    a = 0\n",
    "    for i in args:\n",
    "        a += i\n",
    "    print(a)\n",
    "       \n",
    "topla(3, 5, 8, 9)"
   ]
  },
  {
   "cell_type": "code",
   "execution_count": 138,
   "id": "9ab613f3",
   "metadata": {},
   "outputs": [
    {
     "data": {
      "text/plain": [
       "16"
      ]
     },
     "execution_count": 138,
     "metadata": {},
     "output_type": "execute_result"
    }
   ],
   "source": [
    "def topla(**kwargs):\n",
    "    a = 0\n",
    "    for i in kwargs:\n",
    "        a += kwargs[i] \n",
    "    return a    \n",
    "\n",
    "topla(a=3, b=5, c=8)"
   ]
  },
  {
   "cell_type": "code",
   "execution_count": 139,
   "id": "a9221c8d",
   "metadata": {},
   "outputs": [
    {
     "data": {
      "text/plain": [
       "3"
      ]
     },
     "execution_count": 139,
     "metadata": {},
     "output_type": "execute_result"
    }
   ],
   "source": [
    "def topla(**kwargs):\n",
    "    a = 0\n",
    "    for i in kwargs:\n",
    "        a += kwargs[i] \n",
    "        return a    \n",
    "\n",
    "topla(a=3, b=5, c=8,)"
   ]
  },
  {
   "cell_type": "code",
   "execution_count": 140,
   "id": "6248fd81",
   "metadata": {},
   "outputs": [
    {
     "name": "stdout",
     "output_type": "stream",
     "text": [
      "3\n",
      "8\n",
      "16\n"
     ]
    }
   ],
   "source": [
    "def topla(**kwargs):\n",
    "    a = 0\n",
    "    for i in kwargs:\n",
    "        a += kwargs[i] \n",
    "        print(a)   \n",
    "\n",
    "topla(a=3, b=5, c=8,)"
   ]
  },
  {
   "cell_type": "code",
   "execution_count": 141,
   "id": "d5260f19",
   "metadata": {},
   "outputs": [
    {
     "name": "stdout",
     "output_type": "stream",
     "text": [
      "16\n",
      "None\n"
     ]
    }
   ],
   "source": [
    "def topla(**kwargs):\n",
    "    a = 0\n",
    "    for i in kwargs:\n",
    "        a += kwargs[i] \n",
    "    print(a)   \n",
    "\n",
    "print(topla(a=3, b=5, c=8,))"
   ]
  },
  {
   "cell_type": "markdown",
   "id": "a6529a3e",
   "metadata": {},
   "source": [
    "## w3resource. Python Exercises, Practice, Solution. List of Python Exercises : \n",
    "\n",
    "### Python functions 21 exercises with solution"
   ]
  },
  {
   "cell_type": "markdown",
   "id": "2ab5fb7a",
   "metadata": {},
   "source": [
    "\n",
    "### 1. Write a Python function to find the Max of three numbers.\n",
    "### 1. Üç ədədin Max tapmaq üçün Python funksiyasını yazın."
   ]
  },
  {
   "cell_type": "code",
   "execution_count": 7,
   "id": "3cb38525",
   "metadata": {},
   "outputs": [
    {
     "name": "stdout",
     "output_type": "stream",
     "text": [
      "The Max of these numers is 5\n"
     ]
    }
   ],
   "source": [
    "def Max_of_three_numbers(n1, n2, n3):\n",
    "    if n1 >= n2 and n1 >= n3:\n",
    "        return f\"The Max of these numbers i {n1}\"\n",
    "    elif n2 >= n1 and n2 >= n3:\n",
    "        return f\"The Max of these numers is {n2}\"\n",
    "    else:\n",
    "        return f\"The Max of these numbers i {n3}\"\n",
    "\n",
    "num1 = 1\n",
    "num2 = 5\n",
    "num3 = -2\n",
    "print(Max_of_three_numbers(num1, num2, num3))"
   ]
  },
  {
   "cell_type": "markdown",
   "id": "e7d946f5",
   "metadata": {},
   "source": [
    "### 2. Write a Python function to sum all the numbers in a list. \n",
    "- Sample List : (8, 2, 3, 0, 7)\n",
    "- Expected Output : 20\n",
    "\n",
    "### 2. Siyahıdakı bütün ədədləri cəmləmək üçün Python funksiyasını yazın.\n",
    "- Nümunə Siyahısı: (8, 2, 3, 0, 7)\n",
    "- Gözlənilən nəticə: 20\n"
   ]
  },
  {
   "cell_type": "code",
   "execution_count": 14,
   "id": "5a19c545",
   "metadata": {},
   "outputs": [
    {
     "name": "stdout",
     "output_type": "stream",
     "text": [
      "20\n",
      "20\n",
      "20\n"
     ]
    }
   ],
   "source": [
    "def sum_of_list(*args):\n",
    "    x = 0\n",
    "    for i in args:\n",
    "        x += i\n",
    "    return x    \n",
    "\n",
    "print(sum_of_list(8,2,3,0,7))\n",
    "\n",
    "#################################\n",
    "\n",
    "def sum_of_list(*args):\n",
    "    return sum(args)\n",
    "\n",
    "print(sum_of_list(8, 2, 3, 0, 7))\n",
    "\n",
    "#################################\n",
    "\n",
    "def sum_(numbers):\n",
    "    total = 0\n",
    "    for i in numbers:\n",
    "        total += i\n",
    "    return total\n",
    "\n",
    "list1 = [8, 2, 3, 0, 7]\n",
    "print(sum_(list1))"
   ]
  },
  {
   "cell_type": "markdown",
   "id": "3c45fccf",
   "metadata": {},
   "source": [
    "### 3. Write a Python function to multiply all the numbers in a list.\n",
    "- Sample List : (8, 2, 3, -1, 7)\n",
    "- Expected Output : -336\n",
    "\n",
    "### 3. Siyahıdakı bütün ədədləri çoxaltmaq üçün Python funksiyasını yazın.\n",
    "- Nümunə Siyahısı: (8, 2, 3, -1, 7)\n",
    "- Gözlənilən Nəticə: -336 "
   ]
  },
  {
   "cell_type": "code",
   "execution_count": 2,
   "id": "860ad506",
   "metadata": {},
   "outputs": [
    {
     "name": "stdout",
     "output_type": "stream",
     "text": [
      "-336\n",
      "-336\n"
     ]
    }
   ],
   "source": [
    "def multiply_all_the_numbers(*args):\n",
    "    x = 1\n",
    "    for i in args:\n",
    "        x *= i\n",
    "    return x\n",
    "\n",
    "print(multiply_all_the_numbers(8, 2, 3, -1 ,7))\n",
    "\n",
    "\n",
    "\n",
    "def mutiply(numbers):\n",
    "    total = 1\n",
    "    for x in numbers:\n",
    "        total *= x\n",
    "    return total\n",
    "\n",
    "print(mutiply((8, 2, 3, -1,7))) "
   ]
  },
  {
   "cell_type": "markdown",
   "id": "4e38b9e4",
   "metadata": {},
   "source": [
    "#### 4. Write a Python program to reverse a string. Go to the editor\n",
    "- Sample String : \"1234abcd\"\n",
    "- Expected Output : \"dcba4321\"\n",
    "\n",
    "#### 4. Sətri tərsinə çevirmək üçün Python proqramı yazın. Redaktora gedin\n",
    "- Nümunə sətri: \"1234abcd\"\n",
    "- Gözlənilən Nəticə: \"dcba4321\""
   ]
  },
  {
   "cell_type": "code",
   "execution_count": 4,
   "id": "bb254781",
   "metadata": {},
   "outputs": [
    {
     "name": "stdout",
     "output_type": "stream",
     "text": [
      "Reverse of the 1234abcd is dcba4321\n",
      "Reverse of the 1234abcd is dcba4321\n",
      "Reverse of the 1234abcd is dcba4321\n",
      "dcba4321\n",
      "dcba4321\n"
     ]
    }
   ],
   "source": [
    "def to_reverse_a_string(string):\n",
    "    return f\"Reverse of the {string} is {string[::-1]}\"\n",
    "\n",
    "word = \"1234abcd\"\n",
    "print(to_reverse_a_string(word))\n",
    "\n",
    "\n",
    "\n",
    "def to_reverse_a_string(string):\n",
    "    return string[::-1]\n",
    "\n",
    "word = \"1234abcd\"\n",
    "print(f\"Reverse of the {word} is {to_reverse_a_string(word)}\")\n",
    "\n",
    "\n",
    "\n",
    "def to_reverse_a_string(string):\n",
    "    return string[::-1]\n",
    "\n",
    "word = \"1234abcd\"\n",
    "print(f\"Reverse of the {word} is {to_reverse_a_string(string=word)}\")\n",
    "\n",
    "\n",
    "def to_reverse_a_string(string):\n",
    "    str1 = \"\"\n",
    "    for i in range(len(string)):\n",
    "        str1 += string[len(string)-1-i]\n",
    "    return str1\n",
    "\n",
    "word = \"1234abcd\"\n",
    "print(to_reverse_a_string(word))\n",
    "\n",
    "\n",
    "\n",
    "def string_reverse(str1):\n",
    "\n",
    "    rstr1 = ''\n",
    "    index = len(str1)\n",
    "    while index > 0:\n",
    "        rstr1 += str1[ index - 1 ]\n",
    "        index = index - 1\n",
    "    return rstr1\n",
    "print(string_reverse('1234abcd'))"
   ]
  },
  {
   "cell_type": "markdown",
   "id": "4e1aa7c1",
   "metadata": {},
   "source": [
    "### 5. Write a Python function to calculate the factorial of a number (a non-negative integer). The function accepts\n",
    "-  the number as an argument. Go to the editor\n",
    "\n",
    "### 5. Ədədin (mənfi olmayan tam ədəd) faktorialını hesablamaq üçün Python funksiyasını yazın. Funksiya rəqəmi \n",
    "- arqument kimi qəbul edir. Redaktora gedin"
   ]
  },
  {
   "cell_type": "code",
   "execution_count": 10,
   "id": "3c45747e",
   "metadata": {},
   "outputs": [
    {
     "name": "stdout",
     "output_type": "stream",
     "text": [
      "The factorial of 10 is 3628800\n"
     ]
    }
   ],
   "source": [
    "def  the_factorial_of_a_number(n):\n",
    "    x1 = 1\n",
    "    for i in range(1, n+1):\n",
    "        x1 *= i\n",
    "    return x1\n",
    "\n",
    "num = 10\n",
    "print(f\"The factorial of {num} is {the_factorial_of_a_number(num)}\")"
   ]
  },
  {
   "cell_type": "markdown",
   "id": "52a8e00c",
   "metadata": {},
   "source": [
    "### Recursive function (Rekursiv funksiya)"
   ]
  },
  {
   "cell_type": "code",
   "execution_count": 15,
   "id": "61af638a",
   "metadata": {},
   "outputs": [
    {
     "data": {
      "text/plain": [
       "3628800"
      ]
     },
     "execution_count": 15,
     "metadata": {},
     "output_type": "execute_result"
    }
   ],
   "source": [
    "\n",
    "def factorial(n):\n",
    "    if n == 0:\n",
    "        return 1\n",
    "    else:\n",
    "        return n * factorial(n-1)\n",
    "    \n",
    "n = 10\n",
    "\n",
    "factorial(n)"
   ]
  },
  {
   "cell_type": "markdown",
   "id": "f3f4783c",
   "metadata": {},
   "source": [
    "### Ən sadə və qısa rekursiv funksiya nümunəsi budur:"
   ]
  },
  {
   "cell_type": "code",
   "execution_count": 16,
   "id": "ad24a593",
   "metadata": {},
   "outputs": [
    {
     "name": "stdout",
     "output_type": "stream",
     "text": [
      "5\n",
      "4\n",
      "3\n",
      "2\n",
      "1\n"
     ]
    }
   ],
   "source": [
    "def countdown(n):\n",
    "    if n == 0:\n",
    "        return\n",
    "    print(n)\n",
    "    countdown(n - 1)\n",
    "    \n",
    "countdown(5)"
   ]
  },
  {
   "cell_type": "markdown",
   "id": "0cfce321",
   "metadata": {},
   "source": [
    "### 6. Write a Python function to check whether a number falls in a given range. Go to the editor\n",
    "\n",
    "### 6. Ədədin verilmiş diapazona düşdüyünü yoxlamaq üçün Python funksiyasını yazın. Redaktora gedin"
   ]
  },
  {
   "cell_type": "code",
   "execution_count": 17,
   "id": "87504c76",
   "metadata": {},
   "outputs": [
    {
     "name": "stdout",
     "output_type": "stream",
     "text": [
      "36 is in range(1, 50)\n",
      "34 isn't in range(35, 100)\n"
     ]
    }
   ],
   "source": [
    "\n",
    "\n",
    "def check_number_given_range(n, x, y):\n",
    "    for i in range(x, y+1):\n",
    "        if n == i:\n",
    "            return f\"{n} is in range{x,y}\"    \n",
    "    else:\n",
    "        return f\"{n} isn't in range({x}, {y})\"\n",
    "\n",
    "num = 36\n",
    "beginning_interval = 1\n",
    "end_of_interval = 50\n",
    "print(check_number_given_range(num, beginning_interval, end_of_interval))\n",
    "\n",
    "\n",
    "\n",
    "def check_number_given_range(n, x, y):\n",
    "    if n in range(x, y):                    \n",
    "        print(f\"{n} is in range({x}, {y})\")\n",
    "    else:\n",
    "        print(f\"{n} isn't in range({x}, {y})\")    \n",
    "\n",
    "num = 34\n",
    "x = 35\n",
    "y = 100\n",
    "check_number_given_range(num, x, y)"
   ]
  },
  {
   "cell_type": "markdown",
   "id": "18d830c9",
   "metadata": {},
   "source": [
    "### 7. Write a Python function that accepts a string and calculate the number of upper case letters and lower case letters. \n",
    "- Sample String : 'The quick Brow Fox'\n",
    "- Expected Output :\n",
    "- No. of Upper case characters : 3\n",
    "- No. of Lower case Characters : 12\n",
    "\n",
    "\n",
    "### 7. Simli qəbul edən Python funksiyasını yazın və böyük və kiçik hərflərin sayını hesablayın.\n",
    "- Nümunə simli: 'The quick Brow Fox'\n",
    "- Gözlənilən Nəticə:\n",
    "- Böyük hərflərin sayı: 3\n",
    "- Kiçik hərflərin sayı: 12\n"
   ]
  },
  {
   "cell_type": "code",
   "execution_count": 18,
   "id": "e8626dfa",
   "metadata": {},
   "outputs": [
    {
     "name": "stdout",
     "output_type": "stream",
     "text": [
      "In 'The quick Brown Fox' text have 3 upper letter and 13 lower letter\n"
     ]
    }
   ],
   "source": [
    "def count_upper_lower_letter(text):\n",
    "    uppers = \"ABCDEFGHIJKLMNOPQRSTUVWXYZ\"\n",
    "    lowers = \"abcdefghijklmnopqrstuvwxyz\"\n",
    "    c = 0\n",
    "    t = 0\n",
    "    for i in text:\n",
    "        if i in uppers:\n",
    "            c += 1\n",
    "        elif i in lowers:\n",
    "            t += 1    \n",
    "    print(f\"In '{text}' text have {c} upper letter and {t} lower letter\")\n",
    "    # print(f\" No. of Upper case characters : {c}\")\n",
    "    # print(f\" No. of lower case characters : {t}\")\n",
    "\n",
    "string1 = 'The quick Brown Fox'\n",
    "count_upper_lower_letter(string1)\n"
   ]
  },
  {
   "cell_type": "code",
   "execution_count": 21,
   "id": "493bf96f",
   "metadata": {},
   "outputs": [
    {
     "name": "stdout",
     "output_type": "stream",
     "text": [
      " No. of Upper case characters : 3\n",
      " No. of Lower case Characters : 13\n"
     ]
    }
   ],
   "source": [
    "def count_upper_lower_letter(text):\n",
    "    uppers = 0\n",
    "    lowers = 0\n",
    "    for i in text:\n",
    "        if i.isupper():\n",
    "            uppers +=1\n",
    "        elif i.islower():\n",
    "            lowers += 1    \n",
    "    print(f\" No. of Upper case characters : {uppers}\")\n",
    "    print(f\" No. of Lower case Characters : {lowers}\")\n",
    "\n",
    "string1 = 'The quick Brown Fox'\n",
    "count_upper_lower_letter(string1)"
   ]
  },
  {
   "cell_type": "markdown",
   "id": "b790e13e",
   "metadata": {},
   "source": [
    "#### 8. Write a Python function that takes a list and returns a new list with unique elements of the first list.\n",
    "-  Go to the editor\n",
    "- Sample List : [1,2,3,3,3,3,4,5]\n",
    "- Unique List : [1, 2, 3, 4, 5]\n",
    "\n",
    "\n",
    "#### 8. Siyahı götürən və birinci siyahının unikal elementləri ilə yeni siyahı qaytaran Python funksiyasını yazın.\n",
    "-  Redaktora gedin\n",
    "- Nümunə Siyahısı: [1,2,3,3,3,3,4,5]\n",
    "- Unikal siyahı : [1, 2, 3, 4, 5]"
   ]
  },
  {
   "cell_type": "code",
   "execution_count": 25,
   "id": "3a412684",
   "metadata": {},
   "outputs": [
    {
     "name": "stdout",
     "output_type": "stream",
     "text": [
      "[1, 2, 3, 4, 5]\n",
      "[1, 2, 3, 4, 5]\n"
     ]
    }
   ],
   "source": [
    "def list_with_unique_elements(list1):\n",
    "    x = set(list1)\n",
    "    list1 = list(x)\n",
    "    return list1\n",
    "\n",
    "print(list_with_unique_elements([1,2,3,3,3,3,4,5]))\n",
    "\n",
    "\n",
    "\n",
    "def unique_list(list1):\n",
    "    x = []\n",
    "    for a in list1:\n",
    "        if a not in x:\n",
    "            x.append(a)\n",
    "    return x\n",
    "\n",
    "print(unique_list([1,2,3,3,3,3,4,5])) "
   ]
  },
  {
   "cell_type": "markdown",
   "id": "4450aaa9",
   "metadata": {},
   "source": [
    "### 9. Write a Python function that takes a number as a parameter and check the number is prime or not.\n",
    "- Note : A prime number (or a prime) is a natural number greater than 1 and that has no positive divisors other than 1 and itself.\n",
    "\n",
    "### 9. Bir ədədi parametr kimi qəbul edən Python funksiyasını yazın və ədədin sadə olub olmadığını yoxlayın.\n",
    "- Qeyd: Sadə ədəd (və ya sadə) 1-dən böyük və 1 və özündən başqa müsbət bölənləri olmayan natural ədəddir."
   ]
  },
  {
   "cell_type": "code",
   "execution_count": 30,
   "id": "a71ef43c",
   "metadata": {},
   "outputs": [
    {
     "name": "stdout",
     "output_type": "stream",
     "text": [
      "a prime number\n"
     ]
    }
   ],
   "source": [
    "def check_a_prime_number(n):\n",
    "    if n < 1:\n",
    "        return \"is not a natural number\"\n",
    "    elif n == 1:\n",
    "        return \"neither a prime nor a composite number\"    \n",
    "    for i in range(2, n):\n",
    "        if not n % i:\n",
    "            return \"a composite number\"\n",
    "    else:\n",
    "        return \"a prime number\"        \n",
    "\n",
    "num = 7\n",
    "print(check_a_prime_number(num))"
   ]
  },
  {
   "cell_type": "code",
   "execution_count": 31,
   "id": "e4a4d8b7",
   "metadata": {},
   "outputs": [
    {
     "name": "stdout",
     "output_type": "stream",
     "text": [
      "True\n"
     ]
    }
   ],
   "source": [
    "def test_prime(n):\n",
    "    if (n==1):\n",
    "        return False\n",
    "    elif (n==2):\n",
    "        return True\n",
    "    else:\n",
    "        for x in range(2,n):\n",
    "            if(n % x==0):\n",
    "                return False\n",
    "        return True \n",
    "    \n",
    "print(test_prime(17))"
   ]
  },
  {
   "cell_type": "markdown",
   "id": "6cc6d5d0",
   "metadata": {},
   "source": [
    "### 10. Write a Python program to print the even numbers from a given list. \n",
    "- Sample List : [1, 2, 3, 4, 5, 6, 7, 8, 9]\n",
    "- Expected Result : [2, 4, 6, 8]\n",
    "\n",
    "### 10. Verilmiş siyahıdan cüt ədədləri çap etmək üçün Python proqramı yazın. \n",
    "- Nümunə Siyahısı: [1, 2, 3, 4, 5, 6, 7, 8, 9]\n",
    "- Gözlənilən Nəticə : [2, 4, 6, 8]"
   ]
  },
  {
   "cell_type": "code",
   "execution_count": 33,
   "id": "fba0d1d2",
   "metadata": {},
   "outputs": [
    {
     "name": "stdout",
     "output_type": "stream",
     "text": [
      "[2, 4, 6, 8]\n",
      "[2, 4, 6, 8]\n"
     ]
    }
   ],
   "source": [
    "def print_even_numbers_from_list(list1):\n",
    "    even_number_list = []\n",
    "    for i in list1:\n",
    "        if not i % 2:\n",
    "            even_number_list.append(i)\n",
    "    return even_number_list\n",
    "\n",
    "print(print_even_numbers_from_list([1, 2, 3, 4, 5, 6, 7, 8, 9]))\n",
    "\n",
    "\n",
    "\n",
    "def is_even_num(l):\n",
    "    enum = []\n",
    "    for n in l:\n",
    "        if n % 2 == 0:\n",
    "            enum.append(n)\n",
    "    return enum\n",
    "print(is_even_num([1, 2, 3, 4, 5, 6, 7, 8, 9]))"
   ]
  },
  {
   "cell_type": "markdown",
   "id": "e852c25c",
   "metadata": {},
   "source": [
    "### 11. Write a Python program that accepts a hyphen-separated sequence of words as input and prints the words in a hyphen-separated sequence after sorting them alphabetically. Go to the editor\n",
    "- Sample Items : green-red-yellow-black-white\n",
    "- Expected Result : black-green-red-white-yellow\n",
    "\n",
    "### 11. Sözlərin defislə ayrılmış ardıcıllığını giriş kimi qəbul edən və sözləri əlifba sırası ilə sıraladıqdan sonra defislə ayrılmış ardıcıllıqla çap edən Python proqramı yazın. Redaktora gedin"
   ]
  },
  {
   "cell_type": "code",
   "execution_count": 38,
   "id": "d0fff3b8",
   "metadata": {},
   "outputs": [
    {
     "name": "stdout",
     "output_type": "stream",
     "text": [
      "black-green-red-white-yellow\n"
     ]
    }
   ],
   "source": [
    "def sorting_alphabetically(string1):\n",
    "    list1 = string1.split(\"-\")\n",
    "    list1.sort()\n",
    "    string2 = \"-\".join(list1)\n",
    "    return string2\n",
    "\n",
    "word = \"green-red-yellow-black-white\"\n",
    "print(sorting_alphabetically(word))"
   ]
  },
  {
   "cell_type": "code",
   "execution_count": 40,
   "id": "3b14036e",
   "metadata": {},
   "outputs": [
    {
     "name": "stdout",
     "output_type": "stream",
     "text": [
      "['green', 'red', 'yellow', 'black', 'white']\n",
      "black-green-red-white-yellow\n"
     ]
    }
   ],
   "source": [
    "word = \"green-red-yellow-black-white\"\n",
    "\n",
    "items=[n for n in word.split('-')] \n",
    "print(items)\n",
    "items.sort()\n",
    "print('-'.join(items))"
   ]
  },
  {
   "cell_type": "code",
   "execution_count": null,
   "id": "fcbb7d94",
   "metadata": {},
   "outputs": [],
   "source": []
  }
 ],
 "metadata": {
  "kernelspec": {
   "display_name": "Python 3 (ipykernel)",
   "language": "python",
   "name": "python3"
  },
  "language_info": {
   "codemirror_mode": {
    "name": "ipython",
    "version": 3
   },
   "file_extension": ".py",
   "mimetype": "text/x-python",
   "name": "python",
   "nbconvert_exporter": "python",
   "pygments_lexer": "ipython3",
   "version": "3.11.5"
  }
 },
 "nbformat": 4,
 "nbformat_minor": 5
}
