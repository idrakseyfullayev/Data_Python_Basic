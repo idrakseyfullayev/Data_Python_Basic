{
 "cells": [
  {
   "cell_type": "markdown",
   "id": "58d3c752",
   "metadata": {},
   "source": [
    "## Class"
   ]
  },
  {
   "cell_type": "code",
   "execution_count": 1,
   "id": "34dcb781",
   "metadata": {},
   "outputs": [],
   "source": [
    "class Person:\n",
    "    # 1. static variable, class variable  - umumi xususiyyetli deyisenlerdir ve deyeri butun obyeklere eynidir.\n",
    "    num_ears = 2\n",
    "    has_eyes = True"
   ]
  },
  {
   "cell_type": "code",
   "execution_count": 2,
   "id": "c66e968f",
   "metadata": {},
   "outputs": [],
   "source": [
    "person_1 = Person()\n",
    "person_2 = Person()"
   ]
  },
  {
   "cell_type": "code",
   "execution_count": 4,
   "id": "a9cd4ef2",
   "metadata": {},
   "outputs": [
    {
     "data": {
      "text/plain": [
       "2"
      ]
     },
     "execution_count": 4,
     "metadata": {},
     "output_type": "execute_result"
    }
   ],
   "source": [
    "person_1.num_ears"
   ]
  },
  {
   "cell_type": "code",
   "execution_count": 5,
   "id": "cc6f8be5",
   "metadata": {},
   "outputs": [
    {
     "data": {
      "text/plain": [
       "{}"
      ]
     },
     "execution_count": 5,
     "metadata": {},
     "output_type": "execute_result"
    }
   ],
   "source": [
    "person_1.__dict__"
   ]
  },
  {
   "cell_type": "code",
   "execution_count": 6,
   "id": "eb5f4e56",
   "metadata": {},
   "outputs": [],
   "source": [
    "person_1.num_eyes = 2"
   ]
  },
  {
   "cell_type": "code",
   "execution_count": 7,
   "id": "0ead4608",
   "metadata": {},
   "outputs": [
    {
     "data": {
      "text/plain": [
       "{'num_eyes': 2}"
      ]
     },
     "execution_count": 7,
     "metadata": {},
     "output_type": "execute_result"
    }
   ],
   "source": [
    "person_1.__dict__"
   ]
  },
  {
   "cell_type": "code",
   "execution_count": null,
   "id": "4a79d750",
   "metadata": {},
   "outputs": [],
   "source": []
  },
  {
   "cell_type": "code",
   "execution_count": 39,
   "id": "0defb9c8",
   "metadata": {},
   "outputs": [],
   "source": [
    "class Person:\n",
    "    num_ears = 2\n",
    "    has_eyes = True\n",
    "\n",
    "    ### Method ve ya Behavior ####   funksiyalar bele adlanir\n",
    "\n",
    "    # 2. dynamic varibale ve ya instance varibale ve ya object variable # - xususi xususiyyetli deyisenlerdir ve bu \n",
    "    # deyisenlerin her biri  her bir obyekte verilmis ayri-ayri deyeri ozunde saxlayir.\n",
    "    \n",
    "    # consttruction method ve ya init metod\n",
    "    def __init__(self, name, surname, year):  # dynamic deyisenlere qiymet vermek ucun yaradilir.\n",
    "        self.name = name\n",
    "        self.surname = surname\n",
    "        self.year = year\n",
    "   \n",
    "    def get_age(self, now=2023):\n",
    "        return now - self.year\n",
    "    \n",
    "    def get_fullname(self):\n",
    "        return self.name + ' ' + self.surname"
   ]
  },
  {
   "cell_type": "code",
   "execution_count": 40,
   "id": "97b0a593",
   "metadata": {},
   "outputs": [],
   "source": [
    "person_1 = Person(\"Idrak\", \"Seyfullayev\", 1987)"
   ]
  },
  {
   "cell_type": "code",
   "execution_count": 41,
   "id": "d8fa640a",
   "metadata": {},
   "outputs": [
    {
     "data": {
      "text/plain": [
       "'Idrak'"
      ]
     },
     "execution_count": 41,
     "metadata": {},
     "output_type": "execute_result"
    }
   ],
   "source": [
    "person_1.name"
   ]
  },
  {
   "cell_type": "code",
   "execution_count": 42,
   "id": "e1ef534c",
   "metadata": {},
   "outputs": [
    {
     "data": {
      "text/plain": [
       "'Idrak Seyfullayev'"
      ]
     },
     "execution_count": 42,
     "metadata": {},
     "output_type": "execute_result"
    }
   ],
   "source": [
    "person_1.get_fullname()"
   ]
  },
  {
   "cell_type": "code",
   "execution_count": 44,
   "id": "b4f41153",
   "metadata": {},
   "outputs": [
    {
     "data": {
      "text/plain": [
       "36"
      ]
     },
     "execution_count": 44,
     "metadata": {},
     "output_type": "execute_result"
    }
   ],
   "source": [
    "person_1.get_age()"
   ]
  },
  {
   "cell_type": "code",
   "execution_count": null,
   "id": "822b4e2d",
   "metadata": {},
   "outputs": [],
   "source": []
  },
  {
   "cell_type": "markdown",
   "id": "3ae12bb6",
   "metadata": {},
   "source": [
    "## INHERITANCE"
   ]
  },
  {
   "cell_type": "code",
   "execution_count": 52,
   "id": "a4954a47",
   "metadata": {},
   "outputs": [],
   "source": [
    "class Person:\n",
    "    num_ears = 2\n",
    "    has_eyes = True\n",
    "\n",
    "    def __init__(self, name, surname, year):\n",
    "        self.name = name\n",
    "        self.surname = surname\n",
    "        self.year = year\n",
    "    \n",
    "    from datetime import datetime\n",
    "    def get_age(self, now=datetime.now().year):\n",
    "        return now - self.year\n",
    "    \n",
    "    def get_fullname(self):\n",
    "        return self.name + ' ' + self.surname"
   ]
  },
  {
   "cell_type": "code",
   "execution_count": 53,
   "id": "1d016ade",
   "metadata": {},
   "outputs": [],
   "source": [
    "class Teacher(Person):\n",
    "    num_ears = 2\n",
    "    has_eyes = True\n",
    "\n",
    "    def __init__(self, name, surname, year, education):\n",
    "        super().__init__(name, surname, year)\n",
    "        self.year = year\n",
    "        self.education = education\n",
    "    \n",
    "    def get_education(self):\n",
    "        return self.education"
   ]
  },
  {
   "cell_type": "code",
   "execution_count": 60,
   "id": "03b1a652",
   "metadata": {},
   "outputs": [],
   "source": [
    "teacher_1 = Teacher(\"Vasif\", \"Vasifli\", 1980, \"Master\")"
   ]
  },
  {
   "cell_type": "code",
   "execution_count": 61,
   "id": "7674eb4b",
   "metadata": {},
   "outputs": [
    {
     "data": {
      "text/plain": [
       "{'name': 'Vasif', 'surname': 'Vasifli', 'year': 1980, 'education': 'Master'}"
      ]
     },
     "execution_count": 61,
     "metadata": {},
     "output_type": "execute_result"
    }
   ],
   "source": [
    "teacher_1.__dict__"
   ]
  },
  {
   "cell_type": "code",
   "execution_count": 59,
   "id": "fe9773a9",
   "metadata": {},
   "outputs": [],
   "source": [
    "class Student(Teacher):\n",
    "    def __init__(self, name, surname, year, education, score):\n",
    "        # Human.__init__(self, name, surname, year)\n",
    "        super().__init__(name, surname, year, education)\n",
    "        self.score = score"
   ]
  },
  {
   "cell_type": "code",
   "execution_count": 62,
   "id": "e26eb153",
   "metadata": {},
   "outputs": [],
   "source": [
    "student_1 = Student('Arif', \"Arifli\", 2000, 'Bachelor', 590)"
   ]
  },
  {
   "cell_type": "code",
   "execution_count": 63,
   "id": "3a305f22",
   "metadata": {},
   "outputs": [
    {
     "data": {
      "text/plain": [
       "{'name': 'Arif',\n",
       " 'surname': 'Arifli',\n",
       " 'year': 2000,\n",
       " 'education': 'Bachelor',\n",
       " 'score': 590}"
      ]
     },
     "execution_count": 63,
     "metadata": {},
     "output_type": "execute_result"
    }
   ],
   "source": [
    "student_1.__dict__"
   ]
  },
  {
   "cell_type": "code",
   "execution_count": 66,
   "id": "2a8f25ba",
   "metadata": {},
   "outputs": [
    {
     "data": {
      "text/plain": [
       "25"
      ]
     },
     "execution_count": 66,
     "metadata": {},
     "output_type": "execute_result"
    }
   ],
   "source": [
    "student_1.get_age()"
   ]
  },
  {
   "cell_type": "code",
   "execution_count": null,
   "id": "cb9a3d5a",
   "metadata": {},
   "outputs": [],
   "source": []
  },
  {
   "cell_type": "markdown",
   "id": "a726c655",
   "metadata": {},
   "source": [
    "## ENCAPSULATION"
   ]
  },
  {
   "cell_type": "code",
   "execution_count": 105,
   "id": "9e0e84e3",
   "metadata": {},
   "outputs": [],
   "source": [
    "class Person:\n",
    "    num_ears = 2      # public property - (her yerde cagirilir)\n",
    "    _num_hands = 2    # protected property - (yalniz klassda ve child class-larda cagirilir)\n",
    "    __has_eyes = True # private property - (yalniz ozunun aid oldugu class-da cagirilir)\n",
    "\n",
    "    def __init__(self, name, surname, year):\n",
    "        self.name = name\n",
    "        self.surname = surname\n",
    "        self.year = year\n",
    "    \n",
    "    from datetime import datetime\n",
    "    def _get_age(self, now=datetime.now().year):\n",
    "        print (f'Full_name: {self.__get_fullname()}')\n",
    "        return now - self.year\n",
    "        \n",
    "    \n",
    "    def __get_fullname(self):\n",
    "        return self.name + ' ' + self.surname"
   ]
  },
  {
   "cell_type": "code",
   "execution_count": 106,
   "id": "4ee852b4",
   "metadata": {},
   "outputs": [],
   "source": [
    "person_1 = Person(\"Idrak\", \"Seyfulayev\", 1987)"
   ]
  },
  {
   "cell_type": "code",
   "execution_count": 107,
   "id": "f1a523f6",
   "metadata": {},
   "outputs": [
    {
     "data": {
      "text/plain": [
       "2"
      ]
     },
     "execution_count": 107,
     "metadata": {},
     "output_type": "execute_result"
    }
   ],
   "source": [
    "person_1.num_ears"
   ]
  },
  {
   "cell_type": "code",
   "execution_count": 108,
   "id": "b7921449",
   "metadata": {},
   "outputs": [
    {
     "data": {
      "text/plain": [
       "2"
      ]
     },
     "execution_count": 108,
     "metadata": {},
     "output_type": "execute_result"
    }
   ],
   "source": [
    "person_1._num_hands"
   ]
  },
  {
   "cell_type": "code",
   "execution_count": 109,
   "id": "f5e98bff",
   "metadata": {},
   "outputs": [
    {
     "ename": "AttributeError",
     "evalue": "'Person' object has no attribute '__has_eyes'",
     "output_type": "error",
     "traceback": [
      "\u001b[1;31m---------------------------------------------------------------------------\u001b[0m",
      "\u001b[1;31mAttributeError\u001b[0m                            Traceback (most recent call last)",
      "Cell \u001b[1;32mIn[109], line 1\u001b[0m\n\u001b[1;32m----> 1\u001b[0m person_1\u001b[38;5;241m.\u001b[39m__has_eyes\n",
      "\u001b[1;31mAttributeError\u001b[0m: 'Person' object has no attribute '__has_eyes'"
     ]
    }
   ],
   "source": [
    "person_1.__has_eyes"
   ]
  },
  {
   "cell_type": "code",
   "execution_count": 110,
   "id": "53f218ad",
   "metadata": {},
   "outputs": [
    {
     "name": "stdout",
     "output_type": "stream",
     "text": [
      "Full_name: Idrak Seyfulayev\n"
     ]
    },
    {
     "data": {
      "text/plain": [
       "38"
      ]
     },
     "execution_count": 110,
     "metadata": {},
     "output_type": "execute_result"
    }
   ],
   "source": [
    "person_1._get_age()"
   ]
  },
  {
   "cell_type": "code",
   "execution_count": 111,
   "id": "b176dc21",
   "metadata": {
    "scrolled": true
   },
   "outputs": [
    {
     "ename": "AttributeError",
     "evalue": "'Person' object has no attribute '__get_fullname'",
     "output_type": "error",
     "traceback": [
      "\u001b[1;31m---------------------------------------------------------------------------\u001b[0m",
      "\u001b[1;31mAttributeError\u001b[0m                            Traceback (most recent call last)",
      "Cell \u001b[1;32mIn[111], line 1\u001b[0m\n\u001b[1;32m----> 1\u001b[0m person_1\u001b[38;5;241m.\u001b[39m__get_fullname()\n",
      "\u001b[1;31mAttributeError\u001b[0m: 'Person' object has no attribute '__get_fullname'"
     ]
    }
   ],
   "source": [
    "person_1.__get_fullname()"
   ]
  },
  {
   "cell_type": "markdown",
   "id": "7049fbd6",
   "metadata": {},
   "source": [
    "### Amma cixis yolu var"
   ]
  },
  {
   "cell_type": "code",
   "execution_count": 114,
   "id": "48adad6e",
   "metadata": {},
   "outputs": [
    {
     "data": {
      "text/plain": [
       "'Idrak Seyfulayev'"
      ]
     },
     "execution_count": 114,
     "metadata": {},
     "output_type": "execute_result"
    }
   ],
   "source": [
    "person_1._Person__get_fullname()"
   ]
  },
  {
   "cell_type": "code",
   "execution_count": null,
   "id": "7c5f2331",
   "metadata": {},
   "outputs": [],
   "source": []
  },
  {
   "cell_type": "markdown",
   "id": "7d3e4762",
   "metadata": {},
   "source": [
    "## POLYMORPHIZM"
   ]
  },
  {
   "cell_type": "code",
   "execution_count": 143,
   "id": "98c72b7d",
   "metadata": {},
   "outputs": [],
   "source": [
    "class Teacher(Person):\n",
    "    num_ears = 2\n",
    "    has_eyes = True\n",
    "\n",
    "    def __init__(self, name, surname, year, education):\n",
    "        self.year = year\n",
    "        self.education = education\n",
    "    \n",
    "    def get_education(self):\n",
    "        return f\"{self.education}  for teacher\" "
   ]
  },
  {
   "cell_type": "code",
   "execution_count": 144,
   "id": "db85f117",
   "metadata": {},
   "outputs": [],
   "source": [
    "class Student(Teacher):\n",
    "    def __init__(self, name, surname, year, education, score):\n",
    "        # Human.__init__(self, name, surname, year)\n",
    "        super().__init__(name, surname, year, education)\n",
    "        self.score = score\n",
    "\n",
    "    def get_education(self):\n",
    "        return f\"{self.education} for student\""
   ]
  },
  {
   "cell_type": "code",
   "execution_count": 145,
   "id": "3d1552ab",
   "metadata": {},
   "outputs": [],
   "source": [
    "student_1 = Student('Arif', \"Arifli\", 2000, 'Bachelor', 590)"
   ]
  },
  {
   "cell_type": "code",
   "execution_count": 146,
   "id": "03465be5",
   "metadata": {},
   "outputs": [
    {
     "data": {
      "text/plain": [
       "'Bachelor for student'"
      ]
     },
     "execution_count": 146,
     "metadata": {},
     "output_type": "execute_result"
    }
   ],
   "source": [
    "student_1.get_education()"
   ]
  },
  {
   "cell_type": "code",
   "execution_count": 147,
   "id": "c7aad4e0",
   "metadata": {},
   "outputs": [],
   "source": [
    "class Sub_Student(Teacher):\n",
    "    def __init__(self, name, surname, year, education, score):\n",
    "        # Human.__init__(self, name, surname, year)\n",
    "        super().__init__(name, surname, year, education)\n",
    "        self.score = score\n",
    "\n",
    "    def get_education(self, key):\n",
    "        return f\"{self.education} and İ am {key}\""
   ]
  },
  {
   "cell_type": "code",
   "execution_count": 148,
   "id": "66851283",
   "metadata": {},
   "outputs": [],
   "source": [
    "sub_student_1 = Sub_Student(\"Vasif\", 'Vasifli', 2005, 'not Bachelor', 150)"
   ]
  },
  {
   "cell_type": "code",
   "execution_count": 149,
   "id": "81651316",
   "metadata": {},
   "outputs": [
    {
     "data": {
      "text/plain": [
       "'not Bachelor and İ am pupil'"
      ]
     },
     "execution_count": 149,
     "metadata": {},
     "output_type": "execute_result"
    }
   ],
   "source": [
    "sub_student_1.get_education(key='pupil')"
   ]
  },
  {
   "cell_type": "code",
   "execution_count": null,
   "id": "e349b110",
   "metadata": {},
   "outputs": [],
   "source": []
  },
  {
   "cell_type": "markdown",
   "id": "f7c0dc4e",
   "metadata": {},
   "source": [
    "## ABSTRACTION"
   ]
  },
  {
   "cell_type": "markdown",
   "id": "390af685",
   "metadata": {},
   "source": [
    "### abstractclassmethod"
   ]
  },
  {
   "cell_type": "code",
   "execution_count": 218,
   "id": "2ab7975a",
   "metadata": {},
   "outputs": [],
   "source": [
    "from abc import abstractclassmethod, ABC\n",
    "\n",
    "class Vehicle(ABC):\n",
    "    __number_wheel = 10\n",
    "    _material_wheel = \"rubber\"\n",
    "    number_mirror = 4\n",
    "    _material = \"metal\"\n",
    "    motor = True\n",
    "\n",
    "    def __init__(self, brand, color):\n",
    "        self.brand = brand\n",
    "        self.color =  color\n",
    "        \n",
    "    def characteristic(self):\n",
    "        return f'{self.brand} {self.color}'\n",
    "    \n",
    "    abstractclassmethod\n",
    "    def general_characteristics(self):\n",
    "        pass\n",
    "        "
   ]
  },
  {
   "cell_type": "code",
   "execution_count": 219,
   "id": "3821c319",
   "metadata": {},
   "outputs": [],
   "source": [
    "vehicle_1 = Vehicle(\"Maz\", \"Red\")\n",
    "vehicle_1.general_characteristics()"
   ]
  },
  {
   "cell_type": "code",
   "execution_count": 220,
   "id": "77786f29",
   "metadata": {},
   "outputs": [
    {
     "data": {
      "text/plain": [
       "'Maz Red'"
      ]
     },
     "execution_count": 220,
     "metadata": {},
     "output_type": "execute_result"
    }
   ],
   "source": [
    "vehicle_1.characteristic()"
   ]
  },
  {
   "cell_type": "code",
   "execution_count": 221,
   "id": "12e671a0",
   "metadata": {},
   "outputs": [],
   "source": [
    "class Car(Vehicle):\n",
    "    def __init__(self, brand, color, price):\n",
    "        super().__init__(brand, color)\n",
    "        self.price = price\n",
    "   \n",
    "    def general_characteristics(self):\n",
    "        return f\"{self.brand}:  {self.color}, {self.price}, {self.number_mirror}, {self.motor}\""
   ]
  },
  {
   "cell_type": "code",
   "execution_count": 222,
   "id": "0f79112b",
   "metadata": {},
   "outputs": [],
   "source": [
    "car_1 = Car('Mercedes', 'Black', 200000)"
   ]
  },
  {
   "cell_type": "code",
   "execution_count": 223,
   "id": "fc38e883",
   "metadata": {},
   "outputs": [
    {
     "data": {
      "text/plain": [
       "'Mercedes:  Black, 200000, 4, True'"
      ]
     },
     "execution_count": 223,
     "metadata": {},
     "output_type": "execute_result"
    }
   ],
   "source": [
    "car_1.general_characteristics()"
   ]
  },
  {
   "cell_type": "code",
   "execution_count": null,
   "id": "b634b008",
   "metadata": {},
   "outputs": [],
   "source": []
  },
  {
   "cell_type": "markdown",
   "id": "0c063c39",
   "metadata": {},
   "source": [
    "## classmethod"
   ]
  },
  {
   "cell_type": "code",
   "execution_count": 267,
   "id": "3702b5b4",
   "metadata": {},
   "outputs": [],
   "source": [
    "class Person:\n",
    "    def ad():\n",
    "        return 'Ad'"
   ]
  },
  {
   "cell_type": "code",
   "execution_count": 268,
   "id": "d670ff44",
   "metadata": {},
   "outputs": [
    {
     "data": {
      "text/plain": [
       "'Ad'"
      ]
     },
     "execution_count": 268,
     "metadata": {},
     "output_type": "execute_result"
    }
   ],
   "source": [
    "Person.ad()"
   ]
  },
  {
   "cell_type": "code",
   "execution_count": 269,
   "id": "7a77c969",
   "metadata": {},
   "outputs": [
    {
     "ename": "TypeError",
     "evalue": "Person.ad() takes 0 positional arguments but 1 was given",
     "output_type": "error",
     "traceback": [
      "\u001b[1;31m---------------------------------------------------------------------------\u001b[0m",
      "\u001b[1;31mTypeError\u001b[0m                                 Traceback (most recent call last)",
      "Cell \u001b[1;32mIn[269], line 2\u001b[0m\n\u001b[0;32m      1\u001b[0m person_1 \u001b[38;5;241m=\u001b[39m Person()\n\u001b[1;32m----> 2\u001b[0m person_1\u001b[38;5;241m.\u001b[39mad()\n",
      "\u001b[1;31mTypeError\u001b[0m: Person.ad() takes 0 positional arguments but 1 was given"
     ]
    }
   ],
   "source": [
    "person_1 = Person()\n",
    "person_1.ad()"
   ]
  },
  {
   "cell_type": "code",
   "execution_count": null,
   "id": "7b390317",
   "metadata": {},
   "outputs": [],
   "source": []
  },
  {
   "cell_type": "code",
   "execution_count": 280,
   "id": "aff78862",
   "metadata": {},
   "outputs": [],
   "source": [
    "class Person:\n",
    "    def ad(self):\n",
    "        return 'Ad'"
   ]
  },
  {
   "cell_type": "code",
   "execution_count": 281,
   "id": "1b90ea8d",
   "metadata": {},
   "outputs": [
    {
     "ename": "TypeError",
     "evalue": "Person.ad() missing 1 required positional argument: 'self'",
     "output_type": "error",
     "traceback": [
      "\u001b[1;31m---------------------------------------------------------------------------\u001b[0m",
      "\u001b[1;31mTypeError\u001b[0m                                 Traceback (most recent call last)",
      "Cell \u001b[1;32mIn[281], line 1\u001b[0m\n\u001b[1;32m----> 1\u001b[0m Person\u001b[38;5;241m.\u001b[39mad()\n",
      "\u001b[1;31mTypeError\u001b[0m: Person.ad() missing 1 required positional argument: 'self'"
     ]
    }
   ],
   "source": [
    "Person.ad()"
   ]
  },
  {
   "cell_type": "code",
   "execution_count": 282,
   "id": "2d7f1ec9",
   "metadata": {},
   "outputs": [
    {
     "data": {
      "text/plain": [
       "'Ad'"
      ]
     },
     "execution_count": 282,
     "metadata": {},
     "output_type": "execute_result"
    }
   ],
   "source": [
    "person_1 = Person()\n",
    "Person.ad(person_1)"
   ]
  },
  {
   "cell_type": "code",
   "execution_count": 283,
   "id": "6261a5ea",
   "metadata": {},
   "outputs": [
    {
     "data": {
      "text/plain": [
       "'Ad'"
      ]
     },
     "execution_count": 283,
     "metadata": {},
     "output_type": "execute_result"
    }
   ],
   "source": [
    "person_1.ad()"
   ]
  },
  {
   "cell_type": "code",
   "execution_count": null,
   "id": "71bde301",
   "metadata": {},
   "outputs": [],
   "source": []
  },
  {
   "cell_type": "code",
   "execution_count": 284,
   "id": "c9fa7aec",
   "metadata": {},
   "outputs": [],
   "source": [
    "class Person:\n",
    "    \n",
    "    @classmethod\n",
    "    def ad(cls):\n",
    "        return 'Ad'"
   ]
  },
  {
   "cell_type": "code",
   "execution_count": 285,
   "id": "5b34fc11",
   "metadata": {},
   "outputs": [
    {
     "data": {
      "text/plain": [
       "'Ad'"
      ]
     },
     "execution_count": 285,
     "metadata": {},
     "output_type": "execute_result"
    }
   ],
   "source": [
    "Person.ad()"
   ]
  },
  {
   "cell_type": "code",
   "execution_count": 286,
   "id": "814a4791",
   "metadata": {},
   "outputs": [
    {
     "data": {
      "text/plain": [
       "'Ad'"
      ]
     },
     "execution_count": 286,
     "metadata": {},
     "output_type": "execute_result"
    }
   ],
   "source": [
    "person_1 = Person()\n",
    "person_1.ad()"
   ]
  },
  {
   "cell_type": "code",
   "execution_count": null,
   "id": "cb609737",
   "metadata": {},
   "outputs": [],
   "source": []
  },
  {
   "cell_type": "code",
   "execution_count": 287,
   "id": "15ab346b",
   "metadata": {},
   "outputs": [],
   "source": [
    "class Person:\n",
    "    \n",
    "    name = \"ad\"\n",
    "    vetendasliq = \"Az\"\n",
    "    \n",
    "    @classmethod\n",
    "    def ad(cls):\n",
    "        return cls.name"
   ]
  },
  {
   "cell_type": "code",
   "execution_count": 288,
   "id": "75e0877c",
   "metadata": {},
   "outputs": [
    {
     "data": {
      "text/plain": [
       "'ad'"
      ]
     },
     "execution_count": 288,
     "metadata": {},
     "output_type": "execute_result"
    }
   ],
   "source": [
    "Person.ad()"
   ]
  },
  {
   "cell_type": "code",
   "execution_count": 289,
   "id": "bf207b36",
   "metadata": {},
   "outputs": [
    {
     "data": {
      "text/plain": [
       "'Az'"
      ]
     },
     "execution_count": 289,
     "metadata": {},
     "output_type": "execute_result"
    }
   ],
   "source": [
    "Person.vetendasliq"
   ]
  },
  {
   "cell_type": "code",
   "execution_count": 290,
   "id": "ef5d0ef5",
   "metadata": {},
   "outputs": [
    {
     "data": {
      "text/plain": [
       "'ad'"
      ]
     },
     "execution_count": 290,
     "metadata": {},
     "output_type": "execute_result"
    }
   ],
   "source": [
    "person_1 = Person()\n",
    "person_1.ad()"
   ]
  },
  {
   "cell_type": "code",
   "execution_count": 291,
   "id": "fa20bf64",
   "metadata": {},
   "outputs": [
    {
     "data": {
      "text/plain": [
       "'Az'"
      ]
     },
     "execution_count": 291,
     "metadata": {},
     "output_type": "execute_result"
    }
   ],
   "source": [
    "person_1.vetendasliq"
   ]
  },
  {
   "cell_type": "code",
   "execution_count": null,
   "id": "81225e13",
   "metadata": {},
   "outputs": [],
   "source": []
  },
  {
   "cell_type": "markdown",
   "id": "3ec3c8ed",
   "metadata": {},
   "source": [
    "## staticmethod"
   ]
  },
  {
   "cell_type": "code",
   "execution_count": 292,
   "id": "9a0df319",
   "metadata": {},
   "outputs": [],
   "source": [
    "class Person:\n",
    "    \n",
    "    vetendasliq = \"Az\"\n",
    "    \n",
    "    @staticmethod\n",
    "    def ad():\n",
    "        return 'ad'"
   ]
  },
  {
   "cell_type": "code",
   "execution_count": 293,
   "id": "f5430bc7",
   "metadata": {},
   "outputs": [
    {
     "data": {
      "text/plain": [
       "'ad'"
      ]
     },
     "execution_count": 293,
     "metadata": {},
     "output_type": "execute_result"
    }
   ],
   "source": [
    "Person.ad()"
   ]
  },
  {
   "cell_type": "code",
   "execution_count": 294,
   "id": "4d2fd0ba",
   "metadata": {},
   "outputs": [
    {
     "data": {
      "text/plain": [
       "'Az'"
      ]
     },
     "execution_count": 294,
     "metadata": {},
     "output_type": "execute_result"
    }
   ],
   "source": [
    "Person.vetendasliq"
   ]
  },
  {
   "cell_type": "code",
   "execution_count": 295,
   "id": "0fa16d71",
   "metadata": {},
   "outputs": [
    {
     "data": {
      "text/plain": [
       "'ad'"
      ]
     },
     "execution_count": 295,
     "metadata": {},
     "output_type": "execute_result"
    }
   ],
   "source": [
    "person_1 = Person()\n",
    "person_1.ad()"
   ]
  },
  {
   "cell_type": "code",
   "execution_count": 296,
   "id": "64a2e5f2",
   "metadata": {},
   "outputs": [
    {
     "data": {
      "text/plain": [
       "'Az'"
      ]
     },
     "execution_count": 296,
     "metadata": {},
     "output_type": "execute_result"
    }
   ],
   "source": [
    "person_1.vetendasliq"
   ]
  },
  {
   "cell_type": "code",
   "execution_count": null,
   "id": "63007812",
   "metadata": {},
   "outputs": [],
   "source": []
  },
  {
   "cell_type": "markdown",
   "id": "779b25c6",
   "metadata": {},
   "source": [
    "## Parctice"
   ]
  },
  {
   "cell_type": "code",
   "execution_count": 297,
   "id": "9d028531",
   "metadata": {},
   "outputs": [
    {
     "name": "stdout",
     "output_type": "stream",
     "text": [
      "64\n",
      "2.9047375096555625\n",
      "16\n"
     ]
    }
   ],
   "source": [
    "class Ucbucaq:\n",
    "    \n",
    "    def __init__(self, a, b, c):\n",
    "        self.a = a\n",
    "        self.b = b\n",
    "        self.c = c\n",
    "    \n",
    "    def get_sahe(self):\n",
    "        # Assuming this is intended to be the area of a triangle using Heron's formula\n",
    "        s = (self.a + self.b + self.c) / 2\n",
    "        return (s * (s - self.a) * (s - self.b) * (s - self.c)) ** 0.5\n",
    "    \n",
    "class Duzbucaqli(Ucbucaq):\n",
    "    \n",
    "    def __init__(self, a, b):\n",
    "        super().__init__(a, b, 0)  # 'c' is not needed for rectangle, so set it to 0\n",
    "    \n",
    "    def get_sahe(self):\n",
    "        return self.a * self.b\n",
    "\n",
    "class Kvadrat(Duzbucaqli):\n",
    "    \n",
    "    def __init__(self, a):\n",
    "        super().__init__(a, 0)  # For square, both sides are the same\n",
    "    \n",
    "    def get_sahe(self):\n",
    "        return self.a ** 2\n",
    "\n",
    "# Example usage\n",
    "kv = Kvadrat(8)\n",
    "print(kv.get_sahe())  # Output: 64\n",
    "\n",
    "\n",
    "uc = Ucbucaq(4,2,3)\n",
    "print(uc.get_sahe())\n",
    "\n",
    "duz = Duzbucaqli(8, 2)\n",
    "print(duz.get_sahe())"
   ]
  },
  {
   "cell_type": "code",
   "execution_count": null,
   "id": "8f444aac",
   "metadata": {},
   "outputs": [],
   "source": []
  }
 ],
 "metadata": {
  "kernelspec": {
   "display_name": "Python 3 (ipykernel)",
   "language": "python",
   "name": "python3"
  },
  "language_info": {
   "codemirror_mode": {
    "name": "ipython",
    "version": 3
   },
   "file_extension": ".py",
   "mimetype": "text/x-python",
   "name": "python",
   "nbconvert_exporter": "python",
   "pygments_lexer": "ipython3",
   "version": "3.11.5"
  }
 },
 "nbformat": 4,
 "nbformat_minor": 5
}
