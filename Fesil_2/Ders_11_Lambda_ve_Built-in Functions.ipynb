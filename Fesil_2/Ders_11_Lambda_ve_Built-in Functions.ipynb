{
 "cells": [
  {
   "cell_type": "markdown",
   "id": "f243e4e2",
   "metadata": {},
   "source": [
    "## Lambda və Built-in Functions\n",
    "\n",
    "### Lambda"
   ]
  },
  {
   "cell_type": "code",
   "execution_count": 2,
   "id": "562205d6",
   "metadata": {},
   "outputs": [
    {
     "data": {
      "text/plain": [
       "8"
      ]
     },
     "execution_count": 2,
     "metadata": {},
     "output_type": "execute_result"
    }
   ],
   "source": [
    "def myfunction(a,b):\n",
    "    return a + b\n",
    "myfunction(5, 3)"
   ]
  },
  {
   "cell_type": "code",
   "execution_count": 3,
   "id": "95074231",
   "metadata": {},
   "outputs": [
    {
     "data": {
      "text/plain": [
       "8"
      ]
     },
     "execution_count": 3,
     "metadata": {},
     "output_type": "execute_result"
    }
   ],
   "source": [
    "myfunction = lambda a, b: a + b     # funksiyanin qisa yazilisi\n",
    "\n",
    "myfunction(5, 3)"
   ]
  },
  {
   "cell_type": "code",
   "execution_count": 4,
   "id": "d591eed3",
   "metadata": {},
   "outputs": [],
   "source": [
    "def myfunction(a,b):\n",
    "    c = a + b\n",
    "    return c"
   ]
  },
  {
   "cell_type": "code",
   "execution_count": 7,
   "id": "cb87a054",
   "metadata": {},
   "outputs": [
    {
     "data": {
      "text/plain": [
       "8"
      ]
     },
     "execution_count": 7,
     "metadata": {},
     "output_type": "execute_result"
    }
   ],
   "source": [
    "myfunction = lambda a, b: a + b    # funksiyanin qisa yazilisi\n",
    "\n",
    "myfunction(5, 3)"
   ]
  },
  {
   "cell_type": "code",
   "execution_count": 8,
   "id": "2511093b",
   "metadata": {},
   "outputs": [
    {
     "data": {
      "text/plain": [
       "2"
      ]
     },
     "execution_count": 8,
     "metadata": {},
     "output_type": "execute_result"
    }
   ],
   "source": [
    "myfunction = lambda a, b: a + b if a < b else a - b\n",
    "\n",
    "myfunction(5, 3)"
   ]
  },
  {
   "cell_type": "code",
   "execution_count": 9,
   "id": "ea7da8ec",
   "metadata": {},
   "outputs": [
    {
     "data": {
      "text/plain": [
       "5"
      ]
     },
     "execution_count": 9,
     "metadata": {},
     "output_type": "execute_result"
    }
   ],
   "source": [
    "# Find Biggest element(Nested If else in lambda)\n",
    "def max(a,b,c):\n",
    "    if a>b and a>c:\n",
    "        return a\n",
    "    elif b>a and b>c:\n",
    "        return b\n",
    "    else:\n",
    "        return c\n",
    "\n",
    "max(3,4,5)"
   ]
  },
  {
   "cell_type": "code",
   "execution_count": 14,
   "id": "0be98a26",
   "metadata": {},
   "outputs": [
    {
     "data": {
      "text/plain": [
       "5"
      ]
     },
     "execution_count": 14,
     "metadata": {},
     "output_type": "execute_result"
    }
   ],
   "source": [
    "find_max=lambda a, b, c: a if a>b and a>c else (b if b>a and b>c else c)\n",
    "\n",
    "find_max(3,4,5)"
   ]
  },
  {
   "cell_type": "code",
   "execution_count": 15,
   "id": "9c1b3d43",
   "metadata": {},
   "outputs": [
    {
     "data": {
      "text/plain": [
       "5"
      ]
     },
     "execution_count": 15,
     "metadata": {},
     "output_type": "execute_result"
    }
   ],
   "source": [
    "find_max=lambda a, b, c: a if a>b and a>c else b if b>a and b>c else c\n",
    "\n",
    "find_max(3,4,5)"
   ]
  },
  {
   "cell_type": "code",
   "execution_count": 17,
   "id": "2d1b901e",
   "metadata": {},
   "outputs": [
    {
     "data": {
      "text/plain": [
       "25"
      ]
     },
     "execution_count": 17,
     "metadata": {},
     "output_type": "execute_result"
    }
   ],
   "source": [
    "def power(x):\n",
    "    return x**2\n",
    "\n",
    "power(5)"
   ]
  },
  {
   "cell_type": "code",
   "execution_count": 27,
   "id": "380ee17e",
   "metadata": {},
   "outputs": [
    {
     "data": {
      "text/plain": [
       "25"
      ]
     },
     "execution_count": 27,
     "metadata": {},
     "output_type": "execute_result"
    }
   ],
   "source": [
    "power = lambda x: x**2\n",
    "\n",
    "power(5)"
   ]
  },
  {
   "cell_type": "markdown",
   "id": "b852874d",
   "metadata": {},
   "source": [
    "### Built-in Functions"
   ]
  },
  {
   "cell_type": "markdown",
   "id": "c3bd10cf",
   "metadata": {},
   "source": [
    "#### 1. map() funsiyasi\n",
    "\n",
    "- **Syntax: map(function, iterable)**\n",
    "- **The returned value from map() (map object) then can be passed to functions like list() (to create a list), set() (to create a set) or tuple() (to create a tuple).**"
   ]
  },
  {
   "cell_type": "code",
   "execution_count": 54,
   "id": "0bfc2854",
   "metadata": {},
   "outputs": [
    {
     "data": {
      "text/plain": [
       "[0, 1, 4, 9, 16]"
      ]
     },
     "execution_count": 54,
     "metadata": {},
     "output_type": "execute_result"
    }
   ],
   "source": [
    "def power(n):\n",
    "    return n ** 2\n",
    "\n",
    "n = 5\n",
    "list(map(power, range(n)))"
   ]
  },
  {
   "cell_type": "code",
   "execution_count": 55,
   "id": "5403a5e9",
   "metadata": {},
   "outputs": [
    {
     "data": {
      "text/plain": [
       "<map at 0x60ce1a3040>"
      ]
     },
     "execution_count": 55,
     "metadata": {},
     "output_type": "execute_result"
    }
   ],
   "source": [
    "def power(n):\n",
    "    return n ** 2\n",
    "\n",
    "list1 = [1,2,3,4,5]\n",
    "map(power, list1)"
   ]
  },
  {
   "cell_type": "code",
   "execution_count": 56,
   "id": "efb88be4",
   "metadata": {},
   "outputs": [
    {
     "data": {
      "text/plain": [
       "[1, 4, 9, 16, 25]"
      ]
     },
     "execution_count": 56,
     "metadata": {},
     "output_type": "execute_result"
    }
   ],
   "source": [
    "def power(n):\n",
    "    return n ** 2\n",
    "\n",
    "list1 = [1,2,3,4,5]\n",
    "list(map(power, list1))"
   ]
  },
  {
   "cell_type": "code",
   "execution_count": 58,
   "id": "8c3fcc88",
   "metadata": {},
   "outputs": [
    {
     "data": {
      "text/plain": [
       "[2, 4, 8, 16, 32, 64, 128, 256, 512]"
      ]
     },
     "execution_count": 58,
     "metadata": {},
     "output_type": "execute_result"
    }
   ],
   "source": [
    "def power(n):\n",
    "    return 2** n\n",
    "\n",
    "list1 = [1,2,3,4,5,6,7,8,9]\n",
    "list(map(pow_2, list1))"
   ]
  },
  {
   "cell_type": "code",
   "execution_count": 62,
   "id": "659564f3",
   "metadata": {},
   "outputs": [
    {
     "data": {
      "text/plain": [
       "[None, None, None, None, 16]"
      ]
     },
     "execution_count": 62,
     "metadata": {},
     "output_type": "execute_result"
    }
   ],
   "source": [
    "def power(n):\n",
    "    if n > 3:\n",
    "        return n**2\n",
    "\n",
    "n = 5\n",
    "list(map(power, range(n)))"
   ]
  },
  {
   "cell_type": "markdown",
   "id": "c9155722",
   "metadata": {},
   "source": [
    "### Bulit-in function + Lambda"
   ]
  },
  {
   "cell_type": "code",
   "execution_count": 64,
   "id": "b35697b2",
   "metadata": {},
   "outputs": [
    {
     "data": {
      "text/plain": [
       "[1, 4, 9, 16, 25, 36, 49, 64, 81]"
      ]
     },
     "execution_count": 64,
     "metadata": {},
     "output_type": "execute_result"
    }
   ],
   "source": [
    "list1 = [1,2,3,4,5,6,7,8,9]\n",
    "\n",
    "list(map(lambda a: a**2, list1))"
   ]
  },
  {
   "cell_type": "code",
   "execution_count": 65,
   "id": "7d501437",
   "metadata": {},
   "outputs": [
    {
     "name": "stdout",
     "output_type": "stream",
     "text": [
      "[0, 1, 2, 3, 4, 5, 6, 7, 8, 9]\n"
     ]
    }
   ],
   "source": [
    "print(list(map(lambda n: n, range(10))))"
   ]
  },
  {
   "cell_type": "code",
   "execution_count": 67,
   "id": "8e57afe9",
   "metadata": {},
   "outputs": [
    {
     "name": "stdout",
     "output_type": "stream",
     "text": [
      "[1, 2, 3, 4, 5, 6, 7, 8, 9]\n"
     ]
    }
   ],
   "source": [
    "print(list(map(lambda n: n, [1,2,3,4,5,6,7,8,9])))"
   ]
  },
  {
   "cell_type": "code",
   "execution_count": 70,
   "id": "a548a572",
   "metadata": {},
   "outputs": [
    {
     "data": {
      "text/plain": [
       "['AYSU', 'RUSTEM', 'AYTAN', 'CAVAD']"
      ]
     },
     "execution_count": 70,
     "metadata": {},
     "output_type": "execute_result"
    }
   ],
   "source": [
    "people = [\"Aysu\", \"Rustem\", \"Aytan\", \"Cavad\"]\n",
    "\n",
    "\n",
    "up = list(map(lambda x: x.upper(), people))\n",
    "up"
   ]
  },
  {
   "cell_type": "code",
   "execution_count": 76,
   "id": "0ab8f589",
   "metadata": {},
   "outputs": [
    {
     "data": {
      "text/plain": [
       "['Aysu', None, 'Aytan', None]"
      ]
     },
     "execution_count": 76,
     "metadata": {},
     "output_type": "execute_result"
    }
   ],
   "source": [
    "name_a = lambda x: x if x[0]==\"A\" else None\n",
    "\n",
    "new_name_list = list(map(name_a, people))\n",
    "new_name_list"
   ]
  },
  {
   "cell_type": "markdown",
   "id": "5508b141",
   "metadata": {},
   "source": [
    "### Filter:\n",
    "- **Syntax: filter(function, iterable)**\n",
    "- **function: function that tests if each element of a sequence true or not.**\n",
    "- **iterable: Iterable which needs to be filtered.**"
   ]
  },
  {
   "cell_type": "code",
   "execution_count": 77,
   "id": "49058f82",
   "metadata": {},
   "outputs": [
    {
     "data": {
      "text/plain": [
       "[6, 7, 8, 9]"
      ]
     },
     "execution_count": 77,
     "metadata": {},
     "output_type": "execute_result"
    }
   ],
   "source": [
    "list(filter(lambda n: n > 5, range(10)))"
   ]
  },
  {
   "cell_type": "code",
   "execution_count": 78,
   "id": "c4df9ef9",
   "metadata": {},
   "outputs": [
    {
     "data": {
      "text/plain": [
       "[False, False, False, False, False, False, True, True, True, True]"
      ]
     },
     "execution_count": 78,
     "metadata": {},
     "output_type": "execute_result"
    }
   ],
   "source": [
    "list(map(lambda n: n > 5, range(10)))"
   ]
  },
  {
   "cell_type": "code",
   "execution_count": 79,
   "id": "28502280",
   "metadata": {},
   "outputs": [
    {
     "data": {
      "text/plain": [
       "[5, 6, 7, 8, 9, 10, 11, 12, 13, 14]"
      ]
     },
     "execution_count": 79,
     "metadata": {},
     "output_type": "execute_result"
    }
   ],
   "source": [
    "list(map(lambda n: n + 5, range(10)))"
   ]
  },
  {
   "cell_type": "code",
   "execution_count": 82,
   "id": "45f83a6a",
   "metadata": {},
   "outputs": [
    {
     "data": {
      "text/plain": [
       "[0, 1, 2, 3, 4, 5, 6, 7, 8, 9]"
      ]
     },
     "execution_count": 82,
     "metadata": {},
     "output_type": "execute_result"
    }
   ],
   "source": [
    "list(filter(lambda n: n + 5, range(10)))"
   ]
  },
  {
   "cell_type": "code",
   "execution_count": 87,
   "id": "ffa5a2fd",
   "metadata": {},
   "outputs": [
    {
     "data": {
      "text/plain": [
       "['Aysu', 'Aytan']"
      ]
     },
     "execution_count": 87,
     "metadata": {},
     "output_type": "execute_result"
    }
   ],
   "source": [
    "people = [\"Aysu\", \"Rustem\", \"Aytan\", \"Cavad\"]\n",
    "\n",
    "name_a = lambda x: x if x[0]==\"A\" else None\n",
    "\n",
    "new_name_list = list(filter(name_a, people))\n",
    "new_name_list"
   ]
  },
  {
   "cell_type": "code",
   "execution_count": 88,
   "id": "a534f2cc",
   "metadata": {},
   "outputs": [
    {
     "data": {
      "text/plain": [
       "[1, 2, 3, 4, 5, 6, 7, 8, 9]"
      ]
     },
     "execution_count": 88,
     "metadata": {},
     "output_type": "execute_result"
    }
   ],
   "source": [
    "list(filter(lambda n: n, range(10)))"
   ]
  },
  {
   "cell_type": "code",
   "execution_count": 120,
   "id": "07d71636",
   "metadata": {},
   "outputs": [],
   "source": [
    "# A dictionary Users(twitter database) is given in which we have username and tweets.\n",
    "users = [\n",
    "    {\"username\": 'aysel', \"tweets\": [\"i love cake\", \"i am good\"]},\n",
    "    {\"username\": 'rustem', \"tweets\": []},\n",
    "    {\"username\": 'cavad', \"tweets\": [\"India\", \"Python\"]},\n",
    "    {\"username\": 'kenan', \"tweets\": []},\n",
    "    {\"username\": 'asad', \"tweets\": [\"i am good\"]},\n",
    "]"
   ]
  },
  {
   "cell_type": "code",
   "execution_count": 121,
   "id": "a4757567",
   "metadata": {},
   "outputs": [
    {
     "name": "stdout",
     "output_type": "stream",
     "text": [
      "DICTIONARY OF USERS THAT HAVE NO TWEETS ARE \n",
      " [{'username': 'aysel', 'tweets': ['i love cake', 'i am good']}, {'username': 'cavad', 'tweets': ['India', 'Python']}, {'username': 'asad', 'tweets': ['i am good']}]\n"
     ]
    }
   ],
   "source": [
    "active_users = list(filter(lambda x: x['tweets'], users))\n",
    "print(\"DICTIONARY OF USERS THAT HAVE NO TWEETS ARE \\n\",active_users)"
   ]
  },
  {
   "cell_type": "code",
   "execution_count": 122,
   "id": "421d4e09",
   "metadata": {},
   "outputs": [
    {
     "name": "stdout",
     "output_type": "stream",
     "text": [
      "aysel\n",
      "cavad\n",
      "asad\n"
     ]
    }
   ],
   "source": [
    "for user_dict in active_users:\n",
    "    print(user_dict[\"username\"])"
   ]
  },
  {
   "cell_type": "code",
   "execution_count": 123,
   "id": "031b0fc9",
   "metadata": {},
   "outputs": [
    {
     "name": "stdout",
     "output_type": "stream",
     "text": [
      "['aysel', 'cavad', 'asad']\n"
     ]
    }
   ],
   "source": [
    "users = [\n",
    "    {\"username\": 'aysel', \"tweets\": [\"i love cake\", \"i am good\"]},\n",
    "    {\"username\": 'rustem', \"tweets\": []},\n",
    "    {\"username\": 'cavad', \"tweets\": [\"India\", \"Python\"]},\n",
    "    {\"username\": 'kenan', \"tweets\": []},\n",
    "    {\"username\": 'asad', \"tweets\": [\"i am good\"]},\n",
    "]\n",
    "\n",
    "# Filter users with no tweets and extract their usernames\n",
    "active_users = list(map(lambda x: x['username'], filter(lambda x: x['tweets'], users)))\n",
    "\n",
    "print(active_users)"
   ]
  },
  {
   "cell_type": "code",
   "execution_count": 124,
   "id": "a16a0849",
   "metadata": {},
   "outputs": [
    {
     "name": "stdout",
     "output_type": "stream",
     "text": [
      "DICTIONARY OF USERS THAT HAVE NO TWEETS ARE \n",
      " [{'username': 'rustem', 'tweets': []}, {'username': 'kenan', 'tweets': []}]\n"
     ]
    }
   ],
   "source": [
    "users = [\n",
    "    {\"username\": 'aysel', \"tweets\": [\"i love cake\", \"i am good\"]},\n",
    "    {\"username\": 'rustem', \"tweets\": []},\n",
    "    {\"username\": 'cavad', \"tweets\": [\"India\", \"Python\"]},\n",
    "    {\"username\": 'kenan', \"tweets\": []},\n",
    "    {\"username\": 'asad', \"tweets\": [\"i am good\"]},\n",
    "]\n",
    "\n",
    "\n",
    "inactive_users = list(filter(lambda x: not x['tweets'], users))\n",
    "print(\"DICTIONARY OF USERS THAT HAVE NO TWEETS ARE \\n\",inactive_users)"
   ]
  },
  {
   "cell_type": "code",
   "execution_count": 97,
   "id": "020fbee1",
   "metadata": {},
   "outputs": [
    {
     "name": "stdout",
     "output_type": "stream",
     "text": [
      "USERS THAT HAVE NO TWEETS ARE \n",
      " rustem\n",
      "USERS THAT HAVE NO TWEETS ARE \n",
      " kenan\n"
     ]
    }
   ],
   "source": [
    "print(\"USERS THAT HAVE NO TWEETS ARE \\n\",inactive_users[0][\"username\"])\n",
    "print(\"USERS THAT HAVE NO TWEETS ARE \\n\",inactive_users[1][\"username\"])"
   ]
  },
  {
   "cell_type": "code",
   "execution_count": 125,
   "id": "003c040a",
   "metadata": {},
   "outputs": [
    {
     "name": "stdout",
     "output_type": "stream",
     "text": [
      "rustem\n",
      "kenan\n"
     ]
    }
   ],
   "source": [
    "for user_dict in inactive_users:\n",
    "    print(user_dict[\"username\"])"
   ]
  },
  {
   "cell_type": "code",
   "execution_count": 131,
   "id": "0c391159",
   "metadata": {},
   "outputs": [
    {
     "name": "stdout",
     "output_type": "stream",
     "text": [
      "['rustem', 'kenan']\n"
     ]
    }
   ],
   "source": [
    "users = [\n",
    "    {\"username\": 'aysel', \"tweets\": [\"i love cake\", \"i am good\"]},\n",
    "    {\"username\": 'rustem', \"tweets\": []},\n",
    "    {\"username\": 'cavad', \"tweets\": [\"India\", \"Python\"]},\n",
    "    {\"username\": 'kenan', \"tweets\": []},\n",
    "    {\"username\": 'asad', \"tweets\": [\"i am good\"]},\n",
    "]\n",
    "\n",
    "# Filter users with no tweets and extract their usernames\n",
    "inactive_users = list(map(lambda x: x['username'], filter(lambda x: not x['tweets'], users)))\n",
    "\n",
    "print(inactive_users)"
   ]
  },
  {
   "cell_type": "markdown",
   "id": "dd47f63e",
   "metadata": {},
   "source": [
    "### Zip:\n",
    "- The zip() function returns an iterator of tuples based on the iterable object.\n",
    "- If no parameters are passed, zip() returns an empty iterator\n",
    "- If a single iterable is passed, zip() returns an iterator of 1-tuples. Meaning, the number of elements in each tuple is 1.\n",
    "- If multiple iterables are passed, ith tuple contains ith Suppose, two iterables are passed; one iterable containing 3 and other containing 5 elements. Then, the returned iterator has 3 tuples. It’s because iterator stops when shortest iterable is exhaused."
   ]
  },
  {
   "cell_type": "code",
   "execution_count": 133,
   "id": "509dc059",
   "metadata": {},
   "outputs": [
    {
     "name": "stdout",
     "output_type": "stream",
     "text": [
      "[(1, 5, 2), (2, 9, 0), (3, 8, 4)]\n"
     ]
    }
   ],
   "source": [
    "print(list(zip([1,2,3], [5,9,8], [2,0,4])))"
   ]
  },
  {
   "cell_type": "code",
   "execution_count": 134,
   "id": "5b9392f9",
   "metadata": {},
   "outputs": [
    {
     "name": "stdout",
     "output_type": "stream",
     "text": [
      "[('Ali', 4, 40), ('Mustaga', 1, 50), ('Cavad', 3, 60)]\n"
     ]
    }
   ],
   "source": [
    "name = [\"Ali\", \"Mustaga\", \"Cavad\"]\n",
    "student_id = [4, 1, 3]\n",
    "marks = [40, 50, 60]\n",
    "\n",
    "mapped = zip(name, student_id, marks)\n",
    "\n",
    "print(list(mapped))"
   ]
  },
  {
   "cell_type": "code",
   "execution_count": 136,
   "id": "8e104117",
   "metadata": {},
   "outputs": [
    {
     "name": "stdout",
     "output_type": "stream",
     "text": [
      "[('Ali',), ('Mustaga',), ('Cavad',)]\n"
     ]
    }
   ],
   "source": [
    "name = [\"Ali\", \"Mustaga\", \"Cavad\"]\n",
    "mapped = zip(name)\n",
    "print(list(mapped))"
   ]
  },
  {
   "cell_type": "code",
   "execution_count": 138,
   "id": "5f86760a",
   "metadata": {},
   "outputs": [
    {
     "data": {
      "text/plain": [
       "[('Ali', 40), ('Mustaga', 50)]"
      ]
     },
     "execution_count": 138,
     "metadata": {},
     "output_type": "execute_result"
    }
   ],
   "source": [
    "name = [\"Ali\", \"Mustaga\", \"Cavad\"]\n",
    "marks = [40, 50]\n",
    "\n",
    "list(zip(name,marks))"
   ]
  },
  {
   "cell_type": "markdown",
   "id": "95ba7e95",
   "metadata": {},
   "source": [
    "### enumerate()"
   ]
  },
  {
   "cell_type": "code",
   "execution_count": 140,
   "id": "ed000998",
   "metadata": {},
   "outputs": [
    {
     "data": {
      "text/plain": [
       "[(0, 5), (1, 9), (2, 3), (3, 7), (4, 2)]"
      ]
     },
     "execution_count": 140,
     "metadata": {},
     "output_type": "execute_result"
    }
   ],
   "source": [
    "list(enumerate([5, 9, 3, 7, 2]))"
   ]
  },
  {
   "cell_type": "code",
   "execution_count": 142,
   "id": "0a86d3ec",
   "metadata": {},
   "outputs": [
    {
     "data": {
      "text/plain": [
       "[(0, 'Ali'), (1, 'Valid'), (2, 'Casur')]"
      ]
     },
     "execution_count": 142,
     "metadata": {},
     "output_type": "execute_result"
    }
   ],
   "source": [
    "names = [\"Ali\", \"Valid\", \"Casur\"]\n",
    "\n",
    "list(enumerate(names))"
   ]
  },
  {
   "cell_type": "code",
   "execution_count": 147,
   "id": "d2d2b3e2",
   "metadata": {},
   "outputs": [
    {
     "name": "stdout",
     "output_type": "stream",
     "text": [
      "0 Ali\n",
      "1 Valid\n",
      "2 Casur\n"
     ]
    }
   ],
   "source": [
    "for i, j in enumerate(names):\n",
    "    print(i, j)"
   ]
  },
  {
   "cell_type": "code",
   "execution_count": null,
   "id": "ce657a22",
   "metadata": {},
   "outputs": [],
   "source": []
  },
  {
   "cell_type": "markdown",
   "id": "06a47d83",
   "metadata": {},
   "source": [
    "### Əlavə nümunələr"
   ]
  },
  {
   "cell_type": "code",
   "execution_count": 148,
   "id": "4e04eb5f",
   "metadata": {},
   "outputs": [
    {
     "data": {
      "text/plain": [
       "[(100, 1000), (400, 8000), (900, 27000), (1600, 64000), (2500, 125000)]"
      ]
     },
     "execution_count": 148,
     "metadata": {},
     "output_type": "execute_result"
    }
   ],
   "source": [
    "list1 = [10, 20, 30, 40, 50]\n",
    "\n",
    "list(map(lambda x: (x**2, x**3), list1))"
   ]
  },
  {
   "cell_type": "code",
   "execution_count": 154,
   "id": "00aacd51",
   "metadata": {},
   "outputs": [
    {
     "data": {
      "text/plain": [
       "[11, 22, 33, 44]"
      ]
     },
     "execution_count": 154,
     "metadata": {},
     "output_type": "execute_result"
    }
   ],
   "source": [
    "list1 = [1, 2, 3, 4]\n",
    "list2 = [10, 20 , 30 , 40]\n",
    "\n",
    "list(map(lambda x, y: x+y, list1, list2))"
   ]
  },
  {
   "cell_type": "code",
   "execution_count": 155,
   "id": "5aa0f85e",
   "metadata": {},
   "outputs": [
    {
     "ename": "TypeError",
     "evalue": "filter expected 2 arguments, got 3",
     "output_type": "error",
     "traceback": [
      "\u001b[1;31m---------------------------------------------------------------------------\u001b[0m",
      "\u001b[1;31mTypeError\u001b[0m                                 Traceback (most recent call last)",
      "Cell \u001b[1;32mIn[155], line 4\u001b[0m\n\u001b[0;32m      1\u001b[0m list1 \u001b[38;5;241m=\u001b[39m [\u001b[38;5;241m1\u001b[39m, \u001b[38;5;241m2\u001b[39m, \u001b[38;5;241m3\u001b[39m, \u001b[38;5;241m4\u001b[39m]\n\u001b[0;32m      2\u001b[0m list2 \u001b[38;5;241m=\u001b[39m [\u001b[38;5;241m10\u001b[39m, \u001b[38;5;241m20\u001b[39m , \u001b[38;5;241m30\u001b[39m , \u001b[38;5;241m40\u001b[39m]\n\u001b[1;32m----> 4\u001b[0m \u001b[38;5;28mlist\u001b[39m(\u001b[38;5;28mfilter\u001b[39m(\u001b[38;5;28;01mlambda\u001b[39;00m x, y: x\u001b[38;5;241m+\u001b[39my, list1, list2))\n",
      "\u001b[1;31mTypeError\u001b[0m: filter expected 2 arguments, got 3"
     ]
    }
   ],
   "source": [
    "list1 = [1, 2, 3, 4]\n",
    "list2 = [10, 20 , 30 , 40]\n",
    "\n",
    "list(filter(lambda x, y: x+y, list1, list2))"
   ]
  },
  {
   "cell_type": "code",
   "execution_count": 156,
   "id": "03d6b2ab",
   "metadata": {},
   "outputs": [
    {
     "data": {
      "text/plain": [
       "['salam 10', 'salam 20', 'salam 30', 'salam 40']"
      ]
     },
     "execution_count": 156,
     "metadata": {},
     "output_type": "execute_result"
    }
   ],
   "source": [
    "list1 = [10, 20 , 30 , 40]\n",
    "\n",
    "list(map(lambda x: 'salam' + ' ' + str(x), list1))"
   ]
  },
  {
   "cell_type": "code",
   "execution_count": 157,
   "id": "3157f166",
   "metadata": {},
   "outputs": [
    {
     "data": {
      "text/plain": [
       "['salam 10', 'salam 20', 'salam 30', 'salam 40']"
      ]
     },
     "execution_count": 157,
     "metadata": {},
     "output_type": "execute_result"
    }
   ],
   "source": [
    "list1 = [10, 20 , 30 , 40]\n",
    "\n",
    "list(map(lambda x: f'salam {str(x)}', list1))"
   ]
  },
  {
   "cell_type": "code",
   "execution_count": 159,
   "id": "213dd6d1",
   "metadata": {},
   "outputs": [
    {
     "name": "stdout",
     "output_type": "stream",
     "text": [
      "[('Idrak', 5), ('Seyfullayev', 11), ('worksintern', 11), ('in', 2), ('Data Science Academy', 20)]\n"
     ]
    }
   ],
   "source": [
    "list1 = ['Idrak', 'Seyfullayev', 'works' 'intern', 'in', 'Data Science Academy']\n",
    "\n",
    "print(list(map(lambda x: (x, len(x)), list1)))"
   ]
  },
  {
   "cell_type": "code",
   "execution_count": 160,
   "id": "6032cb53",
   "metadata": {},
   "outputs": [
    {
     "name": "stdout",
     "output_type": "stream",
     "text": [
      "[('id: 1', 'name: Idrak'), ('id: 2', 'name: Adil'), ('id: 3', 'name: Arif'), ('id: 4', 'name: Hakim')]\n"
     ]
    }
   ],
   "source": [
    "list_id = [1, 2, 3, 4]\n",
    "list_name= ['Idrak', 'Adil', \"Arif\", 'Hakim']\n",
    "\n",
    "print(list(map(lambda x, y: (f'id: {x}', f'name: {y}'), list_id, list_name)))"
   ]
  },
  {
   "cell_type": "code",
   "execution_count": 162,
   "id": "932852f6",
   "metadata": {},
   "outputs": [
    {
     "data": {
      "text/plain": [
       "{'id: 1': 'name: Idrak',\n",
       " 'id: 2': 'name: Adil',\n",
       " 'id: 3': 'name: Arif',\n",
       " 'id: 4': 'name: Hakim'}"
      ]
     },
     "execution_count": 162,
     "metadata": {},
     "output_type": "execute_result"
    }
   ],
   "source": [
    "list_id = [1, 2, 3, 4]\n",
    "list_name= ['Idrak', 'Adil', \"Arif\", 'Hakim']\n",
    "\n",
    "dict(map(lambda x, y: (f'id: {x}', f'name: {y}'), list_id, list_name))"
   ]
  },
  {
   "cell_type": "code",
   "execution_count": 163,
   "id": "fdb21d16",
   "metadata": {},
   "outputs": [
    {
     "data": {
      "text/plain": [
       "[1, 0, 0, 1]"
      ]
     },
     "execution_count": 163,
     "metadata": {},
     "output_type": "execute_result"
    }
   ],
   "source": [
    "list_name= ['Idrak', 'Adil', \"Arif\", 'Hakim']\n",
    "\n",
    "list(map(lambda x: x.count('a'), list_name))"
   ]
  },
  {
   "cell_type": "code",
   "execution_count": 164,
   "id": "5747afaf",
   "metadata": {},
   "outputs": [
    {
     "data": {
      "text/plain": [
       "[1, 1, 1, 1, 2, 2]"
      ]
     },
     "execution_count": 164,
     "metadata": {},
     "output_type": "execute_result"
    }
   ],
   "source": [
    "list_name= ['Idrak', 'Adil', \"Arif\", 'Hakim', 'Ashraf', 'Araz']\n",
    "\n",
    "list(map(lambda x: x.count('a') + x.count('A'), list_name))"
   ]
  },
  {
   "cell_type": "code",
   "execution_count": 165,
   "id": "fbf993d4",
   "metadata": {},
   "outputs": [
    {
     "data": {
      "text/plain": [
       "[1, 3, 5, 7, 9]"
      ]
     },
     "execution_count": 165,
     "metadata": {},
     "output_type": "execute_result"
    }
   ],
   "source": [
    "list1 = [1, 2, 3, 4, 5, 6, 7, 9, 10]\n",
    "\n",
    "list(filter(lambda x: x % 2, list1))"
   ]
  },
  {
   "cell_type": "code",
   "execution_count": 167,
   "id": "edf60b7b",
   "metadata": {},
   "outputs": [
    {
     "data": {
      "text/plain": [
       "['A', 'ə', 'a', 'a']"
      ]
     },
     "execution_count": 167,
     "metadata": {},
     "output_type": "execute_result"
    }
   ],
   "source": [
    "a = 'Azərbaycan'\n",
    "\n",
    "list(filter(lambda x: x.lower() in ['a', 'ı', 'o', 'u', 'e', 'ə', 'i', 'ö', 'ü'], a))"
   ]
  },
  {
   "cell_type": "code",
   "execution_count": 170,
   "id": "c9f75f8d",
   "metadata": {},
   "outputs": [
    {
     "data": {
      "text/plain": [
       "['1', '2', '3', '4', '5', '6', '7']"
      ]
     },
     "execution_count": 170,
     "metadata": {},
     "output_type": "execute_result"
    }
   ],
   "source": [
    "string_of_integers = \"1 -2 eg 3 -4 s 5 -6 7 \"\n",
    "    \n",
    "result = list(filter(lambda x: x.isnumeric(), string_of_integers))\n",
    "result"
   ]
  },
  {
   "cell_type": "code",
   "execution_count": 172,
   "id": "737005b8",
   "metadata": {},
   "outputs": [
    {
     "data": {
      "text/plain": [
       "[1, 2, 3, 4, 5, 6, 7]"
      ]
     },
     "execution_count": 172,
     "metadata": {},
     "output_type": "execute_result"
    }
   ],
   "source": [
    "list(map(lambda x: int(x), result))"
   ]
  },
  {
   "cell_type": "code",
   "execution_count": 173,
   "id": "83b7c294",
   "metadata": {},
   "outputs": [
    {
     "data": {
      "text/plain": [
       "[7000, 8000, 9000, 8000, 9000]"
      ]
     },
     "execution_count": 173,
     "metadata": {},
     "output_type": "execute_result"
    }
   ],
   "source": [
    "values = [5000, 6000, 7000, 8000, 9000]\n",
    "\n",
    "list(map(lambda x: x+2000 if x < 8000 else x, values))"
   ]
  },
  {
   "cell_type": "code",
   "execution_count": 175,
   "id": "6e84c447",
   "metadata": {},
   "outputs": [
    {
     "data": {
      "text/plain": [
       "[5000, 6000, 7000, 8000, 9000]"
      ]
     },
     "execution_count": 175,
     "metadata": {},
     "output_type": "execute_result"
    }
   ],
   "source": [
    "list(filter(lambda x: x+2000 if x < 8000 else x, values)) # filter  işləmir burda"
   ]
  },
  {
   "cell_type": "code",
   "execution_count": 176,
   "id": "6941d083",
   "metadata": {},
   "outputs": [
    {
     "data": {
      "text/plain": [
       "'even numbers count: 4'"
      ]
     },
     "execution_count": 176,
     "metadata": {},
     "output_type": "execute_result"
    }
   ],
   "source": [
    "list1 = [1, 2, 3, 4, 5, 7, 8, 9, 10]\n",
    "\n",
    "f'even numbers count: {len(list(filter(lambda x: not x % 2, list1)))}'"
   ]
  },
  {
   "cell_type": "code",
   "execution_count": 177,
   "id": "14bded4f",
   "metadata": {},
   "outputs": [
    {
     "data": {
      "text/plain": [
       "'odd numbers count: 5'"
      ]
     },
     "execution_count": 177,
     "metadata": {},
     "output_type": "execute_result"
    }
   ],
   "source": [
    "list1 = [1, 2, 3, 4, 5, 7, 8, 9, 10]\n",
    "\n",
    "f'odd numbers count: {len(list(filter(lambda x: x % 2, list1)))}'"
   ]
  },
  {
   "cell_type": "code",
   "execution_count": 179,
   "id": "ad4abc53",
   "metadata": {},
   "outputs": [
    {
     "data": {
      "text/plain": [
       "'even num count: 4, odd num count: 5'"
      ]
     },
     "execution_count": 179,
     "metadata": {},
     "output_type": "execute_result"
    }
   ],
   "source": [
    "list1 = [1, 2, 3, 4, 5, 7, 8, 9, 10]\n",
    "\n",
    "def count():\n",
    "    even_num_count = len(list(filter(lambda x: not x % 2, list1)))\n",
    "    odd_num_count = len(list(filter(lambda x: x % 2, list1)))\n",
    "    return (f'even num count: {even_num_count}, odd num count: {odd_num_count}')\n",
    "\n",
    "count()"
   ]
  },
  {
   "cell_type": "code",
   "execution_count": 180,
   "id": "6dacf7f2",
   "metadata": {},
   "outputs": [
    {
     "data": {
      "text/plain": [
       "['banana', 'orange', 'grapes']"
      ]
     },
     "execution_count": 180,
     "metadata": {},
     "output_type": "execute_result"
    }
   ],
   "source": [
    "given_list = ['apple', 'banana', 'orange', 'grapes', 'kiwi', 'melon', 'peach']\n",
    "\n",
    "result = list(filter(lambda x: len(x)==6, given_list))\n",
    "\n",
    "result"
   ]
  },
  {
   "cell_type": "code",
   "execution_count": 182,
   "id": "7d749f3f",
   "metadata": {},
   "outputs": [
    {
     "data": {
      "text/plain": [
       "{'a': 1, 'b': 2, 'c': 3}"
      ]
     },
     "execution_count": 182,
     "metadata": {},
     "output_type": "execute_result"
    }
   ],
   "source": [
    "list1 = ['a', 'b', 'c']\n",
    "list2 = [1, 2, 3]\n",
    "\n",
    "result = dict(zip(list1, list2))\n",
    "result"
   ]
  },
  {
   "cell_type": "code",
   "execution_count": 185,
   "id": "0ba2eb95",
   "metadata": {},
   "outputs": [
    {
     "data": {
      "text/plain": [
       "[(3, 'c'), (1, 'a'), (2, 'b')]"
      ]
     },
     "execution_count": 185,
     "metadata": {},
     "output_type": "execute_result"
    }
   ],
   "source": [
    "list1 = [3, 1, 2]\n",
    "list2 = ['c', 'a', 'b']\n",
    "\n",
    "result = list(zip(list1, list2))\n",
    "result"
   ]
  },
  {
   "cell_type": "code",
   "execution_count": 186,
   "id": "f609f2d1",
   "metadata": {},
   "outputs": [
    {
     "data": {
      "text/plain": [
       "[(1, 'a'), (2, 'b'), (3, 'c')]"
      ]
     },
     "execution_count": 186,
     "metadata": {},
     "output_type": "execute_result"
    }
   ],
   "source": [
    "result = sorted(result)\n",
    "result"
   ]
  },
  {
   "cell_type": "code",
   "execution_count": null,
   "id": "0a32dab1",
   "metadata": {},
   "outputs": [],
   "source": []
  },
  {
   "cell_type": "markdown",
   "id": "fce41a18",
   "metadata": {},
   "source": [
    "### w3resource.  Python Lambda [ 52 Exercises with Solution ]    "
   ]
  },
  {
   "cell_type": "markdown",
   "id": "542513ae",
   "metadata": {},
   "source": [
    "### 1. Write a Python program to create a lambda function that adds 15 to a given number passed in as an argument, also create a lambda function that multiplies argument x with argument y and print the result.\n",
    " \n",
    "\n",
    "### 1. Arqument kimi ötürülən verilmiş ədədə 15 əlavə edən lambda funksiyası yaratmaq üçün Python proqramı yazın, həmçinin x arqumentini y arqumenti ilə çoxaldan lambda funksiyası yaradın və nəticəni çap edin. Redaktora gedin\n"
   ]
  },
  {
   "cell_type": "code",
   "execution_count": 188,
   "id": "5beed0e8",
   "metadata": {},
   "outputs": [
    {
     "name": "stdout",
     "output_type": "stream",
     "text": [
      "25\n",
      "48\n"
     ]
    }
   ],
   "source": [
    "result1 = lambda a : a + 15\n",
    "print(result1(10))\n",
    "\n",
    "reslut2 = lambda x, y : x * y\n",
    "print(reslut2(12, 4))\n"
   ]
  },
  {
   "cell_type": "code",
   "execution_count": 190,
   "id": "283a1115",
   "metadata": {},
   "outputs": [
    {
     "name": "stdout",
     "output_type": "stream",
     "text": [
      "Even number\n"
     ]
    }
   ],
   "source": [
    "\n",
    "print((lambda x: (x % 2 and 'Odd number' or 'Even number'))(6))"
   ]
  },
  {
   "cell_type": "markdown",
   "id": "9c0a7890",
   "metadata": {},
   "source": [
    "### 2.  Write a Python program to filter a list of integers using Lambda. Go to the editor\n",
    "- Original list of integers:\n",
    "- [1, 2, 3, 4, 5, 6, 7, 8, 9, 10]\n",
    "- Even numbers from the said list:\n",
    "- [2, 4, 6, 8, 10]\n",
    "- Odd numbers from the said list:\n",
    "- [1, 3, 5, 7, 9]\n",
    "\n",
    "\n",
    "### 2. Lambda istifadə edərək tam ədədlərin siyahısını filtrləmək üçün Python proqramı yazın. Redaktora gedin\n",
    "- Tam ədədlərin orijinal siyahısı:\n",
    "- [1, 2, 3, 4, 5, 6, 7, 8, 9, 10]\n",
    "- Sözügedən siyahıdan cüt rəqəmlər:\n",
    "- [2, 4, 6, 8, 10]\n",
    "- Göstərilən siyahıdan tək nömrələr:\n",
    "- [1, 3, 5, 7, 9]"
   ]
  },
  {
   "cell_type": "code",
   "execution_count": 191,
   "id": "d05690a0",
   "metadata": {},
   "outputs": [
    {
     "name": "stdout",
     "output_type": "stream",
     "text": [
      "Even numbers from the said list:\n",
      "[2, 4, 6, 8, 10]\n",
      "Odd numbers from the said list:\n",
      "[1, 3, 5, 7, 9]\n"
     ]
    }
   ],
   "source": [
    "org_list = [1, 2, 3, 4, 5, 6, 7, 8, 9, 10]\n",
    "even_num_list = list(filter(lambda x: not x % 2, org_list ))\n",
    "print(f\"Even numbers from the said list:\\n{even_num_list}\")\n",
    "\n",
    "odd_num_list = list(filter(lambda x: x % 2, org_list))\n",
    "print(f\"Odd numbers from the said list:\\n{odd_num_list}\")"
   ]
  },
  {
   "cell_type": "code",
   "execution_count": 194,
   "id": "e57f0fe8",
   "metadata": {},
   "outputs": [
    {
     "data": {
      "text/plain": [
       "'Even number'"
      ]
     },
     "execution_count": 194,
     "metadata": {},
     "output_type": "execute_result"
    }
   ],
   "source": [
    "(lambda x: (x % 2 and 'Odd number' or 'Even number'))(5)\n"
   ]
  },
  {
   "cell_type": "code",
   "execution_count": 195,
   "id": "44de9f46",
   "metadata": {},
   "outputs": [
    {
     "data": {
      "text/plain": [
       "'Even number'"
      ]
     },
     "execution_count": 195,
     "metadata": {},
     "output_type": "execute_result"
    }
   ],
   "source": [
    "(lambda x: (x % 2 and 'Odd number' or 'Even number'))(8)"
   ]
  },
  {
   "cell_type": "code",
   "execution_count": 196,
   "id": "99d00b22",
   "metadata": {},
   "outputs": [
    {
     "name": "stdout",
     "output_type": "stream",
     "text": [
      "Odd number\n",
      "Even number\n"
     ]
    }
   ],
   "source": [
    "print((lambda x: (x % 2 and 'Odd number' or 'Even number'))(5))\n",
    "print((lambda x: (x % 2 and 'Odd number' or 'Even number'))(8))"
   ]
  },
  {
   "cell_type": "markdown",
   "id": "358e4d07",
   "metadata": {},
   "source": [
    "### 3. Lambda-dan istifadə edərək verilmiş sətirin verilmiş simvolla başlayıb-başlamadığını tapmaq üçün Python proqramı yazın. Redaktora gedin"
   ]
  },
  {
   "cell_type": "code",
   "execution_count": 204,
   "id": "c9a0f1c4",
   "metadata": {},
   "outputs": [
    {
     "data": {
      "text/plain": [
       "True"
      ]
     },
     "execution_count": 204,
     "metadata": {},
     "output_type": "execute_result"
    }
   ],
   "source": [
    "character = \"A\"\n",
    "func = (lambda x: x.startswith(character))\n",
    "func(\"Alma\")"
   ]
  },
  {
   "cell_type": "code",
   "execution_count": 205,
   "id": "622435c1",
   "metadata": {},
   "outputs": [
    {
     "data": {
      "text/plain": [
       "True"
      ]
     },
     "execution_count": 205,
     "metadata": {},
     "output_type": "execute_result"
    }
   ],
   "source": [
    "(lambda x: x.startswith(character))(\"Alma\")"
   ]
  },
  {
   "cell_type": "markdown",
   "id": "c1e2d865",
   "metadata": {},
   "source": [
    "### 4. Write a Python program to find the intersection of two given arrays using Lambda. Go to the editor\n",
    "- Original arrays:\n",
    "- [1, 2, 3, 5, 7, 8, 9, 10]\n",
    "- [1, 2, 4, 8, 9]\n",
    "- Intersection of the said arrays: [1, 2, 8, 9]\n",
    "- Click me to see the sample solution\n",
    "\n",
    "\n",
    "\n",
    "### 4. Lambda istifadə edərək verilmiş iki massivin kəsişməsini tapmaq üçün Python proqramı yazın. Redaktora gedin\n",
    "- Orijinal massivlər:\n",
    "- [1, 2, 3, 5, 7, 8, 9, 10]\n",
    "- [1, 2, 4, 8, 9]\n",
    "- Sözügedən massivlərin kəsişməsi: [1, 2, 8, 9]\n",
    "- Nümunə həllini görmək üçün mənə klikləyin"
   ]
  },
  {
   "cell_type": "code",
   "execution_count": 206,
   "id": "9ecd46ac",
   "metadata": {},
   "outputs": [
    {
     "name": "stdout",
     "output_type": "stream",
     "text": [
      "[1, 2, 8, 9]\n"
     ]
    }
   ],
   "source": [
    "list_1 = [1, 2, 3, 5, 7, 8, 9, 10]\n",
    "list_2 = [1, 2, 4, 8, 9]\n",
    "\n",
    "list_intersection = list(filter(lambda x: x in list_2, list_1))\n",
    "print(list_intersection)"
   ]
  },
  {
   "cell_type": "markdown",
   "id": "37ccb539",
   "metadata": {},
   "source": [
    "### 5. filter və map birlikdə (5-dən böyük ədədləri 2-yə vurmaq)"
   ]
  },
  {
   "cell_type": "code",
   "execution_count": 208,
   "id": "7c81c2da",
   "metadata": {},
   "outputs": [
    {
     "data": {
      "text/plain": [
       "[14, 18, 20, 24]"
      ]
     },
     "execution_count": 208,
     "metadata": {},
     "output_type": "execute_result"
    }
   ],
   "source": [
    "numbers = [1, 3, 5, 7, 9, 10, 12]\n",
    "\n",
    "filtered_and_doubled = list(map(lambda x: x * 2, filter(lambda x: x > 5, numbers)))\n",
    "filtered_and_doubled"
   ]
  },
  {
   "cell_type": "markdown",
   "id": "195c9c28",
   "metadata": {},
   "source": [
    "### 6. zip və enumerate birlikdə (Ad və yaş cütlərini nömrələmək) - ya for ilə çapa ver ya da dict-ə yaz  "
   ]
  },
  {
   "cell_type": "code",
   "execution_count": 228,
   "id": "f34d8de8",
   "metadata": {},
   "outputs": [
    {
     "name": "stdout",
     "output_type": "stream",
     "text": [
      "1. Aysel - 25 yaş\n",
      "2. Rüstəm - 30 yaş\n",
      "3. Cavad - 22 yaş\n"
     ]
    }
   ],
   "source": [
    "names = [\"Aysel\", \"Rüstəm\", \"Cavad\"]\n",
    "ages = [25, 30, 22]\n",
    "\n",
    "for i, (name, age) in enumerate(zip(names, ages), 1):\n",
    "    print(f\"{i}. {name} - {age} yaş\")"
   ]
  },
  {
   "cell_type": "code",
   "execution_count": 243,
   "id": "398896de",
   "metadata": {},
   "outputs": [
    {
     "data": {
      "text/plain": [
       "{0: ('Aysel', 25), 1: ('Rüstəm', 30), 2: ('Cavad', 22)}"
      ]
     },
     "execution_count": 243,
     "metadata": {},
     "output_type": "execute_result"
    }
   ],
   "source": [
    "dict(enumerate(zip(names, ages)))"
   ]
  },
  {
   "cell_type": "markdown",
   "id": "82b06f31",
   "metadata": {},
   "source": [
    "### 7. map + zip: İki listdəki uyğun elementləri toplamaq"
   ]
  },
  {
   "cell_type": "code",
   "execution_count": 244,
   "id": "3980f8f0",
   "metadata": {},
   "outputs": [
    {
     "data": {
      "text/plain": [
       "[5, 7, 9]"
      ]
     },
     "execution_count": 244,
     "metadata": {},
     "output_type": "execute_result"
    }
   ],
   "source": [
    "list1 = [1, 2, 3]\n",
    "list2 = [4, 5, 6]\n",
    "\n",
    "\n",
    "list(map(lambda x: x[0] + x[1], zip(list1, list2)))"
   ]
  },
  {
   "cell_type": "code",
   "execution_count": 249,
   "id": "d7e9325f",
   "metadata": {},
   "outputs": [
    {
     "data": {
      "text/plain": [
       "[5, 7, 9]"
      ]
     },
     "execution_count": 249,
     "metadata": {},
     "output_type": "execute_result"
    }
   ],
   "source": [
    "list(map(lambda x, y: x + y, list1, list2))"
   ]
  },
  {
   "cell_type": "markdown",
   "id": "25cc1688",
   "metadata": {},
   "source": [
    "### 8. zip ilə Çoxsaylı Listlərin Transponasiyası"
   ]
  },
  {
   "cell_type": "code",
   "execution_count": 250,
   "id": "d039b525",
   "metadata": {},
   "outputs": [
    {
     "data": {
      "text/plain": [
       "[(1, 4, 7, 10), (2, 5, 8, 11), (3, 6, 9, 12)]"
      ]
     },
     "execution_count": 250,
     "metadata": {},
     "output_type": "execute_result"
    }
   ],
   "source": [
    "matrix = [\n",
    "    [1, 2, 3],\n",
    "    [4, 5, 6],\n",
    "    [7, 8, 9],\n",
    "    [10, 11, 12]\n",
    "]\n",
    "\n",
    "\n",
    "transposed = list(zip(*matrix))\n",
    "transposed"
   ]
  },
  {
   "cell_type": "code",
   "execution_count": 251,
   "id": "bfda168a",
   "metadata": {},
   "outputs": [
    {
     "name": "stdout",
     "output_type": "stream",
     "text": [
      "[1, 2, 3] [4, 5, 6] [7, 8, 9] [10, 11, 12]\n"
     ]
    }
   ],
   "source": [
    "print(*matrix)"
   ]
  },
  {
   "cell_type": "code",
   "execution_count": null,
   "id": "d89a3365",
   "metadata": {},
   "outputs": [],
   "source": []
  }
 ],
 "metadata": {
  "kernelspec": {
   "display_name": "Python 3 (ipykernel)",
   "language": "python",
   "name": "python3"
  },
  "language_info": {
   "codemirror_mode": {
    "name": "ipython",
    "version": 3
   },
   "file_extension": ".py",
   "mimetype": "text/x-python",
   "name": "python",
   "nbconvert_exporter": "python",
   "pygments_lexer": "ipython3",
   "version": "3.11.5"
  }
 },
 "nbformat": 4,
 "nbformat_minor": 5
}
