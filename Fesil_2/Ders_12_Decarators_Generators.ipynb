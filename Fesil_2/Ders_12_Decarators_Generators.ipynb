{
 "cells": [
  {
   "cell_type": "markdown",
   "id": "e078195b",
   "metadata": {},
   "source": [
    "## Decarators"
   ]
  },
  {
   "cell_type": "code",
   "execution_count": 21,
   "id": "d80b1dac",
   "metadata": {},
   "outputs": [
    {
     "name": "stdout",
     "output_type": "stream",
     "text": [
      "Salam!\n"
     ]
    }
   ],
   "source": [
    "\n",
    "def boş_dekorator(func):\n",
    "    return func\n",
    "\n",
    "@boş_dekorator\n",
    "def salam():\n",
    "    print(\"Salam!\")\n",
    "\n",
    "salam()  # Eyni nəticə, heç nə dəyişmir\n"
   ]
  },
  {
   "cell_type": "code",
   "execution_count": null,
   "id": "8164a0ee",
   "metadata": {},
   "outputs": [],
   "source": []
  },
  {
   "cell_type": "code",
   "execution_count": 22,
   "id": "7079717e",
   "metadata": {},
   "outputs": [
    {
     "name": "stdout",
     "output_type": "stream",
     "text": [
      "Əvvəl\n",
      "Salam!\n",
      "Sonra\n",
      "Kəlam\n"
     ]
    }
   ],
   "source": [
    "def deyis(func):\n",
    "    def wrapper():\n",
    "        print(\"Əvvəl\")\n",
    "        func()\n",
    "        print(\"Sonra\")\n",
    "        print(\"Kəlam\")\n",
    "    return wrapper\n",
    "\n",
    "@deyis\n",
    "def salam():\n",
    "    print(\"Salam!\")\n",
    "    \n",
    "salam()    "
   ]
  },
  {
   "cell_type": "code",
   "execution_count": null,
   "id": "3de1368d",
   "metadata": {},
   "outputs": [],
   "source": []
  },
  {
   "cell_type": "code",
   "execution_count": 23,
   "id": "c2b8461e",
   "metadata": {},
   "outputs": [
    {
     "name": "stdout",
     "output_type": "stream",
     "text": [
      "Azərbaycan\n",
      "Salam!\n"
     ]
    }
   ],
   "source": [
    "def boş_dekorator(func):\n",
    "    print(\"Azərbaycan\")\n",
    "    return func\n",
    "\n",
    "@boş_dekorator\n",
    "def salam():\n",
    "    print(\"Salam!\")\n",
    "\n",
    "salam()  # Eyni nəticə, heç nə dəyişmir"
   ]
  },
  {
   "cell_type": "code",
   "execution_count": null,
   "id": "f96df131",
   "metadata": {},
   "outputs": [],
   "source": []
  },
  {
   "cell_type": "markdown",
   "id": "c7be5118",
   "metadata": {},
   "source": [
    "## Generators"
   ]
  },
  {
   "cell_type": "code",
   "execution_count": 43,
   "id": "51974094",
   "metadata": {},
   "outputs": [
    {
     "name": "stdout",
     "output_type": "stream",
     "text": [
      "1\n",
      "2\n",
      "3\n"
     ]
    }
   ],
   "source": [
    "def my_generator():\n",
    "    yield 1\n",
    "    yield 2\n",
    "    yield 3\n",
    "\n",
    "for i in my_generator():\n",
    "    print(i)    "
   ]
  },
  {
   "cell_type": "code",
   "execution_count": null,
   "id": "aa177890",
   "metadata": {},
   "outputs": [],
   "source": []
  },
  {
   "cell_type": "code",
   "execution_count": 44,
   "id": "67df1b2f",
   "metadata": {
    "scrolled": true
   },
   "outputs": [
    {
     "name": "stdout",
     "output_type": "stream",
     "text": [
      "0\n",
      "1\n",
      "2\n",
      "3\n",
      "4\n"
     ]
    }
   ],
   "source": [
    "def my_generator():\n",
    "    for i in range(5):\n",
    "        yield i\n",
    "        \n",
    "x = my_generator()\n",
    "\n",
    "print(next(x))\n",
    "print(next(x))\n",
    "print(next(x))\n",
    "print(next(x))\n",
    "print(next(x))        "
   ]
  },
  {
   "cell_type": "code",
   "execution_count": null,
   "id": "b2a0ca5f",
   "metadata": {},
   "outputs": [],
   "source": []
  },
  {
   "cell_type": "code",
   "execution_count": 45,
   "id": "23a62848",
   "metadata": {},
   "outputs": [
    {
     "name": "stdout",
     "output_type": "stream",
     "text": [
      "0\n",
      "1\n",
      "2\n",
      "3\n",
      "4\n"
     ]
    }
   ],
   "source": [
    "def my_generator():\n",
    "    for i in range(5):\n",
    "        yield i\n",
    "\n",
    "x = my_generator()\n",
    "\n",
    "for i in range(5):\n",
    "    print(next(x))"
   ]
  },
  {
   "cell_type": "code",
   "execution_count": null,
   "id": "fa7120c8",
   "metadata": {},
   "outputs": [],
   "source": []
  }
 ],
 "metadata": {
  "kernelspec": {
   "display_name": "Python 3 (ipykernel)",
   "language": "python",
   "name": "python3"
  },
  "language_info": {
   "codemirror_mode": {
    "name": "ipython",
    "version": 3
   },
   "file_extension": ".py",
   "mimetype": "text/x-python",
   "name": "python",
   "nbconvert_exporter": "python",
   "pygments_lexer": "ipython3",
   "version": "3.11.5"
  }
 },
 "nbformat": 4,
 "nbformat_minor": 5
}
