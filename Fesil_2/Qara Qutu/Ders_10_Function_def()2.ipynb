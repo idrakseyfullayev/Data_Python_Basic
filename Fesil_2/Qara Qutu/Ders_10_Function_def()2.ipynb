{
 "cells": [
  {
   "cell_type": "markdown",
   "id": "fc7e4606",
   "metadata": {},
   "source": [
    "##     Functions"
   ]
  },
  {
   "cell_type": "code",
   "execution_count": 9,
   "id": "bc985d88",
   "metadata": {},
   "outputs": [],
   "source": [
    "def topla(a, b):\n",
    "    c = a + b\n",
    "    return c"
   ]
  },
  {
   "cell_type": "code",
   "execution_count": 10,
   "id": "c4938929",
   "metadata": {},
   "outputs": [
    {
     "name": "stdout",
     "output_type": "stream",
     "text": [
      "15\n"
     ]
    }
   ],
   "source": [
    "a = 5\n",
    "b = 10\n",
    "\n",
    "print(topla(a, b))"
   ]
  },
  {
   "cell_type": "code",
   "execution_count": 11,
   "id": "a2b3cb68",
   "metadata": {},
   "outputs": [
    {
     "data": {
      "text/plain": [
       "15"
      ]
     },
     "execution_count": 11,
     "metadata": {},
     "output_type": "execute_result"
    }
   ],
   "source": [
    "number1 = 5\n",
    "number2 = 10\n",
    "\n",
    "topla(number1, number2)"
   ]
  },
  {
   "cell_type": "code",
   "execution_count": 12,
   "id": "9fec4fb5",
   "metadata": {},
   "outputs": [
    {
     "name": "stdout",
     "output_type": "stream",
     "text": [
      "16\n"
     ]
    }
   ],
   "source": [
    "a = 5\n",
    "b = 10\n",
    "\n",
    "def topla(a,b):\n",
    "    a += 1\n",
    "    c = a + b\n",
    "    print(c)\n",
    "\n",
    "x = topla(a, b)    \n",
    "\n",
    "x"
   ]
  },
  {
   "cell_type": "code",
   "execution_count": 13,
   "id": "17cde015",
   "metadata": {},
   "outputs": [
    {
     "name": "stdout",
     "output_type": "stream",
     "text": [
      "16\n",
      "None\n"
     ]
    }
   ],
   "source": [
    "a = 5\n",
    "b = 10\n",
    "\n",
    "def topla(a,b):\n",
    "    a += 1\n",
    "    c = a + b\n",
    "    print(c)\n",
    "\n",
    "x = topla(a, b)    \n",
    "\n",
    "print(x)"
   ]
  },
  {
   "cell_type": "code",
   "execution_count": 20,
   "id": "e06b6374",
   "metadata": {},
   "outputs": [
    {
     "name": "stdout",
     "output_type": "stream",
     "text": [
      "(6, 10, 16)\n"
     ]
    }
   ],
   "source": [
    "def topla(a,b):\n",
    "    a += 1\n",
    "    c = a + b\n",
    "    return a, b, c\n",
    "\n",
    "a = 5\n",
    "b = 10\n",
    "\n",
    "x = topla(a, b)\n",
    "print(x)"
   ]
  },
  {
   "cell_type": "code",
   "execution_count": 21,
   "id": "dcb156ce",
   "metadata": {},
   "outputs": [
    {
     "name": "stdout",
     "output_type": "stream",
     "text": [
      "6, 10, 16\n"
     ]
    }
   ],
   "source": [
    "def topla(a,b):\n",
    "    a += 1\n",
    "    c = a + b\n",
    "    return f\"{a}, {b}, {c}\"\n",
    "\n",
    "a = 5\n",
    "b = 10\n",
    "\n",
    "x = topla(a, b)\n",
    "print(x)"
   ]
  },
  {
   "cell_type": "code",
   "execution_count": 25,
   "id": "ab4f36bf",
   "metadata": {},
   "outputs": [
    {
     "name": "stdout",
     "output_type": "stream",
     "text": [
      "4\n",
      "16\n",
      "216\n",
      "343\n"
     ]
    }
   ],
   "source": [
    "def func(a, b, c, d):\n",
    "    list1 = [a, b, c, d]\n",
    "    for i in list1:\n",
    "        if i < 5:\n",
    "            print(i**2)\n",
    "        else:\n",
    "            print(i**3)\n",
    "\n",
    "number1 = 2\n",
    "number2 = 4\n",
    "number3 = 6\n",
    "number4 = 7\n",
    "\n",
    "func(number1, number2, number3, number4)"
   ]
  },
  {
   "cell_type": "code",
   "execution_count": 26,
   "id": "d287c71d",
   "metadata": {},
   "outputs": [
    {
     "name": "stdout",
     "output_type": "stream",
     "text": [
      "1\n",
      "4\n",
      "9\n",
      "216\n"
     ]
    }
   ],
   "source": [
    "number1 = 1\n",
    "number2 = 2\n",
    "number3 = 3\n",
    "number4 = 6\n",
    "\n",
    "func(number1, number2, number3, number4)"
   ]
  },
  {
   "cell_type": "code",
   "execution_count": 27,
   "id": "237db2eb",
   "metadata": {},
   "outputs": [],
   "source": [
    "def reverse_(a):\n",
    "    return a[::-1]"
   ]
  },
  {
   "cell_type": "code",
   "execution_count": 31,
   "id": "9488b485",
   "metadata": {},
   "outputs": [
    {
     "data": {
      "text/plain": [
       "'ukaB'"
      ]
     },
     "execution_count": 31,
     "metadata": {},
     "output_type": "execute_result"
    }
   ],
   "source": [
    "text = 'Baku'\n",
    "\n",
    "reverse_(text)"
   ]
  },
  {
   "cell_type": "code",
   "execution_count": 32,
   "id": "c82ca006",
   "metadata": {},
   "outputs": [
    {
     "data": {
      "text/plain": [
       "'acnaG'"
      ]
     },
     "execution_count": 32,
     "metadata": {},
     "output_type": "execute_result"
    }
   ],
   "source": [
    "text = 'Ganca'\n",
    "\n",
    "reverse_(text)"
   ]
  },
  {
   "cell_type": "code",
   "execution_count": 39,
   "id": "02a99db2",
   "metadata": {},
   "outputs": [],
   "source": [
    "def bolunen_2_e(x, y):\n",
    "    for i in range(x, y+1):\n",
    "        if not i % 2:\n",
    "            print(i, end=\", \")"
   ]
  },
  {
   "cell_type": "code",
   "execution_count": 40,
   "id": "3fc1380c",
   "metadata": {},
   "outputs": [
    {
     "name": "stdout",
     "output_type": "stream",
     "text": [
      "2, 4, 6, 8, 10, 12, 14, 16, 18, 20, "
     ]
    }
   ],
   "source": [
    "first = 1\n",
    "last = 20\n",
    "\n",
    "bolunen_2_e(first, last)"
   ]
  },
  {
   "cell_type": "code",
   "execution_count": 46,
   "id": "90bece22",
   "metadata": {},
   "outputs": [
    {
     "data": {
      "text/plain": [
       "2"
      ]
     },
     "execution_count": 46,
     "metadata": {},
     "output_type": "execute_result"
    }
   ],
   "source": [
    "def bolunen_2_e(x, y):\n",
    "    for i in range(x, y+1):\n",
    "        if not i % 2:\n",
    "            return i\n",
    "        \n",
    "first = 1\n",
    "last = 20\n",
    "\n",
    "bolunen_2_e(first, last)        "
   ]
  },
  {
   "cell_type": "code",
   "execution_count": 51,
   "id": "d18ff93e",
   "metadata": {},
   "outputs": [
    {
     "name": "stdout",
     "output_type": "stream",
     "text": [
      "0, 1, 2, 3, 4, 5, 6, 7, 8, 9, "
     ]
    }
   ],
   "source": [
    "def func(a):\n",
    "    for i in range(a):\n",
    "        print(i, end=\", \")\n",
    "\n",
    "func(10)        "
   ]
  },
  {
   "cell_type": "code",
   "execution_count": 52,
   "id": "dae843fd",
   "metadata": {},
   "outputs": [
    {
     "data": {
      "text/plain": [
       "0"
      ]
     },
     "execution_count": 52,
     "metadata": {},
     "output_type": "execute_result"
    }
   ],
   "source": [
    "def func(a):\n",
    "    for i in range(a):\n",
    "        return i\n",
    "    \n",
    "func(10)    "
   ]
  },
  {
   "cell_type": "code",
   "execution_count": 54,
   "id": "60618c54",
   "metadata": {},
   "outputs": [
    {
     "data": {
      "text/plain": [
       "[0, 1, 2, 3, 4, 5, 6, 7, 8, 9]"
      ]
     },
     "execution_count": 54,
     "metadata": {},
     "output_type": "execute_result"
    }
   ],
   "source": [
    "def func(a):\n",
    "    list1 = []\n",
    "    \n",
    "    for i in range(a):\n",
    "        list1.append(i)\n",
    "        \n",
    "    return list1    \n",
    "    \n",
    "func(10)"
   ]
  },
  {
   "cell_type": "code",
   "execution_count": 60,
   "id": "182f9ec2",
   "metadata": {},
   "outputs": [
    {
     "data": {
      "text/plain": [
       "[0, 1, 2, 3, 4, 5, 6, 7, 8, 9]"
      ]
     },
     "execution_count": 60,
     "metadata": {},
     "output_type": "execute_result"
    }
   ],
   "source": [
    "list1 = []\n",
    "\n",
    "def func(a):\n",
    "    \n",
    "    for i in range(a):\n",
    "        list1.append(i)\n",
    "        \n",
    "    return list1\n",
    "    \n",
    "func(10)"
   ]
  },
  {
   "cell_type": "code",
   "execution_count": 61,
   "id": "f5f8fd34",
   "metadata": {},
   "outputs": [
    {
     "data": {
      "text/plain": [
       "[0, 1, 2, 3, 4, 5, 6, 7, 8, 9]"
      ]
     },
     "execution_count": 61,
     "metadata": {},
     "output_type": "execute_result"
    }
   ],
   "source": [
    "def func(a):\n",
    "    \n",
    "    for i in range(a):\n",
    "        list1.append(i)\n",
    "        \n",
    "    return list1\n",
    "\n",
    "list1 = []\n",
    "    \n",
    "func(10)"
   ]
  },
  {
   "cell_type": "code",
   "execution_count": 64,
   "id": "e143cdcc",
   "metadata": {},
   "outputs": [
    {
     "data": {
      "text/plain": [
       "'Baku'"
      ]
     },
     "execution_count": 64,
     "metadata": {},
     "output_type": "execute_result"
    }
   ],
   "source": [
    "def func(x):\n",
    "    \n",
    "    text = \"\"\n",
    "    \n",
    "    for i in x:\n",
    "        text += i\n",
    "        \n",
    "    return text\n",
    "\n",
    "\n",
    "list1 = [\"B\", \"a\", \"k\", \"u\"]\n",
    "\n",
    "func(list1)"
   ]
  },
  {
   "cell_type": "code",
   "execution_count": null,
   "id": "4fdb9405",
   "metadata": {},
   "outputs": [],
   "source": [
    "    "
   ]
  },
  {
   "cell_type": "markdown",
   "id": "aad6e448",
   "metadata": {},
   "source": [
    "### Positional (required→ optional) → Non-positional(args → kwargs) sırası ilə yazılmalıdır.**"
   ]
  },
  {
   "cell_type": "markdown",
   "id": "cca39387",
   "metadata": {},
   "source": [
    "### 1. Positional (mövqeli) parametrlər"
   ]
  },
  {
   "cell_type": "markdown",
   "id": "910c6572",
   "metadata": {},
   "source": [
    "#### required → (mütləq ötürülməlidir)"
   ]
  },
  {
   "cell_type": "code",
   "execution_count": 70,
   "id": "b4cbd0be",
   "metadata": {},
   "outputs": [
    {
     "data": {
      "text/plain": [
       "7"
      ]
     },
     "execution_count": 70,
     "metadata": {},
     "output_type": "execute_result"
    }
   ],
   "source": [
    "def topla(a, b):\n",
    "    return a + b\n",
    "\n",
    "topla(3, 4)"
   ]
  },
  {
   "cell_type": "markdown",
   "id": "beb4e1f2",
   "metadata": {},
   "source": [
    "#### optional → (default dəyər var, ötürülməsə də olar)"
   ]
  },
  {
   "cell_type": "code",
   "execution_count": 71,
   "id": "7262e0aa",
   "metadata": {},
   "outputs": [
    {
     "name": "stdout",
     "output_type": "stream",
     "text": [
      "5\n"
     ]
    }
   ],
   "source": [
    "def topla(a, b=0):\n",
    "    return a + b\n",
    "\n",
    "print(topla(5))"
   ]
  },
  {
   "cell_type": "code",
   "execution_count": 72,
   "id": "04f8582c",
   "metadata": {},
   "outputs": [
    {
     "data": {
      "text/plain": [
       "7"
      ]
     },
     "execution_count": 72,
     "metadata": {},
     "output_type": "execute_result"
    }
   ],
   "source": [
    "def topla(a, b=0):\n",
    "    return a + b\n",
    "\n",
    "topla(5, 2)"
   ]
  },
  {
   "cell_type": "code",
   "execution_count": null,
   "id": "78d18da1",
   "metadata": {},
   "outputs": [],
   "source": []
  },
  {
   "cell_type": "markdown",
   "id": "4a2bcf5d",
   "metadata": {},
   "source": [
    "### 2. Non-positional (mövqesiz) parametrlər"
   ]
  },
  {
   "cell_type": "markdown",
   "id": "4df47db1",
   "metadata": {},
   "source": [
    "#### args → (sonsuz sayda mövqeli parametr qəbul edir)"
   ]
  },
  {
   "cell_type": "code",
   "execution_count": 78,
   "id": "86eea85e",
   "metadata": {},
   "outputs": [
    {
     "data": {
      "text/plain": [
       "10"
      ]
     },
     "execution_count": 78,
     "metadata": {},
     "output_type": "execute_result"
    }
   ],
   "source": [
    "def topla(*args):\n",
    "    return sum(args)\n",
    "\n",
    "topla(1, 2, 3, 4)"
   ]
  },
  {
   "cell_type": "code",
   "execution_count": 86,
   "id": "85c05259",
   "metadata": {},
   "outputs": [
    {
     "name": "stdout",
     "output_type": "stream",
     "text": [
      "1, 2, 3, 4, "
     ]
    }
   ],
   "source": [
    "def topla(*args):\n",
    "    for i in args:\n",
    "        print(i, end=\", \")\n",
    "\n",
    "topla(1, 2, 3, 4)"
   ]
  },
  {
   "cell_type": "code",
   "execution_count": 87,
   "id": "f033df1a",
   "metadata": {},
   "outputs": [
    {
     "data": {
      "text/plain": [
       "(1, 2, 3, 4)"
      ]
     },
     "execution_count": 87,
     "metadata": {},
     "output_type": "execute_result"
    }
   ],
   "source": [
    "def topla(*args):\n",
    "    return(args)\n",
    "\n",
    "topla(1, 2, 3, 4)"
   ]
  },
  {
   "cell_type": "code",
   "execution_count": 88,
   "id": "f4b2e5c0",
   "metadata": {},
   "outputs": [
    {
     "ename": "TypeError",
     "evalue": "unsupported operand type(s) for +: 'int' and 'list'",
     "output_type": "error",
     "traceback": [
      "\u001b[1;31m---------------------------------------------------------------------------\u001b[0m",
      "\u001b[1;31mTypeError\u001b[0m                                 Traceback (most recent call last)",
      "Cell \u001b[1;32mIn[88], line 4\u001b[0m\n\u001b[0;32m      1\u001b[0m \u001b[38;5;28;01mdef\u001b[39;00m \u001b[38;5;21mtopla\u001b[39m(\u001b[38;5;241m*\u001b[39margs):\n\u001b[0;32m      2\u001b[0m     \u001b[38;5;28;01mreturn\u001b[39;00m \u001b[38;5;28msum\u001b[39m(args)\n\u001b[1;32m----> 4\u001b[0m topla([\u001b[38;5;241m1\u001b[39m, \u001b[38;5;241m2\u001b[39m, \u001b[38;5;241m3\u001b[39m, \u001b[38;5;241m4\u001b[39m])\n",
      "Cell \u001b[1;32mIn[88], line 2\u001b[0m, in \u001b[0;36mtopla\u001b[1;34m(*args)\u001b[0m\n\u001b[0;32m      1\u001b[0m \u001b[38;5;28;01mdef\u001b[39;00m \u001b[38;5;21mtopla\u001b[39m(\u001b[38;5;241m*\u001b[39margs):\n\u001b[1;32m----> 2\u001b[0m     \u001b[38;5;28;01mreturn\u001b[39;00m \u001b[38;5;28msum\u001b[39m(args)\n",
      "\u001b[1;31mTypeError\u001b[0m: unsupported operand type(s) for +: 'int' and 'list'"
     ]
    }
   ],
   "source": [
    "def topla(*args):\n",
    "    return sum(args)\n",
    "\n",
    "topla([1, 2, 3, 4])"
   ]
  },
  {
   "cell_type": "code",
   "execution_count": 89,
   "id": "f8536077",
   "metadata": {},
   "outputs": [
    {
     "data": {
      "text/plain": [
       "10"
      ]
     },
     "execution_count": 89,
     "metadata": {},
     "output_type": "execute_result"
    }
   ],
   "source": [
    "def topla(*args):\n",
    "    return sum(args)\n",
    "\n",
    "topla(*[1, 2, 3, 4])"
   ]
  },
  {
   "cell_type": "code",
   "execution_count": 90,
   "id": "1834473b",
   "metadata": {},
   "outputs": [
    {
     "name": "stdout",
     "output_type": "stream",
     "text": [
      "1 2 3 4 5\n"
     ]
    }
   ],
   "source": [
    "print(*[1,2,3,4,5])"
   ]
  },
  {
   "cell_type": "markdown",
   "id": "1f7c9841",
   "metadata": {},
   "source": [
    "#### kwargs → (sonsuz sayda açar=qiymət cütü qəbul edir)"
   ]
  },
  {
   "cell_type": "code",
   "execution_count": 92,
   "id": "afa7a372",
   "metadata": {},
   "outputs": [
    {
     "name": "stdout",
     "output_type": "stream",
     "text": [
      "ad : Ali\n",
      "yas : 25\n"
     ]
    }
   ],
   "source": [
    "def goster(**kwargs):\n",
    "    for k, v in kwargs.items():\n",
    "        print(k, \":\", v)\n",
    "\n",
    "goster(ad=\"Ali\", yas=25)  "
   ]
  },
  {
   "cell_type": "markdown",
   "id": "60815eee",
   "metadata": {},
   "source": [
    "### 4 növ bir nümunədə"
   ]
  },
  {
   "cell_type": "code",
   "execution_count": 93,
   "id": "19ade1f8",
   "metadata": {},
   "outputs": [
    {
     "name": "stdout",
     "output_type": "stream",
     "text": [
      "a: 10\n",
      "b: 20\n",
      "args: (30, 40)\n",
      "kwargs: {'ad': 'Aysel', 'yas': 22}\n"
     ]
    }
   ],
   "source": [
    "def func(a, b=0, *args, **kwargs):\n",
    "    print(\"a:\", a)                 # required\n",
    "    print(\"b:\", b)                 # optional\n",
    "    print(\"args:\", args)          # *args\n",
    "    print(\"kwargs:\", kwargs)      # **kwargs\n",
    "\n",
    "\n",
    "func(10, 20, 30, 40, ad=\"Aysel\", yas=22)"
   ]
  },
  {
   "cell_type": "markdown",
   "id": "6577e03c",
   "metadata": {},
   "source": []
  },
  {
   "cell_type": "markdown",
   "id": "cd556d7d",
   "metadata": {},
   "source": [
    "## * və ** nədir?"
   ]
  },
  {
   "cell_type": "markdown",
   "id": "6e2ff45a",
   "metadata": {},
   "source": [
    "### 🔹 `*` → Tuple (mövqeli arqumentləri **toplayır** və ya **açır**)"
   ]
  },
  {
   "cell_type": "markdown",
   "id": "b5c344a2",
   "metadata": {},
   "source": [
    "### 1. \\*Pack → arqumentləri **tuple** kimi toplamaq:"
   ]
  },
  {
   "cell_type": "code",
   "execution_count": 103,
   "id": "98459cf0",
   "metadata": {},
   "outputs": [
    {
     "name": "stdout",
     "output_type": "stream",
     "text": [
      "(1, 2, 3)\n"
     ]
    }
   ],
   "source": [
    "def topla(*args):\n",
    "    print(args)\n",
    "\n",
    "topla(1, 2, 3)"
   ]
  },
  {
   "cell_type": "markdown",
   "id": "f27493e6",
   "metadata": {},
   "source": [
    "### 2. \\*Unpack → mövcud list/tuple-u **ayrılıqda göndərmək**:"
   ]
  },
  {
   "cell_type": "code",
   "execution_count": 105,
   "id": "bef04b02",
   "metadata": {},
   "outputs": [
    {
     "name": "stdout",
     "output_type": "stream",
     "text": [
      "(1, 2, 3)\n"
     ]
    }
   ],
   "source": [
    "def topla(*args):\n",
    "    print(args)\n",
    "\n",
    "ededler = [1, 2, 3]\n",
    "topla(*ededler)\n"
   ]
  },
  {
   "cell_type": "code",
   "execution_count": 108,
   "id": "94305ad9",
   "metadata": {},
   "outputs": [
    {
     "name": "stdout",
     "output_type": "stream",
     "text": [
      "1 2 3, "
     ]
    }
   ],
   "source": [
    "ededler = [1, 2, 3]\n",
    "\n",
    "print(*ededler, end=\", \")"
   ]
  },
  {
   "cell_type": "markdown",
   "id": "17197e34",
   "metadata": {},
   "source": [
    "### 🔹 `**` → Dict (açar=qiymət cütlərini **toplayır** və ya **açır**)"
   ]
  },
  {
   "cell_type": "markdown",
   "id": "6fed99cd",
   "metadata": {},
   "source": [
    "### 1. \\*\\*Pack → açar=qiymət cütlərini **dict** kimi toplamaq:"
   ]
  },
  {
   "cell_type": "code",
   "execution_count": 109,
   "id": "4719cd69",
   "metadata": {},
   "outputs": [
    {
     "name": "stdout",
     "output_type": "stream",
     "text": [
      "{'ad': 'Ayan', 'yas': 23}\n"
     ]
    }
   ],
   "source": [
    "def info(**kwargs):\n",
    "    print(kwargs)\n",
    "\n",
    "info(ad=\"Ayan\", yas=23)"
   ]
  },
  {
   "cell_type": "markdown",
   "id": "b8bf3373",
   "metadata": {},
   "source": [
    "### 2. \\*\\*Unpack → mövcud dictionary-ni **açar=qiymət** kimi ötürmək:"
   ]
  },
  {
   "cell_type": "code",
   "execution_count": 113,
   "id": "b9ece582",
   "metadata": {},
   "outputs": [
    {
     "name": "stdout",
     "output_type": "stream",
     "text": [
      "{'ad': 'Ayan', 'yas': 23}\n"
     ]
    }
   ],
   "source": [
    "def info(**kwargs):\n",
    "    print(kwargs)\n",
    "\n",
    "melumat = {\"ad\": \"Ayan\", \"yas\": 23}\n",
    "info(**melumat)"
   ]
  },
  {
   "cell_type": "code",
   "execution_count": 119,
   "id": "bdda6c23",
   "metadata": {},
   "outputs": [
    {
     "ename": "TypeError",
     "evalue": "'ad' is an invalid keyword argument for print()",
     "output_type": "error",
     "traceback": [
      "\u001b[1;31m---------------------------------------------------------------------------\u001b[0m",
      "\u001b[1;31mTypeError\u001b[0m                                 Traceback (most recent call last)",
      "Cell \u001b[1;32mIn[119], line 3\u001b[0m\n\u001b[0;32m      1\u001b[0m melumat \u001b[38;5;241m=\u001b[39m {\u001b[38;5;124m\"\u001b[39m\u001b[38;5;124mad\u001b[39m\u001b[38;5;124m\"\u001b[39m: \u001b[38;5;124m\"\u001b[39m\u001b[38;5;124mAyan\u001b[39m\u001b[38;5;124m\"\u001b[39m, \u001b[38;5;124m\"\u001b[39m\u001b[38;5;124myas\u001b[39m\u001b[38;5;124m\"\u001b[39m: \u001b[38;5;241m23\u001b[39m}\n\u001b[1;32m----> 3\u001b[0m \u001b[38;5;28mprint\u001b[39m(\u001b[38;5;241m*\u001b[39m\u001b[38;5;241m*\u001b[39mmelumat)\n",
      "\u001b[1;31mTypeError\u001b[0m: 'ad' is an invalid keyword argument for print()"
     ]
    }
   ],
   "source": [
    "melumat = {\"ad\": \"Ayan\", \"yas\": 23}\n",
    "\n",
    "print(**melumat)  #  səhv yoldurç, heç vaxt işləməz"
   ]
  },
  {
   "cell_type": "code",
   "execution_count": null,
   "id": "50bc0d4e",
   "metadata": {},
   "outputs": [],
   "source": []
  },
  {
   "cell_type": "markdown",
   "id": "0280785f",
   "metadata": {},
   "source": [
    "### Əlavələr nümnələr"
   ]
  },
  {
   "cell_type": "code",
   "execution_count": 121,
   "id": "3709d8ad",
   "metadata": {},
   "outputs": [
    {
     "name": "stdout",
     "output_type": "stream",
     "text": [
      "(-0.2041684766872809, -9.79583152331272)\n"
     ]
    }
   ],
   "source": [
    "def kvadrat_tenlik(a, b, c):\n",
    "    D = b**2 - 4*a*c\n",
    "\n",
    "    if D > 0:\n",
    "        x1 = (-b + D**0.5) / (2*a)\n",
    "        x2 = (-b - D**0.5) / (2*a)\n",
    "        return x1, x2\n",
    "    elif D ==0:\n",
    "        x = (-b) / (2*a) \n",
    "        return x  \n",
    "    else:\n",
    "        return \"Helli yocdur\"\n",
    "\n",
    "a = 1\n",
    "b = 10\n",
    "c = 2    \n",
    "print(kvadrat_tenlik(a, b, c))"
   ]
  },
  {
   "cell_type": "code",
   "execution_count": 125,
   "id": "6a96f42f",
   "metadata": {},
   "outputs": [
    {
     "data": {
      "text/plain": [
       "(-0.9009804864072155, -11.099019513592784)"
      ]
     },
     "execution_count": 125,
     "metadata": {},
     "output_type": "execute_result"
    }
   ],
   "source": [
    "def kvadrat_tenlik(c, a=1, b=12):\n",
    "    D = b**2 - 4*a*c\n",
    "\n",
    "    if D > 0:\n",
    "        x1 = (-b + D**0.5) / (2*a)\n",
    "        x2 = (-b - D**0.5) / (2*a)\n",
    "        return x1, x2\n",
    "    elif D ==0:\n",
    "        x = (-b) / (2*a) \n",
    "        return x  \n",
    "    else:\n",
    "        return \"Helli yoxdur\"\n",
    "\n",
    "c = 10    \n",
    "kvadrat_tenlik(c)"
   ]
  },
  {
   "cell_type": "code",
   "execution_count": 127,
   "id": "00c9ee6b",
   "metadata": {},
   "outputs": [
    {
     "data": {
      "text/plain": [
       "25"
      ]
     },
     "execution_count": 127,
     "metadata": {},
     "output_type": "execute_result"
    }
   ],
   "source": [
    "def topla(*args):\n",
    "    a = 0\n",
    "    for i in args:\n",
    "        a += i\n",
    "    return(a)  \n",
    "       \n",
    "topla(3, 5, 8, 9)"
   ]
  },
  {
   "cell_type": "code",
   "execution_count": 128,
   "id": "9b7678fa",
   "metadata": {},
   "outputs": [
    {
     "data": {
      "text/plain": [
       "3"
      ]
     },
     "execution_count": 128,
     "metadata": {},
     "output_type": "execute_result"
    }
   ],
   "source": [
    "def topla(*args):\n",
    "    a = 0\n",
    "    for i in args:\n",
    "        a += i\n",
    "        return(a)  # burda niye 3 cap olundu\n",
    "       \n",
    "topla(3, 5, 8, 9)"
   ]
  },
  {
   "cell_type": "code",
   "execution_count": 135,
   "id": "0dbe46b7",
   "metadata": {},
   "outputs": [
    {
     "name": "stdout",
     "output_type": "stream",
     "text": [
      "3\n",
      "8\n",
      "16\n",
      "25\n"
     ]
    }
   ],
   "source": [
    "def topla(*args):\n",
    "    a = 0\n",
    "    for i in args:\n",
    "        a += i\n",
    "        print(a)\n",
    "        \n",
    "       \n",
    "topla(3, 5, 8, 9)"
   ]
  },
  {
   "cell_type": "code",
   "execution_count": 137,
   "id": "6d97d4f9",
   "metadata": {},
   "outputs": [
    {
     "name": "stdout",
     "output_type": "stream",
     "text": [
      "25\n"
     ]
    }
   ],
   "source": [
    "def topla(*args):\n",
    "    a = 0\n",
    "    for i in args:\n",
    "        a += i\n",
    "    print(a)\n",
    "       \n",
    "topla(3, 5, 8, 9)"
   ]
  },
  {
   "cell_type": "code",
   "execution_count": 138,
   "id": "9ab613f3",
   "metadata": {},
   "outputs": [
    {
     "data": {
      "text/plain": [
       "16"
      ]
     },
     "execution_count": 138,
     "metadata": {},
     "output_type": "execute_result"
    }
   ],
   "source": [
    "def topla(**kwargs):\n",
    "    a = 0\n",
    "    for i in kwargs:\n",
    "        a += kwargs[i] \n",
    "    return a    \n",
    "\n",
    "topla(a=3, b=5, c=8)"
   ]
  },
  {
   "cell_type": "code",
   "execution_count": 139,
   "id": "a9221c8d",
   "metadata": {},
   "outputs": [
    {
     "data": {
      "text/plain": [
       "3"
      ]
     },
     "execution_count": 139,
     "metadata": {},
     "output_type": "execute_result"
    }
   ],
   "source": [
    "def topla(**kwargs):\n",
    "    a = 0\n",
    "    for i in kwargs:\n",
    "        a += kwargs[i] \n",
    "        return a    \n",
    "\n",
    "topla(a=3, b=5, c=8,)"
   ]
  },
  {
   "cell_type": "code",
   "execution_count": 140,
   "id": "6248fd81",
   "metadata": {},
   "outputs": [
    {
     "name": "stdout",
     "output_type": "stream",
     "text": [
      "3\n",
      "8\n",
      "16\n"
     ]
    }
   ],
   "source": [
    "def topla(**kwargs):\n",
    "    a = 0\n",
    "    for i in kwargs:\n",
    "        a += kwargs[i] \n",
    "        print(a)   \n",
    "\n",
    "topla(a=3, b=5, c=8,)"
   ]
  },
  {
   "cell_type": "code",
   "execution_count": 141,
   "id": "d5260f19",
   "metadata": {},
   "outputs": [
    {
     "name": "stdout",
     "output_type": "stream",
     "text": [
      "16\n",
      "None\n"
     ]
    }
   ],
   "source": [
    "def topla(**kwargs):\n",
    "    a = 0\n",
    "    for i in kwargs:\n",
    "        a += kwargs[i] \n",
    "    print(a)   \n",
    "\n",
    "print(topla(a=3, b=5, c=8,))"
   ]
  },
  {
   "cell_type": "markdown",
   "id": "a6529a3e",
   "metadata": {},
   "source": [
    "## w3resource. Python Exercises, Practice, Solution. List of Python Exercises : \n",
    "\n",
    "### Python functions 21 exercises with solution"
   ]
  },
  {
   "cell_type": "markdown",
   "id": "2ab5fb7a",
   "metadata": {},
   "source": [
    "\n",
    "### 1. Write a Python function to find the Max of three numbers.\n",
    "### 1. Üç ədədin Max tapmaq üçün Python funksiyasını yazın."
   ]
  },
  {
   "cell_type": "code",
   "execution_count": 7,
   "id": "3cb38525",
   "metadata": {},
   "outputs": [
    {
     "name": "stdout",
     "output_type": "stream",
     "text": [
      "The Max of these numers is 5\n"
     ]
    }
   ],
   "source": [
    "def Max_of_three_numbers(n1, n2, n3):\n",
    "    if n1 >= n2 and n1 >= n3:\n",
    "        return f\"The Max of these numbers i {n1}\"\n",
    "    elif n2 >= n1 and n2 >= n3:\n",
    "        return f\"The Max of these numers is {n2}\"\n",
    "    else:\n",
    "        return f\"The Max of these numbers i {n3}\"\n",
    "\n",
    "num1 = 1\n",
    "num2 = 5\n",
    "num3 = -2\n",
    "print(Max_of_three_numbers(num1, num2, num3))"
   ]
  },
  {
   "cell_type": "markdown",
   "id": "e7d946f5",
   "metadata": {},
   "source": [
    "### 2. Write a Python function to sum all the numbers in a list. \n",
    "- Sample List : (8, 2, 3, 0, 7)\n",
    "- Expected Output : 20\n",
    "\n",
    "### 2. Siyahıdakı bütün ədədləri cəmləmək üçün Python funksiyasını yazın.\n",
    "- Nümunə Siyahısı: (8, 2, 3, 0, 7)\n",
    "- Gözlənilən nəticə: 20\n"
   ]
  },
  {
   "cell_type": "code",
   "execution_count": 14,
   "id": "5a19c545",
   "metadata": {},
   "outputs": [
    {
     "name": "stdout",
     "output_type": "stream",
     "text": [
      "20\n",
      "20\n",
      "20\n"
     ]
    }
   ],
   "source": [
    "def sum_of_list(*args):\n",
    "    x = 0\n",
    "    for i in args:\n",
    "        x += i\n",
    "    return x    \n",
    "\n",
    "print(sum_of_list(8,2,3,0,7))\n",
    "\n",
    "#################################\n",
    "\n",
    "def sum_of_list(*args):\n",
    "    return sum(args)\n",
    "\n",
    "print(sum_of_list(8, 2, 3, 0, 7))\n",
    "\n",
    "#################################\n",
    "\n",
    "def sum_(numbers):\n",
    "    total = 0\n",
    "    for i in numbers:\n",
    "        total += i\n",
    "    return total\n",
    "\n",
    "list1 = [8, 2, 3, 0, 7]\n",
    "print(sum_(list1))"
   ]
  },
  {
   "cell_type": "code",
   "execution_count": 1,
   "id": "ee554f1f",
   "metadata": {},
   "outputs": [
    {
     "ename": "KeyboardInterrupt",
     "evalue": "Interrupted by user",
     "output_type": "error",
     "traceback": [
      "\u001b[1;31m---------------------------------------------------------------------------\u001b[0m",
      "\u001b[1;31mKeyboardInterrupt\u001b[0m                         Traceback (most recent call last)",
      "Cell \u001b[1;32mIn[1], line 15\u001b[0m\n\u001b[0;32m     12\u001b[0m     \u001b[38;5;28;01melse\u001b[39;00m:\n\u001b[0;32m     13\u001b[0m         \u001b[38;5;28;01mreturn\u001b[39;00m \u001b[38;5;124mf\u001b[39m\u001b[38;5;124m\"\u001b[39m\u001b[38;5;124mThe Max of these numbers i \u001b[39m\u001b[38;5;132;01m{\u001b[39;00mn3\u001b[38;5;132;01m}\u001b[39;00m\u001b[38;5;124m\"\u001b[39m\n\u001b[1;32m---> 15\u001b[0m num1 \u001b[38;5;241m=\u001b[39m \u001b[38;5;28mint\u001b[39m(\u001b[38;5;28minput\u001b[39m(\u001b[38;5;124m\"\u001b[39m\u001b[38;5;124menter number_1:\u001b[39m\u001b[38;5;124m\"\u001b[39m))\n\u001b[0;32m     16\u001b[0m num2 \u001b[38;5;241m=\u001b[39m \u001b[38;5;28mint\u001b[39m(\u001b[38;5;28minput\u001b[39m(\u001b[38;5;124m\"\u001b[39m\u001b[38;5;124menter number_2:\u001b[39m\u001b[38;5;124m\"\u001b[39m))\n\u001b[0;32m     17\u001b[0m num3 \u001b[38;5;241m=\u001b[39m \u001b[38;5;28mint\u001b[39m(\u001b[38;5;28minput\u001b[39m(\u001b[38;5;124m\"\u001b[39m\u001b[38;5;124menter number_3:\u001b[39m\u001b[38;5;124m\"\u001b[39m))\n",
      "File \u001b[1;32m~\\anaconda3\\Lib\\site-packages\\ipykernel\\kernelbase.py:1202\u001b[0m, in \u001b[0;36mKernel.raw_input\u001b[1;34m(self, prompt)\u001b[0m\n\u001b[0;32m   1200\u001b[0m     msg \u001b[38;5;241m=\u001b[39m \u001b[38;5;124m\"\u001b[39m\u001b[38;5;124mraw_input was called, but this frontend does not support input requests.\u001b[39m\u001b[38;5;124m\"\u001b[39m\n\u001b[0;32m   1201\u001b[0m     \u001b[38;5;28;01mraise\u001b[39;00m StdinNotImplementedError(msg)\n\u001b[1;32m-> 1202\u001b[0m \u001b[38;5;28;01mreturn\u001b[39;00m \u001b[38;5;28mself\u001b[39m\u001b[38;5;241m.\u001b[39m_input_request(\n\u001b[0;32m   1203\u001b[0m     \u001b[38;5;28mstr\u001b[39m(prompt),\n\u001b[0;32m   1204\u001b[0m     \u001b[38;5;28mself\u001b[39m\u001b[38;5;241m.\u001b[39m_parent_ident[\u001b[38;5;124m\"\u001b[39m\u001b[38;5;124mshell\u001b[39m\u001b[38;5;124m\"\u001b[39m],\n\u001b[0;32m   1205\u001b[0m     \u001b[38;5;28mself\u001b[39m\u001b[38;5;241m.\u001b[39mget_parent(\u001b[38;5;124m\"\u001b[39m\u001b[38;5;124mshell\u001b[39m\u001b[38;5;124m\"\u001b[39m),\n\u001b[0;32m   1206\u001b[0m     password\u001b[38;5;241m=\u001b[39m\u001b[38;5;28;01mFalse\u001b[39;00m,\n\u001b[0;32m   1207\u001b[0m )\n",
      "File \u001b[1;32m~\\anaconda3\\Lib\\site-packages\\ipykernel\\kernelbase.py:1245\u001b[0m, in \u001b[0;36mKernel._input_request\u001b[1;34m(self, prompt, ident, parent, password)\u001b[0m\n\u001b[0;32m   1242\u001b[0m \u001b[38;5;28;01mexcept\u001b[39;00m \u001b[38;5;167;01mKeyboardInterrupt\u001b[39;00m:\n\u001b[0;32m   1243\u001b[0m     \u001b[38;5;66;03m# re-raise KeyboardInterrupt, to truncate traceback\u001b[39;00m\n\u001b[0;32m   1244\u001b[0m     msg \u001b[38;5;241m=\u001b[39m \u001b[38;5;124m\"\u001b[39m\u001b[38;5;124mInterrupted by user\u001b[39m\u001b[38;5;124m\"\u001b[39m\n\u001b[1;32m-> 1245\u001b[0m     \u001b[38;5;28;01mraise\u001b[39;00m \u001b[38;5;167;01mKeyboardInterrupt\u001b[39;00m(msg) \u001b[38;5;28;01mfrom\u001b[39;00m \u001b[38;5;28;01mNone\u001b[39;00m\n\u001b[0;32m   1246\u001b[0m \u001b[38;5;28;01mexcept\u001b[39;00m \u001b[38;5;167;01mException\u001b[39;00m:\n\u001b[0;32m   1247\u001b[0m     \u001b[38;5;28mself\u001b[39m\u001b[38;5;241m.\u001b[39mlog\u001b[38;5;241m.\u001b[39mwarning(\u001b[38;5;124m\"\u001b[39m\u001b[38;5;124mInvalid Message:\u001b[39m\u001b[38;5;124m\"\u001b[39m, exc_info\u001b[38;5;241m=\u001b[39m\u001b[38;5;28;01mTrue\u001b[39;00m)\n",
      "\u001b[1;31mKeyboardInterrupt\u001b[0m: Interrupted by user"
     ]
    }
   ],
   "source": [
    "\n",
    "\n",
    "\n",
    "\n",
    "\n",
    "# 3. Write a Python function to multiply all the numbers in a list. Go to the editor\n",
    "# Sample List : (8, 2, 3, -1, 7)\n",
    "# Expected Output : -336\n",
    "\n",
    "# 3. Siyahıdakı bütün ədədləri çoxaltmaq üçün Python funksiyasını yazın. Redaktora gedin\n",
    "# Nümunə Siyahısı: (8, 2, 3, -1, 7)\n",
    "# Gözlənilən Nəticə: -336\n",
    "\n",
    "\n",
    "def multiply_all_the_numbers(*args):\n",
    "    x = 1\n",
    "    for i in args:\n",
    "        x *= i\n",
    "    return x\n",
    "\n",
    "print(multiply_all_the_numbers(8, 2, 3, -1 ,7))\n",
    "\n",
    "\n",
    "\n",
    "def mutiply(numbers):\n",
    "    total = 1\n",
    "    for x in numbers:\n",
    "        total *= x\n",
    "    return total\n",
    "\n",
    "print(mutiply((8, 2, 3, -1,7)))      \n",
    "\n",
    "\n",
    "\n",
    "# 4. Write a Python program to reverse a string. Go to the editor\n",
    "# Sample String : \"1234abcd\"\n",
    "# Expected Output : \"dcba4321\"\n",
    "\n",
    "# 4. Sətri tərsinə çevirmək üçün Python proqramı yazın. Redaktora gedin\n",
    "# Nümunə sətri: \"1234abcd\"\n",
    "# Gözlənilən Nəticə: \"dcba4321\"\n",
    "\n",
    "\n",
    "def to_reverse_a_string(string):\n",
    "    return f\"Reverse of the {string} is {string[::-1]}\"\n",
    "\n",
    "word = input(\"enter the word:\")\n",
    "print(to_reverse_a_string(word))\n",
    "\n",
    "\n",
    "\n",
    "def to_reverse_a_string(string):\n",
    "    return string[::-1]\n",
    "\n",
    "word = input(\"enter the word:\")\n",
    "print(f\"Reverse of the {word} is {to_reverse_a_string(word)}\")\n",
    "\n",
    "\n",
    "\n",
    "def to_reverse_a_string(string):\n",
    "    return string[::-1]\n",
    "\n",
    "word = input(\"enter the word:\")\n",
    "print(f\"Reverse of the {word} is {to_reverse_a_string(string=word)}\")   # bes bu ne usuldu tesadufen tapdim??? \n",
    "\n",
    "\n",
    "def to_reverse_a_string(string):\n",
    "    str1 = \"\"\n",
    "    for i in range(len(string)):\n",
    "        str1 += string[len(string)-1-i]\n",
    "    return str1\n",
    "\n",
    "word = input(\"enter word:\")\n",
    "print(to_reverse_a_string(word))\n",
    "\n",
    "\n",
    "\n",
    "def string_reverse(str1):\n",
    "\n",
    "    rstr1 = ''\n",
    "    index = len(str1)\n",
    "    while index > 0:\n",
    "        rstr1 += str1[ index - 1 ]\n",
    "        index = index - 1\n",
    "    return rstr1\n",
    "print(string_reverse('1234abcd'))\n",
    "\n",
    "\n",
    "\n",
    "\n",
    "\n",
    "# 5. Write a Python function to calculate the factorial of a number (a non-negative integer). The function accepts\n",
    "#  the number as an argument. Go to the editor\n",
    "\n",
    "# 5. Ədədin (mənfi olmayan tam ədəd) faktorialını hesablamaq üçün Python funksiyasını yazın. Funksiya rəqəmi \n",
    "# arqument kimi qəbul edir. Redaktora gedin\n",
    "\n",
    "\n",
    "def  the_factorial_of_a_number(n):\n",
    "    x1 = 1\n",
    "    for i in range(1, n+1):\n",
    "        x1 *= i\n",
    "    return x1\n",
    "\n",
    "num = int(input())\n",
    "print(f\"The factorial of {num} is {the_factorial_of_a_number(num)}\")\n",
    "\n",
    "\n",
    "\n",
    "def factorial(n):\n",
    "    if n == 0:\n",
    "        return 1\n",
    "    else:\n",
    "        return n * factorial(n-1)\n",
    "n=int(input(\"Input a number to compute the factiorial : \"))\n",
    "print(factorial(n))\n",
    "\n",
    "\n",
    "\n",
    "\n",
    "# 6. Write a Python function to check whether a number falls in a given range. Go to the editor\n",
    "\n",
    "# 6. Ədədin verilmiş diapazona düşdüyünü yoxlamaq üçün Python funksiyasını yazın. Redaktora gedin\n",
    "\n",
    "\n",
    "def check_number_given_range(n, x, y):\n",
    "    for i in range(x, y+1):\n",
    "        if n == i:\n",
    "            return f\"{n} is in range{x,y}\"     # burda niye moterize ozu verir???????\n",
    "    else:\n",
    "        return f\"{n} isn't in range({x}, {y})\"\n",
    "\n",
    "num = int(input())\n",
    "beginning_interval = int(input())\n",
    "end_of_interval = int(input())\n",
    "print(check_number_given_range(num, beginning_interval, end_of_interval))\n",
    "\n",
    "\n",
    "\n",
    "def check_number_given_range(n, x, y):\n",
    "    if n in range(x, y):                    # yoxladim if ile de yazmaq olur??????????????\n",
    "        print(f\"{n} is in range({x}, {y})\")\n",
    "    else:\n",
    "        print(f\"{n} isn't in range({x}, {y})\")    \n",
    "\n",
    "num = int(input())\n",
    "x = int(input())\n",
    "y = int(input())\n",
    "check_number_given_range(num, x, y)\n",
    "\n",
    "\n",
    "\n",
    "\n",
    "def test_range(n):\n",
    "    if n in range(3,9):\n",
    "        print( \" %s is in the range\"%str(n))\n",
    "    else :\n",
    "        print(\"The number is outside the given range.\")\n",
    "test_range(5)\n",
    "\n",
    "\n",
    "\n",
    "def test_range(n, start_num, end_num = 0):\n",
    "  return start_num <= n <= end_num if end_num >= start_num else end_num <= n <= start_num\n",
    "print(test_range(5, 2, 7))\n",
    "print(test_range(5, 7))\n",
    "print(test_range(1, 3, 6))\n",
    "print(test_range(6, 5))\n",
    "\n",
    "\n",
    "\n",
    "\n",
    "\n",
    "\n",
    "# 7. Write a Python function that accepts a string and calculate the number of upper case letters and lower case\n",
    "#  letters.  Go to the editor\n",
    "# Sample String : 'The quick Brow Fox'\n",
    "# Expected Output :\n",
    "# No. of Upper case characters : 3\n",
    "# No. of Lower case Characters : 12\n",
    "\n",
    "\n",
    "# 7. Simli qəbul edən Python funksiyasını yazın və böyük və kiçik hərflərin sayını hesablayın. Redaktora gedin\n",
    "# Nümunə simli: 'The quick Brow Fox'\n",
    "# Gözlənilən Nəticə:\n",
    "# Böyük hərflərin sayı: 3\n",
    "# Kiçik hərflərin sayı: 12\n",
    "\n",
    "def count_upper_lower_letter(text):\n",
    "    uppers = \"ABCDEFGHIJKLMNOPQRSTUVWXYZ\"\n",
    "    lowers = \"abcdefghijklmnopqrstuvwxyz\"\n",
    "    c = 0\n",
    "    t = 0\n",
    "    for i in text:\n",
    "        if i in uppers:\n",
    "            c += 1\n",
    "        elif i in lowers:\n",
    "            t += 1    \n",
    "    print(f\"In '{text}' text have {c} upper letter and {t} lower letter\")\n",
    "    # print(f\" No. of Upper case characters : {c}\")\n",
    "    # print(f\" No. of lower case characters : {t}\")\n",
    "\n",
    "string1 = 'The quick Brown Fox'\n",
    "count_upper_lower_letter(string1)\n",
    "\n",
    "\n",
    "\n",
    "def count_upper_lower_letter(text):\n",
    "    uppers = 0\n",
    "    lowers = 0\n",
    "    for i in text:\n",
    "        if i.isupper():\n",
    "            uppers +=1\n",
    "        elif i.islower():\n",
    "            lowers += 1    \n",
    "    print(f\" No. of Upper case characters : {uppers}\")\n",
    "    print(f\" No. of Lower case Characters : {lowers}\")\n",
    "\n",
    "string1 = 'The quick Brown Fox'\n",
    "count_upper_lower_letter(string1)\n",
    "\n",
    "\n",
    "\n",
    "\n",
    "def string_test(s):\n",
    "    d={\"UPPER_CASE\":0, \"LOWER_CASE\":0}\n",
    "    for c in s:\n",
    "        if c.isupper():\n",
    "           d[\"UPPER_CASE\"]+=1\n",
    "        elif c.islower():\n",
    "           d[\"LOWER_CASE\"]+=1\n",
    "        else:\n",
    "           pass\n",
    "    print (\"Original String : \", s)\n",
    "    print (\"No. of Upper case characters : \", d[\"UPPER_CASE\"])\n",
    "    print (\"No. of Lower case Characters : \", d[\"LOWER_CASE\"])\n",
    "\n",
    "string_test('The quick Brown Fox')\n",
    "\n",
    "\n",
    "\n",
    "\n",
    "# 8. Write a Python function that takes a list and returns a new list with unique elements of the first list.\n",
    "#  Go to the editor\n",
    "# Sample List : [1,2,3,3,3,3,4,5]\n",
    "# Unique List : [1, 2, 3, 4, 5]\n",
    "\n",
    "\n",
    "# 8. Siyahı götürən və birinci siyahının unikal elementləri ilə yeni siyahı qaytaran Python funksiyasını yazın.\n",
    "#  Redaktora gedin\n",
    "# Nümunə Siyahısı: [1,2,3,3,3,3,4,5]\n",
    "# Unikal siyahı : [1, 2, 3, 4, 5]\n",
    "\n",
    "\n",
    "def list_with_unique_elements(list1):\n",
    "    x = set(list1)\n",
    "    list1 = list(x)\n",
    "    return list1\n",
    "\n",
    "print(list_with_unique_elements([1,2,3,3,3,3,4,5]))\n",
    "\n",
    "\n",
    "\n",
    "def unique_list(l):\n",
    "  x = []\n",
    "  for a in l:\n",
    "    if a not in x:\n",
    "      x.append(a)\n",
    "  return x\n",
    "\n",
    "print(unique_list([1,2,3,3,3,3,4,5])) \n",
    "\n",
    "\n",
    "\n",
    "\n",
    "\n",
    "# 9. Write a Python function that takes a number as a parameter and check the number is prime or not. Go to the editor\n",
    "# Note : A prime number (or a prime) is a natural number greater than 1 and that has no positive divisors other than 1\n",
    "#  and itself.\n",
    "\n",
    "# 9. Bir ədədi parametr kimi qəbul edən Python funksiyasını yazın və ədədin sadə olub olmadığını yoxlayın.\n",
    "#  Redaktora gedin\n",
    "# Qeyd: Sadə ədəd (və ya sadə) 1-dən böyük və 1 və özündən başqa müsbət bölənləri olmayan natural ədəddir.\n",
    "\n",
    "\n",
    "def check_a_prime_number(n):\n",
    "    if n < 1:\n",
    "        return \"is not a natural number\"\n",
    "    elif n == 1:\n",
    "        return \"neither a prime nor a composite number\"    \n",
    "    for i in range(2, n):\n",
    "        if not n % i:\n",
    "            return \"a composite number\"\n",
    "    else:\n",
    "        return \"a prime number\"        \n",
    "\n",
    "num = int(input())\n",
    "print(check_a_prime_number(num))\n",
    "\n",
    "\n",
    "\n",
    "def test_prime(n):\n",
    "    if (n==1):\n",
    "        return False\n",
    "    elif (n==2):\n",
    "        return True\n",
    "    else:\n",
    "        for x in range(2,n):\n",
    "            if(n % x==0):\n",
    "                return False\n",
    "        return True             \n",
    "print(test_prime(17))\n",
    "\n",
    "\n",
    "# anlamadim ??????????????????????????????????????????\n",
    "\n",
    "from math import sqrt\n",
    "def is_prime(num):\n",
    "  if num <= 1 or (num % 2 == 0 and num > 2): \n",
    "    return False\n",
    "  return all(num % i for i in range(3, int(sqrt(num)) + 1, 2))\n",
    "print(is_prime(11))\n",
    "print(is_prime(13))\n",
    "print(is_prime(16))\n",
    "print(is_prime(17))\n",
    "print(is_prime(97))\n",
    "\n",
    "\n",
    "\n",
    "\n",
    "# 10. Write a Python program to print the even numbers from a given list. Go to the editor\n",
    "# Sample List : [1, 2, 3, 4, 5, 6, 7, 8, 9]\n",
    "# Expected Result : [2, 4, 6, 8]\n",
    "\n",
    "# 10. Verilmiş siyahıdan cüt ədədləri çap etmək üçün Python proqramı yazın. Redaktora gedin\n",
    "# Nümunə Siyahısı: [1, 2, 3, 4, 5, 6, 7, 8, 9]\n",
    "# Gözlənilən Nəticə : [2, 4, 6, 8]\n",
    "\n",
    "\n",
    "def print_even_numbers_from_list(list1):\n",
    "    even_number_list = []\n",
    "    for i in list1:\n",
    "        if not i % 2:\n",
    "            even_number_list.append(i)\n",
    "    return even_number_list\n",
    "\n",
    "print(print_even_numbers_from_list([1, 2, 3, 4, 5, 6, 7, 8, 9]))\n",
    "\n",
    "\n",
    "\n",
    "def is_even_num(l):\n",
    "    enum = []\n",
    "    for n in l:\n",
    "        if n % 2 == 0:\n",
    "            enum.append(n)\n",
    "    return enum\n",
    "print(is_even_num([1, 2, 3, 4, 5, 6, 7, 8, 9]))\n",
    "\n",
    "\n",
    "\n",
    "\n",
    "# 11. Write a Python function to check whether a number is perfect or not. Go to the editor\n",
    "# According to Wikipedia : In number theory, a perfect number is a positive integer that is equal to the sum\n",
    "#  of its proper positive divisors, that is, the sum of its positive divisors excluding the number itself \n",
    "# (also known as its aliquot sum). Equivalently, a perfect number is a number that is half the sum of all of its\n",
    "#  positive divisors (including itself). Example : The first perfect number is 6, because 1, 2, and 3 are its \n",
    "# proper positive divisors, and 1 + 2 + 3 = 6. Equivalently, the number 6 is equal to half the sum of all its \n",
    "# positive divisors: ( 1 + 2 + 3 + 6 ) / 2 = 6. The next perfect number is 28 = 1 + 2 + 4 + 7 + 14. This is\n",
    "#  followed by the perfect numbers 496 and 8128\n",
    "\n",
    "# 11. Ədədin mükəmməl olub olmadığını yoxlamaq üçün Python funksiyasını yazın. Redaktora gedin\n",
    "# Vikipediyaya görə: Ədədlər nəzəriyyəsində mükəmməl ədəd onun müvafiq müsbət bölənlərinin cəminə, yəni ədədin\n",
    "#  özü xaric olan müsbət bölənlərinin cəminə bərabər olan müsbət tam ədəddir (həmçinin onun aliquot cəmi kimi\n",
    "#  tanınır). Ekvivalent olaraq mükəmməl ədəd bütün müsbət bölənlərinin (özü də daxil olmaqla) cəminin yarısı \n",
    "# olan ədəddir. Nümunə : Birinci mükəmməl ədəd 6-dır, çünki 1, 2 və 3 onun müvafiq müsbət bölənləridir\n",
    "#  və 1 + 2 + 3 = 6. Ekvivalent olaraq, 6 rəqəmi bütün müsbət bölənlərin cəminin yarısına bərabərdir:\n",
    "#  ( 1 + 2 + 3 + 6 ) / 2 = 6. Növbəti mükəmməl ədəd 28 = 1 + 2 + 4 + 7 + 14-dür. Bunun ardınca 496 və 8128 mükəmməl\n",
    "#  ədədləri gəlir.\n",
    "\n",
    "\n",
    "def check_perfect_number(n):\n",
    "    if n <=1:\n",
    "        return \"isn't a perfect number\"\n",
    "    x = 0       \n",
    "    for i in range(1, n):\n",
    "        if not n % i:\n",
    "            x += i\n",
    "    if n == x:\n",
    "        return \"is a perfect number\"\n",
    "    else:\n",
    "        return \"isn't a perfect number\"            \n",
    "\n",
    "num = int(input())\n",
    "print(check_perfect_number(num))\n",
    "\n",
    "\n",
    "def perfect_number(n):\n",
    "    sum = 0\n",
    "    for x in range(1, n):\n",
    "        if n % x == 0:\n",
    "            sum += x\n",
    "    return sum == n\n",
    "print(perfect_number(6))\n",
    "\n",
    "\n",
    "\n",
    "\n",
    "\n",
    "# 12. Write a Python function that checks whether a passed string is palindrome or not. Go to the editor\n",
    "# Note: A palindrome is a word, phrase, or sequence that reads the same backward as forward, e.g., madam or\n",
    "#  nurses run.\n",
    "\n",
    "# 12. Keçirilmiş sətirin palindrom olub olmadığını yoxlayan Python funksiyasını yazın. Redaktora gedin\n",
    "# Qeyd: Palindrom irəli ilə eyni geri oxunan söz, ifadə və ya ardıcıllıqdır, məsələn, xanım və ya tibb bacıları qaçır.\n",
    "\n",
    "\n",
    "def check_palindrome_word(word):\n",
    "    a = word.split()\n",
    "    b = \"\".join(a)\n",
    "    if b == b[::-1]:\n",
    "        return \"is palidrom word\"\n",
    "    else:\n",
    "        return \"isn't palidrom word\"    \n",
    "    # print()\n",
    "word = input(\"enter_word:\")\n",
    "print(check_palindrome_word(word))\n",
    "\n",
    "\n",
    "\n",
    "\n",
    "def isPalindrome(string):\n",
    "\tleft_pos = 0\n",
    "\tright_pos = len(string) - 1\n",
    "\t\n",
    "\twhile right_pos >= left_pos:\n",
    "\t\tif not string[left_pos] == string[right_pos]:\n",
    "\t\t\treturn False\n",
    "\t\tleft_pos += 1\n",
    "\t\tright_pos -= 1\n",
    "\treturn True\n",
    "print(isPalindrome('nurses run')) \n",
    "\n",
    "\n",
    "\n",
    "\n",
    "# 13. Write a Python function that prints out the first n rows of Pascal's triangle. Go to the editor\n",
    "# Note : Pascal's triangle is an arithmetic and geometric figure first imagined by Blaise Pascal.\n",
    "\n",
    "# Sample Pascal's triangle :\n",
    "\n",
    "# Pascal's triangle\n",
    "# Each number is the two numbers above it added together Go to the editor\n",
    "\n",
    "# 13. Paskal üçbucağının ilk n sətirini çap edən Python funksiyasını yazın. Redaktora gedin\n",
    "# Qeyd : Paskal üçbucağı ilk dəfə Blez Paskal tərəfindən təsəvvür edilən arifmetik və həndəsi fiqurdur.\n",
    "\n",
    "# Paskal üçbucağının nümunəsi:\n",
    "\n",
    "# Paskal üçbucağı\n",
    "# Hər bir nömrə yuxarıdakı iki rəqəmdir, bir-birinə əlavə olunur. Redaktora gedin\n",
    "\n",
    "\n",
    "def pascal_s_triangle(n):\n",
    "    # list1 = []\n",
    "    matrix = [[1],[1,1]]\n",
    "    matrix.append([n])\n",
    "    if n == 0 :\n",
    "        return matrix[0]\n",
    "    elif n == 1:\n",
    "        return matrix[1]    \n",
    "    else:\n",
    "        matrix[n].append(pascal_s_triangle(n-1)[n-2]+pascal_s_triangle(n-1)[n-1])   \n",
    "    return matrix\n",
    "    \n",
    "\n",
    "\n",
    "num = int(input())\n",
    "print(pascal_s_triangle(num))\n",
    "\n",
    "\n",
    "\n",
    "def pascal_triangle(n):\n",
    "   trow = [1]\n",
    "   y = [0]\n",
    "   for x in range(max(n,0)):\n",
    "      print(trow)\n",
    "      trow=[l+r for l,r in zip(trow+y, y+trow)]\n",
    "   return n>=1\n",
    "pascal_triangle(6) \n",
    "\n",
    "\n",
    " \n",
    "\n",
    "# 14. Write a Python function to check whether a string is a pangram or not. Go to the editor\n",
    "# Note : Pangrams are words or sentences containing every letter of the alphabet at least once.\n",
    "# For example : \"The quick brown fox jumps over the lazy dog\"\n",
    "\n",
    "\n",
    "# 14. Sətin panqram olub-olmadığını yoxlamaq üçün Python funksiyasını yazın. Redaktora gedin\n",
    "# Qeyd: Panqramlar ən azı bir dəfə əlifbanın hər hərfini ehtiva edən sözlər və ya cümlələrdir.\n",
    "# Məsələn: \"Tez qəhvəyi tülkü tənbəl itin üstündən tullanır\"\n",
    "\n",
    "\n",
    "def check_pangrams_string(string1):\n",
    "    alphabet1 = \"ABCDEFGHIJKLMNOPQRSTUVWXYZ\"\n",
    "    string2 = string1.upper()\n",
    "    list1 = string2.split()\n",
    "    string3 = \"\".join(list1)\n",
    "    set1 = set(string3)\n",
    "    list2 = list(set1)\n",
    "    \n",
    "    list2.sort()\n",
    "    # return list2\n",
    "   \n",
    "    string4 = \"\".join(list2)\n",
    "    # return string4\n",
    "    \n",
    "    if string4 == alphabet1:   \n",
    "        return \"is pangram word\"  # burda niye none qaytarir?????????????\n",
    "#     # # if  len(string1) == 26:\n",
    "#     #     return \"is pangram word\"\n",
    "#     # else:\n",
    "#     #     return \"isn't pangram word\"\n",
    "def check_pangrams_string(string1):\n",
    "    alphabet1 = \"ABCDEFGHIJKLMNOPQRSTUVWXYZ\"\n",
    "    for i in alphabet1:\n",
    "        if i not in string1.upper():\n",
    "            return \"pangram deyil\"\n",
    "    else:\n",
    "        return \"pangramdir\"\n",
    "\n",
    "word = \"The quick brown fox jumps over the lazy dog\"\n",
    "print(check_pangrams_string(word))\n",
    "\n",
    "\n",
    "\n",
    "## ?????????????????????????????????????\n",
    "import string, sys\n",
    "def ispangram(str1, alphabet=string.ascii_lowercase):\n",
    "    alphaset = set(alphabet)\n",
    "    return alphaset <= set(str1.lower())\n",
    " \n",
    "print ( ispangram('The quick brown fox jumps over the lazy dog')) \n",
    "\n",
    "\n",
    "\n",
    "\n",
    "\n",
    "\n",
    "# 15. Write a Python program that accepts a hyphen-separated sequence of words as input and prints the words in\n",
    "#  a hyphen-separated sequence after sorting them alphabetically. Go to the editor\n",
    "# Sample Items : green-red-yellow-black-white\n",
    "# Expected Result : black-green-red-white-yellow\n",
    "\n",
    "# 15. Sözlərin defislə ayrılmış ardıcıllığını giriş kimi qəbul edən və sözləri əlifba sırası ilə sıraladıqdan\n",
    "# sonra defislə ayrılmış ardıcıllıqla çap edən Python proqramı yazın. Redaktora gedin\n",
    "\n",
    "\n",
    "\n",
    "def sorting_alphabetically(string1):\n",
    "    list1 = string1.split(\"-\")\n",
    "    list1.sort()\n",
    "    string2 = \"-\".join(list1)\n",
    "    return string2\n",
    "\n",
    "word = \"green-red-yellow-black-white\"\n",
    "print(sorting_alphabetically(word))\n",
    "\n",
    "\n",
    "items=[n for n in input().split('-')]   # bunu aydinlasdiraq???????\n",
    "print(items)\n",
    "items.sort()\n",
    "print('-'.join(items))\n",
    "\n",
    "\n",
    "# 16. Write a Python function to create and print a list where the values are square of numbers\n",
    "# between 1 and 30 (both included). Go to the editor\n",
    "\n",
    "# 16. Dəyərlərinin 1 və 30 (hər ikisi daxildir) arasında olan ədədlərin kvadratı olduğu siyahı yaratmaq və \n",
    "# çap etmək üçün Python funksiyasını yazın. Redaktora gedin\n",
    "\n",
    "\n",
    "def square_of_numbers():\n",
    "    x = 1\n",
    "    while  True:\n",
    "        if x**0.5 == int(x**0.5):\n",
    "            print(x)\n",
    "        if x**0.5 >= 30:\n",
    "            break\n",
    "        x += 1  \n",
    "\n",
    "square_of_numbers()\n",
    "\n",
    "\n",
    "def square_of_numbers():\n",
    "    x = 1\n",
    "    while  x**0.5 <= 30:\n",
    "        if x**0.5 == int(x**0.5):\n",
    "            print(x)\n",
    "        x += 1    \n",
    "square_of_numbers()\n",
    "    \n",
    "\n",
    "\n",
    "\n",
    "\n",
    "def printValues():\n",
    "\tl = list()\n",
    "\tfor i in range(1,31):\n",
    "\t\tl.append(i**2)\n",
    "\tprint(l)\n",
    "\t\t\n",
    "printValues()\n",
    "\n",
    "\n",
    "\n",
    "\n",
    "\n",
    "\n",
    "\n",
    "# 17. Write a Python program to make a chain of function decorators (bold, italic, underline etc.) in Python.\n",
    "#  Go to the editor\n",
    "\n",
    "# 17. Python-da funksiya dekoratorları zəncirini (qalın, kursiv, alt xətt və s.) yaratmaq üçün Python proqramı\n",
    "# yazın. Redaktora gedin\n",
    "# Nümunə həllini görmək üçün mənə klikləyin\n",
    "###   ???????????????????????????\n",
    "\n",
    "def make_bold(fn):\n",
    "    def wrapped():\n",
    "        return \"<b>\" + fn() + \"</b>\"\n",
    "    return wrapped\n",
    "\n",
    "def make_italic(fn):\n",
    "    def wrapped():\n",
    "        return \"<i>\" + fn() + \"</i>\"\n",
    "    return wrapped\n",
    "\n",
    "def make_underline(fn):\n",
    "    def wrapped():\n",
    "        return \"<u>\" + fn() + \"</u>\"\n",
    "    return wrapped\n",
    "@make_bold\n",
    "@make_italic\n",
    "@make_underline\n",
    "def hello():\n",
    "    return \"hello world\"\n",
    "print(hello()) ## returns \"<b><i><u>hello world</u></i></b>\"\n",
    "\n",
    "##  ??????????????????????????????????\n",
    "\n",
    "\n",
    "\n",
    "\n",
    "# 18. Write a Python program to execute a string containing Python code. Go to the editor\n",
    "# Click me to see the sample solution\n",
    "# 18. Python kodunu ehtiva edən sətri icra etmək üçün Python proqramını yazın. Redaktora gedin\n",
    "\n",
    "\n",
    "mycode = 'print(\"hello world\")'\n",
    "code = \"\"\"\n",
    "def mutiply(x,y):\n",
    "    return x*y\n",
    "\n",
    "print('Multiply of 2 and 3 is: ',mutiply(2,3))\n",
    "\"\"\"\n",
    "exec(mycode)\n",
    "exec(code)\n",
    "\n",
    "\n",
    "\n",
    "\n",
    "# 19. Write a Python program to access a function inside a function. Go to the editor\n",
    "# Click me to see the sample solution\n",
    "\n",
    "# 19. Funksiya daxilində funksiyaya daxil olmaq üçün Python proqramı yazın. Redaktora gedin\n",
    "# Nümunə həllini görmək üçün mənə klikləyin\n",
    "\n",
    "\n",
    "def test(a):\n",
    "    def add(b):\n",
    "        nonlocal a\n",
    "        a += 1\n",
    "        return a+b\n",
    "    return add    \n",
    "\n",
    "\n",
    "\n",
    "func = test(4)\n",
    "print(func(4))\n",
    "\n",
    "\n",
    "\n",
    "def test(func,a=4):\n",
    "    def add(b=4):\n",
    "        nonlocal a\n",
    "        a += 1\n",
    "        return a+b\n",
    "    return add    \n",
    "\n",
    "@test\n",
    "def test1():\n",
    "    return 4\n",
    "    \n",
    "print(test1())\n",
    "\n",
    "\n",
    "\n",
    "# 20. Write a Python program to detect the number of local variables declared in a function. Go to the editor\n",
    "# Sample Output:\n",
    "\n",
    "# 20. Funksiyada elan edilmiş lokal dəyişənlərin sayını aşkar etmək üçün Python proqramı yazın. Redaktora gedin\n",
    "# Nümunə çıxışı:\n",
    "\n",
    "\n",
    "def abc():\n",
    "    x = 1\n",
    "    y = 2\n",
    "    str1= \"w3resource\"\n",
    "    print(\"Python Exercises\")\n",
    "\n",
    "print(abc.__code__.co_nlocals)\n",
    "\n",
    "\n",
    "\n",
    "\n",
    "# 21. Write a Python program that invoke a given function after specific milliseconds. Go to the editor\n",
    "# Sample Output:\n",
    "# Square root after specific miliseconds:\n",
    "# 4.0\n",
    "# 10.0\n",
    "# 158.42979517754858\n",
    "\n",
    "# 21. Müəyyən millisaniyələrdən sonra verilmiş funksiyanı işə salan Python proqramını yazın. Redaktora gedin\n",
    "# Nümunə çıxışı:\n",
    "# Xüsusi milisaniyələrdən sonra kvadrat kök:\n",
    "# 4.0\n",
    "# 10.0\n",
    "# 158.42979517754858\n",
    "\n",
    "\n",
    "from time import sleep\n",
    "import math\n",
    "def delay(fn, ms, *args):\n",
    "  sleep(ms / 1000)\n",
    "  return fn(*args)\n",
    "print(\"Square root after specific miliseconds:\") \n",
    "print(delay(lambda x: math.sqrt(x), 100, 16))\n",
    "print(delay(lambda x: math.sqrt(x), 1000, 100))\n",
    "print(delay(lambda x: math.sqrt(x), 2000, 25100))\n",
    "\n",
    "\n",
    "\n",
    "\n",
    "\n",
    "\n",
    "\n",
    "\n",
    "\n",
    "\n",
    "\n",
    "\n",
    "\n",
    "\n",
    "\n",
    "\n",
    "\n",
    "\n",
    "\n",
    "\n",
    "\n",
    "\n",
    "\n",
    "\n",
    "\n",
    "\n",
    "\n",
    "\n",
    "\n",
    "\n",
    "\n",
    "\n",
    "\n",
    "\n",
    "\n",
    "\n",
    "\n",
    "\n",
    "\n"
   ]
  },
  {
   "cell_type": "code",
   "execution_count": null,
   "id": "77b7e1a3",
   "metadata": {},
   "outputs": [],
   "source": []
  }
 ],
 "metadata": {
  "kernelspec": {
   "display_name": "Python 3 (ipykernel)",
   "language": "python",
   "name": "python3"
  },
  "language_info": {
   "codemirror_mode": {
    "name": "ipython",
    "version": 3
   },
   "file_extension": ".py",
   "mimetype": "text/x-python",
   "name": "python",
   "nbconvert_exporter": "python",
   "pygments_lexer": "ipython3",
   "version": "3.11.5"
  }
 },
 "nbformat": 4,
 "nbformat_minor": 5
}
