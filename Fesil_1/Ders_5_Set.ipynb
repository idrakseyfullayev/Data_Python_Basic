{
 "cells": [
  {
   "cell_type": "markdown",
   "id": "fd6a58bd",
   "metadata": {},
   "source": [
    "## Set Ümumi anlayış"
   ]
  },
  {
   "cell_type": "markdown",
   "id": "c3bbc5c2",
   "metadata": {},
   "source": [
    "- **Set-də indekslənmə və element sırası yoxdur. Elementə muraciət etmək olmur. Eyni elementdən yalnız birini saxlayir.**"
   ]
  },
  {
   "cell_type": "code",
   "execution_count": 3,
   "id": "3fe31c47",
   "metadata": {},
   "outputs": [
    {
     "data": {
      "text/plain": [
       "{1, 2, 3, 'alma', 'armud'}"
      ]
     },
     "execution_count": 3,
     "metadata": {},
     "output_type": "execute_result"
    }
   ],
   "source": [
    "a = {1, 2, 3, 3, \"alma\", \"armud\", \"alma\"}\n",
    "a"
   ]
  },
  {
   "cell_type": "code",
   "execution_count": 5,
   "id": "2d1ef428",
   "metadata": {},
   "outputs": [
    {
     "ename": "TypeError",
     "evalue": "'set' object is not subscriptable",
     "output_type": "error",
     "traceback": [
      "\u001b[1;31m---------------------------------------------------------------------------\u001b[0m",
      "\u001b[1;31mTypeError\u001b[0m                                 Traceback (most recent call last)",
      "Cell \u001b[1;32mIn[5], line 1\u001b[0m\n\u001b[1;32m----> 1\u001b[0m a[\u001b[38;5;241m0\u001b[39m]\n",
      "\u001b[1;31mTypeError\u001b[0m: 'set' object is not subscriptable"
     ]
    }
   ],
   "source": [
    "a[0]"
   ]
  },
  {
   "cell_type": "code",
   "execution_count": 6,
   "id": "f1a2b1b3",
   "metadata": {},
   "outputs": [
    {
     "ename": "TypeError",
     "evalue": "unsupported operand type(s) for +: 'set' and 'set'",
     "output_type": "error",
     "traceback": [
      "\u001b[1;31m---------------------------------------------------------------------------\u001b[0m",
      "\u001b[1;31mTypeError\u001b[0m                                 Traceback (most recent call last)",
      "Cell \u001b[1;32mIn[6], line 4\u001b[0m\n\u001b[0;32m      1\u001b[0m set1 \u001b[38;5;241m=\u001b[39m {\u001b[38;5;241m1\u001b[39m, \u001b[38;5;241m2\u001b[39m, \u001b[38;5;241m3\u001b[39m}\n\u001b[0;32m      2\u001b[0m set2 \u001b[38;5;241m=\u001b[39m {\u001b[38;5;241m2\u001b[39m, \u001b[38;5;241m3\u001b[39m, \u001b[38;5;241m4\u001b[39m, \u001b[38;5;241m5\u001b[39m}\n\u001b[1;32m----> 4\u001b[0m set3 \u001b[38;5;241m=\u001b[39m set1 \u001b[38;5;241m+\u001b[39m set2\n",
      "\u001b[1;31mTypeError\u001b[0m: unsupported operand type(s) for +: 'set' and 'set'"
     ]
    }
   ],
   "source": [
    "set1 = {1, 2, 3}\n",
    "set2 = {2, 3, 4, 5}\n",
    "\n",
    "set3 = set1 + set2"
   ]
  },
  {
   "cell_type": "code",
   "execution_count": 7,
   "id": "5b734711",
   "metadata": {},
   "outputs": [
    {
     "data": {
      "text/plain": [
       "{1, 2, 3, 'alma', 'armud'}"
      ]
     },
     "execution_count": 7,
     "metadata": {},
     "output_type": "execute_result"
    }
   ],
   "source": [
    "a"
   ]
  },
  {
   "cell_type": "code",
   "execution_count": 10,
   "id": "eabc563d",
   "metadata": {},
   "outputs": [
    {
     "data": {
      "text/plain": [
       "['alma', 2, 3, 1, 'armud']"
      ]
     },
     "execution_count": 10,
     "metadata": {},
     "output_type": "execute_result"
    }
   ],
   "source": [
    "b = list(a)\n",
    "b"
   ]
  },
  {
   "cell_type": "code",
   "execution_count": 12,
   "id": "bfbf8a3c",
   "metadata": {},
   "outputs": [
    {
     "data": {
      "text/plain": [
       "{1, 2, 3, 'alma', 'armud'}"
      ]
     },
     "execution_count": 12,
     "metadata": {},
     "output_type": "execute_result"
    }
   ],
   "source": [
    "a = set(b)\n",
    "a"
   ]
  },
  {
   "cell_type": "code",
   "execution_count": null,
   "id": "c2bb854e",
   "metadata": {},
   "outputs": [],
   "source": []
  },
  {
   "cell_type": "markdown",
   "id": "3fc34aa4",
   "metadata": {},
   "source": [
    "## Set Functions"
   ]
  },
  {
   "cell_type": "markdown",
   "id": "ca74db6f",
   "metadata": {},
   "source": [
    "### 1. add() → set-ə yalnız bir qiymət əlavə edir və None qaytarır → set1.add(5)"
   ]
  },
  {
   "cell_type": "code",
   "execution_count": 13,
   "id": "0d5e95e9",
   "metadata": {},
   "outputs": [],
   "source": [
    "set1 = {1, 2, 3}\n",
    "\n",
    "\n",
    "set1.add(10)"
   ]
  },
  {
   "cell_type": "code",
   "execution_count": 15,
   "id": "c1bd77f2",
   "metadata": {},
   "outputs": [
    {
     "data": {
      "text/plain": [
       "{1, 2, 3, 10}"
      ]
     },
     "execution_count": 15,
     "metadata": {},
     "output_type": "execute_result"
    }
   ],
   "source": [
    "set1"
   ]
  },
  {
   "cell_type": "code",
   "execution_count": 18,
   "id": "23d7f791",
   "metadata": {},
   "outputs": [
    {
     "data": {
      "text/plain": [
       "{(10, 5), 1, 10, 2, 3}"
      ]
     },
     "execution_count": 18,
     "metadata": {},
     "output_type": "execute_result"
    }
   ],
   "source": [
    "set1.add((10, 5))\n",
    "set1"
   ]
  },
  {
   "cell_type": "markdown",
   "id": "231a4555",
   "metadata": {},
   "source": [
    "### 2. update() → set-ə iterable tipli dəyişən əlavə etmək üçün update()-ə iterable-i yazırıq və None qaytarır → set1.update({2, 5, 8, \"salam\"}), set1.update((1, 3, 5)), set1.update([3, 4, 7, 8]) → set1.update(set2)"
   ]
  },
  {
   "cell_type": "code",
   "execution_count": 19,
   "id": "c4463023",
   "metadata": {},
   "outputs": [
    {
     "name": "stdout",
     "output_type": "stream",
     "text": [
      "{1, 2, 3, 4, 5}\n"
     ]
    }
   ],
   "source": [
    "set1 = {1, 2, 3}\n",
    "set2 = {2, 3, 4, 5}\n",
    "\n",
    "set1.update(set2)\n",
    "\n",
    "\n",
    "print(set1)"
   ]
  },
  {
   "cell_type": "code",
   "execution_count": 20,
   "id": "3c8f68cd",
   "metadata": {
    "scrolled": true
   },
   "outputs": [
    {
     "ename": "TypeError",
     "evalue": "'int' object is not iterable",
     "output_type": "error",
     "traceback": [
      "\u001b[1;31m---------------------------------------------------------------------------\u001b[0m",
      "\u001b[1;31mTypeError\u001b[0m                                 Traceback (most recent call last)",
      "Cell \u001b[1;32mIn[20], line 3\u001b[0m\n\u001b[0;32m      1\u001b[0m set1 \u001b[38;5;241m=\u001b[39m {\u001b[38;5;241m1\u001b[39m, \u001b[38;5;241m2\u001b[39m, \u001b[38;5;241m3\u001b[39m}\n\u001b[1;32m----> 3\u001b[0m set1\u001b[38;5;241m.\u001b[39mupdate(\u001b[38;5;241m10\u001b[39m)\n",
      "\u001b[1;31mTypeError\u001b[0m: 'int' object is not iterable"
     ]
    }
   ],
   "source": [
    "set1 = {1, 2, 3}\n",
    "\n",
    "set1.update(10)      #iterable olmadigindan error verdi"
   ]
  },
  {
   "cell_type": "code",
   "execution_count": 31,
   "id": "6ff55f84",
   "metadata": {},
   "outputs": [
    {
     "data": {
      "text/plain": [
       "{1, 2, 3, 'S', 'a', 'l', 'm'}"
      ]
     },
     "execution_count": 31,
     "metadata": {},
     "output_type": "execute_result"
    }
   ],
   "source": [
    "set1 = {1, 2, 3}\n",
    "\n",
    "set1.update(\"Salam\")      #iterable olmadigindan error verdi\n",
    "\n",
    "set1"
   ]
  },
  {
   "cell_type": "code",
   "execution_count": 36,
   "id": "55268541",
   "metadata": {},
   "outputs": [
    {
     "data": {
      "text/plain": [
       "{1, 2, 3, 5, 8, 'salam'}"
      ]
     },
     "execution_count": 36,
     "metadata": {},
     "output_type": "execute_result"
    }
   ],
   "source": [
    "set1 = {1, 2, 3}\n",
    "\n",
    "set1.update({2, 5, 8, \"salam\"})\n",
    "\n",
    "set1"
   ]
  },
  {
   "cell_type": "code",
   "execution_count": 37,
   "id": "65f49575",
   "metadata": {},
   "outputs": [
    {
     "data": {
      "text/plain": [
       "{1, 2, 3, 5, 7, 8, 9, 'salam'}"
      ]
     },
     "execution_count": 37,
     "metadata": {},
     "output_type": "execute_result"
    }
   ],
   "source": [
    "set1.update((7, 8, 9))\n",
    "\n",
    "set1"
   ]
  },
  {
   "cell_type": "code",
   "execution_count": 38,
   "id": "5fb07b6f",
   "metadata": {},
   "outputs": [
    {
     "data": {
      "text/plain": [
       "{-8, 1, 2, 22, 3, 5, 7, 8, 9, 'salam'}"
      ]
     },
     "execution_count": 38,
     "metadata": {},
     "output_type": "execute_result"
    }
   ],
   "source": [
    "set1.update([3, 22, 7, -8])\n",
    "\n",
    "set1"
   ]
  },
  {
   "cell_type": "code",
   "execution_count": 40,
   "id": "ec2883fe",
   "metadata": {},
   "outputs": [
    {
     "data": {
      "text/plain": [
       "{1, 2, 3, 4, 5}"
      ]
     },
     "execution_count": 40,
     "metadata": {},
     "output_type": "execute_result"
    }
   ],
   "source": [
    "set1 = {1, 2, 3}\n",
    "set2 = {2, 3, 4, 5}\n",
    "\n",
    "\n",
    "set1 |= set2\n",
    "\n",
    "set1"
   ]
  },
  {
   "cell_type": "code",
   "execution_count": 41,
   "id": "ffbaeb2b",
   "metadata": {},
   "outputs": [
    {
     "data": {
      "text/plain": [
       "{2, 3, 4, 5}"
      ]
     },
     "execution_count": 41,
     "metadata": {},
     "output_type": "execute_result"
    }
   ],
   "source": [
    "set2"
   ]
  },
  {
   "cell_type": "markdown",
   "id": "9eb6d3f0",
   "metadata": {},
   "source": [
    "### 3. remove() → set-dən remove()-a yazdığımız qiyməti silirik və None qaytarır. Qiymət set-də yoxdursa KeyError: qiymət verir. → set1.remove(10)"
   ]
  },
  {
   "cell_type": "code",
   "execution_count": 43,
   "id": "b3982579",
   "metadata": {},
   "outputs": [
    {
     "ename": "KeyError",
     "evalue": "10",
     "output_type": "error",
     "traceback": [
      "\u001b[1;31m---------------------------------------------------------------------------\u001b[0m",
      "\u001b[1;31mKeyError\u001b[0m                                  Traceback (most recent call last)",
      "Cell \u001b[1;32mIn[43], line 4\u001b[0m\n\u001b[0;32m      1\u001b[0m set1 \u001b[38;5;241m=\u001b[39m {\u001b[38;5;241m1\u001b[39m, \u001b[38;5;241m2\u001b[39m, \u001b[38;5;241m3\u001b[39m}\n\u001b[1;32m----> 4\u001b[0m set1\u001b[38;5;241m.\u001b[39mremove(\u001b[38;5;241m10\u001b[39m)  \n\u001b[0;32m      6\u001b[0m set1\n",
      "\u001b[1;31mKeyError\u001b[0m: 10"
     ]
    }
   ],
   "source": [
    "set1 = {1, 2, 3}\n",
    "\n",
    "\n",
    "set1.remove(10)  \n",
    "\n",
    "set1"
   ]
  },
  {
   "cell_type": "code",
   "execution_count": 44,
   "id": "677ce74e",
   "metadata": {},
   "outputs": [
    {
     "data": {
      "text/plain": [
       "{1, 3}"
      ]
     },
     "execution_count": 44,
     "metadata": {},
     "output_type": "execute_result"
    }
   ],
   "source": [
    "set1 = {1, 2, 3}\n",
    "\n",
    "\n",
    "set1.remove(2)  \n",
    "\n",
    "set1"
   ]
  },
  {
   "cell_type": "markdown",
   "id": "acde517c",
   "metadata": {},
   "source": [
    "### 4. discard() → set-dən discard()-a yazdığımız qiyməti silirik və None qaytarır. Qiymət set-də yoxdursa set heç bir dəyişiklik olmadan çap olunur. → set1.discard(10)"
   ]
  },
  {
   "cell_type": "code",
   "execution_count": 1,
   "id": "f79fb6d5",
   "metadata": {},
   "outputs": [
    {
     "data": {
      "text/plain": [
       "{1, 2, 3}"
      ]
     },
     "execution_count": 1,
     "metadata": {},
     "output_type": "execute_result"
    }
   ],
   "source": [
    "set1 = {1, 2, 3}\n",
    "\n",
    "set1.discard(10)\n",
    "\n",
    "set1"
   ]
  },
  {
   "cell_type": "code",
   "execution_count": 3,
   "id": "25843d5f",
   "metadata": {},
   "outputs": [
    {
     "data": {
      "text/plain": [
       "{2, 3}"
      ]
     },
     "execution_count": 3,
     "metadata": {},
     "output_type": "execute_result"
    }
   ],
   "source": [
    "set1.discard(1)\n",
    "set1"
   ]
  },
  {
   "cell_type": "markdown",
   "id": "7d6e293d",
   "metadata": {},
   "source": [
    "### 5. pop() → pop() set-dən random olaraq bir element silir və həmin elementin qiymətini qaytarır. → set1.pop()"
   ]
  },
  {
   "cell_type": "code",
   "execution_count": 4,
   "id": "a6763979",
   "metadata": {},
   "outputs": [
    {
     "name": "stdout",
     "output_type": "stream",
     "text": [
      "11\n",
      "{10, 3, 21}\n"
     ]
    }
   ],
   "source": [
    "set1 = {10, 11, 21, 3}\n",
    "\n",
    "\n",
    "print(set1.pop())\n",
    "\n",
    "print(set1)\n"
   ]
  },
  {
   "cell_type": "markdown",
   "id": "f81f8c76",
   "metadata": {},
   "source": [
    "### 6. union() → set1.union(set2) bu set-ləri birləşdirir və yeni bir set yaradır ki, ya yeni bir dəyişənə yazılmalıdır, ya da print edilməlidir. → set3 = set1.union(set2)"
   ]
  },
  {
   "cell_type": "code",
   "execution_count": 5,
   "id": "225cf6cd",
   "metadata": {},
   "outputs": [
    {
     "data": {
      "text/plain": [
       "{1, 2, 3, 4, 5}"
      ]
     },
     "execution_count": 5,
     "metadata": {},
     "output_type": "execute_result"
    }
   ],
   "source": [
    "set1 = {1, 2, 3}\n",
    "set2 = {2, 3, 4, 5}\n",
    "\n",
    "set1.union(set2)"
   ]
  },
  {
   "cell_type": "code",
   "execution_count": 6,
   "id": "722a8d51",
   "metadata": {},
   "outputs": [
    {
     "data": {
      "text/plain": [
       "{1, 2, 3}"
      ]
     },
     "execution_count": 6,
     "metadata": {},
     "output_type": "execute_result"
    }
   ],
   "source": [
    "set1"
   ]
  },
  {
   "cell_type": "code",
   "execution_count": 7,
   "id": "72dd4dfe",
   "metadata": {},
   "outputs": [
    {
     "data": {
      "text/plain": [
       "{2, 3, 4, 5}"
      ]
     },
     "execution_count": 7,
     "metadata": {},
     "output_type": "execute_result"
    }
   ],
   "source": [
    "set2"
   ]
  },
  {
   "cell_type": "code",
   "execution_count": 8,
   "id": "4b4944a4",
   "metadata": {},
   "outputs": [
    {
     "data": {
      "text/plain": [
       "{1, 2, 3, 4, 5}"
      ]
     },
     "execution_count": 8,
     "metadata": {},
     "output_type": "execute_result"
    }
   ],
   "source": [
    "set3 = set1.union(set2)\n",
    "\n",
    "set3"
   ]
  },
  {
   "cell_type": "code",
   "execution_count": 9,
   "id": "d3d40393",
   "metadata": {},
   "outputs": [
    {
     "data": {
      "text/plain": [
       "{1, 2, 3, 4, 5, 'Baku', 'Ganca'}"
      ]
     },
     "execution_count": 9,
     "metadata": {},
     "output_type": "execute_result"
    }
   ],
   "source": [
    "set1 = {1, 2, 3}\n",
    "set2 = {2, 3, 4, 5}\n",
    "set3 = {\"Baku\", 'Ganca'}\n",
    "\n",
    "\n",
    "set4 = set1.union(set2, set3)\n",
    "\n",
    "set4"
   ]
  },
  {
   "cell_type": "markdown",
   "id": "714c6ccd",
   "metadata": {},
   "source": [
    "### 7. intersection() → set3 = set1.intersection(set2) bu set-lərin kəsişməsini verir və yeni bir set yaradır ki, ya yeni bir dəyişənə yazılmalıdır, ya da print edilməlidir. → set3 = set1.intersection(set2)"
   ]
  },
  {
   "cell_type": "code",
   "execution_count": 12,
   "id": "7ee3b0fe",
   "metadata": {},
   "outputs": [
    {
     "name": "stdout",
     "output_type": "stream",
     "text": [
      "{2, 3}\n"
     ]
    }
   ],
   "source": [
    "set1 = {1, 2, 3}\n",
    "set2 = {2, 3, 4, 5}\n",
    "\n",
    "set3 = set1.intersection(set2)\n",
    "\n",
    "print(set3)"
   ]
  },
  {
   "cell_type": "markdown",
   "id": "ef10d704",
   "metadata": {},
   "source": [
    "### 8. intersection_update() → set1.intersection_update(set2) bu set-lərin kəsişməsini birinci (set1) set-ə mənimsədir və None qaytarır. → set1.intersection_update(set2)"
   ]
  },
  {
   "cell_type": "code",
   "execution_count": 13,
   "id": "6dfb1a77",
   "metadata": {},
   "outputs": [
    {
     "name": "stdout",
     "output_type": "stream",
     "text": [
      "None\n"
     ]
    }
   ],
   "source": [
    "set1 = {1, 2, 3}\n",
    "set2 = {2, 3, 4, 5}\n",
    "\n",
    "set3 = set1.intersection_update(set2)\n",
    "\n",
    "print(set3)"
   ]
  },
  {
   "cell_type": "code",
   "execution_count": 14,
   "id": "66fa1527",
   "metadata": {},
   "outputs": [
    {
     "data": {
      "text/plain": [
       "{2, 3}"
      ]
     },
     "execution_count": 14,
     "metadata": {},
     "output_type": "execute_result"
    }
   ],
   "source": [
    "set1"
   ]
  },
  {
   "cell_type": "code",
   "execution_count": 15,
   "id": "3f7cecb6",
   "metadata": {},
   "outputs": [
    {
     "data": {
      "text/plain": [
       "{2, 3, 4, 5}"
      ]
     },
     "execution_count": 15,
     "metadata": {},
     "output_type": "execute_result"
    }
   ],
   "source": [
    "set2"
   ]
  },
  {
   "cell_type": "markdown",
   "id": "c7d03eac",
   "metadata": {},
   "source": [
    "### 9.difference() → set1.difference(set2) birinci set-dən ikinci set-də eyni olan elementlər çıxarılır və yeni bir set yaradır ki, ya yeni bir dəyişənə yazılmalıdır, ya da print edilməlidir. → set3 = set1.difference(set2)"
   ]
  },
  {
   "cell_type": "code",
   "execution_count": 16,
   "id": "8507e4fd",
   "metadata": {},
   "outputs": [
    {
     "name": "stdout",
     "output_type": "stream",
     "text": [
      "{1}\n"
     ]
    }
   ],
   "source": [
    "set1 = {1, 2, 3}\n",
    "set2 = {2, 3, 4, 5}\n",
    "\n",
    "set3 = set1.difference(set2)\n",
    "\n",
    "print(set3)"
   ]
  },
  {
   "cell_type": "code",
   "execution_count": 17,
   "id": "e4d1f55a",
   "metadata": {},
   "outputs": [
    {
     "data": {
      "text/plain": [
       "{1, 2, 3}"
      ]
     },
     "execution_count": 17,
     "metadata": {},
     "output_type": "execute_result"
    }
   ],
   "source": [
    "set1"
   ]
  },
  {
   "cell_type": "code",
   "execution_count": 18,
   "id": "fca328d3",
   "metadata": {},
   "outputs": [
    {
     "data": {
      "text/plain": [
       "{2, 3, 4, 5}"
      ]
     },
     "execution_count": 18,
     "metadata": {},
     "output_type": "execute_result"
    }
   ],
   "source": [
    "set2"
   ]
  },
  {
   "cell_type": "markdown",
   "id": "834b31f3",
   "metadata": {},
   "source": [
    "### 10. difference_update() → set1.difference_update(set2) birinci set-dən ikinci set-də eyni olan elementlər çıxarılır və birinci (set1) set-ə mənimsədilir və None qaytarır. → set1.difference_update(set2)"
   ]
  },
  {
   "cell_type": "code",
   "execution_count": 19,
   "id": "9a927008",
   "metadata": {},
   "outputs": [
    {
     "name": "stdout",
     "output_type": "stream",
     "text": [
      "None\n"
     ]
    }
   ],
   "source": [
    "set1 = {1, 2, 3}\n",
    "set2 = {2, 3, 4, 5}\n",
    "\n",
    "set3 = set1.difference_update(set2)\n",
    "\n",
    "print(set3)"
   ]
  },
  {
   "cell_type": "code",
   "execution_count": 20,
   "id": "cdbea19c",
   "metadata": {},
   "outputs": [
    {
     "data": {
      "text/plain": [
       "{1}"
      ]
     },
     "execution_count": 20,
     "metadata": {},
     "output_type": "execute_result"
    }
   ],
   "source": [
    "set1"
   ]
  },
  {
   "cell_type": "code",
   "execution_count": 21,
   "id": "90cc4a05",
   "metadata": {},
   "outputs": [
    {
     "data": {
      "text/plain": [
       "{2, 3, 4, 5}"
      ]
     },
     "execution_count": 21,
     "metadata": {},
     "output_type": "execute_result"
    }
   ],
   "source": [
    "set2"
   ]
  },
  {
   "cell_type": "markdown",
   "id": "0b478c84",
   "metadata": {},
   "source": [
    "### 11. symmetric_difference() → set1.symmetric_difference(set2) bu set-lərdə eyni olan elementlər çıxarılır və set-lər birləşdirilib yeni bir set yaradır ki, ya yeni bir dəyişənə yazılmalıdır, ya da print edilməlidir. → set3 = set1.symmetric_difference(set2)"
   ]
  },
  {
   "cell_type": "code",
   "execution_count": 23,
   "id": "38bf278b",
   "metadata": {},
   "outputs": [
    {
     "name": "stdout",
     "output_type": "stream",
     "text": [
      "{1, 4, 5}\n"
     ]
    }
   ],
   "source": [
    "set1 = {1, 2, 3}\n",
    "set2 = {2, 3, 4, 5}\n",
    "\n",
    "set3 = set1.symmetric_difference(set2)\n",
    "\n",
    "print(set3)"
   ]
  },
  {
   "cell_type": "markdown",
   "id": "e72a8cbd",
   "metadata": {},
   "source": [
    "### 12 symmetric_difference_update() → set1.symmetric_difference_update(set2) bu set-lərdə eyni olan elementlər çıxarılır və set-lər birləşdirilib birinci (set1) set-ə mənimsədilir və None qaytarır. → set1.symmetric_difference_update(set2)"
   ]
  },
  {
   "cell_type": "code",
   "execution_count": 26,
   "id": "98240a4a",
   "metadata": {},
   "outputs": [
    {
     "name": "stdout",
     "output_type": "stream",
     "text": [
      "None\n"
     ]
    }
   ],
   "source": [
    "set1 = {1, 2, 3}\n",
    "set2 = {2, 3, 4, 5}\n",
    "\n",
    "set3 = set1.symmetric_difference_update(set2)\n",
    "\n",
    "print(set3)"
   ]
  },
  {
   "cell_type": "code",
   "execution_count": 27,
   "id": "206a98c4",
   "metadata": {},
   "outputs": [
    {
     "data": {
      "text/plain": [
       "{1, 4, 5}"
      ]
     },
     "execution_count": 27,
     "metadata": {},
     "output_type": "execute_result"
    }
   ],
   "source": [
    "set1"
   ]
  },
  {
   "cell_type": "code",
   "execution_count": 28,
   "id": "32ce8843",
   "metadata": {},
   "outputs": [
    {
     "data": {
      "text/plain": [
       "{2, 3, 4, 5}"
      ]
     },
     "execution_count": 28,
     "metadata": {},
     "output_type": "execute_result"
    }
   ],
   "source": [
    "set2"
   ]
  },
  {
   "cell_type": "markdown",
   "id": "d1e70ac5",
   "metadata": {},
   "source": [
    "### 13. issubset() → set2.issubset(set1) set2 set1-in alt çoxluğudursa True, deyilse False verir. Ya yeni bir dəyişənə yazılmalıdır, ya da print edilməlidir. → a = set2.issubset(set1)"
   ]
  },
  {
   "cell_type": "code",
   "execution_count": 31,
   "id": "504e6894",
   "metadata": {},
   "outputs": [
    {
     "name": "stdout",
     "output_type": "stream",
     "text": [
      "True\n",
      "False\n"
     ]
    }
   ],
   "source": [
    "set1 = {1, 2, 3}\n",
    "set2 = {1,2}\n",
    "set3 = {2, 3, 4, 5}\n",
    "\n",
    "a = set2.issubset(set1)\n",
    "\n",
    "print(a)\n",
    "\n",
    "b = set3.issubset(set1)\n",
    "\n",
    "print(b)\n"
   ]
  },
  {
   "cell_type": "markdown",
   "id": "dfc81287",
   "metadata": {},
   "source": [
    "### 12. issuperset() → set1.issuperset(set2) set1 set2-in super çoxluğudursa True, deyilse False verir. Ya yeni bir dəyişənə yazılmalıdır, ya da print edilməlidir. → c = set1.issuperset(set2)"
   ]
  },
  {
   "cell_type": "code",
   "execution_count": 32,
   "id": "5959fb34",
   "metadata": {},
   "outputs": [
    {
     "name": "stdout",
     "output_type": "stream",
     "text": [
      "True\n",
      "False\n"
     ]
    }
   ],
   "source": [
    "set1 = {1, 2, 3}\n",
    "set2 = {1,2}\n",
    "\n",
    "a = set1.issuperset(set2)\n",
    "\n",
    "print(a)\n",
    "\n",
    "b = set2.issuperset(set1)\n",
    "\n",
    "print(b)"
   ]
  },
  {
   "cell_type": "markdown",
   "id": "83682f60",
   "metadata": {},
   "source": [
    "### 13. isdisjoint() → set1.isdisjoint(set2) set-lər kəsişirsə False, kəsişmirsə True verir. Ya yeni bir dəyişənə yazılmalıdır, ya da print edilməlidir. → j = set1.isdisjoint(set2)"
   ]
  },
  {
   "cell_type": "code",
   "execution_count": 35,
   "id": "347ceadb",
   "metadata": {},
   "outputs": [
    {
     "name": "stdout",
     "output_type": "stream",
     "text": [
      "False\n",
      "False\n",
      "True\n"
     ]
    }
   ],
   "source": [
    "set1 = {1, 2, 3}\n",
    "set2 = {1,2}\n",
    "set3 = {1, 10}\n",
    "set4 = {5, 6}\n",
    "\n",
    "a = set1.isdisjoint(set2)\n",
    "print(a)\n",
    "\n",
    "b = set1.isdisjoint(set3)\n",
    "print(b)\n",
    "\n",
    "c = set1.isdisjoint(set4)\n",
    "print(c)"
   ]
  },
  {
   "cell_type": "code",
   "execution_count": null,
   "id": "775c4449",
   "metadata": {},
   "outputs": [],
   "source": []
  },
  {
   "cell_type": "markdown",
   "id": "f35ac9a4",
   "metadata": {},
   "source": [
    "##   Dərs 5. Set. Set metodları.ev tapsiriqlari"
   ]
  },
  {
   "cell_type": "markdown",
   "id": "250ba2cf",
   "metadata": {},
   "source": [
    "### 1. Bir set dəyişəni götürün. Bu dəyişənə ardıcıl olaraq iki element əlavə edib çapa verin."
   ]
  },
  {
   "cell_type": "code",
   "execution_count": 36,
   "id": "1efa0a7a",
   "metadata": {},
   "outputs": [
    {
     "name": "stdout",
     "output_type": "stream",
     "text": [
      "{4, 5, 6, 7, 9}\n",
      "{4, 5, 6, 7, 9}\n"
     ]
    }
   ],
   "source": [
    "set1 = {4, 7, 9}\n",
    "\n",
    "set1.add(5)\n",
    "set1.add(6)\n",
    "\n",
    "print(set1)\n",
    "\n",
    "\n",
    "set1 = {4, 7, 9}\n",
    "\n",
    "set1.update((5, 6))\n",
    "\n",
    "print(set1)"
   ]
  },
  {
   "cell_type": "markdown",
   "id": "1a613a86",
   "metadata": {},
   "source": [
    "###  2. İki set dəyişəni götürün. Onların birləşməsi ilə kəsişməsini çapa verin."
   ]
  },
  {
   "cell_type": "code",
   "execution_count": 39,
   "id": "db037211",
   "metadata": {},
   "outputs": [
    {
     "name": "stdout",
     "output_type": "stream",
     "text": [
      "{49, 2, 3, 'salam', -4, 'ok'}\n",
      "{'salam'}\n"
     ]
    }
   ],
   "source": [
    "set1 = {'salam', 2, 3}\n",
    "\n",
    "set2 = {'salam', -4, 49, \"ok\"}\n",
    "\n",
    "set3 = set1.union(set2)\n",
    "\n",
    "set4 = set1.intersection(set2)\n",
    "\n",
    "print(set3)\n",
    "\n",
    "print(set4)\n"
   ]
  },
  {
   "cell_type": "markdown",
   "id": "ae1168c5",
   "metadata": {},
   "source": [
    "### 3. Bir set dəyişəni götürün. Bu dəyişəni başqa bir set dəyişəninə kopyalayın. Birinci seti təmizləyərək hər iki seti çapa verin."
   ]
  },
  {
   "cell_type": "code",
   "execution_count": 51,
   "id": "c2610b9a",
   "metadata": {},
   "outputs": [
    {
     "name": "stdout",
     "output_type": "stream",
     "text": [
      "set()\n",
      "{'Baki', 41, 'Merakesh', -99}\n"
     ]
    }
   ],
   "source": [
    "set1 = {41, \"Baki\", -99, \"Merakesh\"}\n",
    "\n",
    "set2 = set1.copy()\n",
    "\n",
    "set1.clear()\n",
    "\n",
    "print(set1)   \n",
    "\n",
    "print(set2)"
   ]
  },
  {
   "cell_type": "markdown",
   "id": "4a0ea927",
   "metadata": {},
   "source": [
    "### 4. İki set dəyişəni götürün və onların birləşməsini, kəsişməsini, fərqini, simmetrik fərqini çapa verin."
   ]
  },
  {
   "cell_type": "code",
   "execution_count": 53,
   "id": "cdf17978",
   "metadata": {},
   "outputs": [
    {
     "name": "stdout",
     "output_type": "stream",
     "text": [
      "{66, 44, 78, -44, -2, 55, -67, -1}\n",
      "{44, 78, 55}\n",
      "{66, -67}\n",
      "{66, -44, -1, -2, -67}\n"
     ]
    }
   ],
   "source": [
    "set1 = {78, -67, 44, 55 ,66}\n",
    "set2 = {-1, -2, -44, 44, 55, 78}\n",
    "\n",
    "print(set1.union(set2))\n",
    "\n",
    "print(set1.intersection(set2))\n",
    "\n",
    "print(set1.difference(set2))\n",
    "\n",
    "print(set1.symmetric_difference(set2))"
   ]
  },
  {
   "cell_type": "markdown",
   "id": "715e6bf8",
   "metadata": {},
   "source": [
    "### 5. İki set dəyişəni götürün. Birinci setin ikinci setin alt seti və super seti olub-olmadığını yoxlayın."
   ]
  },
  {
   "cell_type": "code",
   "execution_count": 54,
   "id": "e0467151",
   "metadata": {},
   "outputs": [
    {
     "name": "stdout",
     "output_type": "stream",
     "text": [
      "False\n",
      "True\n"
     ]
    }
   ],
   "source": [
    "set1 = {0, -99, \"Azerbaijan\", \"Iceri seher\", 10, 99, 77}\n",
    "set2 = {77, \"Azerbaijan\", 0}\n",
    "\n",
    "alt_set = set1.issubset(set2)\n",
    "\n",
    "super_set = set1.issuperset(set2)\n",
    "\n",
    "print(alt_set)\n",
    "\n",
    "print(super_set)"
   ]
  },
  {
   "cell_type": "markdown",
   "id": "324c3e8e",
   "metadata": {},
   "source": [
    "### 6. İki set dəyişəni götürün. Əvvəlcə bu setlərin kəsişməsi olub olmadığını yoxlayın. Sonra  kəsişməsini çapa verin."
   ]
  },
  {
   "cell_type": "code",
   "execution_count": 55,
   "id": "d2700d7b",
   "metadata": {},
   "outputs": [
    {
     "name": "stdout",
     "output_type": "stream",
     "text": [
      "False\n",
      "{'89', 'armud meyvesi', 12}\n"
     ]
    }
   ],
   "source": [
    "set1 = {\"55\", 55, 89, \"89\", 12, 'armud meyvesi'}\n",
    "\n",
    "set2 = {\"alma\", \"armud meyvesi\", 12, \"89\"}\n",
    "\n",
    "print(set1.isdisjoint(set2))\n",
    "\n",
    "print(set1.intersection(set2))\n"
   ]
  },
  {
   "cell_type": "markdown",
   "id": "034948a8",
   "metadata": {},
   "source": [
    "### 7. İki set dəyişəni götürün. Birinci setə ikinci seti əlavə edərək çapa verin."
   ]
  },
  {
   "cell_type": "code",
   "execution_count": 57,
   "id": "f4183435",
   "metadata": {},
   "outputs": [
    {
     "name": "stdout",
     "output_type": "stream",
     "text": [
      "{0, 1, 2, 3, 7, 8, 9, 'w', 'Table'}\n"
     ]
    }
   ],
   "source": [
    "set1 = {\"Table\", 9, 8, 7, 0}\n",
    "\n",
    "set2 = {0, \"w\", 1, 2, 3, 8, 7}\n",
    "\n",
    "set1.update(set2)\n",
    "\n",
    "\n",
    "print(set1)"
   ]
  },
  {
   "cell_type": "markdown",
   "id": "def1f9a5",
   "metadata": {},
   "source": [
    "###  8. Bir set dəyişəni götürün. Əvvəlcə setdən bir element silin. Sonra setə başqa bir  element əlavə edərək çapa verin."
   ]
  },
  {
   "cell_type": "code",
   "execution_count": 58,
   "id": "1d98dd1e",
   "metadata": {},
   "outputs": [
    {
     "name": "stdout",
     "output_type": "stream",
     "text": [
      "{99.99, 23, -90, 'Elnur', 'telefon'}\n"
     ]
    }
   ],
   "source": [
    "set1 = {\"Elnur\", \"telefon\", 23, -90, 89}\n",
    "\n",
    "set1.discard(89)   # ve ya  set81.remove(89)\n",
    "\n",
    "\n",
    "set1.add(99.99)\n",
    "\n",
    "print(set1)"
   ]
  },
  {
   "cell_type": "markdown",
   "id": "8de5f384",
   "metadata": {},
   "source": [
    "### 9. Üç set dəyişəni götürün. Birinci setdən bir element silin. İkinci setə bir element əlavə edin. Üçüncü setə bir neçə element əlavə edin. Birinci set ilə ikinci setin birləşməsini, birinci set ilə üçüncü setin kəsişməsini, birinci set ilə üçüncü setin fərqini çapa verin."
   ]
  },
  {
   "cell_type": "code",
   "execution_count": 59,
   "id": "ba54cb2f",
   "metadata": {},
   "outputs": [
    {
     "name": "stdout",
     "output_type": "stream",
     "text": [
      "{'Nou Camp', 0, 4, 'back end web dveloper', -23, 'komputer', 89, 'Kim Cen In'}\n",
      "{4}\n",
      "{'Nou Camp', 89, 'komputer'}\n"
     ]
    }
   ],
   "source": [
    "set1 = {\"komputer\", \"Nou Camp\", 89, 4, 3}\n",
    "set2 = {4, \"komputer\", \"Kim Cen In\", 0, -23}\n",
    "set3 = {12, 34, -900, 1000.5}\n",
    "\n",
    "set1.discard(3)\n",
    "set2.add(\"back end web dveloper\")\n",
    "set3.update((\"tort\", 4, 899.09,))\n",
    "\n",
    "\n",
    "print(set1.union(set2))\n",
    "\n",
    "print(set1.intersection(set3))\n",
    "\n",
    "print(set1.difference(set3))"
   ]
  },
  {
   "cell_type": "markdown",
   "id": "391e0173",
   "metadata": {},
   "source": [
    "### 10. Bir list dəyişəni götürün və bu listdəki eyni elementləri ataraq çapa verin."
   ]
  },
  {
   "cell_type": "code",
   "execution_count": 61,
   "id": "1f1b44b7",
   "metadata": {},
   "outputs": [
    {
     "name": "stdout",
     "output_type": "stream",
     "text": [
      "['Don Ki Xot', 90, 12, -12]\n"
     ]
    }
   ],
   "source": [
    "\n",
    "list1 = [12, -12, 90, -12, \"Don Ki Xot\", 'Don Ki Xot']\n",
    "\n",
    "list1 = list(set(list1))\n",
    "\n",
    "print(list1)"
   ]
  },
  {
   "cell_type": "code",
   "execution_count": null,
   "id": "2f4f049d",
   "metadata": {},
   "outputs": [],
   "source": []
  }
 ],
 "metadata": {
  "kernelspec": {
   "display_name": "Python 3 (ipykernel)",
   "language": "python",
   "name": "python3"
  },
  "language_info": {
   "codemirror_mode": {
    "name": "ipython",
    "version": 3
   },
   "file_extension": ".py",
   "mimetype": "text/x-python",
   "name": "python",
   "nbconvert_exporter": "python",
   "pygments_lexer": "ipython3",
   "version": "3.11.5"
  }
 },
 "nbformat": 4,
 "nbformat_minor": 5
}
