{
 "cells": [
  {
   "cell_type": "markdown",
   "id": "a48518c1",
   "metadata": {},
   "source": [
    "## Set Functions"
   ]
  },
  {
   "cell_type": "markdown",
   "id": "2d964841",
   "metadata": {},
   "source": [
    "\n",
    "\n",
    "* `add()` → set-ə yalnız bir qiymət əlavə edir və `None` qaytarır\n",
    "  → `set1.add(5)`\n",
    "---\n",
    "* `update()` → set-ə iterable tipli dəyişən əlavə etmək üçün `update()`-ə iterable-i yazırıq və `None` qaytarır\n",
    "  → `set1.update({2, 5, 8, \"salam\"})`, `set1.update((1, 3, 5))`, `set1.update([3, 4, 7, 8])`\n",
    "  → `set1.update(set2)`\n",
    "---\n",
    "* `remove()` → set-dən `remove()`-a yazdığımız qiyməti silirik və `None` qaytarır. Qiymət set-də yoxdursa `KeyError: qiymət` verir.\n",
    "  → `set1.remove(10)`\n",
    "---\n",
    "* `discard()` → set-dən `discard()`-a yazdığımız qiyməti silirik və `None` qaytarır. Qiymət set-də yoxdursa set heç bir dəyişiklik olmadan çap olunur.\n",
    "  → `set1.discard(10)`\n",
    "---\n",
    "* `pop()` → `pop()` set-dən random olaraq bir element silir və həmin elementin qiymətini qaytarır.\n",
    "  → `set1.pop()`\n",
    "---\n",
    "* `union()` → `set1.union(set2)` bu set-ləri birləşdirir və yeni bir set yaradır ki, ya yeni bir dəyişənə yazılmalıdır, ya da `print` edilməlidir.\n",
    "  → `set3 = set1.union(set2)`\n",
    "---\n",
    "* `intersection()` → `set3 = set1.intersection(set2)` bu set-lərin kəsişməsini verir və yeni bir set yaradır ki, ya yeni bir dəyişənə yazılmalıdır, ya da `print` edilməlidir.\n",
    "  → `set3 = set1.intersection(set2)`\n",
    "---\n",
    "* `intersection_update()` → `set1.intersection_update(set2)` bu set-lərin kəsişməsini birinci (`set1`) set-ə mənimsədir və `None` qaytarır.\n",
    "  → `set1.intersection_update(set2)`\n",
    "---\n",
    "* `difference()` → `set1.difference(set2)` birinci set-dən ikinci set-də eyni olan elementlər çıxarılır və yeni bir set yaradır ki, ya yeni bir dəyişənə yazılmalıdır, ya da `print` edilməlidir.\n",
    "  → `set3 = set1.difference(set2)`\n",
    "---\n",
    "* `difference_update()` → `set1.difference_update(set2)` birinci set-dən ikinci set-də eyni olan elementlər çıxarılır və birinci (`set1`) set-ə mənimsədilir və `None` qaytarır.\n",
    "  → `set1.difference_update(set2)`\n",
    "---\n",
    "* `symmetric_difference()` → `set1.symmetric_difference(set2)` bu set-lərdə eyni olan elementlər çıxarılır və set-lər birləşdirilib yeni bir set yaradır ki, ya yeni bir dəyişənə yazılmalıdır, ya da `print` edilməlidir.\n",
    "  → `set3 = set1.symmetric_difference(set2)`\n",
    "---\n",
    "* `symmetric_difference_update()` → `set1.symmetric_difference_update(set2)` bu set-lərdə eyni olan elementlər çıxarılır və set-lər birləşdirilib birinci (`set1`) set-ə mənimsədilir və `None` qaytarır.\n",
    "  → `set1.symmetric_difference_update(set2)`\n",
    "---\n",
    "* `issubset()` → `set2.issubset(set1)` `set2` set1-in alt çoxluğudursa `True`, deyilse `False` verir. Ya yeni bir dəyişənə yazılmalıdır, ya da `print` edilməlidir.\n",
    "  → `a = set2.issubset(set1)`\n",
    "---\n",
    "* `issuperset()` → `set1.issuperset(set2)` `set1` set2-in super çoxluğudursa `True`, deyilse `False` verir. Ya yeni bir dəyişənə yazılmalıdır, ya da `print` edilməlidir.\n",
    "  → `c = set1.issuperset(set2)`\n",
    "---\n",
    "* `isdisjoint()` → `set1.isdisjoint(set2)` set-lər kəsişirsə `False`, kəsişmirsə `True` verir. Ya yeni bir dəyişənə yazılmalıdır, ya da `print` edilməlidir.\n",
    "  → `j = set1.isdisjoint(set2)`\n",
    "---\n",
    "\n",
    "- **Setde indekslenme ve element sirasi yoxdur. Elemente muraciet etmek olmur. Eyni elementden yalniz birini saxlayir.**"
   ]
  },
  {
   "cell_type": "code",
   "execution_count": null,
   "id": "3e51825f",
   "metadata": {},
   "outputs": [],
   "source": [
    "                                   ## set metodlarinin formullari ##\n",
    "\n",
    "\n",
    "set1 ={1, 2, 3}\n",
    "set2= {2, 3, 4, 4, 8}\n",
    "\n",
    "set1.add(5)\n",
    "set1.update(set2)\n",
    "set1.remove(10)\n",
    "set1.discard(10)\n",
    "set1.pop()\n",
    "set3 = set1.union(set2)\n",
    "set3 = set1.intersection(set2)\n",
    "set1.intersection_update(set2)\n",
    "set3 = set1.difference(set2)\n",
    "set1.difference_update(set2)\n",
    "set3 = set1.symmetric_difference(set2)\n",
    "set1.symmetric_difference_update(set2)\n",
    "a = set2.issubset(set1)\n",
    "c = set1.issuperset(set2)\n",
    "j = set1.isdisjoint(set2)"
   ]
  },
  {
   "cell_type": "code",
   "execution_count": null,
   "id": "1f1a5523",
   "metadata": {},
   "outputs": [],
   "source": []
  }
 ],
 "metadata": {
  "kernelspec": {
   "display_name": "Python 3 (ipykernel)",
   "language": "python",
   "name": "python3"
  },
  "language_info": {
   "codemirror_mode": {
    "name": "ipython",
    "version": 3
   },
   "file_extension": ".py",
   "mimetype": "text/x-python",
   "name": "python",
   "nbconvert_exporter": "python",
   "pygments_lexer": "ipython3",
   "version": "3.11.5"
  }
 },
 "nbformat": 4,
 "nbformat_minor": 5
}
