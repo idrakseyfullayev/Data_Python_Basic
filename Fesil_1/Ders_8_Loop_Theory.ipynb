{
 "cells": [
  {
   "cell_type": "markdown",
   "id": "be515005",
   "metadata": {},
   "source": [
    "\n",
    "### Dövr operatorları\n",
    "\n",
    "* `range(a, b, c)` → `a`-dan `b`-yə kimi olan ədədləri `c` addımı ilə qaytarır\n",
    "  → `for i in range(a, b, c):`\n",
    "  → `print(\"Hello World\")`\n",
    "---\n",
    "* `for` → dövr operatoru daxilində yazılmış əməliyyatları dövr bitənədək icra edir. Burada `i` dəyişəni iteratordur, hər dəfə qiyməti `c` qədər artır\n",
    "  → `for i in range(1, 5, 1):`\n",
    "  → `print(i)`\n",
    "---\n",
    "* `for i in iterable` → burada `i` iteratoru `iterable`-in elementləridir. Dövr `iterable`-in elementləri bitənədək davam edir\n",
    "  → `for i in \"salam\":`\n",
    "  → `print(i)`\n"
   ]
  },
  {
   "cell_type": "code",
   "execution_count": null,
   "id": "1597785e",
   "metadata": {},
   "outputs": [],
   "source": [
    "\n",
    "text = \"salam\"\n",
    "\n",
    "for i in range(len(text)):\n",
    "    print(text[i:])\n",
    "\n",
    "\n",
    "text = input()\n",
    "\n",
    "for i in range(len(text)):\n",
    "    print(text[i:])    \n",
    "\n",
    "\n",
    "\n",
    "\n",
    "text = \"salam\"\n",
    "\n",
    "for i in range(len(text)):\n",
    "    print(text[0:len(text)-i])\n",
    "\n",
    "\n",
    "\n",
    "\n",
    "text = input()\n",
    "\n",
    "for i in range(len(text)):\n",
    "    print(text[0:len(text)-i])\n",
    "\n",
    "\n",
    "\n",
    "\n",
    "list = []\n",
    "\n",
    "\n",
    "for i in range(5):\n",
    "    x = int(input())\n",
    "    list.append(x)\n",
    "\n",
    "print(list) "
   ]
  }
 ],
 "metadata": {
  "kernelspec": {
   "display_name": "Python 3 (ipykernel)",
   "language": "python",
   "name": "python3"
  },
  "language_info": {
   "codemirror_mode": {
    "name": "ipython",
    "version": 3
   },
   "file_extension": ".py",
   "mimetype": "text/x-python",
   "name": "python",
   "nbconvert_exporter": "python",
   "pygments_lexer": "ipython3",
   "version": "3.11.5"
  }
 },
 "nbformat": 4,
 "nbformat_minor": 5
}
