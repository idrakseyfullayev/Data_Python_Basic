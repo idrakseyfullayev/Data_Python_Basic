{
 "cells": [
  {
   "cell_type": "markdown",
   "id": "8f20feee",
   "metadata": {},
   "source": [
    "## String Functions"
   ]
  },
  {
   "cell_type": "markdown",
   "id": "efbda85b",
   "metadata": {},
   "source": [
    "\n",
    "\n",
    "### `string1 = \"salam\"`\n",
    "\n",
    "* `string1.capitalize()` → Birinci simvolu böyük hərflərə çevirir\n",
    "* `string1.casefold()` → Sətri kiçik hərflərə çevirir\n",
    "* `string1.center()` → Mərkəzləşdirilmiş sətri qaytarır\n",
    "* `string1.count()` → Müəyyən edilmiş dəyərin sətirdə neçə dəfə baş verdiyini qaytarır\n",
    "* `string1.encode()` → Sətirin kodlanmış versiyasını qaytarır\n",
    "* `string1.endswith()` → Sətir müəyyən edilmiş dəyərlə bitərsə, doğru qaytarır\n",
    "* `string1.expandtabs()` → Sətirin tab ölçüsünü təyin edir\n",
    "* `string1.find()` → Müəyyən edilmiş dəyər üçün sətri axtarır və tapıldığı yeri qaytarır\n",
    "* `string1.format()` → Sətirdə müəyyən edilmiş dəyərləri formatlayır\n",
    "* `string1.format_map()` → Sətirdə müəyyən edilmiş dəyərləri formatlayır\n",
    "* `string1.index()` → Müəyyən edilmiş dəyər üçün sətri axtarır və tapıldığı yeri qaytarır\n",
    "* `string1.isalnum()` → Sətirdəki bütün simvollar alfasayısaldırsa, True qaytarır\n",
    "* `string1.isalpha()` → Sətirdəki bütün simvollar əlifbadadırsa, True qaytarır\n",
    "* `string1.isascii()` → Sətirdəki bütün simvollar ascii simvollarıdırsa, True qaytarır\n",
    "* `string1.isdecimal()` → Sətirdəki bütün simvollar ondalıqdırsa, True qaytarır\n",
    "* `string1.isdigit()` → Sətirdəki bütün simvollar rəqəmdirsə, True qaytarır\n",
    "* `string1.isidentifier()` → Sətir identifikatordursa, True qaytarır\n",
    "* `string1.islower()` → Sətirdəki bütün simvollar kiçik hərfdirsə True qaytarır\n",
    "* `string1.isnumeric()` → Sətirdəki bütün simvollar rəqəmlidirsə, True qaytarır\n",
    "* `string1.isprintable()` → Sətirdəki bütün simvollar çap edilə bilərsə, True qaytarır\n",
    "* `string1.isspace()` → Sətirdəki bütün simvollar boşluqdursa, True qaytarır\n",
    "* `string1.istitle()` → Sətir başlığın qaydalarına əməl edirsə, True qaytarır\n",
    "* `string1.isupper()` → Sətirdəki bütün simvollar böyük hərfdirsə, True qaytarır\n",
    "* `string1.join()` → Təkrarlanan elementləri sətirə çevirir\n",
    "* `string1.ljust()` → Sətirin sola əsaslandırılmış versiyasını qaytarır\n",
    "* `string1.lower()` → Sətri kiçik hərflərə çevirir\n",
    "* `string1.lstrip()` → Sətin sol trim versiyasını qaytarır\n",
    "* `string1.maketrans()` → Tərcümələrdə istifadə ediləcək tərcümə cədvəlini qaytarır\n",
    "* `string1.partition()` → Sətin üç hissəyə bölündüyü bir dəzgahı qaytarır\n",
    "* `string1.replace()` → Müəyyən edilmiş dəyərin müəyyən edilmiş dəyərlə əvəz edildiyi sətri qaytarır\n",
    "* `string1.rfind()` → Müəyyən edilmiş dəyər üçün sətri axtarır və tapıldığı yerin son mövqeyini qaytarır\n",
    "* `string1.rindex()` → Müəyyən edilmiş dəyər üçün sətri axtarır və tapıldığı yerin son mövqeyini qaytarır\n",
    "* `string1.rjust()` → Sətirin sağa əsaslanan versiyasını qaytarır\n",
    "* `string1.rpartition()` → Sətin üç hissəyə bölündüyü bir dəzgahı qaytarır\n",
    "* `string1.rsplit()` → Göstərilən ayırıcıda sətri bölür və siyahını qaytarır\n",
    "* `string1.rstrip()` → Sətin sağ trim versiyasını qaytarır\n",
    "* `string1.split()` → Göstərilən ayırıcıda sətri bölür və siyahını qaytarır\n",
    "* `string1.splitlines()` → Sətir fasilələrində sətri bölür və siyahı qaytarır\n",
    "* `string1.startswith()` → Sətir müəyyən edilmiş dəyərlə başlayırsa, doğru qaytarır\n",
    "* `string1.strip()` → Sətin kəsilmiş versiyasını qaytarır\n",
    "* `string1.swapcase()` → Rəqəmləri dəyişdirir, kiçik hərf böyük hərf olur və əksinə\n",
    "* `string1.title()` → Hər sözün ilk simvolunu böyük hərfə çevirir\n",
    "* `string1.translate()` → Tərcümə edilmiş sətri qaytarır\n",
    "* `string1.upper()` → Sətri böyük hərflərə çevirir\n",
    "* `string1.zfill()` → Sətri əvvəlində müəyyən edilmiş 0 dəyəri ilə doldurur\n",
    "\n",
    "---\n",
    "\n",
    "**Qeyd:** Bütün sətir metodları yeni dəyərləri qaytarır. Orijinal simli dəyişdirmirlər.\n",
    "\n",
    "---\n",
    "\n",
    "### Əlavə nümunələr:\n",
    "\n",
    "* `string1 = \"xosgeldiniz\"`\n",
    "  `string1.removeprefix(\"xos\")` → xos prefiksini silir → `geldiniz`\n",
    "* `string1 = \"xosgeldiniz\"`\n",
    "  `string1.removesuffix(\"iz\")` → iz sonluğunu silir → `xosgeldin`\n",
    "* `string1 = \"xosgeldiniz\"`\n",
    "  `string1.replace(\"gel\", \"\")` → \"gel\" hissəsini boşluqla əvəz edir → `xosdiniz`\n",
    "\n",
    "---\n",
    "\n",
    "Hamısını bu formada fayl şəklində istəsən, `.txt`, `.md` və ya `.xlsx` faylı kimi də hazırlaya bilərəm. İstəyirsən?\n"
   ]
  },
  {
   "cell_type": "code",
   "execution_count": null,
   "id": "8f003bdb",
   "metadata": {},
   "outputs": [],
   "source": []
  }
 ],
 "metadata": {
  "kernelspec": {
   "display_name": "Python 3 (ipykernel)",
   "language": "python",
   "name": "python3"
  },
  "language_info": {
   "codemirror_mode": {
    "name": "ipython",
    "version": 3
   },
   "file_extension": ".py",
   "mimetype": "text/x-python",
   "name": "python",
   "nbconvert_exporter": "python",
   "pygments_lexer": "ipython3",
   "version": "3.11.5"
  }
 },
 "nbformat": 4,
 "nbformat_minor": 5
}
