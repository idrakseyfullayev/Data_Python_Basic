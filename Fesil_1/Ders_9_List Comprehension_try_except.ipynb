{
 "cells": [
  {
   "cell_type": "markdown",
   "id": "0dce1bd6",
   "metadata": {},
   "source": [
    "## List comprehesion"
   ]
  },
  {
   "cell_type": "code",
   "execution_count": 1,
   "id": "6c4d139e",
   "metadata": {},
   "outputs": [
    {
     "name": "stdout",
     "output_type": "stream",
     "text": [
      "5\n",
      "1\n",
      "2\n",
      "3\n",
      "4\n",
      "5\n"
     ]
    },
    {
     "data": {
      "text/plain": [
       "[1, 2, 3, 4, 5]"
      ]
     },
     "execution_count": 1,
     "metadata": {},
     "output_type": "execute_result"
    }
   ],
   "source": [
    "# adi qayda\n",
    "\n",
    "list1 = []\n",
    "a = int(input())\n",
    "\n",
    "for i in range(a):\n",
    "    b = int(input())\n",
    "    list1.append(b)\n",
    "    \n",
    "list1    "
   ]
  },
  {
   "cell_type": "code",
   "execution_count": 2,
   "id": "05007ef2",
   "metadata": {},
   "outputs": [
    {
     "name": "stdout",
     "output_type": "stream",
     "text": [
      "5\n",
      "1\n",
      "2\n",
      "3\n",
      "4\n",
      "5\n",
      "[1, 2, 3, 4, 5]\n"
     ]
    }
   ],
   "source": [
    "# list comprehesion \n",
    "\n",
    "a = int(input())\n",
    "list1 = [int(input()) for i in range(a)]\n",
    "\n",
    "print(list1)"
   ]
  },
  {
   "cell_type": "code",
   "execution_count": 3,
   "id": "32443509",
   "metadata": {},
   "outputs": [
    {
     "name": "stdout",
     "output_type": "stream",
     "text": [
      "5\n",
      "1\n",
      "2\n",
      "3\n",
      "4\n",
      "5\n",
      "[1, 2, 3, 4, 5]\n"
     ]
    }
   ],
   "source": [
    "list1 = [int(input()) for i in range(int(input()))]\n",
    "\n",
    "print(list1)"
   ]
  },
  {
   "cell_type": "markdown",
   "id": "04f2a610",
   "metadata": {},
   "source": [
    "## Data Analita üçün lazım olan"
   ]
  },
  {
   "cell_type": "code",
   "execution_count": 10,
   "id": "6777d6f3",
   "metadata": {},
   "outputs": [
    {
     "name": "stdout",
     "output_type": "stream",
     "text": [
      "0, 1, 2, 3, 4, "
     ]
    }
   ],
   "source": [
    "for i in range(5):\n",
    "    print(i, end=\", \")"
   ]
  },
  {
   "cell_type": "code",
   "execution_count": 11,
   "id": "e14a7f1a",
   "metadata": {},
   "outputs": [
    {
     "data": {
      "text/plain": [
       "[0, 1, 2, 3, 4]"
      ]
     },
     "execution_count": 11,
     "metadata": {},
     "output_type": "execute_result"
    }
   ],
   "source": [
    "list1 = []\n",
    "\n",
    "for i in range(5):\n",
    "    list1.append(i)\n",
    "\n",
    "list1"
   ]
  },
  {
   "cell_type": "code",
   "execution_count": 12,
   "id": "f4db90a5",
   "metadata": {},
   "outputs": [
    {
     "data": {
      "text/plain": [
       "[0, 1, 2, 3, 4]"
      ]
     },
     "execution_count": 12,
     "metadata": {},
     "output_type": "execute_result"
    }
   ],
   "source": [
    "list1 = [i for i in range(5)]\n",
    "\n",
    "list1"
   ]
  },
  {
   "cell_type": "code",
   "execution_count": 13,
   "id": "d4f72e19",
   "metadata": {},
   "outputs": [
    {
     "data": {
      "text/plain": [
       "[0, 1, 4, 9, 16]"
      ]
     },
     "execution_count": 13,
     "metadata": {},
     "output_type": "execute_result"
    }
   ],
   "source": [
    "list1 = [i**2 for i in range(5)]\n",
    "\n",
    "list1"
   ]
  },
  {
   "cell_type": "code",
   "execution_count": 17,
   "id": "7fd360e8",
   "metadata": {},
   "outputs": [
    {
     "name": "stdout",
     "output_type": "stream",
     "text": [
      "[15, 15, 15, 15, 15]\n"
     ]
    }
   ],
   "source": [
    "a = 5\n",
    "b = 10\n",
    "\n",
    "list1 = [a + b for i in range(5)]\n",
    "\n",
    "print(list1)"
   ]
  },
  {
   "cell_type": "code",
   "execution_count": 19,
   "id": "154cd25e",
   "metadata": {},
   "outputs": [
    {
     "data": {
      "text/plain": [
       "[15, 16, 17, 18, 19]"
      ]
     },
     "execution_count": 19,
     "metadata": {},
     "output_type": "execute_result"
    }
   ],
   "source": [
    "a = 5\n",
    "b = 10\n",
    "\n",
    "list1 = [a + b + i for i in range(5)]\n",
    "list1"
   ]
  },
  {
   "cell_type": "code",
   "execution_count": 23,
   "id": "db22d28a",
   "metadata": {},
   "outputs": [
    {
     "name": "stdout",
     "output_type": "stream",
     "text": [
      "[]\n"
     ]
    }
   ],
   "source": [
    "a = 10\n",
    "b = 9\n",
    "\n",
    "list1 = [i for i in range(5) if a < b]\n",
    "\n",
    "print(list1)"
   ]
  },
  {
   "cell_type": "code",
   "execution_count": 32,
   "id": "24810aef",
   "metadata": {},
   "outputs": [
    {
     "data": {
      "text/plain": [
       "[0, 1, 4, 9, 16]"
      ]
     },
     "execution_count": 32,
     "metadata": {},
     "output_type": "execute_result"
    }
   ],
   "source": [
    "a = 6\n",
    "b = 7\n",
    "\n",
    "if a > b:\n",
    "    c = a\n",
    "else:\n",
    "    c = b\n",
    "\n",
    "c = a if a > b else b\n",
    "\n",
    "\n",
    "list1 = [i if a > b else i**2 for i in range(5)]\n",
    "\n",
    "list1\n"
   ]
  },
  {
   "cell_type": "markdown",
   "id": "11504fa9",
   "metadata": {},
   "source": [
    "### Exception Handling: try , expect"
   ]
  },
  {
   "cell_type": "code",
   "execution_count": 37,
   "id": "df296091",
   "metadata": {},
   "outputs": [
    {
     "ename": "ZeroDivisionError",
     "evalue": "integer division or modulo by zero",
     "output_type": "error",
     "traceback": [
      "\u001b[1;31m---------------------------------------------------------------------------\u001b[0m",
      "\u001b[1;31mZeroDivisionError\u001b[0m                         Traceback (most recent call last)",
      "Cell \u001b[1;32mIn[37], line 4\u001b[0m\n\u001b[0;32m      1\u001b[0m a \u001b[38;5;241m=\u001b[39m \u001b[38;5;241m10\u001b[39m\n\u001b[0;32m      2\u001b[0m b \u001b[38;5;241m=\u001b[39m \u001b[38;5;241m0\u001b[39m\n\u001b[1;32m----> 4\u001b[0m c \u001b[38;5;241m=\u001b[39m a\u001b[38;5;241m/\u001b[39m\u001b[38;5;241m/\u001b[39mb\n",
      "\u001b[1;31mZeroDivisionError\u001b[0m: integer division or modulo by zero"
     ]
    }
   ],
   "source": [
    "a = 10\n",
    "b = 0\n",
    "\n",
    "c = a//b\n"
   ]
  },
  {
   "cell_type": "code",
   "execution_count": 39,
   "id": "02df3de4",
   "metadata": {},
   "outputs": [
    {
     "name": "stdout",
     "output_type": "stream",
     "text": [
      "0-a bolmek olmaz\n"
     ]
    }
   ],
   "source": [
    "a = 10\n",
    "b = 0\n",
    "\n",
    "try:\n",
    "    c = a//b\n",
    "except:\n",
    "    print(\"0-a bolmek olmaz\")"
   ]
  },
  {
   "cell_type": "code",
   "execution_count": 40,
   "id": "e1a985f5",
   "metadata": {},
   "outputs": [
    {
     "name": "stdout",
     "output_type": "stream",
     "text": [
      "0\n"
     ]
    }
   ],
   "source": [
    "a = 0\n",
    "b = 10\n",
    "\n",
    "try:\n",
    "    c = a//b\n",
    "    print(c)\n",
    "except:\n",
    "    print(\"0-a bolmek olmaz\")"
   ]
  },
  {
   "cell_type": "code",
   "execution_count": 41,
   "id": "29c706ed",
   "metadata": {},
   "outputs": [
    {
     "name": "stdout",
     "output_type": "stream",
     "text": [
      "toplamaq olmaz\n"
     ]
    }
   ],
   "source": [
    "a = 5\n",
    "b = \"5\"\n",
    "\n",
    "try:\n",
    "    c = a + b\n",
    "except:\n",
    "    print(\"toplamaq olmaz\")  "
   ]
  },
  {
   "cell_type": "code",
   "execution_count": 42,
   "id": "462b9481",
   "metadata": {},
   "outputs": [
    {
     "name": "stdout",
     "output_type": "stream",
     "text": [
      "toplamaq olmaz\n",
      "eded daxil edin\n"
     ]
    }
   ],
   "source": [
    "a = 5\n",
    "b = \"5\"\n",
    "\n",
    "try:\n",
    "    c = a + b\n",
    "except:\n",
    "    print(\"toplamaq olmaz\")   \n",
    "finally:\n",
    "    print(\"eded daxil edin\")"
   ]
  },
  {
   "cell_type": "code",
   "execution_count": 43,
   "id": "306446b2",
   "metadata": {},
   "outputs": [
    {
     "name": "stdout",
     "output_type": "stream",
     "text": [
      "eded daxil edin\n"
     ]
    }
   ],
   "source": [
    "a = 5\n",
    "b = 5\n",
    "\n",
    "try:\n",
    "    c = a + b\n",
    "except:\n",
    "    print(\"toplamaq olmaz\")   \n",
    "finally:\n",
    "    print(\"eded daxil edin\")"
   ]
  },
  {
   "cell_type": "code",
   "execution_count": 50,
   "id": "3b8a28c6",
   "metadata": {},
   "outputs": [
    {
     "name": "stdout",
     "output_type": "stream",
     "text": [
      "Zehmet olmasa eded daxil edin\n"
     ]
    }
   ],
   "source": [
    "try:\n",
    "    a = 1\n",
    "    b = \"0\"\n",
    "    c = a/b\n",
    "except TypeError:\n",
    "    print(\"Zehmet olmasa eded daxil edin\")   "
   ]
  },
  {
   "cell_type": "code",
   "execution_count": 52,
   "id": "17609189",
   "metadata": {},
   "outputs": [
    {
     "ename": "ZeroDivisionError",
     "evalue": "division by zero",
     "output_type": "error",
     "traceback": [
      "\u001b[1;31m---------------------------------------------------------------------------\u001b[0m",
      "\u001b[1;31mZeroDivisionError\u001b[0m                         Traceback (most recent call last)",
      "Cell \u001b[1;32mIn[52], line 4\u001b[0m\n\u001b[0;32m      2\u001b[0m     a \u001b[38;5;241m=\u001b[39m \u001b[38;5;241m1\u001b[39m\n\u001b[0;32m      3\u001b[0m     b \u001b[38;5;241m=\u001b[39m \u001b[38;5;241m0\u001b[39m\n\u001b[1;32m----> 4\u001b[0m     c \u001b[38;5;241m=\u001b[39m a\u001b[38;5;241m/\u001b[39mb\n\u001b[0;32m      5\u001b[0m \u001b[38;5;28;01mexcept\u001b[39;00m \u001b[38;5;167;01mValueError\u001b[39;00m:\n\u001b[0;32m      6\u001b[0m     \u001b[38;5;28mprint\u001b[39m(\u001b[38;5;124m\"\u001b[39m\u001b[38;5;124mZehmet olmasa eded daxil edin\u001b[39m\u001b[38;5;124m\"\u001b[39m)\n",
      "\u001b[1;31mZeroDivisionError\u001b[0m: division by zero"
     ]
    }
   ],
   "source": [
    "try:\n",
    "    a = 1\n",
    "    b = 0\n",
    "    c = a/b\n",
    "except ValueError:\n",
    "    print(\"Zehmet olmasa eded daxil edin\") "
   ]
  },
  {
   "cell_type": "code",
   "execution_count": 53,
   "id": "a670476f",
   "metadata": {},
   "outputs": [
    {
     "name": "stdout",
     "output_type": "stream",
     "text": [
      "Zehmet olmasa eded daxil edin\n"
     ]
    }
   ],
   "source": [
    "try:\n",
    "    a = 1\n",
    "    b = 0\n",
    "    c = a/b\n",
    "except ZeroDivisionError:\n",
    "    print(\"Zehmet olmasa eded daxil edin\") "
   ]
  },
  {
   "cell_type": "code",
   "execution_count": 59,
   "id": "6b864b7a",
   "metadata": {},
   "outputs": [
    {
     "name": "stdout",
     "output_type": "stream",
     "text": [
      "zehmet olmasa eded daxil edn\n"
     ]
    }
   ],
   "source": [
    "\n",
    "try:\n",
    "    a = 5\n",
    "    b = 0\n",
    "    c = \"0\"\n",
    "#     result1 = a / b\n",
    "    result2 = a/ c\n",
    "except ZeroDivisionError:\n",
    "    print(\"0-a bolmek olmaz\")\n",
    "except TypeError:\n",
    "    print(\"zehmet olmasa eded daxil edn\")"
   ]
  },
  {
   "cell_type": "code",
   "execution_count": null,
   "id": "01e944e3",
   "metadata": {},
   "outputs": [],
   "source": []
  },
  {
   "cell_type": "markdown",
   "id": "977f046e",
   "metadata": {},
   "source": [
    "##    Ders 11. List-in daxil olunmasini qisa yazilisi. Comprehesion"
   ]
  },
  {
   "cell_type": "markdown",
   "id": "b42b81b7",
   "metadata": {},
   "source": [
    "### 1. İki list dəyişəni götürün. Birinci listdə olub, ikinci listdə olmayan elementləri yeni bir listə yığıb çapa verin."
   ]
  },
  {
   "cell_type": "code",
   "execution_count": 65,
   "id": "41d51de5",
   "metadata": {},
   "outputs": [
    {
     "name": "stdout",
     "output_type": "stream",
     "text": [
      "[1, 8]\n"
     ]
    }
   ],
   "source": [
    "list1 = [1, 2, \"Gilan\", 8, 99]\n",
    "list2 = [\"Gilan\", 99, 2]\n",
    "\n",
    "list3 = [i for i in list1 if i not in list2]\n",
    "\n",
    "print(list3)"
   ]
  },
  {
   "cell_type": "code",
   "execution_count": 66,
   "id": "9b7fbd7c",
   "metadata": {},
   "outputs": [
    {
     "data": {
      "text/plain": [
       "[1, 8]"
      ]
     },
     "execution_count": 66,
     "metadata": {},
     "output_type": "execute_result"
    }
   ],
   "source": [
    "### adi qaydada\n",
    "\n",
    "list1 = [1, 2, \"Gilan\", 8, 99]\n",
    "list2 = [\"Gilan\", 99, 2]\n",
    "\n",
    "list3 = []\n",
    "\n",
    "for i in list1:\n",
    "    if i not in list2:\n",
    "        list3.append(i)\n",
    "        \n",
    "list3        "
   ]
  },
  {
   "cell_type": "markdown",
   "id": "499ac420",
   "metadata": {},
   "source": [
    "### 2. Elementləri list olan bir list dəyişəni götürün. Bu listin elementlərinin ən böyük elementlərini çap edin."
   ]
  },
  {
   "cell_type": "code",
   "execution_count": 74,
   "id": "96956109",
   "metadata": {},
   "outputs": [
    {
     "name": "stdout",
     "output_type": "stream",
     "text": [
      "5, 0, "
     ]
    }
   ],
   "source": [
    "matrix = [[1, 5], [-1, 0]]\n",
    "\n",
    "for i in matrix:\n",
    "    max_ = i[0]\n",
    "    for j in range(1, len(i)):\n",
    "        if i[j] > max_:\n",
    "            max_ = i[j]\n",
    "    \n",
    "    print(max_, end=\", \")"
   ]
  },
  {
   "cell_type": "code",
   "execution_count": 88,
   "id": "329ca21a",
   "metadata": {},
   "outputs": [
    {
     "data": {
      "text/plain": [
       "[5, 0]"
      ]
     },
     "execution_count": 88,
     "metadata": {},
     "output_type": "execute_result"
    }
   ],
   "source": [
    "matrix = [[1, 5], [-1, 0]]\n",
    "\n",
    "[max(i) for i in matrix]"
   ]
  },
  {
   "cell_type": "markdown",
   "id": "adb38a96",
   "metadata": {},
   "source": [
    "### 3. Bir list dəyişəni götürün. Bu listin 5-dən böyük və 20-dən kiçik olan elementlərini başqa list-ə qısa yazılışla çap edin."
   ]
  },
  {
   "cell_type": "code",
   "execution_count": 90,
   "id": "6e5186c9",
   "metadata": {},
   "outputs": [
    {
     "name": "stdout",
     "output_type": "stream",
     "text": [
      "6, 7, 8, 9, 10, "
     ]
    }
   ],
   "source": [
    "list1 = [1,2,3,4,5,6,7,8,9,10]\n",
    "\n",
    "for i in list1:\n",
    "    if i > 5 and i < 20:\n",
    "        print(i, end=\", \")"
   ]
  },
  {
   "cell_type": "code",
   "execution_count": 91,
   "id": "a8cec0cf",
   "metadata": {},
   "outputs": [
    {
     "data": {
      "text/plain": [
       "[6, 7, 8, 9, 10]"
      ]
     },
     "execution_count": 91,
     "metadata": {},
     "output_type": "execute_result"
    }
   ],
   "source": [
    "list1 = [1,2,3,4,5,6,7,8,9,10]\n",
    "\n",
    "list2 = [i for i in list1 if i > 5 and i < 20]\n",
    "\n",
    "list2"
   ]
  },
  {
   "cell_type": "markdown",
   "id": "7c7a7345",
   "metadata": {},
   "source": [
    "### 4. Bütün elementləri str tipində olan bir list dəyişəni götürün. List daxilində palindrom olan elementləri  başqa list-ə qısa yazılışla çap edin. (Palindrom string tərsi özünə bərabər olan stringdir. Məsələn: kiçik, kələk və s.)"
   ]
  },
  {
   "cell_type": "code",
   "execution_count": 94,
   "id": "92edc365",
   "metadata": {},
   "outputs": [
    {
     "data": {
      "text/plain": [
       "['lol', 'lal']"
      ]
     },
     "execution_count": 94,
     "metadata": {},
     "output_type": "execute_result"
    }
   ],
   "source": [
    "list1 = [\"lol\", \"lal\", \"al\", \"kal\"]\n",
    "\n",
    "list2 = [i for i in list1 if i == i[::-1]]\n",
    "\n",
    "list2"
   ]
  },
  {
   "cell_type": "code",
   "execution_count": null,
   "id": "08076c17",
   "metadata": {},
   "outputs": [],
   "source": []
  },
  {
   "cell_type": "markdown",
   "id": "dce6a44b",
   "metadata": {},
   "source": [
    "### Maraqlı nümunələr"
   ]
  },
  {
   "cell_type": "code",
   "execution_count": 96,
   "id": "7ccd10ed",
   "metadata": {},
   "outputs": [
    {
     "name": "stdout",
     "output_type": "stream",
     "text": [
      "5\n"
     ]
    }
   ],
   "source": [
    "try:\n",
    "    print(x)\n",
    "except NameError:\n",
    "    print(\" x-in qiymeti taninmir\") "
   ]
  },
  {
   "cell_type": "code",
   "execution_count": 101,
   "id": "b0100d25",
   "metadata": {},
   "outputs": [
    {
     "name": "stdout",
     "output_type": "stream",
     "text": [
      "['imtahana', 'az', 'qalir']\n",
      "['qalir', 'az', 'imtahana']\n"
     ]
    },
    {
     "data": {
      "text/plain": [
       "'qalir az imtahana'"
      ]
     },
     "execution_count": 101,
     "metadata": {},
     "output_type": "execute_result"
    }
   ],
   "source": [
    "a = \"imtahana az qalir\"\n",
    "b = a.split(\" \")\n",
    "print(b)\n",
    "b.reverse()\n",
    "print(b)\n",
    "b = \" \".join(b)\n",
    "b"
   ]
  },
  {
   "cell_type": "code",
   "execution_count": 102,
   "id": "1fd88b03",
   "metadata": {},
   "outputs": [
    {
     "data": {
      "text/plain": [
       "'s a l a m'"
      ]
     },
     "execution_count": 102,
     "metadata": {},
     "output_type": "execute_result"
    }
   ],
   "source": [
    "\" \".join('salam')"
   ]
  },
  {
   "cell_type": "code",
   "execution_count": 109,
   "id": "afab232b",
   "metadata": {},
   "outputs": [
    {
     "name": "stdout",
     "output_type": "stream",
     "text": [
      "salam\n",
      "Baki\n",
      "Gence\n"
     ]
    }
   ],
   "source": [
    "list1 = [\"salam\", \"Baki\", \"Gence\"]\n",
    "list1 = \"\\n\".join(list1)\n",
    "print(list1)"
   ]
  },
  {
   "cell_type": "code",
   "execution_count": 113,
   "id": "e421cd54",
   "metadata": {},
   "outputs": [
    {
     "ename": "TypeError",
     "evalue": "sequence item 0: expected str instance, int found",
     "output_type": "error",
     "traceback": [
      "\u001b[1;31m---------------------------------------------------------------------------\u001b[0m",
      "\u001b[1;31mTypeError\u001b[0m                                 Traceback (most recent call last)",
      "Cell \u001b[1;32mIn[113], line 2\u001b[0m\n\u001b[0;32m      1\u001b[0m list2 \u001b[38;5;241m=\u001b[39m [\u001b[38;5;241m5\u001b[39m, \u001b[38;5;241m4\u001b[39m, \u001b[38;5;241m3\u001b[39m]\n\u001b[1;32m----> 2\u001b[0m list2 \u001b[38;5;241m=\u001b[39m\u001b[38;5;124m\"\u001b[39m\u001b[38;5;130;01m\\n\u001b[39;00m\u001b[38;5;124m\"\u001b[39m\u001b[38;5;241m.\u001b[39mjoin(list2)\n\u001b[0;32m      3\u001b[0m \u001b[38;5;28mprint\u001b[39m(list2)\n",
      "\u001b[1;31mTypeError\u001b[0m: sequence item 0: expected str instance, int found"
     ]
    }
   ],
   "source": [
    "list2 = [5, 4, 3]\n",
    "list2 =\"\\n\".join(list2)\n",
    "print(list2)\n",
    "\n",
    "### Qeyd: çünki join string funksiyasıdır"
   ]
  },
  {
   "cell_type": "code",
   "execution_count": 122,
   "id": "aff2d9c2",
   "metadata": {},
   "outputs": [
    {
     "name": "stdout",
     "output_type": "stream",
     "text": [
      "['imtahana', 'az', 'qalir', 'yeqin', 'niye']\n",
      "5\n",
      "az\n"
     ]
    }
   ],
   "source": [
    "s = \"imtahana az qalir yeqin niye\"\n",
    "n = s.split(\" \")\n",
    "print(n)\n",
    "m = len(n)\n",
    "print(m)\n",
    "print(n[m-4])"
   ]
  },
  {
   "cell_type": "code",
   "execution_count": 123,
   "id": "a2f0476a",
   "metadata": {},
   "outputs": [
    {
     "name": "stdout",
     "output_type": "stream",
     "text": [
      "['a', 'l', 'm', 'a', ',', 'a', 'r', 'm', 'u', 'd']\n"
     ]
    }
   ],
   "source": [
    "a = \"alma,armud\"\n",
    "b = list(a)\n",
    "print(b)"
   ]
  },
  {
   "cell_type": "code",
   "execution_count": 128,
   "id": "3abac843",
   "metadata": {},
   "outputs": [
    {
     "data": {
      "text/plain": [
       "['alma', 'armud']"
      ]
     },
     "execution_count": 128,
     "metadata": {},
     "output_type": "execute_result"
    }
   ],
   "source": [
    "a = \"alma,armud\"\n",
    "b = a.split(\",\")\n",
    "\n",
    "b"
   ]
  },
  {
   "cell_type": "code",
   "execution_count": 124,
   "id": "11b68247",
   "metadata": {},
   "outputs": [
    {
     "name": "stdout",
     "output_type": "stream",
     "text": [
      "statltatm\n"
     ]
    }
   ],
   "source": [
    "a = \"salam\"\n",
    "b = \"t\".join(a)\n",
    "print(b)"
   ]
  },
  {
   "cell_type": "code",
   "execution_count": 126,
   "id": "ced7e2c6",
   "metadata": {},
   "outputs": [
    {
     "data": {
      "text/plain": [
       "['salam']"
      ]
     },
     "execution_count": 126,
     "metadata": {},
     "output_type": "execute_result"
    }
   ],
   "source": [
    "c = \"salam\"\n",
    "p = c.split()\n",
    "p"
   ]
  },
  {
   "cell_type": "code",
   "execution_count": null,
   "id": "0e04aaa7",
   "metadata": {},
   "outputs": [],
   "source": []
  }
 ],
 "metadata": {
  "kernelspec": {
   "display_name": "Python 3 (ipykernel)",
   "language": "python",
   "name": "python3"
  },
  "language_info": {
   "codemirror_mode": {
    "name": "ipython",
    "version": 3
   },
   "file_extension": ".py",
   "mimetype": "text/x-python",
   "name": "python",
   "nbconvert_exporter": "python",
   "pygments_lexer": "ipython3",
   "version": "3.11.5"
  }
 },
 "nbformat": 4,
 "nbformat_minor": 5
}
