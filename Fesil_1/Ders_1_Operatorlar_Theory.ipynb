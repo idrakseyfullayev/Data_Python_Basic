{
 "cells": [
  {
   "cell_type": "markdown",
   "id": "beee31a0",
   "metadata": {},
   "source": [
    "#### Operatorlar\n",
    "\n",
    "**1. Mənimsətmə (Assignment) operatoru**\n",
    "- `=`\n",
    "\n",
    "**2. Aritmetik operatorlar**\n",
    "- `+` Toplama  \n",
    "- `-` Çıxma  \n",
    "- `*` Vurma  \n",
    "- `/` Bölmə  \n",
    "- `//` Tam bölmə  \n",
    "- `%` Qalıq tapma  \n",
    "- `**` Üst alma  \n",
    "\n",
    "**3. Artırma, Azaltma (Increment, Decrement) operatorları**\n",
    "- `+=`, `-=`, `*=`, `/=`, `//=`, `%=`, `**=`\n",
    "\n",
    "**4. Müqayisə (Comparison) operatorları**\n",
    "- `<` Kiçikdir  \n",
    "- `>` Böyükdür  \n",
    "- `<=` Kiçik və ya bərabərdir  \n",
    "- `>=` Böyük və ya bərabərdir  \n",
    "- `==` Bərabərdir  \n",
    "- `!=` Bərabər deyil  \n",
    "\n",
    "---\n",
    "\n",
    "#### Dəyişən Tip Dəyişməsi (Variable Conversion)\n",
    "\n",
    "**1. Tam ədədə çevirmə (to int):** `int()`\n",
    "\n",
    "**2. Ondalığa çevirmə (to float):** `float()`\n",
    "\n",
    "**3. Mətnə çevirmə (to str):** `str()`\n",
    "\n",
    "**4. Dəyişənin tipini öyrənmək:** `type()`\n"
   ]
  },
  {
   "cell_type": "code",
   "execution_count": null,
   "id": "e6caeae8",
   "metadata": {},
   "outputs": [],
   "source": []
  }
 ],
 "metadata": {
  "kernelspec": {
   "display_name": "Python 3 (ipykernel)",
   "language": "python",
   "name": "python3"
  },
  "language_info": {
   "codemirror_mode": {
    "name": "ipython",
    "version": 3
   },
   "file_extension": ".py",
   "mimetype": "text/x-python",
   "name": "python",
   "nbconvert_exporter": "python",
   "pygments_lexer": "ipython3",
   "version": "3.11.5"
  }
 },
 "nbformat": 4,
 "nbformat_minor": 5
}
