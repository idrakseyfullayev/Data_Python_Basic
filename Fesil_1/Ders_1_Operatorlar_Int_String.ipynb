{
 "cells": [
  {
   "cell_type": "markdown",
   "id": "44806530",
   "metadata": {},
   "source": [
    "## Operatorlar"
   ]
  },
  {
   "cell_type": "markdown",
   "id": "b1e01888",
   "metadata": {},
   "source": [
    "### 1. Mənimsətmə (Assignment) operatoru"
   ]
  },
  {
   "cell_type": "code",
   "execution_count": 57,
   "id": "d355bb28",
   "metadata": {},
   "outputs": [
    {
     "name": "stdout",
     "output_type": "stream",
     "text": [
      "5\n"
     ]
    }
   ],
   "source": [
    "a = 5\n",
    "print(a)\n"
   ]
  },
  {
   "cell_type": "code",
   "execution_count": 58,
   "id": "eb1ee6f0",
   "metadata": {
    "scrolled": true
   },
   "outputs": [
    {
     "data": {
      "text/plain": [
       "'salamdunya'"
      ]
     },
     "execution_count": 58,
     "metadata": {},
     "output_type": "execute_result"
    }
   ],
   "source": [
    "a=\"salam\"\n",
    "b=\"dunya\"\n",
    "c= a+b\n",
    "\n",
    "c"
   ]
  },
  {
   "cell_type": "code",
   "execution_count": 59,
   "id": "e0ccb14d",
   "metadata": {},
   "outputs": [
    {
     "data": {
      "text/plain": [
       "'salam dunya'"
      ]
     },
     "execution_count": 59,
     "metadata": {},
     "output_type": "execute_result"
    }
   ],
   "source": [
    "a=\"salam\"\n",
    "b=\"dunya\"\n",
    "c= a+  \" \" + b\n",
    "\n",
    "c"
   ]
  },
  {
   "cell_type": "code",
   "execution_count": 60,
   "id": "c96b4321",
   "metadata": {},
   "outputs": [
    {
     "ename": "TypeError",
     "evalue": "can't multiply sequence by non-int of type 'str'",
     "output_type": "error",
     "traceback": [
      "\u001b[1;31m---------------------------------------------------------------------------\u001b[0m",
      "\u001b[1;31mTypeError\u001b[0m                                 Traceback (most recent call last)",
      "Cell \u001b[1;32mIn[60], line 1\u001b[0m\n\u001b[1;32m----> 1\u001b[0m a\u001b[38;5;241m*\u001b[39mb\n",
      "\u001b[1;31mTypeError\u001b[0m: can't multiply sequence by non-int of type 'str'"
     ]
    }
   ],
   "source": [
    "a*b"
   ]
  },
  {
   "cell_type": "code",
   "execution_count": 61,
   "id": "7adc2152",
   "metadata": {},
   "outputs": [
    {
     "data": {
      "text/plain": [
       "'salamsalamsalam'"
      ]
     },
     "execution_count": 61,
     "metadata": {},
     "output_type": "execute_result"
    }
   ],
   "source": [
    "a*3"
   ]
  },
  {
   "cell_type": "code",
   "execution_count": 62,
   "id": "71b05aab",
   "metadata": {},
   "outputs": [
    {
     "data": {
      "text/plain": [
       "'salam '"
      ]
     },
     "execution_count": 62,
     "metadata": {},
     "output_type": "execute_result"
    }
   ],
   "source": [
    "a+\" \""
   ]
  },
  {
   "cell_type": "code",
   "execution_count": 63,
   "id": "53b265f1",
   "metadata": {},
   "outputs": [
    {
     "data": {
      "text/plain": [
       "'salamsalamsalam'"
      ]
     },
     "execution_count": 63,
     "metadata": {},
     "output_type": "execute_result"
    }
   ],
   "source": [
    "a=\"salam\"\n",
    "b=3\n",
    "\n",
    "a*b"
   ]
  },
  {
   "cell_type": "code",
   "execution_count": 64,
   "id": "205b91ef",
   "metadata": {
    "scrolled": false
   },
   "outputs": [
    {
     "ename": "TypeError",
     "evalue": "can only concatenate str (not \"int\") to str",
     "output_type": "error",
     "traceback": [
      "\u001b[1;31m---------------------------------------------------------------------------\u001b[0m",
      "\u001b[1;31mTypeError\u001b[0m                                 Traceback (most recent call last)",
      "Cell \u001b[1;32mIn[64], line 1\u001b[0m\n\u001b[1;32m----> 1\u001b[0m a\u001b[38;5;241m+\u001b[39m\u001b[38;5;241m1\u001b[39m\n",
      "\u001b[1;31mTypeError\u001b[0m: can only concatenate str (not \"int\") to str"
     ]
    }
   ],
   "source": [
    "a+1"
   ]
  },
  {
   "cell_type": "code",
   "execution_count": null,
   "id": "ee544b6c",
   "metadata": {},
   "outputs": [],
   "source": []
  },
  {
   "cell_type": "markdown",
   "id": "a0cfeca4",
   "metadata": {},
   "source": [
    "### 2. Aritmetik operatorlar"
   ]
  },
  {
   "cell_type": "code",
   "execution_count": 66,
   "id": "5b5c3c88",
   "metadata": {},
   "outputs": [
    {
     "data": {
      "text/plain": [
       "25"
      ]
     },
     "execution_count": 66,
     "metadata": {},
     "output_type": "execute_result"
    }
   ],
   "source": [
    "a = 5\n",
    "a*5"
   ]
  },
  {
   "cell_type": "code",
   "execution_count": 67,
   "id": "e7cf3200",
   "metadata": {},
   "outputs": [
    {
     "data": {
      "text/plain": [
       "1.0"
      ]
     },
     "execution_count": 67,
     "metadata": {},
     "output_type": "execute_result"
    }
   ],
   "source": [
    "a/5"
   ]
  },
  {
   "cell_type": "code",
   "execution_count": 68,
   "id": "8e33dc35",
   "metadata": {},
   "outputs": [
    {
     "data": {
      "text/plain": [
       "10"
      ]
     },
     "execution_count": 68,
     "metadata": {},
     "output_type": "execute_result"
    }
   ],
   "source": [
    "a+5"
   ]
  },
  {
   "cell_type": "code",
   "execution_count": 69,
   "id": "29bbe6cc",
   "metadata": {},
   "outputs": [
    {
     "data": {
      "text/plain": [
       "0"
      ]
     },
     "execution_count": 69,
     "metadata": {},
     "output_type": "execute_result"
    }
   ],
   "source": [
    "a-5"
   ]
  },
  {
   "cell_type": "code",
   "execution_count": 70,
   "id": "4e8a3d00",
   "metadata": {},
   "outputs": [
    {
     "data": {
      "text/plain": [
       "25"
      ]
     },
     "execution_count": 70,
     "metadata": {},
     "output_type": "execute_result"
    }
   ],
   "source": [
    "a**2"
   ]
  },
  {
   "cell_type": "code",
   "execution_count": 71,
   "id": "a5fcd3b2",
   "metadata": {},
   "outputs": [
    {
     "data": {
      "text/plain": [
       "25"
      ]
     },
     "execution_count": 71,
     "metadata": {},
     "output_type": "execute_result"
    }
   ],
   "source": [
    "pow(a, 2)"
   ]
  },
  {
   "cell_type": "code",
   "execution_count": 72,
   "id": "14ccd770",
   "metadata": {},
   "outputs": [
    {
     "data": {
      "text/plain": [
       "2.23606797749979"
      ]
     },
     "execution_count": 72,
     "metadata": {},
     "output_type": "execute_result"
    }
   ],
   "source": [
    "a**(1/2)"
   ]
  },
  {
   "cell_type": "code",
   "execution_count": 73,
   "id": "b2737ff8",
   "metadata": {},
   "outputs": [],
   "source": [
    "import math"
   ]
  },
  {
   "cell_type": "code",
   "execution_count": 74,
   "id": "556e1346",
   "metadata": {},
   "outputs": [
    {
     "data": {
      "text/plain": [
       "2.23606797749979"
      ]
     },
     "execution_count": 74,
     "metadata": {},
     "output_type": "execute_result"
    }
   ],
   "source": [
    "math.sqrt(a)"
   ]
  },
  {
   "cell_type": "code",
   "execution_count": 75,
   "id": "0421921f",
   "metadata": {},
   "outputs": [
    {
     "data": {
      "text/plain": [
       "3.5714285714285716"
      ]
     },
     "execution_count": 75,
     "metadata": {},
     "output_type": "execute_result"
    }
   ],
   "source": [
    "a = 25\n",
    "b=7\n",
    "\n",
    "a/b"
   ]
  },
  {
   "cell_type": "code",
   "execution_count": 76,
   "id": "bb1b9839",
   "metadata": {},
   "outputs": [
    {
     "data": {
      "text/plain": [
       "3"
      ]
     },
     "execution_count": 76,
     "metadata": {},
     "output_type": "execute_result"
    }
   ],
   "source": [
    "a//b"
   ]
  },
  {
   "cell_type": "code",
   "execution_count": 77,
   "id": "a535191c",
   "metadata": {},
   "outputs": [
    {
     "data": {
      "text/plain": [
       "4"
      ]
     },
     "execution_count": 77,
     "metadata": {},
     "output_type": "execute_result"
    }
   ],
   "source": [
    "a%b"
   ]
  },
  {
   "cell_type": "code",
   "execution_count": null,
   "id": "ab0b615d",
   "metadata": {},
   "outputs": [],
   "source": []
  },
  {
   "cell_type": "markdown",
   "id": "8778e8bf",
   "metadata": {},
   "source": [
    "### 3. Artırma, Azaltma (Increment, Decrement) operatorları"
   ]
  },
  {
   "cell_type": "code",
   "execution_count": 104,
   "id": "ca43f39b",
   "metadata": {},
   "outputs": [
    {
     "data": {
      "text/plain": [
       "105"
      ]
     },
     "execution_count": 104,
     "metadata": {},
     "output_type": "execute_result"
    }
   ],
   "source": [
    "g = 100\n",
    "\n",
    "g += 5\n",
    "\n",
    "g"
   ]
  },
  {
   "cell_type": "code",
   "execution_count": 105,
   "id": "f3fb422e",
   "metadata": {},
   "outputs": [
    {
     "data": {
      "text/plain": [
       "100"
      ]
     },
     "execution_count": 105,
     "metadata": {},
     "output_type": "execute_result"
    }
   ],
   "source": [
    "g -= 5\n",
    "g"
   ]
  },
  {
   "cell_type": "code",
   "execution_count": 106,
   "id": "92f9203d",
   "metadata": {},
   "outputs": [
    {
     "data": {
      "text/plain": [
       "200"
      ]
     },
     "execution_count": 106,
     "metadata": {},
     "output_type": "execute_result"
    }
   ],
   "source": [
    "g*=2\n",
    "g"
   ]
  },
  {
   "cell_type": "code",
   "execution_count": 107,
   "id": "6f2ee479",
   "metadata": {},
   "outputs": [
    {
     "data": {
      "text/plain": [
       "50.0"
      ]
     },
     "execution_count": 107,
     "metadata": {},
     "output_type": "execute_result"
    }
   ],
   "source": [
    "g /= 4\n",
    "g"
   ]
  },
  {
   "cell_type": "code",
   "execution_count": 108,
   "id": "38a6413b",
   "metadata": {},
   "outputs": [
    {
     "data": {
      "text/plain": [
       "7.0"
      ]
     },
     "execution_count": 108,
     "metadata": {},
     "output_type": "execute_result"
    }
   ],
   "source": [
    "g //= 7\n",
    "g"
   ]
  },
  {
   "cell_type": "code",
   "execution_count": 109,
   "id": "cf29bb33",
   "metadata": {},
   "outputs": [
    {
     "data": {
      "text/plain": [
       "3.0"
      ]
     },
     "execution_count": 109,
     "metadata": {},
     "output_type": "execute_result"
    }
   ],
   "source": [
    "g %= 4\n",
    "g"
   ]
  },
  {
   "cell_type": "code",
   "execution_count": 110,
   "id": "274d40c9",
   "metadata": {},
   "outputs": [
    {
     "data": {
      "text/plain": [
       "27.0"
      ]
     },
     "execution_count": 110,
     "metadata": {},
     "output_type": "execute_result"
    }
   ],
   "source": [
    "g **= 3\n",
    "g"
   ]
  },
  {
   "cell_type": "code",
   "execution_count": null,
   "id": "b4ac6a10",
   "metadata": {},
   "outputs": [],
   "source": []
  },
  {
   "cell_type": "markdown",
   "id": "fc6bf1a5",
   "metadata": {},
   "source": [
    "### 4. Müqayisə (Comparison) operatorları"
   ]
  },
  {
   "cell_type": "code",
   "execution_count": 111,
   "id": "654a4c0c",
   "metadata": {},
   "outputs": [
    {
     "data": {
      "text/plain": [
       "True"
      ]
     },
     "execution_count": 111,
     "metadata": {},
     "output_type": "execute_result"
    }
   ],
   "source": [
    "a=25\n",
    "a>5"
   ]
  },
  {
   "cell_type": "code",
   "execution_count": 112,
   "id": "feb3dc4f",
   "metadata": {},
   "outputs": [
    {
     "data": {
      "text/plain": [
       "False"
      ]
     },
     "execution_count": 112,
     "metadata": {},
     "output_type": "execute_result"
    }
   ],
   "source": [
    "a<5"
   ]
  },
  {
   "cell_type": "code",
   "execution_count": 113,
   "id": "a597bbdc",
   "metadata": {},
   "outputs": [
    {
     "data": {
      "text/plain": [
       "True"
      ]
     },
     "execution_count": 113,
     "metadata": {},
     "output_type": "execute_result"
    }
   ],
   "source": [
    "a>=25"
   ]
  },
  {
   "cell_type": "code",
   "execution_count": 114,
   "id": "d309c64e",
   "metadata": {},
   "outputs": [
    {
     "data": {
      "text/plain": [
       "True"
      ]
     },
     "execution_count": 114,
     "metadata": {},
     "output_type": "execute_result"
    }
   ],
   "source": [
    "a<=25"
   ]
  },
  {
   "cell_type": "code",
   "execution_count": 115,
   "id": "b257abf8",
   "metadata": {},
   "outputs": [
    {
     "data": {
      "text/plain": [
       "True"
      ]
     },
     "execution_count": 115,
     "metadata": {},
     "output_type": "execute_result"
    }
   ],
   "source": [
    "a = 25\n",
    "b=8\n",
    "b=25\n",
    "\n",
    "a==b"
   ]
  },
  {
   "cell_type": "code",
   "execution_count": 116,
   "id": "6a55a7df",
   "metadata": {},
   "outputs": [
    {
     "data": {
      "text/plain": [
       "False"
      ]
     },
     "execution_count": 116,
     "metadata": {},
     "output_type": "execute_result"
    }
   ],
   "source": [
    "a = 25\n",
    "b=8\n",
    "\n",
    "a==b"
   ]
  },
  {
   "cell_type": "code",
   "execution_count": 117,
   "id": "bec0c427",
   "metadata": {},
   "outputs": [
    {
     "data": {
      "text/plain": [
       "True"
      ]
     },
     "execution_count": 117,
     "metadata": {},
     "output_type": "execute_result"
    }
   ],
   "source": [
    "a!=b"
   ]
  },
  {
   "cell_type": "code",
   "execution_count": 118,
   "id": "a0e3ac66",
   "metadata": {},
   "outputs": [],
   "source": [
    "a=5.75"
   ]
  },
  {
   "cell_type": "code",
   "execution_count": 119,
   "id": "76295ebd",
   "metadata": {},
   "outputs": [
    {
     "data": {
      "text/plain": [
       "5"
      ]
     },
     "execution_count": 119,
     "metadata": {},
     "output_type": "execute_result"
    }
   ],
   "source": [
    "a = int(a)\n",
    "a"
   ]
  },
  {
   "cell_type": "code",
   "execution_count": 120,
   "id": "d8bb545f",
   "metadata": {},
   "outputs": [
    {
     "data": {
      "text/plain": [
       "5.0"
      ]
     },
     "execution_count": 120,
     "metadata": {},
     "output_type": "execute_result"
    }
   ],
   "source": [
    "float(a)"
   ]
  },
  {
   "cell_type": "code",
   "execution_count": 121,
   "id": "c5b5d159",
   "metadata": {},
   "outputs": [
    {
     "data": {
      "text/plain": [
       "'5'"
      ]
     },
     "execution_count": 121,
     "metadata": {},
     "output_type": "execute_result"
    }
   ],
   "source": [
    "a = str(a)\n",
    "a"
   ]
  },
  {
   "cell_type": "code",
   "execution_count": 122,
   "id": "79fc4c9a",
   "metadata": {
    "scrolled": true
   },
   "outputs": [
    {
     "ename": "TypeError",
     "evalue": "unsupported operand type(s) for /: 'str' and 'int'",
     "output_type": "error",
     "traceback": [
      "\u001b[1;31m---------------------------------------------------------------------------\u001b[0m",
      "\u001b[1;31mTypeError\u001b[0m                                 Traceback (most recent call last)",
      "Cell \u001b[1;32mIn[122], line 1\u001b[0m\n\u001b[1;32m----> 1\u001b[0m a\u001b[38;5;241m/\u001b[39m\u001b[38;5;241m5\u001b[39m\n",
      "\u001b[1;31mTypeError\u001b[0m: unsupported operand type(s) for /: 'str' and 'int'"
     ]
    }
   ],
   "source": [
    "a/5"
   ]
  },
  {
   "cell_type": "code",
   "execution_count": null,
   "id": "d5a2d27b",
   "metadata": {},
   "outputs": [],
   "source": []
  },
  {
   "cell_type": "markdown",
   "id": "f97bbe9d",
   "metadata": {},
   "source": [
    "### Dəyişən Tip Dəyişməsi (Variable Conversion)"
   ]
  },
  {
   "cell_type": "code",
   "execution_count": 125,
   "id": "e9c737c7",
   "metadata": {},
   "outputs": [
    {
     "data": {
      "text/plain": [
       "int"
      ]
     },
     "execution_count": 125,
     "metadata": {},
     "output_type": "execute_result"
    }
   ],
   "source": [
    "t = 5 \n",
    "type(t)"
   ]
  },
  {
   "cell_type": "code",
   "execution_count": 126,
   "id": "db6f74ba",
   "metadata": {},
   "outputs": [
    {
     "data": {
      "text/plain": [
       "str"
      ]
     },
     "execution_count": 126,
     "metadata": {},
     "output_type": "execute_result"
    }
   ],
   "source": [
    "t = \"5\" \n",
    "type(t)"
   ]
  },
  {
   "cell_type": "code",
   "execution_count": 127,
   "id": "8c88a185",
   "metadata": {},
   "outputs": [
    {
     "data": {
      "text/plain": [
       "5"
      ]
     },
     "execution_count": 127,
     "metadata": {},
     "output_type": "execute_result"
    }
   ],
   "source": [
    "int(t)"
   ]
  },
  {
   "cell_type": "code",
   "execution_count": 128,
   "id": "f76737ad",
   "metadata": {},
   "outputs": [
    {
     "data": {
      "text/plain": [
       "'5'"
      ]
     },
     "execution_count": 128,
     "metadata": {},
     "output_type": "execute_result"
    }
   ],
   "source": [
    "str(t)"
   ]
  },
  {
   "cell_type": "code",
   "execution_count": 129,
   "id": "3d0c33be",
   "metadata": {},
   "outputs": [
    {
     "data": {
      "text/plain": [
       "5.0"
      ]
     },
     "execution_count": 129,
     "metadata": {},
     "output_type": "execute_result"
    }
   ],
   "source": [
    "float(t)"
   ]
  },
  {
   "cell_type": "code",
   "execution_count": 131,
   "id": "3a5034b7",
   "metadata": {},
   "outputs": [
    {
     "data": {
      "text/plain": [
       "str"
      ]
     },
     "execution_count": 131,
     "metadata": {},
     "output_type": "execute_result"
    }
   ],
   "source": [
    "type(t)"
   ]
  },
  {
   "cell_type": "code",
   "execution_count": null,
   "id": "66b943d5",
   "metadata": {},
   "outputs": [],
   "source": []
  },
  {
   "cell_type": "code",
   "execution_count": 135,
   "id": "38031181",
   "metadata": {},
   "outputs": [
    {
     "name": "stdout",
     "output_type": "stream",
     "text": [
      "-3\n"
     ]
    }
   ],
   "source": [
    "a = 7; b =4   #izaha ehtiyac var\n",
    "\n",
    "a, b = b, a\n",
    "\n",
    "print(a - b) "
   ]
  },
  {
   "cell_type": "code",
   "execution_count": null,
   "id": "32b874e9",
   "metadata": {},
   "outputs": [],
   "source": []
  },
  {
   "cell_type": "markdown",
   "id": "20b21afe",
   "metadata": {},
   "source": [
    "##  Ev tapşırıqları Dərs 1. Dəyişənlər, Operatorlar. "
   ]
  },
  {
   "cell_type": "markdown",
   "id": "c91c8cef",
   "metadata": {},
   "source": [
    "### 1. İki int tipli a və b dəyişənlərinin cəminin fərqinə bölünməsindən alınan qalığı hesablayan proqram tərtib edin."
   ]
  },
  {
   "cell_type": "code",
   "execution_count": 144,
   "id": "0e3b3ee7",
   "metadata": {},
   "outputs": [
    {
     "name": "stdout",
     "output_type": "stream",
     "text": [
      "8\n"
     ]
    }
   ],
   "source": [
    "a = 19\n",
    "\n",
    "b = 4\n",
    "\n",
    "c = (a + b) % (a - b)\n",
    "\n",
    "print(c)"
   ]
  },
  {
   "cell_type": "markdown",
   "id": "045dfc5e",
   "metadata": {},
   "source": [
    "### 2. İki str tipli ad və soyadı və bir int tipli yaşı özündə saxlayan dəyişən götürün və bu dəyişənlərdən istifadə edərək tam adı və yaşı çapa verin. Məs: “İbrahimli Valeh 23 yaş”"
   ]
  },
  {
   "cell_type": "code",
   "execution_count": 145,
   "id": "fe5aa5fb",
   "metadata": {},
   "outputs": [
    {
     "name": "stdout",
     "output_type": "stream",
     "text": [
      "Seyfullayev Idrak 35 yas\n"
     ]
    }
   ],
   "source": [
    "k = \"Seyfullayev\"\n",
    "\n",
    "l = 'Idrak'\n",
    "\n",
    "y = 35\n",
    "\n",
    "print(k + \" \" + l + \" \"+ str(y) + \" \" + \"yas\")"
   ]
  },
  {
   "cell_type": "markdown",
   "id": "b1686141",
   "metadata": {},
   "source": [
    "### # 3. İki int tipli a və b dəyişəni götürün və a dəyişənini əvvəlcə b qədər, daha sonra b dəfə artırın. Nəticəni çapa verin.\n"
   ]
  },
  {
   "cell_type": "code",
   "execution_count": 146,
   "id": "26e4370f",
   "metadata": {},
   "outputs": [
    {
     "name": "stdout",
     "output_type": "stream",
     "text": [
      "2139\n"
     ]
    }
   ],
   "source": [
    "a = 70\n",
    "\n",
    "b = 23\n",
    "\n",
    "a += b\n",
    "\n",
    "a *= b\n",
    "\n",
    "print(a)\n",
    "\n",
    "# ve ya\n",
    "\n",
    "# a = a + b\n",
    "\n",
    "# a = a*b\n",
    "\n",
    "# print(a)\n",
    "\n",
    "# ve ya\n",
    "\n",
    "# a = 70\n",
    "\n",
    "# b = 23\n",
    "\n",
    "# a = (a + b) * b\n",
    "\n",
    "# print(a)"
   ]
  },
  {
   "cell_type": "markdown",
   "id": "efa43d0b",
   "metadata": {},
   "source": [
    "### 4. Üç müxtəlif tipli dəyişən götürün (int, float, str) və onların tipini alt-alta çapa verin."
   ]
  },
  {
   "cell_type": "code",
   "execution_count": 148,
   "id": "e6088fa4",
   "metadata": {},
   "outputs": [
    {
     "name": "stdout",
     "output_type": "stream",
     "text": [
      "<class 'int'>\n",
      "<class 'float'>\n",
      "<class 'str'>\n",
      "Ders1Ders1Ders1\n"
     ]
    }
   ],
   "source": [
    "kitablarin_sayi = 99      # kitablarin sayi niye yazmaq olmur\n",
    "\n",
    "print(type(kitablarin_sayi))\n",
    "\n",
    "derman_qr = 3.2           #derman(qr) niye yazmaq olmur\n",
    "\n",
    "print(type(derman_qr))\n",
    "\n",
    "ad_soyad = 'Idrak Seyfullayev'\n",
    "\n",
    "print(type(ad_soyad))\n",
    "\n",
    "\n",
    "# 5. a = “Ders” və b = 1; “Ders1Ders1Ders1” çapa verin.\n",
    "\n",
    "a = \"Ders\"\n",
    "\n",
    "b = 1\n",
    "\n",
    "c = (a + str(b))*3\n",
    "\n",
    "print(c)"
   ]
  },
  {
   "cell_type": "markdown",
   "id": "32111262",
   "metadata": {},
   "source": [
    "### 6. İnt tipli a və b dəyişənlərinin nisbəti (/) ilə tam nisbətinin (//) hasilini çapa verin."
   ]
  },
  {
   "cell_type": "code",
   "execution_count": 149,
   "id": "d35df94a",
   "metadata": {},
   "outputs": [
    {
     "name": "stdout",
     "output_type": "stream",
     "text": [
      "1.0909090909090908\n"
     ]
    }
   ],
   "source": [
    "\n",
    "a = 48\n",
    "\n",
    "b = 44\n",
    "\n",
    "c = (a / b) * (a // b)\n",
    "\n",
    "print(c)"
   ]
  },
  {
   "cell_type": "markdown",
   "id": "84f59c32",
   "metadata": {},
   "source": [
    "### 7. Str tipli a və b dəyişənlərini int tipinə çevirərək cəmini, fərqini, hasilini, nisbətini, tam nisbətini, qalığını (a%b) və qüvvətini (a^b) çapa verin: a = “48”, b = “3”."
   ]
  },
  {
   "cell_type": "code",
   "execution_count": 150,
   "id": "65147e99",
   "metadata": {},
   "outputs": [
    {
     "name": "stdout",
     "output_type": "stream",
     "text": [
      "51\n",
      "45\n",
      "144\n",
      "16.0\n",
      "16\n",
      "0\n",
      "110592\n"
     ]
    }
   ],
   "source": [
    "\n",
    "a = \"48\"\n",
    "\n",
    "b = \"3\"\n",
    "\n",
    "# c = int(a)  bilmirem hansi sekilde daha duzgun hesab olunur bu yoxsa davam etdiyim qayda\n",
    "\n",
    "# d = int(b)\n",
    "\n",
    "# print(c + d)\n",
    "\n",
    "print(int(a) + int(b))\n",
    "\n",
    "print(int(a) - int(b))\n",
    "\n",
    "print(int(a) * int(b))\n",
    "\n",
    "print(int(a) / int(b))\n",
    "\n",
    "print(int(a) // int(b))\n",
    "\n",
    "print(int(a) % int(b))\n",
    "\n",
    "print(int(a) ** int(b))"
   ]
  },
  {
   "cell_type": "markdown",
   "id": "b05d206c",
   "metadata": {},
   "source": [
    "### 8. İki int tipli a və b dəyişəni götürün və onların cəmi ilə fərqinin 2-ci dərəcədən qüvvətlərini toplayıb çapa verin."
   ]
  },
  {
   "cell_type": "code",
   "execution_count": 151,
   "id": "01c20d46",
   "metadata": {},
   "outputs": [
    {
     "name": "stdout",
     "output_type": "stream",
     "text": [
      "226\n"
     ]
    }
   ],
   "source": [
    "a = 7\n",
    "\n",
    "b = 8\n",
    "\n",
    "c = (a + b)**2 + (a - b)**2\n",
    "\n",
    "print(c)"
   ]
  },
  {
   "cell_type": "markdown",
   "id": "3dd9eb7c",
   "metadata": {},
   "source": [
    "### 9. Float tipli iki dəyişənin tam hissələrinin cəmini çapa verin."
   ]
  },
  {
   "cell_type": "code",
   "execution_count": 152,
   "id": "89266759",
   "metadata": {},
   "outputs": [
    {
     "name": "stdout",
     "output_type": "stream",
     "text": [
      "59\n"
     ]
    }
   ],
   "source": [
    "\n",
    "w = 47.8\n",
    "\n",
    "r = 12.5\n",
    "\n",
    "print(int(w) + int(r))"
   ]
  },
  {
   "cell_type": "markdown",
   "id": "936baa88",
   "metadata": {},
   "source": [
    "### 10. “Men”, “proqramlasdirma”, “oyrenirem” sözlərinin hərəsini bir dəyişənə yazın və bu dəyişənlərdən istifadə edərək “Men proqramlasdirma oyrenirem.” cümləsini çapa verin."
   ]
  },
  {
   "cell_type": "code",
   "execution_count": 153,
   "id": "903c5756",
   "metadata": {},
   "outputs": [
    {
     "name": "stdout",
     "output_type": "stream",
     "text": [
      "Men proqramlasdirma oyrenirem.\n",
      "\"Men proqramlasdirma oyrenirem.\"\n"
     ]
    }
   ],
   "source": [
    "\n",
    "g = \"Men\"\n",
    "\n",
    "x = \"proqramlasdirma\"\n",
    "\n",
    "z = \"oyrenirem\"\n",
    "\n",
    "print(g + \" \" + x + \" \" + z + \".\")\n",
    "\n",
    "print('\"' + g + \" \" + x + \" \" + z + \".\" + '\"')"
   ]
  },
  {
   "cell_type": "code",
   "execution_count": null,
   "id": "6e6ec877",
   "metadata": {},
   "outputs": [],
   "source": []
  }
 ],
 "metadata": {
  "kernelspec": {
   "display_name": "Python 3 (ipykernel)",
   "language": "python",
   "name": "python3"
  },
  "language_info": {
   "codemirror_mode": {
    "name": "ipython",
    "version": 3
   },
   "file_extension": ".py",
   "mimetype": "text/x-python",
   "name": "python",
   "nbconvert_exporter": "python",
   "pygments_lexer": "ipython3",
   "version": "3.11.5"
  }
 },
 "nbformat": 4,
 "nbformat_minor": 5
}
