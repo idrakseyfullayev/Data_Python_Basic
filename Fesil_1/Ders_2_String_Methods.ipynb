{
 "cells": [
  {
   "cell_type": "markdown",
   "id": "ff568126",
   "metadata": {},
   "source": [
    "## Strings"
   ]
  },
  {
   "cell_type": "markdown",
   "id": "4cf50296",
   "metadata": {},
   "source": [
    "### String slice"
   ]
  },
  {
   "cell_type": "code",
   "execution_count": 1,
   "id": "7a1c50f3",
   "metadata": {},
   "outputs": [
    {
     "name": "stdout",
     "output_type": "stream",
     "text": [
      "s\n"
     ]
    }
   ],
   "source": [
    "text = \"salam\"\n",
    "\n",
    "a = text[0]\n",
    "\n",
    "print(a)"
   ]
  },
  {
   "cell_type": "code",
   "execution_count": 2,
   "id": "04f52fe3",
   "metadata": {},
   "outputs": [
    {
     "name": "stdout",
     "output_type": "stream",
     "text": [
      "u\n"
     ]
    }
   ],
   "source": [
    "text = \"Seyfullayev\"\n",
    "\n",
    "r = text[4]\n",
    "\n",
    "print(r)"
   ]
  },
  {
   "cell_type": "code",
   "execution_count": 3,
   "id": "5764bd7e",
   "metadata": {},
   "outputs": [
    {
     "data": {
      "text/plain": [
       "'v'"
      ]
     },
     "execution_count": 3,
     "metadata": {},
     "output_type": "execute_result"
    }
   ],
   "source": [
    "a = text[-1]\n",
    "\n",
    "a"
   ]
  },
  {
   "cell_type": "code",
   "execution_count": 4,
   "id": "dc9a3622",
   "metadata": {},
   "outputs": [
    {
     "data": {
      "text/plain": [
       "'l'"
      ]
     },
     "execution_count": 4,
     "metadata": {},
     "output_type": "execute_result"
    }
   ],
   "source": [
    "a = text[-5]\n",
    "\n",
    "a"
   ]
  },
  {
   "cell_type": "code",
   "execution_count": 5,
   "id": "d5e92589",
   "metadata": {},
   "outputs": [
    {
     "data": {
      "text/plain": [
       "'Seyf'"
      ]
     },
     "execution_count": 5,
     "metadata": {},
     "output_type": "execute_result"
    }
   ],
   "source": [
    "text[0:4]"
   ]
  },
  {
   "cell_type": "code",
   "execution_count": 6,
   "id": "b75ecf5c",
   "metadata": {},
   "outputs": [
    {
     "data": {
      "text/plain": [
       "'eyfullaye'"
      ]
     },
     "execution_count": 6,
     "metadata": {},
     "output_type": "execute_result"
    }
   ],
   "source": [
    "text[1:-1]"
   ]
  },
  {
   "cell_type": "code",
   "execution_count": 7,
   "id": "1394de44",
   "metadata": {},
   "outputs": [
    {
     "data": {
      "text/plain": [
       "'S'"
      ]
     },
     "execution_count": 7,
     "metadata": {},
     "output_type": "execute_result"
    }
   ],
   "source": [
    "text[:1]"
   ]
  },
  {
   "cell_type": "code",
   "execution_count": 8,
   "id": "65964f7d",
   "metadata": {},
   "outputs": [
    {
     "data": {
      "text/plain": [
       "'S'"
      ]
     },
     "execution_count": 8,
     "metadata": {},
     "output_type": "execute_result"
    }
   ],
   "source": [
    "text[0]"
   ]
  },
  {
   "cell_type": "code",
   "execution_count": 16,
   "id": "7d95f728",
   "metadata": {},
   "outputs": [
    {
     "data": {
      "text/plain": [
       "'S'"
      ]
     },
     "execution_count": 16,
     "metadata": {},
     "output_type": "execute_result"
    }
   ],
   "source": [
    "text[:-10]"
   ]
  },
  {
   "cell_type": "code",
   "execution_count": 53,
   "id": "f1685653",
   "metadata": {},
   "outputs": [
    {
     "data": {
      "text/plain": [
       "'Syul'"
      ]
     },
     "execution_count": 53,
     "metadata": {},
     "output_type": "execute_result"
    }
   ],
   "source": [
    "text[0:8:2]"
   ]
  },
  {
   "cell_type": "code",
   "execution_count": 54,
   "id": "a6ace01e",
   "metadata": {},
   "outputs": [
    {
     "data": {
      "text/plain": [
       "'fle'"
      ]
     },
     "execution_count": 54,
     "metadata": {},
     "output_type": "execute_result"
    }
   ],
   "source": [
    "text[3::3]  "
   ]
  },
  {
   "cell_type": "code",
   "execution_count": 55,
   "id": "9450b650",
   "metadata": {},
   "outputs": [
    {
     "data": {
      "text/plain": [
       "'Slv'"
      ]
     },
     "execution_count": 55,
     "metadata": {},
     "output_type": "execute_result"
    }
   ],
   "source": [
    "text[0::5]"
   ]
  },
  {
   "cell_type": "code",
   "execution_count": 56,
   "id": "01272eb9",
   "metadata": {},
   "outputs": [
    {
     "data": {
      "text/plain": [
       "'ful'"
      ]
     },
     "execution_count": 56,
     "metadata": {},
     "output_type": "execute_result"
    }
   ],
   "source": [
    "text[-8:-5]  # bu qayda o demekdir ki, slice hemise soldan saga oxunur, sannki sonda  (1)  var"
   ]
  },
  {
   "cell_type": "code",
   "execution_count": 57,
   "id": "6b926576",
   "metadata": {},
   "outputs": [
    {
     "data": {
      "text/plain": [
       "'ful'"
      ]
     },
     "execution_count": 57,
     "metadata": {},
     "output_type": "execute_result"
    }
   ],
   "source": [
    "text[-8:-5:1]"
   ]
  },
  {
   "cell_type": "code",
   "execution_count": 58,
   "id": "d02f0c4c",
   "metadata": {},
   "outputs": [
    {
     "data": {
      "text/plain": [
       "''"
      ]
     },
     "execution_count": 58,
     "metadata": {},
     "output_type": "execute_result"
    }
   ],
   "source": [
    "text[-5:-8]  #  cunki soldan saga oxunur  slice uygun gelmir bos cixarir"
   ]
  },
  {
   "cell_type": "code",
   "execution_count": 71,
   "id": "adde257a",
   "metadata": {},
   "outputs": [
    {
     "data": {
      "text/plain": [
       "'llu'"
      ]
     },
     "execution_count": 71,
     "metadata": {},
     "output_type": "execute_result"
    }
   ],
   "source": [
    "text[-5:-8:-1]"
   ]
  },
  {
   "cell_type": "code",
   "execution_count": 72,
   "id": "ba9a837a",
   "metadata": {},
   "outputs": [
    {
     "data": {
      "text/plain": [
       "'eyallu'"
      ]
     },
     "execution_count": 72,
     "metadata": {},
     "output_type": "execute_result"
    }
   ],
   "source": [
    "text[-2:-8:-1]  # bu qayda o demekdir ki, slice hemise sagdan sola oxunur (-1 -e gore)"
   ]
  },
  {
   "cell_type": "code",
   "execution_count": 73,
   "id": "b3884b61",
   "metadata": {},
   "outputs": [
    {
     "data": {
      "text/plain": [
       "'vey'"
      ]
     },
     "execution_count": 73,
     "metadata": {},
     "output_type": "execute_result"
    }
   ],
   "source": [
    "text[-1:-4:-1]"
   ]
  },
  {
   "cell_type": "code",
   "execution_count": 74,
   "id": "43b2b3e3",
   "metadata": {},
   "outputs": [
    {
     "data": {
      "text/plain": [
       "'veyallufyeS'"
      ]
     },
     "execution_count": 74,
     "metadata": {},
     "output_type": "execute_result"
    }
   ],
   "source": [
    "text[::-1] "
   ]
  },
  {
   "cell_type": "code",
   "execution_count": 75,
   "id": "d3b41947",
   "metadata": {},
   "outputs": [
    {
     "data": {
      "text/plain": [
       "''"
      ]
     },
     "execution_count": 75,
     "metadata": {},
     "output_type": "execute_result"
    }
   ],
   "source": [
    "text[0:5:-1]"
   ]
  },
  {
   "cell_type": "code",
   "execution_count": 76,
   "id": "7a3cb66b",
   "metadata": {},
   "outputs": [
    {
     "data": {
      "text/plain": [
       "'lufye'"
      ]
     },
     "execution_count": 76,
     "metadata": {},
     "output_type": "execute_result"
    }
   ],
   "source": [
    "text[5:0:-1]"
   ]
  },
  {
   "cell_type": "code",
   "execution_count": null,
   "id": "c625f762",
   "metadata": {},
   "outputs": [],
   "source": []
  },
  {
   "cell_type": "markdown",
   "id": "05028851",
   "metadata": {},
   "source": [
    "### True, False"
   ]
  },
  {
   "cell_type": "code",
   "execution_count": 93,
   "id": "7c29ab68",
   "metadata": {},
   "outputs": [
    {
     "name": "stdout",
     "output_type": "stream",
     "text": [
      "1\n"
     ]
    }
   ],
   "source": [
    "a = True\n",
    "\n",
    "b = False\n",
    "\n",
    "print(a + b)"
   ]
  },
  {
   "cell_type": "code",
   "execution_count": 99,
   "id": "6c5b5dcf",
   "metadata": {},
   "outputs": [],
   "source": [
    "c = \"\"     \n",
    "c\n",
    "\n",
    "if c:\n",
    "    print(1)"
   ]
  },
  {
   "cell_type": "code",
   "execution_count": 100,
   "id": "eda3975b",
   "metadata": {},
   "outputs": [
    {
     "data": {
      "text/plain": [
       "''"
      ]
     },
     "execution_count": 100,
     "metadata": {},
     "output_type": "execute_result"
    }
   ],
   "source": [
    "c"
   ]
  },
  {
   "cell_type": "code",
   "execution_count": 101,
   "id": "4b886234",
   "metadata": {},
   "outputs": [
    {
     "data": {
      "text/plain": [
       "False"
      ]
     },
     "execution_count": 101,
     "metadata": {},
     "output_type": "execute_result"
    }
   ],
   "source": [
    "bool(c)"
   ]
  },
  {
   "cell_type": "code",
   "execution_count": 102,
   "id": "737378f0",
   "metadata": {},
   "outputs": [
    {
     "name": "stdout",
     "output_type": "stream",
     "text": [
      "1\n"
     ]
    }
   ],
   "source": [
    "c = \" \" \n",
    "c\n",
    "\n",
    "if c:\n",
    "    print(1)"
   ]
  },
  {
   "cell_type": "code",
   "execution_count": 103,
   "id": "cdb601c4",
   "metadata": {},
   "outputs": [
    {
     "data": {
      "text/plain": [
       "' '"
      ]
     },
     "execution_count": 103,
     "metadata": {},
     "output_type": "execute_result"
    }
   ],
   "source": [
    "c"
   ]
  },
  {
   "cell_type": "code",
   "execution_count": 104,
   "id": "e47de032",
   "metadata": {},
   "outputs": [
    {
     "data": {
      "text/plain": [
       "True"
      ]
     },
     "execution_count": 104,
     "metadata": {},
     "output_type": "execute_result"
    }
   ],
   "source": [
    "bool(c)"
   ]
  },
  {
   "cell_type": "code",
   "execution_count": 106,
   "id": "0a67d314",
   "metadata": {},
   "outputs": [
    {
     "data": {
      "text/plain": [
       "False"
      ]
     },
     "execution_count": 106,
     "metadata": {},
     "output_type": "execute_result"
    }
   ],
   "source": [
    "a = 12\n",
    "\n",
    "b = 13\n",
    "\n",
    "c = a > b\n",
    "\n",
    "c"
   ]
  },
  {
   "cell_type": "code",
   "execution_count": 107,
   "id": "f6ddfb0b",
   "metadata": {},
   "outputs": [
    {
     "data": {
      "text/plain": [
       "True"
      ]
     },
     "execution_count": 107,
     "metadata": {},
     "output_type": "execute_result"
    }
   ],
   "source": [
    "c = a < b\n",
    "c"
   ]
  },
  {
   "cell_type": "code",
   "execution_count": 109,
   "id": "8d50fdc5",
   "metadata": {},
   "outputs": [
    {
     "data": {
      "text/plain": [
       "True"
      ]
     },
     "execution_count": 109,
     "metadata": {},
     "output_type": "execute_result"
    }
   ],
   "source": [
    "a <= b"
   ]
  },
  {
   "cell_type": "code",
   "execution_count": 110,
   "id": "33b1362a",
   "metadata": {},
   "outputs": [
    {
     "data": {
      "text/plain": [
       "False"
      ]
     },
     "execution_count": 110,
     "metadata": {},
     "output_type": "execute_result"
    }
   ],
   "source": [
    "a == b  "
   ]
  },
  {
   "cell_type": "code",
   "execution_count": 111,
   "id": "02227ee2",
   "metadata": {},
   "outputs": [
    {
     "data": {
      "text/plain": [
       "True"
      ]
     },
     "execution_count": 111,
     "metadata": {},
     "output_type": "execute_result"
    }
   ],
   "source": [
    "a != b  "
   ]
  },
  {
   "cell_type": "code",
   "execution_count": 114,
   "id": "5a3c7cc4",
   "metadata": {},
   "outputs": [
    {
     "ename": "TypeError",
     "evalue": "unsupported operand type(s) for -: 'str' and 'bool'",
     "output_type": "error",
     "traceback": [
      "\u001b[1;31m---------------------------------------------------------------------------\u001b[0m",
      "\u001b[1;31mTypeError\u001b[0m                                 Traceback (most recent call last)",
      "Cell \u001b[1;32mIn[114], line 6\u001b[0m\n\u001b[0;32m      1\u001b[0m a \u001b[38;5;241m=\u001b[39m \u001b[38;5;28;01mTrue\u001b[39;00m\n\u001b[0;32m      3\u001b[0m b \u001b[38;5;241m=\u001b[39m \u001b[38;5;124m\"\u001b[39m\u001b[38;5;124m\"\u001b[39m\n\u001b[1;32m----> 6\u001b[0m b \u001b[38;5;241m-\u001b[39m a\n",
      "\u001b[1;31mTypeError\u001b[0m: unsupported operand type(s) for -: 'str' and 'bool'"
     ]
    }
   ],
   "source": [
    "a = True\n",
    "\n",
    "b = \"\"\n",
    "\n",
    "\n",
    "b - a"
   ]
  },
  {
   "cell_type": "code",
   "execution_count": 115,
   "id": "18a8c02e",
   "metadata": {},
   "outputs": [
    {
     "data": {
      "text/plain": [
       "-1"
      ]
     },
     "execution_count": 115,
     "metadata": {},
     "output_type": "execute_result"
    }
   ],
   "source": [
    "a = True\n",
    "\n",
    "b = \"\"\n",
    "\n",
    "\n",
    "bool(b) - a"
   ]
  },
  {
   "cell_type": "code",
   "execution_count": 116,
   "id": "5ac9a4a9",
   "metadata": {},
   "outputs": [
    {
     "data": {
      "text/plain": [
       "True"
      ]
     },
     "execution_count": 116,
     "metadata": {},
     "output_type": "execute_result"
    }
   ],
   "source": [
    "bool(bool(b) - a)"
   ]
  },
  {
   "cell_type": "code",
   "execution_count": 117,
   "id": "a9c79430",
   "metadata": {},
   "outputs": [
    {
     "data": {
      "text/plain": [
       "True"
      ]
     },
     "execution_count": 117,
     "metadata": {},
     "output_type": "execute_result"
    }
   ],
   "source": [
    "bool(1)"
   ]
  },
  {
   "cell_type": "code",
   "execution_count": 118,
   "id": "fe57d146",
   "metadata": {},
   "outputs": [
    {
     "data": {
      "text/plain": [
       "False"
      ]
     },
     "execution_count": 118,
     "metadata": {},
     "output_type": "execute_result"
    }
   ],
   "source": [
    "bool(0)"
   ]
  },
  {
   "cell_type": "code",
   "execution_count": 119,
   "id": "66e52bd6",
   "metadata": {},
   "outputs": [
    {
     "data": {
      "text/plain": [
       "True"
      ]
     },
     "execution_count": 119,
     "metadata": {},
     "output_type": "execute_result"
    }
   ],
   "source": [
    "bool(-1)"
   ]
  },
  {
   "cell_type": "code",
   "execution_count": null,
   "id": "98b5cdb9",
   "metadata": {},
   "outputs": [],
   "source": []
  },
  {
   "cell_type": "markdown",
   "id": "060c00ae",
   "metadata": {},
   "source": [
    "## String Methods"
   ]
  },
  {
   "cell_type": "markdown",
   "id": "2ca74d0f",
   "metadata": {},
   "source": [
    "###  1. capitalize()    -  Birinci simvolu böyük hərflərə çevirir"
   ]
  },
  {
   "cell_type": "code",
   "execution_count": 120,
   "id": "87e5a92b",
   "metadata": {},
   "outputs": [],
   "source": [
    "a = \"azerbaijan\""
   ]
  },
  {
   "cell_type": "code",
   "execution_count": 121,
   "id": "708c2e40",
   "metadata": {},
   "outputs": [
    {
     "data": {
      "text/plain": [
       "<function str.capitalize()>"
      ]
     },
     "execution_count": 121,
     "metadata": {},
     "output_type": "execute_result"
    }
   ],
   "source": [
    "a.capitalize"
   ]
  },
  {
   "cell_type": "code",
   "execution_count": 122,
   "id": "4e757aaa",
   "metadata": {},
   "outputs": [
    {
     "data": {
      "text/plain": [
       "'Azerbaijan'"
      ]
     },
     "execution_count": 122,
     "metadata": {},
     "output_type": "execute_result"
    }
   ],
   "source": [
    "a.capitalize()"
   ]
  },
  {
   "cell_type": "code",
   "execution_count": 124,
   "id": "a501e216",
   "metadata": {},
   "outputs": [
    {
     "data": {
      "text/plain": [
       "'azerbaijan'"
      ]
     },
     "execution_count": 124,
     "metadata": {},
     "output_type": "execute_result"
    }
   ],
   "source": [
    "a"
   ]
  },
  {
   "cell_type": "code",
   "execution_count": 123,
   "id": "5a72b8b9",
   "metadata": {},
   "outputs": [
    {
     "data": {
      "text/plain": [
       "'Azerbaijan'"
      ]
     },
     "execution_count": 123,
     "metadata": {},
     "output_type": "execute_result"
    }
   ],
   "source": [
    "b = a.capitalize()\n",
    "b"
   ]
  },
  {
   "cell_type": "markdown",
   "id": "5f72c871",
   "metadata": {},
   "source": [
    "### Qeyd: Bütün Sting metodları yeni dəyərləri qaytarır. Orijinal dəyişəni dəyişdirmirlər."
   ]
  },
  {
   "cell_type": "code",
   "execution_count": null,
   "id": "71b3735a",
   "metadata": {},
   "outputs": [],
   "source": []
  },
  {
   "cell_type": "markdown",
   "id": "d1492fe6",
   "metadata": {},
   "source": [
    "### 2. casefold()   -     Sətri kiçik hərflərə çevirir"
   ]
  },
  {
   "cell_type": "code",
   "execution_count": 126,
   "id": "7766d97e",
   "metadata": {},
   "outputs": [
    {
     "data": {
      "text/plain": [
       "'idrak'"
      ]
     },
     "execution_count": 126,
     "metadata": {},
     "output_type": "execute_result"
    }
   ],
   "source": [
    "\"IDrak\".casefold()"
   ]
  },
  {
   "cell_type": "code",
   "execution_count": 127,
   "id": "2fc7d410",
   "metadata": {},
   "outputs": [
    {
     "data": {
      "text/plain": [
       "'salam'"
      ]
     },
     "execution_count": 127,
     "metadata": {},
     "output_type": "execute_result"
    }
   ],
   "source": [
    "a = \"SALAM\"\n",
    "a.casefold()"
   ]
  },
  {
   "cell_type": "code",
   "execution_count": 128,
   "id": "e70d2666",
   "metadata": {},
   "outputs": [
    {
     "data": {
      "text/plain": [
       "'SALAM'"
      ]
     },
     "execution_count": 128,
     "metadata": {},
     "output_type": "execute_result"
    }
   ],
   "source": [
    "a"
   ]
  },
  {
   "cell_type": "code",
   "execution_count": null,
   "id": "99fd0f4a",
   "metadata": {},
   "outputs": [],
   "source": []
  },
  {
   "cell_type": "markdown",
   "id": "6d3be3ee",
   "metadata": {},
   "source": [
    "### 3. count()      -      Müəyyən edilmiş dəyərin sətirdə neçə dəfə baş verdiyini qaytarır"
   ]
  },
  {
   "cell_type": "code",
   "execution_count": 135,
   "id": "838db32d",
   "metadata": {},
   "outputs": [],
   "source": [
    "a = \"Azerbaijan\""
   ]
  },
  {
   "cell_type": "code",
   "execution_count": 136,
   "id": "eda497d2",
   "metadata": {},
   "outputs": [
    {
     "ename": "TypeError",
     "evalue": "count() takes at least 1 argument (0 given)",
     "output_type": "error",
     "traceback": [
      "\u001b[1;31m---------------------------------------------------------------------------\u001b[0m",
      "\u001b[1;31mTypeError\u001b[0m                                 Traceback (most recent call last)",
      "Cell \u001b[1;32mIn[136], line 1\u001b[0m\n\u001b[1;32m----> 1\u001b[0m a\u001b[38;5;241m.\u001b[39mcount()\n",
      "\u001b[1;31mTypeError\u001b[0m: count() takes at least 1 argument (0 given)"
     ]
    }
   ],
   "source": [
    "a.count()"
   ]
  },
  {
   "cell_type": "code",
   "execution_count": 143,
   "id": "76a3f722",
   "metadata": {},
   "outputs": [
    {
     "data": {
      "text/plain": [
       "2"
      ]
     },
     "execution_count": 143,
     "metadata": {},
     "output_type": "execute_result"
    }
   ],
   "source": [
    "a.count(\"a\")"
   ]
  },
  {
   "cell_type": "code",
   "execution_count": 149,
   "id": "cb6910b0",
   "metadata": {},
   "outputs": [
    {
     "data": {
      "text/plain": [
       "1"
      ]
     },
     "execution_count": 149,
     "metadata": {},
     "output_type": "execute_result"
    }
   ],
   "source": [
    "a.count('a', 6)"
   ]
  },
  {
   "cell_type": "code",
   "execution_count": 151,
   "id": "a5c2329f",
   "metadata": {},
   "outputs": [
    {
     "data": {
      "text/plain": [
       "0"
      ]
     },
     "execution_count": 151,
     "metadata": {},
     "output_type": "execute_result"
    }
   ],
   "source": [
    "a.count('a', 0, 5)"
   ]
  },
  {
   "cell_type": "code",
   "execution_count": null,
   "id": "3faefb94",
   "metadata": {},
   "outputs": [],
   "source": []
  },
  {
   "cell_type": "markdown",
   "id": "60e151f9",
   "metadata": {},
   "source": [
    "### 4. endswith()   -      Sətir müəyyən edilmiş dəyərlə bitərsə, doğru qaytarır"
   ]
  },
  {
   "cell_type": "code",
   "execution_count": 152,
   "id": "85dd590b",
   "metadata": {},
   "outputs": [],
   "source": [
    "a = \"English\""
   ]
  },
  {
   "cell_type": "code",
   "execution_count": 154,
   "id": "09ff284f",
   "metadata": {},
   "outputs": [
    {
     "data": {
      "text/plain": [
       "False"
      ]
     },
     "execution_count": 154,
     "metadata": {},
     "output_type": "execute_result"
    }
   ],
   "source": [
    "a.endswith(\"H\")"
   ]
  },
  {
   "cell_type": "code",
   "execution_count": 156,
   "id": "f62902af",
   "metadata": {},
   "outputs": [
    {
     "data": {
      "text/plain": [
       "True"
      ]
     },
     "execution_count": 156,
     "metadata": {},
     "output_type": "execute_result"
    }
   ],
   "source": [
    "a.endswith(\"h\")"
   ]
  },
  {
   "cell_type": "code",
   "execution_count": 158,
   "id": "6d86099e",
   "metadata": {},
   "outputs": [
    {
     "data": {
      "text/plain": [
       "False"
      ]
     },
     "execution_count": 158,
     "metadata": {},
     "output_type": "execute_result"
    }
   ],
   "source": [
    "a.endswith(\"h\", 0, 6)"
   ]
  },
  {
   "cell_type": "code",
   "execution_count": null,
   "id": "f5a54e3d",
   "metadata": {},
   "outputs": [],
   "source": []
  },
  {
   "cell_type": "markdown",
   "id": "cfdcc22f",
   "metadata": {},
   "source": [
    "### 5. format()   -        Sətirdə müəyyən edilmiş dəyərləri formatlayır"
   ]
  },
  {
   "cell_type": "code",
   "execution_count": 160,
   "id": "42b79da0",
   "metadata": {},
   "outputs": [],
   "source": [
    "a = \"I have {price:.2f} dollars\""
   ]
  },
  {
   "cell_type": "code",
   "execution_count": 162,
   "id": "11b56fee",
   "metadata": {},
   "outputs": [
    {
     "data": {
      "text/plain": [
       "'I have 100.00 dollars'"
      ]
     },
     "execution_count": 162,
     "metadata": {},
     "output_type": "execute_result"
    }
   ],
   "source": [
    "a.format(price=100)"
   ]
  },
  {
   "cell_type": "code",
   "execution_count": 165,
   "id": "de3e986f",
   "metadata": {},
   "outputs": [
    {
     "data": {
      "text/plain": [
       "'I have 49 dollars'"
      ]
     },
     "execution_count": 165,
     "metadata": {},
     "output_type": "execute_result"
    }
   ],
   "source": [
    "\"I have {price} dollars\".format(price=49)"
   ]
  },
  {
   "cell_type": "code",
   "execution_count": 167,
   "id": "ca55b8ff",
   "metadata": {},
   "outputs": [
    {
     "data": {
      "text/plain": [
       "'I have 49 dollars'"
      ]
     },
     "execution_count": 167,
     "metadata": {},
     "output_type": "execute_result"
    }
   ],
   "source": [
    "\"I have {0} dollars\".format(49)"
   ]
  },
  {
   "cell_type": "code",
   "execution_count": 168,
   "id": "b7a4f3ae",
   "metadata": {},
   "outputs": [
    {
     "data": {
      "text/plain": [
       "'I have 49 dollars'"
      ]
     },
     "execution_count": 168,
     "metadata": {},
     "output_type": "execute_result"
    }
   ],
   "source": [
    "\"I have {0} {1}\".format(49, \"dollars\")"
   ]
  },
  {
   "cell_type": "code",
   "execution_count": 169,
   "id": "f25fcd07",
   "metadata": {},
   "outputs": [
    {
     "data": {
      "text/plain": [
       "'I have dollars 49'"
      ]
     },
     "execution_count": 169,
     "metadata": {},
     "output_type": "execute_result"
    }
   ],
   "source": [
    "\"I have {1} {0}\".format(49, \"dollars\")"
   ]
  },
  {
   "cell_type": "code",
   "execution_count": null,
   "id": "0399c966",
   "metadata": {},
   "outputs": [],
   "source": []
  },
  {
   "cell_type": "markdown",
   "id": "4e45e72d",
   "metadata": {},
   "source": [
    "### 6. index()      -      Müəyyən edilmiş dəyər üçün sətirdə axtarış aparır və onun tapıldığı yeri qaytarır"
   ]
  },
  {
   "cell_type": "code",
   "execution_count": 170,
   "id": "4781e323",
   "metadata": {},
   "outputs": [],
   "source": [
    "a = 'BMV'"
   ]
  },
  {
   "cell_type": "code",
   "execution_count": 171,
   "id": "7b01f470",
   "metadata": {},
   "outputs": [
    {
     "data": {
      "text/plain": [
       "1"
      ]
     },
     "execution_count": 171,
     "metadata": {},
     "output_type": "execute_result"
    }
   ],
   "source": [
    "a.index(\"M\")"
   ]
  },
  {
   "cell_type": "code",
   "execution_count": 172,
   "id": "f4c87e3d",
   "metadata": {},
   "outputs": [
    {
     "ename": "ValueError",
     "evalue": "substring not found",
     "output_type": "error",
     "traceback": [
      "\u001b[1;31m---------------------------------------------------------------------------\u001b[0m",
      "\u001b[1;31mValueError\u001b[0m                                Traceback (most recent call last)",
      "Cell \u001b[1;32mIn[172], line 1\u001b[0m\n\u001b[1;32m----> 1\u001b[0m a\u001b[38;5;241m.\u001b[39mindex(\u001b[38;5;124m\"\u001b[39m\u001b[38;5;124mM\u001b[39m\u001b[38;5;124m\"\u001b[39m, \u001b[38;5;241m0\u001b[39m, \u001b[38;5;241m1\u001b[39m)\n",
      "\u001b[1;31mValueError\u001b[0m: substring not found"
     ]
    }
   ],
   "source": [
    "a.index(\"M\", 0, 1)"
   ]
  },
  {
   "cell_type": "code",
   "execution_count": null,
   "id": "252a8891",
   "metadata": {},
   "outputs": [],
   "source": []
  },
  {
   "cell_type": "markdown",
   "id": "ac4986c9",
   "metadata": {},
   "source": [
    "### 7. join()      -   Iterable elementləri sətirə çevirir"
   ]
  },
  {
   "cell_type": "code",
   "execution_count": 206,
   "id": "018bd367",
   "metadata": {},
   "outputs": [],
   "source": [
    "a = \"Azerbaij an\""
   ]
  },
  {
   "cell_type": "code",
   "execution_count": 207,
   "id": "ef1c21c4",
   "metadata": {},
   "outputs": [
    {
     "data": {
      "text/plain": [
       "'A,z,e,r,b,a,i,j, ,a,n'"
      ]
     },
     "execution_count": 207,
     "metadata": {},
     "output_type": "execute_result"
    }
   ],
   "source": [
    "\",\".join(a)"
   ]
  },
  {
   "cell_type": "code",
   "execution_count": 208,
   "id": "7410783f",
   "metadata": {},
   "outputs": [],
   "source": [
    "a = [\"Ali\", \"Islamov\"]"
   ]
  },
  {
   "cell_type": "code",
   "execution_count": 209,
   "id": "70aa9081",
   "metadata": {},
   "outputs": [
    {
     "data": {
      "text/plain": [
       "'Ali Islamov'"
      ]
     },
     "execution_count": 209,
     "metadata": {},
     "output_type": "execute_result"
    }
   ],
   "source": [
    "b = \" \".join(a)\n",
    "b"
   ]
  },
  {
   "cell_type": "code",
   "execution_count": 210,
   "id": "60a5071a",
   "metadata": {},
   "outputs": [],
   "source": [
    "a = (\"Ali\", \"Islamov\")"
   ]
  },
  {
   "cell_type": "code",
   "execution_count": 211,
   "id": "840895bb",
   "metadata": {},
   "outputs": [
    {
     "data": {
      "text/plain": [
       "'Ali#Islamov'"
      ]
     },
     "execution_count": 211,
     "metadata": {},
     "output_type": "execute_result"
    }
   ],
   "source": [
    "b = '#'.join(a)\n",
    "b"
   ]
  },
  {
   "cell_type": "code",
   "execution_count": 214,
   "id": "6686e569",
   "metadata": {},
   "outputs": [
    {
     "data": {
      "text/plain": [
       "{'Name': 'Ali', 'Surname': 'Islamov'}"
      ]
     },
     "execution_count": 214,
     "metadata": {},
     "output_type": "execute_result"
    }
   ],
   "source": [
    "a = {\"Name\": \"Ali\", 'Surname': \"Islamov\"}\n",
    "a\n",
    "        "
   ]
  },
  {
   "cell_type": "code",
   "execution_count": 215,
   "id": "7c37945c",
   "metadata": {},
   "outputs": [
    {
     "data": {
      "text/plain": [
       "'Name Surname'"
      ]
     },
     "execution_count": 215,
     "metadata": {},
     "output_type": "execute_result"
    }
   ],
   "source": [
    "\" \".join(a)"
   ]
  },
  {
   "cell_type": "code",
   "execution_count": 224,
   "id": "378f81e8",
   "metadata": {},
   "outputs": [
    {
     "data": {
      "text/plain": [
       "'Ali Islamov'"
      ]
     },
     "execution_count": 224,
     "metadata": {},
     "output_type": "execute_result"
    }
   ],
   "source": [
    "\" \".join(a.values())"
   ]
  },
  {
   "cell_type": "code",
   "execution_count": 225,
   "id": "340deaad",
   "metadata": {},
   "outputs": [
    {
     "data": {
      "text/plain": [
       "'Name Surname'"
      ]
     },
     "execution_count": 225,
     "metadata": {},
     "output_type": "execute_result"
    }
   ],
   "source": [
    "\" \".join(a.keys())"
   ]
  },
  {
   "cell_type": "code",
   "execution_count": null,
   "id": "5032c6ad",
   "metadata": {},
   "outputs": [],
   "source": []
  },
  {
   "cell_type": "markdown",
   "id": "892b10e0",
   "metadata": {},
   "source": [
    "### 8. lower()      -      Sətri kiçik hərflərə çevirir"
   ]
  },
  {
   "cell_type": "code",
   "execution_count": 226,
   "id": "330dfde7",
   "metadata": {},
   "outputs": [],
   "source": [
    "a = \"LITTLE\""
   ]
  },
  {
   "cell_type": "code",
   "execution_count": 227,
   "id": "6a4eb920",
   "metadata": {},
   "outputs": [
    {
     "data": {
      "text/plain": [
       "'little'"
      ]
     },
     "execution_count": 227,
     "metadata": {},
     "output_type": "execute_result"
    }
   ],
   "source": [
    "a.lower()"
   ]
  },
  {
   "cell_type": "code",
   "execution_count": null,
   "id": "96beb30e",
   "metadata": {},
   "outputs": [],
   "source": []
  },
  {
   "cell_type": "markdown",
   "id": "25b1f01e",
   "metadata": {},
   "source": [
    "### 9. replace()    -      Müəyyən edilmiş dəyərin müəyyən edilmiş dəyərlə əvəz edildiyi sətri qaytarır"
   ]
  },
  {
   "cell_type": "code",
   "execution_count": 228,
   "id": "ea006edb",
   "metadata": {},
   "outputs": [],
   "source": [
    "a = \"Itrak\""
   ]
  },
  {
   "cell_type": "code",
   "execution_count": 229,
   "id": "3c6bba91",
   "metadata": {},
   "outputs": [
    {
     "data": {
      "text/plain": [
       "'Idrak'"
      ]
     },
     "execution_count": 229,
     "metadata": {},
     "output_type": "execute_result"
    }
   ],
   "source": [
    "a.replace(\"t\", \"d\")"
   ]
  },
  {
   "cell_type": "code",
   "execution_count": 243,
   "id": "cbca301e",
   "metadata": {},
   "outputs": [],
   "source": [
    "a = \"Yaddara\""
   ]
  },
  {
   "cell_type": "code",
   "execution_count": 248,
   "id": "df1bb529",
   "metadata": {},
   "outputs": [
    {
     "data": {
      "text/plain": [
       "'Yattara'"
      ]
     },
     "execution_count": 248,
     "metadata": {},
     "output_type": "execute_result"
    }
   ],
   "source": [
    "a.replace(\"d\", \"t\")"
   ]
  },
  {
   "cell_type": "code",
   "execution_count": 249,
   "id": "3b1d000a",
   "metadata": {},
   "outputs": [
    {
     "data": {
      "text/plain": [
       "'Yatdara'"
      ]
     },
     "execution_count": 249,
     "metadata": {},
     "output_type": "execute_result"
    }
   ],
   "source": [
    "a.replace(\"d\", \"t\", 1)"
   ]
  },
  {
   "cell_type": "code",
   "execution_count": null,
   "id": "6a7e0739",
   "metadata": {},
   "outputs": [],
   "source": []
  },
  {
   "cell_type": "markdown",
   "id": "2f1e29d5",
   "metadata": {},
   "source": [
    "### 10. split()     -      Göstərilən ayırıcıda sətri bölür və siyahını qaytarır"
   ]
  },
  {
   "cell_type": "code",
   "execution_count": 250,
   "id": "b37be641",
   "metadata": {},
   "outputs": [],
   "source": [
    "a = \"Azerbaijan Republic\""
   ]
  },
  {
   "cell_type": "code",
   "execution_count": 251,
   "id": "e6d20b03",
   "metadata": {},
   "outputs": [
    {
     "data": {
      "text/plain": [
       "['Azerbaijan', 'Republic']"
      ]
     },
     "execution_count": 251,
     "metadata": {},
     "output_type": "execute_result"
    }
   ],
   "source": [
    "a.split()"
   ]
  },
  {
   "cell_type": "code",
   "execution_count": 255,
   "id": "35b8b269",
   "metadata": {},
   "outputs": [
    {
     "data": {
      "text/plain": [
       "['Azerbaijan', 'Republic']"
      ]
     },
     "execution_count": 255,
     "metadata": {},
     "output_type": "execute_result"
    }
   ],
   "source": [
    "a = \"Azerbaijan, Republic\"\n",
    "\n",
    "a.split(sep=\", \")"
   ]
  },
  {
   "cell_type": "code",
   "execution_count": 40,
   "id": "02a2b8ac",
   "metadata": {},
   "outputs": [
    {
     "data": {
      "text/plain": [
       "['Azerbaijan', 'Republic Manager']"
      ]
     },
     "execution_count": 40,
     "metadata": {},
     "output_type": "execute_result"
    }
   ],
   "source": [
    "a = \"Azerbaijan Republic Manager\"\n",
    "\n",
    "a.split(\" \", maxsplit=1)"
   ]
  },
  {
   "cell_type": "code",
   "execution_count": null,
   "id": "e1853e04",
   "metadata": {},
   "outputs": [],
   "source": []
  },
  {
   "cell_type": "markdown",
   "id": "553e9279",
   "metadata": {},
   "source": [
    "### 11. rsplit() - Göstərilən ayırıcıda sətri bölür və siyahını qaytarır"
   ]
  },
  {
   "cell_type": "code",
   "execution_count": 41,
   "id": "981866fe",
   "metadata": {},
   "outputs": [],
   "source": [
    "a = \"Azerbaijan Republic\""
   ]
  },
  {
   "cell_type": "code",
   "execution_count": 42,
   "id": "beaff60d",
   "metadata": {},
   "outputs": [
    {
     "data": {
      "text/plain": [
       "['Azerbaijan', 'Republic']"
      ]
     },
     "execution_count": 42,
     "metadata": {},
     "output_type": "execute_result"
    }
   ],
   "source": [
    "a.rsplit()"
   ]
  },
  {
   "cell_type": "code",
   "execution_count": 43,
   "id": "f7beab1f",
   "metadata": {},
   "outputs": [
    {
     "data": {
      "text/plain": [
       "['Azerbaijan', 'Republic']"
      ]
     },
     "execution_count": 43,
     "metadata": {},
     "output_type": "execute_result"
    }
   ],
   "source": [
    "a = \"Azerbaijan, Republic\"\n",
    "\n",
    "a.rsplit(sep=\", \")"
   ]
  },
  {
   "cell_type": "code",
   "execution_count": 44,
   "id": "558652d7",
   "metadata": {},
   "outputs": [
    {
     "data": {
      "text/plain": [
       "['Azerbaijan Republic', 'Manager']"
      ]
     },
     "execution_count": 44,
     "metadata": {},
     "output_type": "execute_result"
    }
   ],
   "source": [
    "a = \"Azerbaijan Republic Manager\"\n",
    "\n",
    "a.rsplit(\" \", maxsplit=1)"
   ]
  },
  {
   "cell_type": "code",
   "execution_count": null,
   "id": "9e027d33",
   "metadata": {},
   "outputs": [],
   "source": []
  },
  {
   "cell_type": "markdown",
   "id": "1b48241b",
   "metadata": {},
   "source": [
    "### 12. startswith()    -  Sətir müəyyən edilmiş dəyərlə başlayırsa, doğru qaytarır"
   ]
  },
  {
   "cell_type": "code",
   "execution_count": 2,
   "id": "fabd26ae",
   "metadata": {},
   "outputs": [],
   "source": [
    "a = \"English is language\""
   ]
  },
  {
   "cell_type": "code",
   "execution_count": 3,
   "id": "7ee29f9b",
   "metadata": {},
   "outputs": [
    {
     "data": {
      "text/plain": [
       "True"
      ]
     },
     "execution_count": 3,
     "metadata": {},
     "output_type": "execute_result"
    }
   ],
   "source": [
    "a.startswith(\"Engli\")"
   ]
  },
  {
   "cell_type": "code",
   "execution_count": 4,
   "id": "6262d593",
   "metadata": {},
   "outputs": [
    {
     "data": {
      "text/plain": [
       "False"
      ]
     },
     "execution_count": 4,
     "metadata": {},
     "output_type": "execute_result"
    }
   ],
   "source": [
    "a.startswith(\"is\")"
   ]
  },
  {
   "cell_type": "code",
   "execution_count": 8,
   "id": "b364e845",
   "metadata": {},
   "outputs": [
    {
     "data": {
      "text/plain": [
       "True"
      ]
     },
     "execution_count": 8,
     "metadata": {},
     "output_type": "execute_result"
    }
   ],
   "source": [
    "a.startswith((\"is\", \"English\"))  #  OR  Məntiqi"
   ]
  },
  {
   "cell_type": "code",
   "execution_count": null,
   "id": "da18e0e0",
   "metadata": {},
   "outputs": [],
   "source": []
  },
  {
   "cell_type": "markdown",
   "id": "70e0d5f9",
   "metadata": {},
   "source": [
    "### 13. strip()      -     Sətin kəsilmiş versiyasını qaytarır"
   ]
  },
  {
   "cell_type": "code",
   "execution_count": 22,
   "id": "be9abb42",
   "metadata": {},
   "outputs": [],
   "source": [
    "a = \"   Idrak Seyfllayev  \""
   ]
  },
  {
   "cell_type": "code",
   "execution_count": 23,
   "id": "d03bd307",
   "metadata": {},
   "outputs": [
    {
     "data": {
      "text/plain": [
       "'Idrak Seyfllayev'"
      ]
     },
     "execution_count": 23,
     "metadata": {},
     "output_type": "execute_result"
    }
   ],
   "source": [
    "a.strip()"
   ]
  },
  {
   "cell_type": "code",
   "execution_count": 24,
   "id": "cb2450e6",
   "metadata": {},
   "outputs": [],
   "source": [
    "a = \"giii  Idrak Seyfllayev t iii\""
   ]
  },
  {
   "cell_type": "code",
   "execution_count": 25,
   "id": "c1032b5e",
   "metadata": {},
   "outputs": [
    {
     "data": {
      "text/plain": [
       "'Idrak Seyfllayev'"
      ]
     },
     "execution_count": 25,
     "metadata": {},
     "output_type": "execute_result"
    }
   ],
   "source": [
    "a.strip(\" igiti \")"
   ]
  },
  {
   "cell_type": "code",
   "execution_count": null,
   "id": "498d4a43",
   "metadata": {},
   "outputs": [],
   "source": []
  },
  {
   "cell_type": "markdown",
   "id": "abdbf8a2",
   "metadata": {},
   "source": [
    " ### 14. lstrip()        -   Sətin sol trim versiyasını qaytarır"
   ]
  },
  {
   "cell_type": "code",
   "execution_count": 26,
   "id": "ce9cc315",
   "metadata": {},
   "outputs": [],
   "source": [
    "a = \"   Idrak Seyfllayev  \""
   ]
  },
  {
   "cell_type": "code",
   "execution_count": 27,
   "id": "f77c7077",
   "metadata": {},
   "outputs": [
    {
     "data": {
      "text/plain": [
       "'Idrak Seyfllayev  '"
      ]
     },
     "execution_count": 27,
     "metadata": {},
     "output_type": "execute_result"
    }
   ],
   "source": [
    "a.lstrip()"
   ]
  },
  {
   "cell_type": "code",
   "execution_count": null,
   "id": "1b06c651",
   "metadata": {},
   "outputs": [],
   "source": []
  },
  {
   "cell_type": "markdown",
   "id": "125c29d6",
   "metadata": {},
   "source": [
    "### 15. rstrip()  -  Sətin sağ trim versiyasını qaytarır"
   ]
  },
  {
   "cell_type": "code",
   "execution_count": 28,
   "id": "463455f7",
   "metadata": {},
   "outputs": [],
   "source": [
    "a = \"   Idrak Seyfllayev  \""
   ]
  },
  {
   "cell_type": "code",
   "execution_count": 29,
   "id": "944f9931",
   "metadata": {},
   "outputs": [
    {
     "data": {
      "text/plain": [
       "'   Idrak Seyfllayev'"
      ]
     },
     "execution_count": 29,
     "metadata": {},
     "output_type": "execute_result"
    }
   ],
   "source": [
    "a.rstrip()"
   ]
  },
  {
   "cell_type": "code",
   "execution_count": null,
   "id": "3c011a5a",
   "metadata": {},
   "outputs": [],
   "source": []
  },
  {
   "cell_type": "markdown",
   "id": "1e19c2e8",
   "metadata": {},
   "source": [
    "### 16. swapcase()   -     Kiçik hərf böyük hərf olur və əksinə"
   ]
  },
  {
   "cell_type": "code",
   "execution_count": 45,
   "id": "8976045e",
   "metadata": {},
   "outputs": [],
   "source": [
    "a = 'Azerbaijan Rebuplic'"
   ]
  },
  {
   "cell_type": "code",
   "execution_count": 46,
   "id": "1c0c85e2",
   "metadata": {},
   "outputs": [
    {
     "data": {
      "text/plain": [
       "'aZERBAIJAN rEBUPLIC'"
      ]
     },
     "execution_count": 46,
     "metadata": {},
     "output_type": "execute_result"
    }
   ],
   "source": [
    "a.swapcase()"
   ]
  },
  {
   "cell_type": "code",
   "execution_count": null,
   "id": "2555f86a",
   "metadata": {},
   "outputs": [],
   "source": []
  },
  {
   "cell_type": "markdown",
   "id": "8c971816",
   "metadata": {},
   "source": [
    "### 17. title()       -    Hər sözün ilk simvolunu böyük hərfə çevirir"
   ]
  },
  {
   "cell_type": "code",
   "execution_count": 49,
   "id": "3b31da52",
   "metadata": {},
   "outputs": [],
   "source": [
    "a = \"azerbaijan  republic\""
   ]
  },
  {
   "cell_type": "code",
   "execution_count": 50,
   "id": "25dffc62",
   "metadata": {},
   "outputs": [
    {
     "data": {
      "text/plain": [
       "'Azerbaijan  Republic'"
      ]
     },
     "execution_count": 50,
     "metadata": {},
     "output_type": "execute_result"
    }
   ],
   "source": [
    "a.title()"
   ]
  },
  {
   "cell_type": "code",
   "execution_count": null,
   "id": "52d5303e",
   "metadata": {},
   "outputs": [],
   "source": []
  },
  {
   "cell_type": "markdown",
   "id": "07aec608",
   "metadata": {},
   "source": [
    "###  18. upper()       -    Sətri böyük hərflərə çevirir"
   ]
  },
  {
   "cell_type": "code",
   "execution_count": 57,
   "id": "9bb62abc",
   "metadata": {},
   "outputs": [],
   "source": [
    "a = \"azerbaijan  republic\""
   ]
  },
  {
   "cell_type": "code",
   "execution_count": 58,
   "id": "6ef761bd",
   "metadata": {},
   "outputs": [
    {
     "data": {
      "text/plain": [
       "'AZERBAIJAN  REPUBLIC'"
      ]
     },
     "execution_count": 58,
     "metadata": {},
     "output_type": "execute_result"
    }
   ],
   "source": [
    "a.upper()"
   ]
  },
  {
   "cell_type": "code",
   "execution_count": null,
   "id": "0d2b88cc",
   "metadata": {},
   "outputs": [],
   "source": []
  },
  {
   "cell_type": "markdown",
   "id": "bd01de04",
   "metadata": {},
   "source": [
    "### 19. removeprefix() - prefiksi silir və sətirin qalan hissəsini qaytarır. Prefiks sətri tapılmırsa, o, orijinal sətri qaytarır"
   ]
  },
  {
   "cell_type": "code",
   "execution_count": 61,
   "id": "f746b9f9",
   "metadata": {},
   "outputs": [],
   "source": [
    "string1 = \"xos    geldiniz\""
   ]
  },
  {
   "cell_type": "code",
   "execution_count": 62,
   "id": "14e63566",
   "metadata": {},
   "outputs": [
    {
     "data": {
      "text/plain": [
       "'    geldiniz'"
      ]
     },
     "execution_count": 62,
     "metadata": {},
     "output_type": "execute_result"
    }
   ],
   "source": [
    "string1.removeprefix(\"xos\")"
   ]
  },
  {
   "cell_type": "code",
   "execution_count": null,
   "id": "c4ebee32",
   "metadata": {},
   "outputs": [],
   "source": []
  },
  {
   "cell_type": "markdown",
   "id": "021410cf",
   "metadata": {},
   "source": [
    "### 20. removesuffix() - suffiksi silir və sətirin qalan hissəsini qaytarır. suffiks sətri tapılmırsa, o, orijinal sətri qaytarı"
   ]
  },
  {
   "cell_type": "code",
   "execution_count": 70,
   "id": "885f5b8e",
   "metadata": {},
   "outputs": [],
   "source": [
    "string2 = \"xos geldiniz\""
   ]
  },
  {
   "cell_type": "code",
   "execution_count": 71,
   "id": "d7f42f6f",
   "metadata": {},
   "outputs": [
    {
     "data": {
      "text/plain": [
       "'xos geldiniz'"
      ]
     },
     "execution_count": 71,
     "metadata": {},
     "output_type": "execute_result"
    }
   ],
   "source": [
    "string2.removesuffix(\"zi\")"
   ]
  },
  {
   "cell_type": "code",
   "execution_count": 72,
   "id": "12ca3553",
   "metadata": {},
   "outputs": [
    {
     "data": {
      "text/plain": [
       "'xos geldin'"
      ]
     },
     "execution_count": 72,
     "metadata": {},
     "output_type": "execute_result"
    }
   ],
   "source": [
    "string2.removesuffix(\"iz\")"
   ]
  },
  {
   "cell_type": "code",
   "execution_count": null,
   "id": "6de05e2a",
   "metadata": {},
   "outputs": [],
   "source": []
  },
  {
   "cell_type": "markdown",
   "id": "e6ead842",
   "metadata": {},
   "source": [
    " ### Ev tapşırıqları Dərs 2. Stringlər, String metodları. Bool dəyişənlər"
   ]
  },
  {
   "cell_type": "markdown",
   "id": "a5a5eef3",
   "metadata": {},
   "source": [
    "### 1. İki str tipli dəyişən götürün. Birinci dəyişənin 3-cü elementi ilə 2-ci dəyişənin sonuncu elementini toplayıb çapa verin."
   ]
  },
  {
   "cell_type": "code",
   "execution_count": 74,
   "id": "b9a52696",
   "metadata": {},
   "outputs": [
    {
     "name": "stdout",
     "output_type": "stream",
     "text": [
      "vg\n"
     ]
    }
   ],
   "source": [
    "a = \"universitet\"\n",
    "\n",
    "b = \"shoping\"\n",
    "\n",
    "c = a[3] + b[6]\n",
    "\n",
    "print(c)"
   ]
  },
  {
   "cell_type": "markdown",
   "id": "5a8c41e6",
   "metadata": {},
   "source": [
    "### 2. Str tipli dəyişənin sonuncu elementindən 2-ci elementinə kimi olan hissəsini bir dəyişənə yazıb çapa verin.\n"
   ]
  },
  {
   "cell_type": "code",
   "execution_count": 84,
   "id": "8c95c1d5",
   "metadata": {},
   "outputs": [
    {
     "name": "stdout",
     "output_type": "stream",
     "text": [
      "vonamir\n",
      "vonamir\n",
      "onami\n",
      "onami\n"
     ]
    }
   ],
   "source": [
    "a = \"Nerimanov\"\n",
    "print(a[-1:1:-1])\n",
    "print(a[-1:-8:-1])\n",
    "\n",
    "b = a[-2:-7:-1] \n",
    "print(b)\n",
    "print(a[-2:2:-1]) \n",
    "\n"
   ]
  },
  {
   "cell_type": "markdown",
   "id": "0db0283e",
   "metadata": {},
   "source": [
    "### 3. Bütün simvolları kiçik hərflə olan str tipli bir dəyişən götürün və onun tərsini (ilk simvolu böyük hərflə) çapa verin"
   ]
  },
  {
   "cell_type": "code",
   "execution_count": 85,
   "id": "1e4e478c",
   "metadata": {},
   "outputs": [
    {
     "name": "stdout",
     "output_type": "stream",
     "text": [
      "Yarasnavrak\n"
     ]
    }
   ],
   "source": [
    "a = \"karvansaray\"\n",
    "\n",
    "b = a[::-1].capitalize()  \n",
    "\n",
    "print(b)"
   ]
  },
  {
   "cell_type": "markdown",
   "id": "986cd125",
   "metadata": {},
   "source": [
    "### 4. Str tipli dəyişəndə ilk simvolunun sayını tapın."
   ]
  },
  {
   "cell_type": "code",
   "execution_count": 87,
   "id": "f0e6485d",
   "metadata": {},
   "outputs": [
    {
     "name": "stdout",
     "output_type": "stream",
     "text": [
      "2\n",
      "2\n"
     ]
    }
   ],
   "source": [
    "a = \"MasalliM\"\n",
    "\n",
    "print(a.count(\"M\"))\n",
    "\n",
    "print(a.count(a[0]))\n"
   ]
  },
  {
   "cell_type": "markdown",
   "id": "0d32d9cd",
   "metadata": {},
   "source": [
    "### 5. Str tipli bir dəyişən götürün və onun son 2 simvolunu “12” ilə əvəzləyib yeni dəyişənə yazın. Yeni dəyişənin başlanğıcdan 5-ci elementə kimi olan hissəsini çapa verin."
   ]
  },
  {
   "cell_type": "code",
   "execution_count": 88,
   "id": "55bf9cdc",
   "metadata": {},
   "outputs": [
    {
     "name": "stdout",
     "output_type": "stream",
     "text": [
      "Bineqe12\n",
      "Bineq\n"
     ]
    }
   ],
   "source": [
    "a = \"Bineqedi\"\n",
    "\n",
    "b= a.replace(\"di\", \"12\")\n",
    "\n",
    "print(b)\n",
    "\n",
    "print(b[0:5])"
   ]
  },
  {
   "cell_type": "markdown",
   "id": "921cd547",
   "metadata": {},
   "source": [
    "### 6. “Men proqramlasdirma oyrenirem.” cümləsini bir dəyişənə yazın və bu dəyişəni “ “ (boşluq) simvoluna görə parçalayın.\n"
   ]
  },
  {
   "cell_type": "code",
   "execution_count": 89,
   "id": "2ff94fd6",
   "metadata": {},
   "outputs": [
    {
     "name": "stdout",
     "output_type": "stream",
     "text": [
      "['Men', 'proqramlasdirma', 'oyrenirem.']\n",
      "['Men ', 'roqramlasdirma oyrenirem.']\n"
     ]
    }
   ],
   "source": [
    "a = \"Men proqramlasdirma oyrenirem.\"\n",
    "\n",
    "print(a.split())\n",
    "\n",
    "print(a.split(\"p\"))   # yoxladim gorum ne bas verir?"
   ]
  },
  {
   "cell_type": "markdown",
   "id": "0517532b",
   "metadata": {},
   "source": [
    "### 7. Bütün simvolları kiçik hərflə olan str tipli bir dəyişən götürün və bu dəyişənin başlanğıcdan sona kimi elementlərini 1 simvol ötürərək böyük hərflərlə çapa verin. (məs: “salam” – “SLM”)"
   ]
  },
  {
   "cell_type": "code",
   "execution_count": 90,
   "id": "d825f9c7",
   "metadata": {},
   "outputs": [
    {
     "name": "stdout",
     "output_type": "stream",
     "text": [
      "KNIINR\n",
      "KNIINR\n"
     ]
    }
   ],
   "source": [
    "a = \"kondisioner\"\n",
    "\n",
    "print(a[0::2].swapcase())      \n",
    "print(a[0::2].upper())"
   ]
  },
  {
   "cell_type": "markdown",
   "id": "bb4d1c4b",
   "metadata": {},
   "source": [
    "### 8. Str tipli iki dəyişən götürün. 1-ci dəyişənin ilk 2 simvolu ilə 2-ci dəyişən son 2 simvolunu birləşdirib yeni bir dəyişənə yazın. Yeni dəyişənin bütün simvollarını kiçik hərflə çapa verin.\n"
   ]
  },
  {
   "cell_type": "code",
   "execution_count": 92,
   "id": "1bd8804a",
   "metadata": {},
   "outputs": [
    {
     "name": "stdout",
     "output_type": "stream",
     "text": [
      "alka\n",
      "alka\n"
     ]
    }
   ],
   "source": [
    "a = \"ALQORITM\"\n",
    "\n",
    "b = \"GIMNASTIKA\"\n",
    "\n",
    "c = a[0:2] + b[8:]\n",
    "\n",
    "\n",
    "print(c.casefold())\n",
    " \n",
    "\n",
    "print((a[0:2] + b[-2:]).swapcase())    "
   ]
  },
  {
   "cell_type": "markdown",
   "id": "33c96b60",
   "metadata": {},
   "source": [
    "### 9. Str tipli bir dəyişən götürün və onun 3-cü elementindən 15-ci elementinə kimi olan  hissəsini 2 simvol ötürərək yeni bir dəyişənə yazın. Yeni dəyişənin “a” simvolu ilə  başlayıb-başlamamasını və “z” simvolu ilə bitib-bitməməsini yoxlayın.\n"
   ]
  },
  {
   "cell_type": "code",
   "execution_count": 95,
   "id": "a30f82a2",
   "metadata": {},
   "outputs": [
    {
     "name": "stdout",
     "output_type": "stream",
     "text": [
      "False\n",
      "False\n"
     ]
    }
   ],
   "source": [
    "a = \"Qafqaz Universiteti\"\n",
    "\n",
    "b = a[3:15:3]\n",
    "\n",
    "\n",
    "print(b.startswith(\"a\"))\n",
    "\n",
    "\n",
    "\n",
    "print(b.endswith(\"z\"))\n"
   ]
  },
  {
   "cell_type": "code",
   "execution_count": null,
   "id": "98f02b21",
   "metadata": {},
   "outputs": [],
   "source": []
  }
 ],
 "metadata": {
  "kernelspec": {
   "display_name": "Python 3 (ipykernel)",
   "language": "python",
   "name": "python3"
  },
  "language_info": {
   "codemirror_mode": {
    "name": "ipython",
    "version": 3
   },
   "file_extension": ".py",
   "mimetype": "text/x-python",
   "name": "python",
   "nbconvert_exporter": "python",
   "pygments_lexer": "ipython3",
   "version": "3.11.5"
  }
 },
 "nbformat": 4,
 "nbformat_minor": 5
}
