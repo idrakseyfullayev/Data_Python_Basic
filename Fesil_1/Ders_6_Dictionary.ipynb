{
 "cells": [
  {
   "cell_type": "markdown",
   "id": "c6c70e29",
   "metadata": {},
   "source": [
    "## Dictionary Ümumi"
   ]
  },
  {
   "cell_type": "markdown",
   "id": "9d29ff72",
   "metadata": {},
   "source": [
    "- **Dict-də indeksler acarlardir. Elementlerin sirasi movcuddur. Eyni acara aid olan elementlerden yalniz birini saxlayir.**"
   ]
  },
  {
   "cell_type": "code",
   "execution_count": 38,
   "id": "081052a3",
   "metadata": {},
   "outputs": [
    {
     "data": {
      "text/plain": [
       "{4.7,\n",
       " 452,\n",
       " 'Ad',\n",
       " 'Muellfif',\n",
       " 'Oyunbaz',\n",
       " 'Reyciler',\n",
       " 'Reytinq',\n",
       " 'Sehife_sayi',\n",
       " 'Vulf Dorn'}"
      ]
     },
     "execution_count": 38,
     "metadata": {},
     "output_type": "execute_result"
    }
   ],
   "source": [
    "kitab = {\"Ad\", \"Oyunbaz\", \"Muellfif\", \"Vulf Dorn\", \"Sehife_sayi\", 452, \"Reytinq\", 4.7, \"Reyciler\"}\n",
    "\n",
    "kitab"
   ]
  },
  {
   "cell_type": "code",
   "execution_count": 39,
   "id": "691d6ec0",
   "metadata": {},
   "outputs": [
    {
     "data": {
      "text/plain": [
       "set"
      ]
     },
     "execution_count": 39,
     "metadata": {},
     "output_type": "execute_result"
    }
   ],
   "source": [
    "type(kitab)"
   ]
  },
  {
   "cell_type": "code",
   "execution_count": 40,
   "id": "adf46886",
   "metadata": {},
   "outputs": [
    {
     "data": {
      "text/plain": [
       "{'Ad': 'Oyunbaz',\n",
       " 'Muellfif': 'Vulf Dorn',\n",
       " 'Sehife_sayi': 452,\n",
       " 'Reytinq': 4.7,\n",
       " 'Reyciler': ['Tom Hanks', 'Chris Evans']}"
      ]
     },
     "execution_count": 40,
     "metadata": {},
     "output_type": "execute_result"
    }
   ],
   "source": [
    "kitab = {\n",
    "    \"Ad\": \"Oyunbaz\",\n",
    "    \"Muellfif\": \"Vulf Dorn\",\n",
    "    \"Sehife_sayi\": 452,\n",
    "    \"Reytinq\": 4.7,\n",
    "    \"Reyciler\": [\"Tom Hanks\", \"Chris Evans\"]\n",
    "}\n",
    "\n",
    "\n",
    "kitab"
   ]
  },
  {
   "cell_type": "code",
   "execution_count": 41,
   "id": "89052afd",
   "metadata": {},
   "outputs": [
    {
     "data": {
      "text/plain": [
       "dict"
      ]
     },
     "execution_count": 41,
     "metadata": {},
     "output_type": "execute_result"
    }
   ],
   "source": [
    "type(kitab)"
   ]
  },
  {
   "cell_type": "code",
   "execution_count": 42,
   "id": "c5eb8766",
   "metadata": {},
   "outputs": [
    {
     "name": "stdout",
     "output_type": "stream",
     "text": [
      "452\n"
     ]
    }
   ],
   "source": [
    "print(kitab[\"Sehife_sayi\"])"
   ]
  },
  {
   "cell_type": "code",
   "execution_count": 43,
   "id": "77abb862",
   "metadata": {},
   "outputs": [
    {
     "data": {
      "text/plain": [
       "{'Ad': 'The Martian',\n",
       " 'Reytinq': 8.1,\n",
       " 'Rejissor': ['', ''],\n",
       " 'Aktyorlar': ['Mat Damon', ''],\n",
       " 'Sloqan': 'Ura',\n",
       " 'Muellif': {'Ad': 'İdrak', 'Soyad': 'Seyfullayev'}}"
      ]
     },
     "execution_count": 43,
     "metadata": {},
     "output_type": "execute_result"
    }
   ],
   "source": [
    "film = {\n",
    "    \"Ad\": \"The Martian\",\n",
    "    \"Reytinq\": 8.1,\n",
    "    \"Rejissor\": [\"\", \"\"],\n",
    "    \"Aktyorlar\": [\"Mat Damon\", \"\"],\n",
    "    \"Sloqan\": \"Ura\",\n",
    "    \"Muellif\": {\n",
    "        \"Ad\": \"İdrak\",\n",
    "        \"Soyad\": \"Seyfullayev\"\n",
    "    }\n",
    "}\n",
    "\n",
    "film"
   ]
  },
  {
   "cell_type": "code",
   "execution_count": 44,
   "id": "e4d6e1ca",
   "metadata": {},
   "outputs": [
    {
     "data": {
      "text/plain": [
       "{'Ad': 'Oyunbaz',\n",
       " 'Muellfif': 'Vulf Dorn',\n",
       " 'Sehife_sayi': 452,\n",
       " 'Reytinq': 4.7,\n",
       " 'Reyciler': ['Tom Hanks', 'Chris Evans'],\n",
       " '50': '99',\n",
       " '40': 99,\n",
       " 50: '99',\n",
       " 40: 99}"
      ]
     },
     "execution_count": 44,
     "metadata": {},
     "output_type": "execute_result"
    }
   ],
   "source": [
    "kitab = {\n",
    "    \"Ad\": \"Oyunbaz\",\n",
    "    \"Muellfif\": \"Vulf Dorn\",\n",
    "    \"Sehife_sayi\": 452,\n",
    "    \"Reytinq\": 4.7,\n",
    "    \"Reyciler\": [\"Tom Hanks\", \"Chris Evans\"],\n",
    "    \"50\" : '99',\n",
    "    \"40\": 99,\n",
    "    50: \"99\",\n",
    "    40: 99,\n",
    "    40: 99,\n",
    "    \n",
    "    \n",
    "}\n",
    "\n",
    "kitab"
   ]
  },
  {
   "cell_type": "code",
   "execution_count": 45,
   "id": "a05dc68c",
   "metadata": {},
   "outputs": [
    {
     "ename": "KeyError",
     "evalue": "0",
     "output_type": "error",
     "traceback": [
      "\u001b[1;31m---------------------------------------------------------------------------\u001b[0m",
      "\u001b[1;31mKeyError\u001b[0m                                  Traceback (most recent call last)",
      "Cell \u001b[1;32mIn[45], line 1\u001b[0m\n\u001b[1;32m----> 1\u001b[0m kitab[\u001b[38;5;241m0\u001b[39m]\n",
      "\u001b[1;31mKeyError\u001b[0m: 0"
     ]
    }
   ],
   "source": [
    "kitab[0]"
   ]
  },
  {
   "cell_type": "code",
   "execution_count": 46,
   "id": "5532e7f0",
   "metadata": {},
   "outputs": [
    {
     "data": {
      "text/plain": [
       "'Oyunbaz'"
      ]
     },
     "execution_count": 46,
     "metadata": {},
     "output_type": "execute_result"
    }
   ],
   "source": [
    "kitab[\"Ad\"]"
   ]
  },
  {
   "cell_type": "code",
   "execution_count": 47,
   "id": "c9432010",
   "metadata": {},
   "outputs": [],
   "source": [
    "kitab[\"Ad\"] = \"Oyun\""
   ]
  },
  {
   "cell_type": "code",
   "execution_count": 48,
   "id": "9ac84db7",
   "metadata": {},
   "outputs": [
    {
     "data": {
      "text/plain": [
       "{'Ad': 'Oyun',\n",
       " 'Muellfif': 'Vulf Dorn',\n",
       " 'Sehife_sayi': 452,\n",
       " 'Reytinq': 4.7,\n",
       " 'Reyciler': ['Tom Hanks', 'Chris Evans'],\n",
       " '50': '99',\n",
       " '40': 99,\n",
       " 50: '99',\n",
       " 40: 99}"
      ]
     },
     "execution_count": 48,
     "metadata": {},
     "output_type": "execute_result"
    }
   ],
   "source": [
    "kitab"
   ]
  },
  {
   "cell_type": "code",
   "execution_count": 49,
   "id": "d119b6bf",
   "metadata": {},
   "outputs": [
    {
     "ename": "TypeError",
     "evalue": "unsupported operand type(s) for +: 'dict' and 'int'",
     "output_type": "error",
     "traceback": [
      "\u001b[1;31m---------------------------------------------------------------------------\u001b[0m",
      "\u001b[1;31mTypeError\u001b[0m                                 Traceback (most recent call last)",
      "Cell \u001b[1;32mIn[49], line 1\u001b[0m\n\u001b[1;32m----> 1\u001b[0m kitab \u001b[38;5;241m+\u001b[39m \u001b[38;5;241m1\u001b[39m\n",
      "\u001b[1;31mTypeError\u001b[0m: unsupported operand type(s) for +: 'dict' and 'int'"
     ]
    }
   ],
   "source": [
    "kitab + 1"
   ]
  },
  {
   "cell_type": "code",
   "execution_count": 50,
   "id": "d14cc9f9",
   "metadata": {},
   "outputs": [
    {
     "ename": "TypeError",
     "evalue": "unsupported operand type(s) for +: 'dict' and 'str'",
     "output_type": "error",
     "traceback": [
      "\u001b[1;31m---------------------------------------------------------------------------\u001b[0m",
      "\u001b[1;31mTypeError\u001b[0m                                 Traceback (most recent call last)",
      "Cell \u001b[1;32mIn[50], line 1\u001b[0m\n\u001b[1;32m----> 1\u001b[0m kitab \u001b[38;5;241m+\u001b[39m \u001b[38;5;124m\"\u001b[39m\u001b[38;5;124m1\u001b[39m\u001b[38;5;124m\"\u001b[39m\n",
      "\u001b[1;31mTypeError\u001b[0m: unsupported operand type(s) for +: 'dict' and 'str'"
     ]
    }
   ],
   "source": [
    "kitab + \"1\""
   ]
  },
  {
   "cell_type": "code",
   "execution_count": 51,
   "id": "ba6e3065",
   "metadata": {},
   "outputs": [
    {
     "ename": "TypeError",
     "evalue": "unsupported operand type(s) for *: 'dict' and 'int'",
     "output_type": "error",
     "traceback": [
      "\u001b[1;31m---------------------------------------------------------------------------\u001b[0m",
      "\u001b[1;31mTypeError\u001b[0m                                 Traceback (most recent call last)",
      "Cell \u001b[1;32mIn[51], line 1\u001b[0m\n\u001b[1;32m----> 1\u001b[0m kitab \u001b[38;5;241m*\u001b[39m \u001b[38;5;241m2\u001b[39m\n",
      "\u001b[1;31mTypeError\u001b[0m: unsupported operand type(s) for *: 'dict' and 'int'"
     ]
    }
   ],
   "source": [
    "kitab * 2"
   ]
  },
  {
   "cell_type": "code",
   "execution_count": 52,
   "id": "62e8f916",
   "metadata": {},
   "outputs": [
    {
     "data": {
      "text/plain": [
       "{'Ad': 'Oyun',\n",
       " 'Muellfif': 'Vulf Dorn',\n",
       " 'Sehife_sayi': 452,\n",
       " 'Reytinq': 4.7,\n",
       " 'Reyciler': ['Tom Hanks', 'Chris Evans'],\n",
       " '50': '99',\n",
       " '40': 99,\n",
       " 50: '99',\n",
       " 40: 99}"
      ]
     },
     "execution_count": 52,
     "metadata": {},
     "output_type": "execute_result"
    }
   ],
   "source": [
    "kitab"
   ]
  },
  {
   "cell_type": "code",
   "execution_count": 53,
   "id": "36be800e",
   "metadata": {},
   "outputs": [
    {
     "data": {
      "text/plain": [
       "{'Ad': 'The Martian',\n",
       " 'Reytinq': 8.1,\n",
       " 'Rejissor': ['', ''],\n",
       " 'Aktyorlar': ['Mat Damon', ''],\n",
       " 'Sloqan': 'Ura',\n",
       " 'Muellif': {'Ad': 'İdrak', 'Soyad': 'Seyfullayev'}}"
      ]
     },
     "execution_count": 53,
     "metadata": {},
     "output_type": "execute_result"
    }
   ],
   "source": [
    "film"
   ]
  },
  {
   "cell_type": "code",
   "execution_count": 54,
   "id": "2372fee1",
   "metadata": {},
   "outputs": [
    {
     "ename": "TypeError",
     "evalue": "unsupported operand type(s) for +: 'dict' and 'dict'",
     "output_type": "error",
     "traceback": [
      "\u001b[1;31m---------------------------------------------------------------------------\u001b[0m",
      "\u001b[1;31mTypeError\u001b[0m                                 Traceback (most recent call last)",
      "Cell \u001b[1;32mIn[54], line 1\u001b[0m\n\u001b[1;32m----> 1\u001b[0m kitab \u001b[38;5;241m+\u001b[39m film\n",
      "\u001b[1;31mTypeError\u001b[0m: unsupported operand type(s) for +: 'dict' and 'dict'"
     ]
    }
   ],
   "source": [
    "kitab + film"
   ]
  },
  {
   "cell_type": "code",
   "execution_count": null,
   "id": "431fa080",
   "metadata": {},
   "outputs": [],
   "source": []
  },
  {
   "cell_type": "markdown",
   "id": "08130399",
   "metadata": {},
   "source": [
    "## Dict Functions"
   ]
  },
  {
   "cell_type": "markdown",
   "id": "69bb3b13",
   "metadata": {},
   "source": [
    "### 1 get() → key-i kitab.get()-a daxil etdikdə dəyərini qaytarır. Əgər həmin dəyər dictionary-də yoxdursa, None qaytarır. Ya yeni bir dəyişənə yazılmalıdır, ya da print edilməlidir. → Ad1 = kitab.get(\"Ad\")"
   ]
  },
  {
   "cell_type": "code",
   "execution_count": 55,
   "id": "95bf6dd1",
   "metadata": {},
   "outputs": [
    {
     "data": {
      "text/plain": [
       "'Oyunbaz'"
      ]
     },
     "execution_count": 55,
     "metadata": {},
     "output_type": "execute_result"
    }
   ],
   "source": [
    "kitab = {\n",
    "    \"Ad\": \"Oyunbaz\",\n",
    "    \"Muellfif\": \"Vulf Dorn\",\n",
    "    \"Sehife_sayi\": 452,\n",
    "    \"Reytinq\": 4.7,\n",
    "    \"Reyciler\": [\"Tom Hanks\", \"Chris Evans\"]\n",
    "}\n",
    "\n",
    "\n",
    "kitab.get(\"Ad\")"
   ]
  },
  {
   "cell_type": "code",
   "execution_count": 57,
   "id": "a8dd060b",
   "metadata": {},
   "outputs": [],
   "source": [
    "kitab.get(\"ad\")"
   ]
  },
  {
   "cell_type": "markdown",
   "id": "74988f88",
   "metadata": {},
   "source": [
    "#### Try to return the value of an item that do not exist:"
   ]
  },
  {
   "cell_type": "code",
   "execution_count": 62,
   "id": "cb27ce45",
   "metadata": {},
   "outputs": [
    {
     "data": {
      "text/plain": [
       "'Xatireler'"
      ]
     },
     "execution_count": 62,
     "metadata": {},
     "output_type": "execute_result"
    }
   ],
   "source": [
    "kitab.get(\"ad\", \"Xatireler\")"
   ]
  },
  {
   "cell_type": "code",
   "execution_count": 63,
   "id": "bea14d75",
   "metadata": {},
   "outputs": [
    {
     "data": {
      "text/plain": [
       "{'Ad': 'Oyunbaz',\n",
       " 'Muellfif': 'Vulf Dorn',\n",
       " 'Sehife_sayi': 452,\n",
       " 'Reytinq': 4.7,\n",
       " 'Reyciler': ['Tom Hanks', 'Chris Evans']}"
      ]
     },
     "execution_count": 63,
     "metadata": {},
     "output_type": "execute_result"
    }
   ],
   "source": [
    "kitab"
   ]
  },
  {
   "cell_type": "markdown",
   "id": "f2123936",
   "metadata": {},
   "source": [
    "### 2. [ ] → key-i [ ]-a daxil etdikdə dəyərini qaytarır. Əgər həmin dəyər dictionary-də yoxdursa, error qaytarır. Ya yeni bir dəyişənə yazılmalıdır, ya da print edilməlidir. → Ad2 = kitab[\"Ad\"]"
   ]
  },
  {
   "cell_type": "code",
   "execution_count": 64,
   "id": "c98d36bd",
   "metadata": {},
   "outputs": [
    {
     "data": {
      "text/plain": [
       "'Vulf Dorn'"
      ]
     },
     "execution_count": 64,
     "metadata": {},
     "output_type": "execute_result"
    }
   ],
   "source": [
    "kitab = {\n",
    "    \"Ad\": \"Oyunbaz\",\n",
    "    \"Muellfif\": \"Vulf Dorn\",\n",
    "    \"Sehife_sayi\": 452,\n",
    "    \"Reytinq\": 4.7,\n",
    "    \"Reyciler\": [\"Tom Hanks\", \"Chris Evans\"]\n",
    "}\n",
    "\n",
    "\n",
    "kitab[\"Muellfif\"]"
   ]
  },
  {
   "cell_type": "code",
   "execution_count": 65,
   "id": "0b8b88c7",
   "metadata": {},
   "outputs": [
    {
     "data": {
      "text/plain": [
       "['Tom Hanks', 'Chris Evans']"
      ]
     },
     "execution_count": 65,
     "metadata": {},
     "output_type": "execute_result"
    }
   ],
   "source": [
    "kitab[\"Reyciler\"]"
   ]
  },
  {
   "cell_type": "code",
   "execution_count": 66,
   "id": "b23985c1",
   "metadata": {},
   "outputs": [
    {
     "data": {
      "text/plain": [
       "'Tom Hanks'"
      ]
     },
     "execution_count": 66,
     "metadata": {},
     "output_type": "execute_result"
    }
   ],
   "source": [
    "kitab[\"Reyciler\"][0]"
   ]
  },
  {
   "cell_type": "code",
   "execution_count": 67,
   "id": "e048a0a0",
   "metadata": {},
   "outputs": [
    {
     "data": {
      "text/plain": [
       "'Chris Evans'"
      ]
     },
     "execution_count": 67,
     "metadata": {},
     "output_type": "execute_result"
    }
   ],
   "source": [
    "kitab[\"Reyciler\"][1]"
   ]
  },
  {
   "cell_type": "code",
   "execution_count": 68,
   "id": "665559ce",
   "metadata": {},
   "outputs": [
    {
     "data": {
      "text/plain": [
       "'C'"
      ]
     },
     "execution_count": 68,
     "metadata": {},
     "output_type": "execute_result"
    }
   ],
   "source": [
    "kitab[\"Reyciler\"][1][0]"
   ]
  },
  {
   "cell_type": "code",
   "execution_count": 70,
   "id": "443c5e70",
   "metadata": {},
   "outputs": [
    {
     "ename": "KeyError",
     "evalue": "'Say'",
     "output_type": "error",
     "traceback": [
      "\u001b[1;31m---------------------------------------------------------------------------\u001b[0m",
      "\u001b[1;31mKeyError\u001b[0m                                  Traceback (most recent call last)",
      "Cell \u001b[1;32mIn[70], line 1\u001b[0m\n\u001b[1;32m----> 1\u001b[0m kitab[\u001b[38;5;124m\"\u001b[39m\u001b[38;5;124mSay\u001b[39m\u001b[38;5;124m\"\u001b[39m]\n",
      "\u001b[1;31mKeyError\u001b[0m: 'Say'"
     ]
    }
   ],
   "source": [
    "kitab[\"Say\"]"
   ]
  },
  {
   "cell_type": "markdown",
   "id": "af7497b2",
   "metadata": {},
   "source": [
    "### 3. items() → kitab.items() həm key-ləri, həm də dəyərləri qaytarır. Tuple-in daxilində ayr-ayrı listlərdə qaytarır. Ya yeni bir dəyişənə yazılmalıdır, ya da print edilməlidir. → kitab1 = kitab.items()"
   ]
  },
  {
   "cell_type": "code",
   "execution_count": 76,
   "id": "c6d91f12",
   "metadata": {},
   "outputs": [
    {
     "data": {
      "text/plain": [
       "dict_items([('Ad', 'Oyunbaz'), ('Muellfif', 'Vulf Dorn'), ('Sehife_sayi', 452), ('Reytinq', 4.7), ('Reyciler', ['Tom Hanks', 'Chris Evans'])])"
      ]
     },
     "execution_count": 76,
     "metadata": {},
     "output_type": "execute_result"
    }
   ],
   "source": [
    "kitab = {\n",
    "    \"Ad\": \"Oyunbaz\",\n",
    "    \"Muellfif\": \"Vulf Dorn\",\n",
    "    \"Sehife_sayi\": 452,\n",
    "    \"Reytinq\": 4.7,\n",
    "    \"Reyciler\": [\"Tom Hanks\", \"Chris Evans\"]\n",
    "}\n",
    "\n",
    "\n",
    "\n",
    "kitab.items()\n"
   ]
  },
  {
   "cell_type": "code",
   "execution_count": 77,
   "id": "ae5763c9",
   "metadata": {},
   "outputs": [
    {
     "data": {
      "text/plain": [
       "dict_items([('Ad', 'Oyunbaz'), ('Muellfif', 'Vulf Dorn'), ('Sehife_sayi', 452), ('Reytinq', 4.7), ('Reyciler', ['Tom Hanks', 'Chris Evans'])])"
      ]
     },
     "execution_count": 77,
     "metadata": {},
     "output_type": "execute_result"
    }
   ],
   "source": [
    "a = kitab.items()\n",
    "\n",
    "a"
   ]
  },
  {
   "cell_type": "code",
   "execution_count": 79,
   "id": "08b0ed5f",
   "metadata": {},
   "outputs": [
    {
     "data": {
      "text/plain": [
       "dict_items([('Ad', 'Oyunbaz'), ('Muellfif', 'Vulf Dorn'), ('Sehife_sayi', 452), ('Reytinq', 5), ('Reyciler', ['Tom Hanks', 'Chris Evans'])])"
      ]
     },
     "execution_count": 79,
     "metadata": {},
     "output_type": "execute_result"
    }
   ],
   "source": [
    "kitab = {\n",
    "    \"Ad\": \"Oyunbaz\",\n",
    "    \"Muellfif\": \"Vulf Dorn\",\n",
    "    \"Sehife_sayi\": 452,\n",
    "    \"Reytinq\": 4.7,\n",
    "    \"Reyciler\": [\"Tom Hanks\", \"Chris Evans\"]\n",
    "}\n",
    "\n",
    "\n",
    "\n",
    "a = kitab.items()\n",
    "\n",
    "kitab['Reytinq'] = 5\n",
    "\n",
    "a"
   ]
  },
  {
   "cell_type": "markdown",
   "id": "16ed49e8",
   "metadata": {},
   "source": [
    "### 4. keys() → kitab.keys() bütün key-ləri qaytarır. Tuple-in daxilində qaytarır. Ya yeni bir dəyişənə yazılmalıdır, ya da print edilməlidir. → kitab1 = kitab.keys()"
   ]
  },
  {
   "cell_type": "code",
   "execution_count": 80,
   "id": "f7e8e828",
   "metadata": {},
   "outputs": [
    {
     "data": {
      "text/plain": [
       "dict_keys(['Ad', 'Muellfif', 'Sehife_sayi', 'Reytinq', 'Reyciler'])"
      ]
     },
     "execution_count": 80,
     "metadata": {},
     "output_type": "execute_result"
    }
   ],
   "source": [
    "kitab = {\n",
    "    \"Ad\": \"Oyunbaz\",\n",
    "    \"Muellfif\": \"Vulf Dorn\",\n",
    "    \"Sehife_sayi\": 452,\n",
    "    \"Reytinq\": 4.7,\n",
    "    \"Reyciler\": [\"Tom Hanks\", \"Chris Evans\"]\n",
    "}\n",
    "\n",
    "\n",
    "a = kitab.keys()\n",
    "\n",
    "a"
   ]
  },
  {
   "cell_type": "code",
   "execution_count": 95,
   "id": "ac5f466f",
   "metadata": {},
   "outputs": [
    {
     "data": {
      "text/plain": [
       "mappingproxy({'Ad': 'Oyunbaz',\n",
       "              'Muellfif': 'Vulf Dorn',\n",
       "              'Sehife_sayi': 452,\n",
       "              'Reytinq': 4.7,\n",
       "              'Reyciler': ['Tom Hanks', 'Chris Evans']})"
      ]
     },
     "execution_count": 95,
     "metadata": {},
     "output_type": "execute_result"
    }
   ],
   "source": [
    "a.mapping"
   ]
  },
  {
   "cell_type": "code",
   "execution_count": 93,
   "id": "77826549",
   "metadata": {},
   "outputs": [
    {
     "data": {
      "text/plain": [
       "'Oyunbaz'"
      ]
     },
     "execution_count": 93,
     "metadata": {},
     "output_type": "execute_result"
    }
   ],
   "source": [
    "a.mapping[\"Ad\"]"
   ]
  },
  {
   "cell_type": "markdown",
   "id": "62bd15f2",
   "metadata": {},
   "source": [
    "### 5.  values() → kitab.values() bütün dəyərləri qaytarır. Tuple-in daxilində qaytarır. Ya yeni bir dəyişənə yazılmalıdır, ya da print edilməlidir. → kitab1 = kitab.values()"
   ]
  },
  {
   "cell_type": "code",
   "execution_count": 3,
   "id": "0849c82d",
   "metadata": {},
   "outputs": [
    {
     "data": {
      "text/plain": [
       "dict_values(['Oyunbaz', 'Vulf Dorn', 452, 4.7, ['Tom Hanks', 'Chris Evans']])"
      ]
     },
     "execution_count": 3,
     "metadata": {},
     "output_type": "execute_result"
    }
   ],
   "source": [
    "kitab = {\n",
    "    \"Ad\": \"Oyunbaz\",\n",
    "    \"Muellfif\": \"Vulf Dorn\",\n",
    "    \"Sehife_sayi\": 452,\n",
    "    \"Reytinq\": 4.7,\n",
    "    \"Reyciler\": [\"Tom Hanks\", \"Chris Evans\"]\n",
    "}\n",
    "\n",
    "\n",
    "\n",
    "a = kitab.values()\n",
    "\n",
    "a"
   ]
  },
  {
   "cell_type": "code",
   "execution_count": 4,
   "id": "9f244df3",
   "metadata": {},
   "outputs": [
    {
     "data": {
      "text/plain": [
       "mappingproxy({'Ad': 'Oyunbaz',\n",
       "              'Muellfif': 'Vulf Dorn',\n",
       "              'Sehife_sayi': 452,\n",
       "              'Reytinq': 4.7,\n",
       "              'Reyciler': ['Tom Hanks', 'Chris Evans']})"
      ]
     },
     "execution_count": 4,
     "metadata": {},
     "output_type": "execute_result"
    }
   ],
   "source": [
    "a.mapping"
   ]
  },
  {
   "cell_type": "code",
   "execution_count": 6,
   "id": "b6ea5605",
   "metadata": {},
   "outputs": [
    {
     "data": {
      "text/plain": [
       "'Oyunbaz'"
      ]
     },
     "execution_count": 6,
     "metadata": {},
     "output_type": "execute_result"
    }
   ],
   "source": [
    "a.mapping['Ad']"
   ]
  },
  {
   "cell_type": "markdown",
   "id": "0d6eb6bb",
   "metadata": {},
   "source": [
    "### 6. pop() → kitab.pop()-a daxil etdiyimiz key-i, dəyəri ilə birlikdə silir və key-in dəyərini qaytarır. → kitab.pop(\"Ad\")"
   ]
  },
  {
   "cell_type": "code",
   "execution_count": 16,
   "id": "3c956ecc",
   "metadata": {},
   "outputs": [
    {
     "data": {
      "text/plain": [
       "'Oyunbaz'"
      ]
     },
     "execution_count": 16,
     "metadata": {},
     "output_type": "execute_result"
    }
   ],
   "source": [
    "kitab = {\n",
    "    \"Ad\": \"Oyunbaz\",\n",
    "    \"Muellif\": \"Vulf Dorn\",\n",
    "    \"Sehife_sayi\": 452,\n",
    "    \"Reytinq\": 4.7,\n",
    "    \"Reyciler\": [\"Tom Hanks\", \"Chris Evans\"]\n",
    "}\n",
    "\n",
    "\n",
    "a = kitab.pop(\"Ad\")\n",
    "\n",
    "a"
   ]
  },
  {
   "cell_type": "code",
   "execution_count": 17,
   "id": "552ce8ca",
   "metadata": {},
   "outputs": [
    {
     "data": {
      "text/plain": [
       "{'Muellif': 'Vulf Dorn',\n",
       " 'Sehife_sayi': 452,\n",
       " 'Reytinq': 4.7,\n",
       " 'Reyciler': ['Tom Hanks', 'Chris Evans']}"
      ]
     },
     "execution_count": 17,
     "metadata": {},
     "output_type": "execute_result"
    }
   ],
   "source": [
    "kitab"
   ]
  },
  {
   "cell_type": "markdown",
   "id": "eef6b6fe",
   "metadata": {},
   "source": [
    "### 7 .   popitem() → kitab.popitem() dictionary-dən son key-i, dəyəri ilə birlikdə silir və həm key-i, həm də dəyəri qaytarır. → kitab.popitem()"
   ]
  },
  {
   "cell_type": "code",
   "execution_count": 18,
   "id": "1f02c18e",
   "metadata": {},
   "outputs": [
    {
     "name": "stdout",
     "output_type": "stream",
     "text": [
      "('Reyciler', ['Tom Hanks', 'Chris Evans'])\n",
      "{'Ad': 'Oyunbaz', 'Muellif': 'Vulf Dorn', 'Sehife_sayi': 452, 'Reytinq': 4.7}\n"
     ]
    }
   ],
   "source": [
    "kitab = {\n",
    "    \"Ad\": \"Oyunbaz\",\n",
    "    \"Muellif\": \"Vulf Dorn\",\n",
    "    \"Sehife_sayi\": 452,\n",
    "    \"Reytinq\": 4.7,\n",
    "    \"Reyciler\": [\"Tom Hanks\", \"Chris Evans\"]\n",
    "}\n",
    "\n",
    "\n",
    "\n",
    "a = kitab.popitem()\n",
    "\n",
    "print(a)\n",
    "\n",
    "print(kitab)"
   ]
  },
  {
   "cell_type": "markdown",
   "id": "651275b3",
   "metadata": {},
   "source": [
    "### 8. [ ] → dictionary-yə key-i, dəyəri ilə birlikdə daxil edir və ya həmin key mövcuddursa, dəyərini daxil etdiyimiz dəyər vasitəsilə dəyişirik. Əsasən bu üsul istifadə olunur. → kitab[\"Qiymet\"] = 5"
   ]
  },
  {
   "cell_type": "code",
   "execution_count": 31,
   "id": "36f733e3",
   "metadata": {},
   "outputs": [
    {
     "data": {
      "text/plain": [
       "{'Ad': 'Oyunbaz',\n",
       " 'Muellif': 'Vulf Dorn',\n",
       " 'Sehife_sayi': 452,\n",
       " 'Reytinq': 4.7,\n",
       " 'Reyciler': ['Tom Hanks', 'Chris Evans']}"
      ]
     },
     "execution_count": 31,
     "metadata": {},
     "output_type": "execute_result"
    }
   ],
   "source": [
    "kitab = {\n",
    "    \"Ad\": \"Oyunbaz\",\n",
    "    \"Muellif\": \"Vulf Dorn\",\n",
    "    \"Sehife_sayi\": 452,\n",
    "    \"Reytinq\": 4.7,\n",
    "    \"Reyciler\": [\"Tom Hanks\", \"Chris Evans\"]\n",
    "}\n",
    "\n",
    "kitab"
   ]
  },
  {
   "cell_type": "code",
   "execution_count": 32,
   "id": "b1570701",
   "metadata": {
    "scrolled": true
   },
   "outputs": [
    {
     "data": {
      "text/plain": [
       "{'Ad': 'Oyunbaz',\n",
       " 'Muellif': 'Vulf Dorn',\n",
       " 'Sehife_sayi': 452,\n",
       " 'Reytinq': 4.7,\n",
       " 'Reyciler': ['Tom Hanks', 'Chris Evans'],\n",
       " 'Qiymet': '5 azn'}"
      ]
     },
     "execution_count": 32,
     "metadata": {},
     "output_type": "execute_result"
    }
   ],
   "source": [
    "kitab[\"Qiymet\"] = \"5 azn\"       # esasen bu istifade olunur!!!! \n",
    "\n",
    "kitab"
   ]
  },
  {
   "cell_type": "code",
   "execution_count": 33,
   "id": "36b993aa",
   "metadata": {},
   "outputs": [
    {
     "data": {
      "text/plain": [
       "'5 azn'"
      ]
     },
     "execution_count": 33,
     "metadata": {},
     "output_type": "execute_result"
    }
   ],
   "source": [
    "kitab[\"Qiymet\"]"
   ]
  },
  {
   "cell_type": "code",
   "execution_count": 35,
   "id": "eeffce1a",
   "metadata": {},
   "outputs": [
    {
     "data": {
      "text/plain": [
       "'5 azn'"
      ]
     },
     "execution_count": 35,
     "metadata": {},
     "output_type": "execute_result"
    }
   ],
   "source": [
    "a = kitab[\"Qiymet\"]\n",
    "\n",
    "a"
   ]
  },
  {
   "cell_type": "code",
   "execution_count": 36,
   "id": "f176a9bd",
   "metadata": {},
   "outputs": [
    {
     "data": {
      "text/plain": [
       "{'Ad': 'Oyunbaz',\n",
       " 'Muellif': 'Vulf Dorn',\n",
       " 'Sehife_sayi': 452,\n",
       " 'Reytinq': 5.5,\n",
       " 'Reyciler': ['Tom Hanks', 'Chris Evans'],\n",
       " 'Qiymet': '5 azn'}"
      ]
     },
     "execution_count": 36,
     "metadata": {},
     "output_type": "execute_result"
    }
   ],
   "source": [
    "kitab[\"Reytinq\"] = 5.5\n",
    "\n",
    "kitab"
   ]
  },
  {
   "cell_type": "code",
   "execution_count": 37,
   "id": "bdbf981a",
   "metadata": {
    "scrolled": true
   },
   "outputs": [
    {
     "ename": "SyntaxError",
     "evalue": "expression cannot contain assignment, perhaps you meant \"==\"? (2002206595.py, line 1)",
     "output_type": "error",
     "traceback": [
      "\u001b[1;36m  Cell \u001b[1;32mIn[37], line 1\u001b[1;36m\u001b[0m\n\u001b[1;33m    print(kitab[\"Qiymet\"] = \"4 azn\")\u001b[0m\n\u001b[1;37m          ^\u001b[0m\n\u001b[1;31mSyntaxError\u001b[0m\u001b[1;31m:\u001b[0m expression cannot contain assignment, perhaps you meant \"==\"?\n"
     ]
    }
   ],
   "source": [
    "print(kitab[\"Qiymet\"] = \"4 azn\") "
   ]
  },
  {
   "cell_type": "code",
   "execution_count": 38,
   "id": "e91b1038",
   "metadata": {},
   "outputs": [],
   "source": [
    "kitab[\"Qiymet\"] = \"4 azn\""
   ]
  },
  {
   "cell_type": "code",
   "execution_count": 39,
   "id": "500cad64",
   "metadata": {},
   "outputs": [
    {
     "data": {
      "text/plain": [
       "{'Ad': 'Oyunbaz',\n",
       " 'Muellif': 'Vulf Dorn',\n",
       " 'Sehife_sayi': 452,\n",
       " 'Reytinq': 5.5,\n",
       " 'Reyciler': ['Tom Hanks', 'Chris Evans'],\n",
       " 'Qiymet': '4 azn'}"
      ]
     },
     "execution_count": 39,
     "metadata": {},
     "output_type": "execute_result"
    }
   ],
   "source": [
    "kitab"
   ]
  },
  {
   "cell_type": "markdown",
   "id": "6bb7ff95",
   "metadata": {},
   "source": [
    "### 9. setdefault() → dictionary-yə key-i, dəyəri ilə birlikdə daxil edir, lakin həmin key mövcuddursa, dictionary-yə heç bir dəyişiklik etmir və amma hər iki halda dəyərləri qaytarır. → kitab.setdefault(\"Qiymet\", 5)"
   ]
  },
  {
   "cell_type": "code",
   "execution_count": 44,
   "id": "79719680",
   "metadata": {},
   "outputs": [
    {
     "data": {
      "text/plain": [
       "5"
      ]
     },
     "execution_count": 44,
     "metadata": {},
     "output_type": "execute_result"
    }
   ],
   "source": [
    "kitab = {\n",
    "    \"Ad\": \"Oyunbaz\",\n",
    "    \"Muellif\": \"Vulf Dorn\",\n",
    "    \"Sehife_sayi\": 452,\n",
    "    \"Reytinq\": 4.7,\n",
    "    \"Reyciler\": [\"Tom Hanks\", \"Chris Evans\"]\n",
    "}\n",
    "\n",
    "\n",
    "kitab.setdefault(\"Qiymet\", 5)"
   ]
  },
  {
   "cell_type": "code",
   "execution_count": 45,
   "id": "37ceb438",
   "metadata": {},
   "outputs": [
    {
     "data": {
      "text/plain": [
       "{'Ad': 'Oyunbaz',\n",
       " 'Muellif': 'Vulf Dorn',\n",
       " 'Sehife_sayi': 452,\n",
       " 'Reytinq': 4.7,\n",
       " 'Reyciler': ['Tom Hanks', 'Chris Evans'],\n",
       " 'Qiymet': 5}"
      ]
     },
     "execution_count": 45,
     "metadata": {},
     "output_type": "execute_result"
    }
   ],
   "source": [
    "kitab"
   ]
  },
  {
   "cell_type": "code",
   "execution_count": 46,
   "id": "2738b46e",
   "metadata": {},
   "outputs": [
    {
     "data": {
      "text/plain": [
       "5"
      ]
     },
     "execution_count": 46,
     "metadata": {},
     "output_type": "execute_result"
    }
   ],
   "source": [
    "kitab.setdefault(\"Qiymet\", 10)"
   ]
  },
  {
   "cell_type": "code",
   "execution_count": 47,
   "id": "1becbdd7",
   "metadata": {},
   "outputs": [
    {
     "data": {
      "text/plain": [
       "{'Ad': 'Oyunbaz',\n",
       " 'Muellif': 'Vulf Dorn',\n",
       " 'Sehife_sayi': 452,\n",
       " 'Reytinq': 4.7,\n",
       " 'Reyciler': ['Tom Hanks', 'Chris Evans'],\n",
       " 'Qiymet': 5}"
      ]
     },
     "execution_count": 47,
     "metadata": {},
     "output_type": "execute_result"
    }
   ],
   "source": [
    "kitab"
   ]
  },
  {
   "cell_type": "code",
   "execution_count": 48,
   "id": "75bd00af",
   "metadata": {},
   "outputs": [
    {
     "data": {
      "text/plain": [
       "{'Ad': 'Oyunbaz',\n",
       " 'Muellif': 'Vulf Dorn',\n",
       " 'Sehife_sayi': 452,\n",
       " 'Reytinq': 4.7,\n",
       " 'Reyciler': ['Tom Hanks', 'Chris Evans'],\n",
       " 'Qiymet': 10}"
      ]
     },
     "execution_count": 48,
     "metadata": {},
     "output_type": "execute_result"
    }
   ],
   "source": [
    "kitab['Qiymet'] = 10\n",
    "\n",
    "kitab"
   ]
  },
  {
   "cell_type": "markdown",
   "id": "5ec8ad44",
   "metadata": {},
   "source": [
    "### 10. update() → kitab.update(Film) birinci dictionary-yə ikinci dictionary əlavə olunur və eyni key-lər varsa, birinci dictionary-dəki ortaq key-lərin dəyəri ikinci dictionary-dəki ortaq key-lərin dəyəri ilə əvəz olunur və None qaytarır. → kitab.update(Film)"
   ]
  },
  {
   "cell_type": "code",
   "execution_count": 51,
   "id": "f49877f5",
   "metadata": {},
   "outputs": [],
   "source": [
    "kitab = {\n",
    "    \"Ad\": \"Oyunbaz\",\n",
    "    \"Muellif\": \"Vulf Dorn\",\n",
    "    \"Sehife_sayi\": 452,\n",
    "    \"Reytinq\": 4.7,\n",
    "    \"Reyciler\": [\"Tom Hanks\", \"Chris Evans\"]\n",
    "}\n",
    "\n",
    "\n",
    "\n",
    "\n",
    "Film = {\n",
    "    \"Ad\": \"The Martian\",\n",
    "    \"Reytinq\": 8.1,\n",
    "    \"Rejissor\": [\"\", \"\"],\n",
    "    \"Aktyorlar\": [\"Mat Damon\", \"\"],\n",
    "    \"Sloqan\": \"jkjkj\",\n",
    "    \"Muellif\": {\n",
    "        \"Ad\": \"\",\n",
    "        \"Soyad\": \"\"\n",
    "    }\n",
    "}\n",
    "\n",
    "\n",
    "\n",
    "\n",
    "kitab.update(Film)"
   ]
  },
  {
   "cell_type": "code",
   "execution_count": 52,
   "id": "d3c1ea7d",
   "metadata": {},
   "outputs": [
    {
     "data": {
      "text/plain": [
       "{'Ad': 'The Martian',\n",
       " 'Muellif': {'Ad': '', 'Soyad': ''},\n",
       " 'Sehife_sayi': 452,\n",
       " 'Reytinq': 8.1,\n",
       " 'Reyciler': ['Tom Hanks', 'Chris Evans'],\n",
       " 'Rejissor': ['', ''],\n",
       " 'Aktyorlar': ['Mat Damon', ''],\n",
       " 'Sloqan': 'jkjkj'}"
      ]
     },
     "execution_count": 52,
     "metadata": {},
     "output_type": "execute_result"
    }
   ],
   "source": [
    "kitab"
   ]
  },
  {
   "cell_type": "markdown",
   "id": "523072f7",
   "metadata": {},
   "source": [
    "### 11. fromkeys() → Dict1 = Dict.fromkeys(\"Salam\", 5) bu qaydada string parçalanır və hər hərfi bir key olur və hər key-in dəyəri daxil etdiyimiz dəyər olur. → Dict1 = Dict.fromkeys(\"Salam\", 5)"
   ]
  },
  {
   "cell_type": "code",
   "execution_count": 58,
   "id": "7c2b98fd",
   "metadata": {},
   "outputs": [
    {
     "name": "stdout",
     "output_type": "stream",
     "text": [
      "{'S': 5, 'a': 5, 'l': 5, 'm': 5}\n"
     ]
    }
   ],
   "source": [
    "dict1 = {}\n",
    "\n",
    "dict1 = dict1.fromkeys(\"Salam\", 5)\n",
    "\n",
    "print(dict1)"
   ]
  },
  {
   "cell_type": "code",
   "execution_count": 59,
   "id": "d29c6e5c",
   "metadata": {},
   "outputs": [
    {
     "data": {
      "text/plain": [
       "{'A': [1, 2, 3, 4], 'B': [1, 2, 3, 4], 'C': [1, 2, 3, 4]}"
      ]
     },
     "execution_count": 59,
     "metadata": {},
     "output_type": "execute_result"
    }
   ],
   "source": [
    "kitab = {\n",
    "    \"Ad1\": \"Oyunbaz\",\n",
    "    \"Muellfif\": \"Vulf Dorn\",\n",
    "    \"Sehife_sayi\": 452,\n",
    "    \"Reytinq\": 4.7,\n",
    "    \"Reyciler\": [\"Tom Hanks\", \"Chris Evans\"]\n",
    "   }\n",
    "\n",
    "kitab.fromkeys(\"ABC\", [1,2,3,4])"
   ]
  },
  {
   "cell_type": "code",
   "execution_count": 60,
   "id": "6e1d3977",
   "metadata": {},
   "outputs": [
    {
     "data": {
      "text/plain": [
       "{'Ad1': 'Oyunbaz',\n",
       " 'Muellfif': 'Vulf Dorn',\n",
       " 'Sehife_sayi': 452,\n",
       " 'Reytinq': 4.7,\n",
       " 'Reyciler': ['Tom Hanks', 'Chris Evans']}"
      ]
     },
     "execution_count": 60,
     "metadata": {},
     "output_type": "execute_result"
    }
   ],
   "source": [
    "kitab"
   ]
  },
  {
   "cell_type": "code",
   "execution_count": 67,
   "id": "2d42f1a4",
   "metadata": {},
   "outputs": [
    {
     "data": {
      "text/plain": [
       "{'Ad1': 'Oyunbaz',\n",
       " 'Muellfif': 'Vulf Dorn',\n",
       " 'Sehife_sayi': 452,\n",
       " 'Reytinq': 4.7,\n",
       " 'Reyciler': ['Tom Hanks', 'Chris Evans'],\n",
       " 'A': [1, 2, 3, 4],\n",
       " 'B': [1, 2, 3, 4],\n",
       " 'C': [1, 2, 3, 4]}"
      ]
     },
     "execution_count": 67,
     "metadata": {},
     "output_type": "execute_result"
    }
   ],
   "source": [
    "kitab = {\n",
    "    \"Ad1\": \"Oyunbaz\",\n",
    "    \"Muellfif\": \"Vulf Dorn\",\n",
    "    \"Sehife_sayi\": 452,\n",
    "    \"Reytinq\": 4.7,\n",
    "    \"Reyciler\": [\"Tom Hanks\", \"Chris Evans\"]\n",
    "   }\n",
    "\n",
    "kitab.update(kitab.fromkeys(\"ABC\", [1,2,3,4]))\n",
    "\n",
    "kitab"
   ]
  },
  {
   "cell_type": "markdown",
   "id": "7cbe94f2",
   "metadata": {},
   "source": [
    "### 12. clear() → kitab.clear() dictionary-nin içini silir, özü qalır və None qaytarır. → kitab.clear()"
   ]
  },
  {
   "cell_type": "code",
   "execution_count": 70,
   "id": "e8b86971",
   "metadata": {},
   "outputs": [
    {
     "name": "stdout",
     "output_type": "stream",
     "text": [
      "None\n"
     ]
    }
   ],
   "source": [
    "kitab = {\n",
    "    \"Ad1\": \"Oyunbaz\",\n",
    "    \"Muellfif\": \"Vulf Dorn\",\n",
    "    \"Sehife_sayi\": 452,\n",
    "    \"Reytinq\": 4.7,\n",
    "    \"Reyciler\": [\"Tom Hanks\", \"Chris Evans\"]\n",
    "}\n",
    "\n",
    "\n",
    "print(kitab.clear())"
   ]
  },
  {
   "cell_type": "code",
   "execution_count": 71,
   "id": "a0d7acfd",
   "metadata": {},
   "outputs": [
    {
     "data": {
      "text/plain": [
       "{}"
      ]
     },
     "execution_count": 71,
     "metadata": {},
     "output_type": "execute_result"
    }
   ],
   "source": [
    "kitab"
   ]
  },
  {
   "cell_type": "markdown",
   "id": "8d69a500",
   "metadata": {},
   "source": [
    "### 13. copy() → kitab1 = kitab.copy() bu qaydada kitab kitab1-ə də nümunə olunur. → kitab1 = kitab.copy()"
   ]
  },
  {
   "cell_type": "code",
   "execution_count": 73,
   "id": "a7df032b",
   "metadata": {},
   "outputs": [],
   "source": [
    "kitab = {\n",
    "    \"Ad1\": \"Oyunbaz\",\n",
    "    \"Muellfif\": \"Vulf Dorn\",\n",
    "    \"Sehife_sayi\": 452,\n",
    "    \"Reytinq\": 4.7,\n",
    "    \"Reyciler\": [\"Tom Hanks\", \"Chris Evans\"]\n",
    "}\n",
    "\n",
    "\n",
    "kitab1 = kitab.copy()"
   ]
  },
  {
   "cell_type": "code",
   "execution_count": 74,
   "id": "8a3cf9b2",
   "metadata": {},
   "outputs": [
    {
     "data": {
      "text/plain": [
       "{'Ad1': 'Oyunbaz',\n",
       " 'Muellfif': 'Vulf Dorn',\n",
       " 'Sehife_sayi': 452,\n",
       " 'Reytinq': 4.7,\n",
       " 'Reyciler': ['Tom Hanks', 'Chris Evans']}"
      ]
     },
     "execution_count": 74,
     "metadata": {},
     "output_type": "execute_result"
    }
   ],
   "source": [
    "kitab"
   ]
  },
  {
   "cell_type": "code",
   "execution_count": 75,
   "id": "1432cbfb",
   "metadata": {},
   "outputs": [
    {
     "data": {
      "text/plain": [
       "{'Ad1': 'Oyunbaz',\n",
       " 'Muellfif': 'Vulf Dorn',\n",
       " 'Sehife_sayi': 452,\n",
       " 'Reytinq': 4.7,\n",
       " 'Reyciler': ['Tom Hanks', 'Chris Evans']}"
      ]
     },
     "execution_count": 75,
     "metadata": {},
     "output_type": "execute_result"
    }
   ],
   "source": [
    "kitab1"
   ]
  },
  {
   "cell_type": "code",
   "execution_count": 76,
   "id": "c086cdb9",
   "metadata": {},
   "outputs": [],
   "source": [
    "kitab1.clear()"
   ]
  },
  {
   "cell_type": "code",
   "execution_count": 77,
   "id": "67bfe23c",
   "metadata": {},
   "outputs": [
    {
     "data": {
      "text/plain": [
       "{}"
      ]
     },
     "execution_count": 77,
     "metadata": {},
     "output_type": "execute_result"
    }
   ],
   "source": [
    "kitab1"
   ]
  },
  {
   "cell_type": "code",
   "execution_count": 78,
   "id": "b30f0032",
   "metadata": {
    "scrolled": true
   },
   "outputs": [
    {
     "data": {
      "text/plain": [
       "{'Ad1': 'Oyunbaz',\n",
       " 'Muellfif': 'Vulf Dorn',\n",
       " 'Sehife_sayi': 452,\n",
       " 'Reytinq': 4.7,\n",
       " 'Reyciler': ['Tom Hanks', 'Chris Evans']}"
      ]
     },
     "execution_count": 78,
     "metadata": {},
     "output_type": "execute_result"
    }
   ],
   "source": [
    "kitab"
   ]
  },
  {
   "cell_type": "code",
   "execution_count": null,
   "id": "35d846b6",
   "metadata": {},
   "outputs": [],
   "source": []
  },
  {
   "cell_type": "markdown",
   "id": "04011be3",
   "metadata": {},
   "source": [
    "### Dictdeki elementin qiymetini deyismek ve ya yeni element elave etmek :\n",
    "- `Dict[\"movcud_element\"] = yeni_qiymet` → Mövcud elementin qiymətini dəyişmək üçün istifadə olunur. → `Dict[\"movcud_element\"] = yeni_qiymet`\n",
    "\n",
    "- `Dict[\"yeni_element\"] = qiymet` → Yeni element əlavə etmək üçün istifadə olunur. → `Dict[\"yeni_element\"] = qiymet`"
   ]
  },
  {
   "cell_type": "code",
   "execution_count": 79,
   "id": "decbb17a",
   "metadata": {},
   "outputs": [
    {
     "data": {
      "text/plain": [
       "{'Ad': 'Don Ki Xot',\n",
       " 'Muellfif': 'Vulf Dorn',\n",
       " 'Sehife_sayi': 452,\n",
       " 'Reytinq': 4.7,\n",
       " 'Reyciler': ['Tom Hanks', 'Chris Evans'],\n",
       " 'Qiymet': '10 azn'}"
      ]
     },
     "execution_count": 79,
     "metadata": {},
     "output_type": "execute_result"
    }
   ],
   "source": [
    "kitab = {\n",
    "    \"Ad\": \"Oyunbaz\",\n",
    "    \"Muellfif\": \"Vulf Dorn\",\n",
    "    \"Sehife_sayi\": 452,\n",
    "    \"Reytinq\": 4.7,\n",
    "    \"Reyciler\": [\"Tom Hanks\", \"Chris Evans\"]\n",
    "}\n",
    "\n",
    "\n",
    "kitab[\"Ad\"] = \"Don Ki Xot\"\n",
    "kitab[\"Qiymet\"] = \"10 azn\"\n",
    "\n",
    "kitab"
   ]
  },
  {
   "cell_type": "code",
   "execution_count": null,
   "id": "8d7da65b",
   "metadata": {},
   "outputs": [],
   "source": []
  },
  {
   "cell_type": "markdown",
   "id": "0a84fbe0",
   "metadata": {},
   "source": [
    "## Əlavələr"
   ]
  },
  {
   "cell_type": "code",
   "execution_count": 81,
   "id": "0fef107e",
   "metadata": {},
   "outputs": [
    {
     "data": {
      "text/plain": [
       "{'a': 1, 'b': 2, 'c': 3, 'd': 4}"
      ]
     },
     "execution_count": 81,
     "metadata": {},
     "output_type": "execute_result"
    }
   ],
   "source": [
    "dictionary_one = {\"a\": 1, \"b\": 2}\n",
    "dictionary_two = {\"c\": 3, \"d\": 4}\n",
    "\n",
    "merged = {**dictionary_one, **dictionary_two}\n",
    "merged"
   ]
  },
  {
   "cell_type": "code",
   "execution_count": null,
   "id": "3d385595",
   "metadata": {},
   "outputs": [],
   "source": []
  },
  {
   "cell_type": "markdown",
   "id": "d6a72f2f",
   "metadata": {},
   "source": [
    "## Dərs 6. Dictionary. Dictionary metodları. Ev tapşırıqları."
   ]
  },
  {
   "cell_type": "markdown",
   "id": "5ef7a277",
   "metadata": {},
   "source": [
    "### 1. Bir dict dəyişəni götürün. Bu dəyişənə yeni elementlər əlavə edərək çapa verin."
   ]
  },
  {
   "cell_type": "code",
   "execution_count": 82,
   "id": "659816ee",
   "metadata": {},
   "outputs": [
    {
     "name": "stdout",
     "output_type": "stream",
     "text": [
      "{'Mesqci': 'Qurban Qurabanov', 'Sponsor': 'Azersun Holdinq', 'Olke': 'Azerbaycan', 'UEFA reytinq pillsi': 66, 'Olke retinqi': 1, 'Budcesi': 525000}\n",
      "525000 euro\n"
     ]
    }
   ],
   "source": [
    "Qarabag_fc = {\n",
    "    \"Mesqci\": \"Qurban Qurabanov\",\n",
    "    \"Sponsor\": \"Azersun Holdinq\",\n",
    "    \"Olke\": \"Azerbaycan\",\n",
    "    \"UEFA reytinq pillsi\": 66,\n",
    "}\n",
    "\n",
    "\n",
    "Qarabag_fc[\"Olke retinqi\"] = 1\n",
    "\n",
    "Qarabag_fc[\"Budcesi\"] = 525000\n",
    "\n",
    "\n",
    "print(Qarabag_fc)\n",
    "\n",
    "print(f\"{Qarabag_fc['Budcesi']} euro\")"
   ]
  },
  {
   "cell_type": "markdown",
   "id": "d3da33ea",
   "metadata": {},
   "source": [
    "### 2. İki dict dəyişəni götürün. İkinci dicti birinci dictə əlavə edərək çapa verin."
   ]
  },
  {
   "cell_type": "code",
   "execution_count": 83,
   "id": "f60a5c99",
   "metadata": {},
   "outputs": [
    {
     "name": "stdout",
     "output_type": "stream",
     "text": [
      "{'Ad': 'CBS', 'Teyinat': 'Tikinti', 'Temir_qiymeti': 'Razilasma yolu ile', 'Xidmet_qiymeti': 5000}\n"
     ]
    }
   ],
   "source": [
    "Sirket = {\n",
    "    \"Ad\": \"CBS\",\n",
    "    \"Teyinat\":\"Tikinti\",\n",
    "    \"Temir_qiymeti\": 10000 \n",
    "}\n",
    "\n",
    "Sirket_xidmeti = {\n",
    "    \"Temir_qiymeti\": \"Razilasma yolu ile\",\n",
    "    \"Xidmet_qiymeti\": 5000\n",
    "}\n",
    "\n",
    "\n",
    "Sirket.update(Sirket_xidmeti)\n",
    "\n",
    "print(Sirket)"
   ]
  },
  {
   "cell_type": "markdown",
   "id": "d547150e",
   "metadata": {},
   "source": [
    "### 3. Bir dict dəyişəni götürün. Bu dəyişənin açarlarını (keys), qiymətlərini (values), və elementlərini (items) çapa verin."
   ]
  },
  {
   "cell_type": "code",
   "execution_count": 84,
   "id": "2295aad4",
   "metadata": {},
   "outputs": [
    {
     "name": "stdout",
     "output_type": "stream",
     "text": [
      "dict_keys(['Esyalar', 'kitablar', 'Divar kagizinin rengi', 'Mertebe sayi'])\n",
      "dict_values([['televizor', 'tozsoran', 'soyuducu'], ('Ana dili', 'Riyaziyyat', 'Cografiya'), 'goy', 2])\n",
      "dict_items([('Esyalar', ['televizor', 'tozsoran', 'soyuducu']), ('kitablar', ('Ana dili', 'Riyaziyyat', 'Cografiya')), ('Divar kagizinin rengi', 'goy'), ('Mertebe sayi', 2)])\n"
     ]
    }
   ],
   "source": [
    "\n",
    "\n",
    "Ev = {\n",
    "    \"Esyalar\":[\n",
    "        \"televizor\",\n",
    "        \"tozsoran\",\n",
    "        \"soyuducu\"\n",
    "    ],\n",
    "    \"kitablar\":(\n",
    "        \"Ana dili\",\n",
    "        \"Riyaziyyat\",\n",
    "        \"Cografiya\"\n",
    "    ),\n",
    "    \"Divar kagizinin rengi\": \"goy\",\n",
    "    \"Mertebe sayi\": 2\n",
    "}\n",
    "\n",
    "print(Ev.keys())\n",
    "print(Ev.values())\n",
    "print(Ev.items())"
   ]
  },
  {
   "cell_type": "markdown",
   "id": "70bbe833",
   "metadata": {},
   "source": [
    "### 4. Bir dict dəyişəni götürün. Bu dəyişənin elementlərininin qiymətini get() metodundan istifadə edərək çapa verin."
   ]
  },
  {
   "cell_type": "code",
   "execution_count": 86,
   "id": "95a68ad0",
   "metadata": {},
   "outputs": [
    {
     "name": "stdout",
     "output_type": "stream",
     "text": [
      "120\n",
      "1000\n",
      "1400\n",
      "None\n"
     ]
    }
   ],
   "source": [
    "Magaza_satis = {\n",
    "    \"Nokia\": 120,\n",
    "    \"Sumsung\": 1000,\n",
    "    \"Xiaomi\": 1400\n",
    "}\n",
    "\n",
    "print(Magaza_satis.get(\"Nokia\",))\n",
    "\n",
    "print(Magaza_satis.get(\"Sumsung\"))\n",
    "\n",
    "print(Magaza_satis.get(\"Xiaomi\"))\n",
    "print(Magaza_satis.get(\"Motorolla\"))"
   ]
  },
  {
   "cell_type": "markdown",
   "id": "efaee587",
   "metadata": {},
   "source": [
    "### 5. İki dict dəyişəni götürün. İkinci dicti təmizləyərək birinci dictə kopyalayın. Hər iki dict-i çapa verin."
   ]
  },
  {
   "cell_type": "code",
   "execution_count": 87,
   "id": "3ba4e356",
   "metadata": {},
   "outputs": [
    {
     "name": "stdout",
     "output_type": "stream",
     "text": [
      "{'Meydanca': 'parket', 'Sebet_hundurluk': 3.05, 'Oyuncu_sayi': 5}\n",
      "{}\n"
     ]
    }
   ],
   "source": [
    "\n",
    "\n",
    "Futbol = {\n",
    "    \"Qapi\": \"tor\",\n",
    "    \"Meydanca\": \"suni ot\",\n",
    "    \"Uzunluq\": 90,\n",
    "    \"Penalti\": 11\n",
    "}\n",
    "\n",
    "Basketbol = {\n",
    "    \"Meydanca\": \"parket\",\n",
    "    \"Sebet_hundurluk\": 3.05,\n",
    "    \"Oyuncu_sayi\": 5\n",
    "}\n",
    "\n",
    "Futbol = Basketbol.copy()\n",
    "\n",
    "Basketbol.clear()\n",
    "\n",
    "\n",
    "print(Futbol)\n",
    "\n",
    "print(Basketbol)"
   ]
  },
  {
   "cell_type": "markdown",
   "id": "a1c0a89c",
   "metadata": {},
   "source": [
    "### 6. Bir dict dəyişəni götürün. Bu dəyişənin bütün elementlərini bir-bir silin."
   ]
  },
  {
   "cell_type": "code",
   "execution_count": 88,
   "id": "e40a5758",
   "metadata": {},
   "outputs": [
    {
     "name": "stdout",
     "output_type": "stream",
     "text": [
      "{}\n"
     ]
    }
   ],
   "source": [
    "Mekteb = {\n",
    "    \"Olke\": \"Azerbaycan\",\n",
    "    \"Seher\": \"Sumqayit\",\n",
    "    \"Nomre\": 25,\n",
    "    \"Istiqamet\": \"Pilot\"\n",
    "}\n",
    "\n",
    "Mekteb.pop(\"Olke\")\n",
    "Mekteb.pop(\"Seher\")\n",
    "Mekteb.pop(\"Nomre\")\n",
    "Mekteb.pop(\"Istiqamet\")\n",
    "\n",
    "print(Mekteb)"
   ]
  },
  {
   "cell_type": "markdown",
   "id": "6d475f31",
   "metadata": {},
   "source": [
    "### 7. Bir dict dəyişəni götürün və dəyişənə setdefault() metodundan istifadə edərək elementlər əlavə edin."
   ]
  },
  {
   "cell_type": "code",
   "execution_count": 90,
   "id": "8b84cf2e",
   "metadata": {},
   "outputs": [
    {
     "name": "stdout",
     "output_type": "stream",
     "text": [
      "{'Ad': 'AzDIU', 'Seher': 'Baki', 'Yerlesme_yaxinligi': 'Ganclik metrosu', 'Yaranma_tarixi': 1930}\n"
     ]
    }
   ],
   "source": [
    "Universitet = {\n",
    "    \"Ad\": \"AzDIU\"\n",
    "}\n",
    "\n",
    "Universitet.setdefault(\"Seher\", \"Baki\")\n",
    "Universitet.setdefault(\"Yerlesme_yaxinligi\", \"Ganclik metrosu\")\n",
    "Universitet.setdefault(\"Yaranma_tarixi\", 1930)\n",
    "Universitet.setdefault(\"Yaranma_tarixi\", 1950)\n",
    "\n",
    "\n",
    "print(Universitet)"
   ]
  },
  {
   "cell_type": "markdown",
   "id": "cd6721b2",
   "metadata": {},
   "source": [
    "### 8. Bir dict dəyişəni götürün və fromkeys() metodundan istifadə edərək bu dict-ə elementlər əlavə edin."
   ]
  },
  {
   "cell_type": "code",
   "execution_count": 92,
   "id": "892c6e27",
   "metadata": {},
   "outputs": [
    {
     "name": "stdout",
     "output_type": "stream",
     "text": [
      "{'A': 99, 'l': 99, 'i': 99, 'f': 99, 'b': 99, 'a': 99}\n"
     ]
    }
   ],
   "source": [
    "Herfler_oyunu = {}\n",
    "\n",
    "Herfler_oyunu = Herfler_oyunu.fromkeys(\"Alifba\", 99)\n",
    "\n",
    "print(Herfler_oyunu)"
   ]
  },
  {
   "cell_type": "code",
   "execution_count": null,
   "id": "21db5bc5",
   "metadata": {},
   "outputs": [],
   "source": []
  }
 ],
 "metadata": {
  "kernelspec": {
   "display_name": "Python 3 (ipykernel)",
   "language": "python",
   "name": "python3"
  },
  "language_info": {
   "codemirror_mode": {
    "name": "ipython",
    "version": 3
   },
   "file_extension": ".py",
   "mimetype": "text/x-python",
   "name": "python",
   "nbconvert_exporter": "python",
   "pygments_lexer": "ipython3",
   "version": "3.11.5"
  }
 },
 "nbformat": 4,
 "nbformat_minor": 5
}
