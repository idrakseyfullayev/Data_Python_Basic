{
 "cells": [
  {
   "cell_type": "markdown",
   "id": "e9611222",
   "metadata": {},
   "source": [
    "## Dövr operatorları (LOOP)"
   ]
  },
  {
   "cell_type": "markdown",
   "id": "bf30f404",
   "metadata": {},
   "source": [
    "### value swapping"
   ]
  },
  {
   "cell_type": "code",
   "execution_count": 1,
   "id": "c732646a",
   "metadata": {},
   "outputs": [],
   "source": [
    "a, b = 10, 5\n",
    "\n",
    "a, b = b, a"
   ]
  },
  {
   "cell_type": "code",
   "execution_count": 2,
   "id": "69730cf7",
   "metadata": {},
   "outputs": [
    {
     "data": {
      "text/plain": [
       "5"
      ]
     },
     "execution_count": 2,
     "metadata": {},
     "output_type": "execute_result"
    }
   ],
   "source": [
    "a"
   ]
  },
  {
   "cell_type": "code",
   "execution_count": 3,
   "id": "af6fc0f1",
   "metadata": {},
   "outputs": [
    {
     "data": {
      "text/plain": [
       "10"
      ]
     },
     "execution_count": 3,
     "metadata": {},
     "output_type": "execute_result"
    }
   ],
   "source": [
    "b"
   ]
  },
  {
   "cell_type": "markdown",
   "id": "1d0a1aba",
   "metadata": {},
   "source": [
    "### Ternary Operator"
   ]
  },
  {
   "cell_type": "code",
   "execution_count": 7,
   "id": "d05c3831",
   "metadata": {},
   "outputs": [
    {
     "name": "stdout",
     "output_type": "stream",
     "text": [
      "10\n"
     ]
    }
   ],
   "source": [
    "if a > b:\n",
    "    print(a)\n",
    "else:\n",
    "    print(b)"
   ]
  },
  {
   "cell_type": "code",
   "execution_count": 8,
   "id": "65aabbbb",
   "metadata": {},
   "outputs": [
    {
     "name": "stdout",
     "output_type": "stream",
     "text": [
      "10\n"
     ]
    }
   ],
   "source": [
    "print(a) if a > b else print(b)"
   ]
  },
  {
   "cell_type": "code",
   "execution_count": 9,
   "id": "a36c119c",
   "metadata": {},
   "outputs": [
    {
     "data": {
      "text/plain": [
       "10"
      ]
     },
     "execution_count": 9,
     "metadata": {},
     "output_type": "execute_result"
    }
   ],
   "source": [
    "a if a > b else b"
   ]
  },
  {
   "cell_type": "code",
   "execution_count": 21,
   "id": "3c23134e",
   "metadata": {},
   "outputs": [
    {
     "name": "stdout",
     "output_type": "stream",
     "text": [
      "100\n"
     ]
    }
   ],
   "source": [
    "a, b = 10, 100\n",
    "\n",
    "if a > b and a ==  10:\n",
    "    print(a)\n",
    "else:\n",
    "    print(b)"
   ]
  },
  {
   "cell_type": "code",
   "execution_count": 22,
   "id": "03261c27",
   "metadata": {},
   "outputs": [
    {
     "data": {
      "text/plain": [
       "100"
      ]
     },
     "execution_count": 22,
     "metadata": {},
     "output_type": "execute_result"
    }
   ],
   "source": [
    "a if a > b and a == 10 else b"
   ]
  },
  {
   "cell_type": "code",
   "execution_count": 28,
   "id": "65cfa9ea",
   "metadata": {},
   "outputs": [
    {
     "data": {
      "text/plain": [
       "1000"
      ]
     },
     "execution_count": 28,
     "metadata": {},
     "output_type": "execute_result"
    }
   ],
   "source": [
    "a if a > b and a == 10 else b if b > 150 else 1000"
   ]
  },
  {
   "cell_type": "markdown",
   "id": "b07449d5",
   "metadata": {},
   "source": [
    "### FOR"
   ]
  },
  {
   "cell_type": "code",
   "execution_count": 47,
   "id": "8364a174",
   "metadata": {},
   "outputs": [
    {
     "data": {
      "text/plain": [
       "range(1, 100)"
      ]
     },
     "execution_count": 47,
     "metadata": {},
     "output_type": "execute_result"
    }
   ],
   "source": [
    "range(1,100)"
   ]
  },
  {
   "cell_type": "code",
   "execution_count": 48,
   "id": "5b1a4913",
   "metadata": {},
   "outputs": [
    {
     "name": "stdout",
     "output_type": "stream",
     "text": [
      "1\n",
      "2\n",
      "3\n",
      "4\n",
      "5\n",
      "6\n",
      "7\n",
      "8\n",
      "9\n",
      "10\n",
      "11\n",
      "12\n",
      "13\n",
      "14\n",
      "15\n",
      "16\n",
      "17\n",
      "18\n",
      "19\n",
      "20\n",
      "21\n",
      "22\n",
      "23\n",
      "24\n",
      "25\n",
      "26\n",
      "27\n",
      "28\n",
      "29\n",
      "30\n",
      "31\n",
      "32\n",
      "33\n",
      "34\n",
      "35\n",
      "36\n",
      "37\n",
      "38\n",
      "39\n",
      "40\n",
      "41\n",
      "42\n",
      "43\n",
      "44\n",
      "45\n",
      "46\n",
      "47\n",
      "48\n",
      "49\n",
      "50\n",
      "51\n",
      "52\n",
      "53\n",
      "54\n",
      "55\n",
      "56\n",
      "57\n",
      "58\n",
      "59\n",
      "60\n",
      "61\n",
      "62\n",
      "63\n",
      "64\n",
      "65\n",
      "66\n",
      "67\n",
      "68\n",
      "69\n",
      "70\n",
      "71\n",
      "72\n",
      "73\n",
      "74\n",
      "75\n",
      "76\n",
      "77\n",
      "78\n",
      "79\n",
      "80\n",
      "81\n",
      "82\n",
      "83\n",
      "84\n",
      "85\n",
      "86\n",
      "87\n",
      "88\n",
      "89\n",
      "90\n",
      "91\n",
      "92\n",
      "93\n",
      "94\n",
      "95\n",
      "96\n",
      "97\n",
      "98\n",
      "99\n"
     ]
    }
   ],
   "source": [
    "for i in range(1, 100):\n",
    "    print(i)"
   ]
  },
  {
   "cell_type": "code",
   "execution_count": 49,
   "id": "8923c1d0",
   "metadata": {},
   "outputs": [
    {
     "name": "stdout",
     "output_type": "stream",
     "text": [
      "99\n"
     ]
    }
   ],
   "source": [
    "for i in range(1, 100):\n",
    "    i\n",
    "print(i)    "
   ]
  },
  {
   "cell_type": "code",
   "execution_count": 82,
   "id": "01e1a6bd",
   "metadata": {},
   "outputs": [
    {
     "name": "stdout",
     "output_type": "stream",
     "text": [
      "99\n"
     ]
    }
   ],
   "source": [
    "for i in range(1, 100):\n",
    "    pass\n",
    "print(i)  "
   ]
  },
  {
   "cell_type": "code",
   "execution_count": 51,
   "id": "e6312fe9",
   "metadata": {},
   "outputs": [
    {
     "name": "stdout",
     "output_type": "stream",
     "text": [
      "1,3,5,7,9,11,13,15,17,19,21,23,25,27,29,31,33,35,37,39,41,43,45,47,49,51,53,55,57,59,61,63,65,67,69,71,73,75,77,79,81,83,85,87,89,91,93,95,97,99,"
     ]
    }
   ],
   "source": [
    "for i in range(1, 100, 2):\n",
    "    print(i, end=\",\")\n"
   ]
  },
  {
   "cell_type": "code",
   "execution_count": 52,
   "id": "9614c792",
   "metadata": {},
   "outputs": [
    {
     "name": "stdout",
     "output_type": "stream",
     "text": [
      "2,4,6,8,10,12,14,16,18,20,22,24,26,28,30,32,34,36,38,40,42,44,46,48,50,52,54,56,58,60,62,64,66,68,70,72,74,76,78,80,82,84,86,88,90,92,94,96,98,"
     ]
    }
   ],
   "source": [
    "for i in range(2, 100, 2):\n",
    "    print(i, end=\",\")"
   ]
  },
  {
   "cell_type": "code",
   "execution_count": 67,
   "id": "52052b35",
   "metadata": {},
   "outputs": [
    {
     "name": "stdout",
     "output_type": "stream",
     "text": [
      "100,99,98,97,96,95,94,93,92,91,90,89,88,87,86,85,84,83,82,81,80,79,78,77,76,75,74,73,72,71,70,69,68,67,66,65,64,63,62,61,60,59,58,57,56,55,54,53,52,51,50,49,48,47,46,45,44,43,42,41,40,39,38,37,36,35,34,33,32,31,30,29,28,27,26,25,24,23,22,21,20,19,18,17,16,15,14,13,12,11,10,9,8,7,6,5,4,3,2,1,"
     ]
    }
   ],
   "source": [
    "for i in range(0,100):   \n",
    "    x = 100-i\n",
    "    print(x, end=\",\")"
   ]
  },
  {
   "cell_type": "code",
   "execution_count": 69,
   "id": "1f522973",
   "metadata": {},
   "outputs": [
    {
     "name": "stdout",
     "output_type": "stream",
     "text": [
      "100,99,98,97,96,95,94,93,92,91,90,89,88,87,86,85,84,83,82,81,80,79,78,77,76,75,74,73,72,71,70,69,68,67,66,65,64,63,62,61,60,59,58,57,56,55,54,53,52,51,50,49,48,47,46,45,44,43,42,41,40,39,38,37,36,35,34,33,32,31,30,29,28,27,26,25,24,23,22,21,20,19,18,17,16,15,14,13,12,11,10,9,8,7,6,5,4,3,2,1,"
     ]
    }
   ],
   "source": [
    "for i in range(100, 0, -1):   \n",
    "    print(i, end=\",\")"
   ]
  },
  {
   "cell_type": "code",
   "execution_count": 70,
   "id": "e5d16616",
   "metadata": {},
   "outputs": [
    {
     "name": "stdout",
     "output_type": "stream",
     "text": [
      "99,97,95,93,91,89,87,85,83,81,79,77,75,73,71,69,67,65,63,61,59,57,55,53,51,49,47,45,43,41,39,37,35,33,31,29,27,25,23,21,19,17,15,13,11,9,7,5,3,1,"
     ]
    }
   ],
   "source": [
    "for i in range(99, 0, -2):   \n",
    "    print(i, end=\",\")"
   ]
  },
  {
   "cell_type": "code",
   "execution_count": 65,
   "id": "f0802f3b",
   "metadata": {},
   "outputs": [
    {
     "data": {
      "text/plain": [
       "4950"
      ]
     },
     "execution_count": 65,
     "metadata": {},
     "output_type": "execute_result"
    }
   ],
   "source": [
    "result = 0\n",
    "\n",
    "for i in range(0,100):   \n",
    "    result += i\n",
    "\n",
    "result"
   ]
  },
  {
   "cell_type": "code",
   "execution_count": 95,
   "id": "8487ec30",
   "metadata": {},
   "outputs": [
    {
     "name": "stdout",
     "output_type": "stream",
     "text": [
      "i = 0 result = 0,  i = 1 result = 1,  i = 2 result = 3,  i = 3 result = 6,  i = 4 result = 10,  i = 5 result = 15,  i = 6 result = 21,  i = 7 result = 28,  i = 8 result = 36,  i = 9 result = 45,  i = 10 result = 55,  i = 11 result = 66,  i = 12 result = 78,  i = 13 result = 91,  i = 14 result = 105,  i = 15 result = 120,  i = 16 result = 136,  i = 17 result = 153,  i = 18 result = 171,  i = 19 result = 190,  i = 20 result = 210,  i = 21 result = 231,  i = 22 result = 253,  i = 23 result = 276,  i = 24 result = 300,  i = 25 result = 325,  i = 26 result = 351,  i = 27 result = 378,  i = 28 result = 406,  i = 29 result = 435,  i = 30 result = 465,  i = 31 result = 496,  i = 32 result = 528,  i = 33 result = 561,  i = 34 result = 595,  i = 35 result = 630,  i = 36 result = 666,  i = 37 result = 703,  i = 38 result = 741,  i = 39 result = 780,  i = 40 result = 820,  i = 41 result = 861,  i = 42 result = 903,  i = 43 result = 946,  i = 44 result = 990,  i = 45 result = 1035,  i = 46 result = 1081,  i = 47 result = 1128,  i = 48 result = 1176,  i = 49 result = 1225,  i = 50 result = 1275,  i = 51 result = 1326,  i = 52 result = 1378,  i = 53 result = 1431,  i = 54 result = 1485,  i = 55 result = 1540,  i = 56 result = 1596,  i = 57 result = 1653,  i = 58 result = 1711,  i = 59 result = 1770,  i = 60 result = 1830,  i = 61 result = 1891,  i = 62 result = 1953,  i = 63 result = 2016,  i = 64 result = 2080,  i = 65 result = 2145,  i = 66 result = 2211,  i = 67 result = 2278,  i = 68 result = 2346,  i = 69 result = 2415,  i = 70 result = 2485,  i = 71 result = 2556,  i = 72 result = 2628,  i = 73 result = 2701,  i = 74 result = 2775,  i = 75 result = 2850,  i = 76 result = 2926,  i = 77 result = 3003,  i = 78 result = 3081,  i = 79 result = 3160,  i = 80 result = 3240,  i = 81 result = 3321,  i = 82 result = 3403,  i = 83 result = 3486,  i = 84 result = 3570,  i = 85 result = 3655,  i = 86 result = 3741,  i = 87 result = 3828,  i = 88 result = 3916,  i = 89 result = 4005,  i = 90 result = 4095,  i = 91 result = 4186,  i = 92 result = 4278,  i = 93 result = 4371,  i = 94 result = 4465,  i = 95 result = 4560,  i = 96 result = 4656,  i = 97 result = 4753,  i = 98 result = 4851,  i = 99 result = 4950,  "
     ]
    },
    {
     "data": {
      "text/plain": [
       "4950"
      ]
     },
     "execution_count": 95,
     "metadata": {},
     "output_type": "execute_result"
    }
   ],
   "source": [
    "result = 0\n",
    "\n",
    "for i in range(0,100):   \n",
    "    result = result + i\n",
    "    print(f\"i = {i}\", f\"result = {result}\", end=\",  \")\n",
    "\n",
    "result"
   ]
  },
  {
   "cell_type": "code",
   "execution_count": 84,
   "id": "418e61c0",
   "metadata": {},
   "outputs": [
    {
     "data": {
      "text/plain": [
       "4950"
      ]
     },
     "execution_count": 84,
     "metadata": {},
     "output_type": "execute_result"
    }
   ],
   "source": [
    "sum(range(1,100))"
   ]
  },
  {
   "cell_type": "code",
   "execution_count": 98,
   "id": "9fada1c4",
   "metadata": {},
   "outputs": [
    {
     "name": "stdout",
     "output_type": "stream",
     "text": [
      "2450\n"
     ]
    }
   ],
   "source": [
    "result = 0\n",
    "\n",
    "for i in range(2, 100, 2):\n",
    "    result += i\n",
    "\n",
    "print(result)"
   ]
  },
  {
   "cell_type": "code",
   "execution_count": 99,
   "id": "6823cebe",
   "metadata": {},
   "outputs": [
    {
     "name": "stdout",
     "output_type": "stream",
     "text": [
      "2500\n"
     ]
    }
   ],
   "source": [
    "result = 0\n",
    "\n",
    "for i in range(1, 100, 2):\n",
    "    result += i\n",
    "\n",
    "print(result)"
   ]
  },
  {
   "cell_type": "code",
   "execution_count": 100,
   "id": "56ec0fda",
   "metadata": {},
   "outputs": [
    {
     "name": "stdout",
     "output_type": "stream",
     "text": [
      "s\n",
      "a\n",
      "l\n",
      "a\n",
      "m\n"
     ]
    }
   ],
   "source": [
    "text = \"salam\"\n",
    "\n",
    "for i in text:\n",
    "    print(i)"
   ]
  },
  {
   "cell_type": "code",
   "execution_count": 104,
   "id": "2e6a2f49",
   "metadata": {},
   "outputs": [
    {
     "name": "stdout",
     "output_type": "stream",
     "text": [
      "s\n",
      "a\n",
      "l\n",
      "a\n",
      "m\n"
     ]
    }
   ],
   "source": [
    "text = \"salam\"\n",
    "\n",
    "for i in range(0, len(text)):\n",
    "    print(text[i])"
   ]
  },
  {
   "cell_type": "code",
   "execution_count": 105,
   "id": "bf041142",
   "metadata": {},
   "outputs": [
    {
     "name": "stdout",
     "output_type": "stream",
     "text": [
      "s\n",
      "a\n",
      "l\n",
      "a\n",
      "m\n"
     ]
    }
   ],
   "source": [
    "text = \"salam\"\n",
    "\n",
    "for i in range(len(text)):\n",
    "    print(text[i])"
   ]
  },
  {
   "cell_type": "code",
   "execution_count": 119,
   "id": "916f23b9",
   "metadata": {},
   "outputs": [
    {
     "name": "stdout",
     "output_type": "stream",
     "text": [
      "salam\n",
      "sala\n",
      "sal\n",
      "sa\n",
      "s\n"
     ]
    }
   ],
   "source": [
    "text = \"salam\"\n",
    "\n",
    "for i in range(len(text)):\n",
    "    print(text[0:len(text)-i])"
   ]
  },
  {
   "cell_type": "code",
   "execution_count": 120,
   "id": "a7a38283",
   "metadata": {},
   "outputs": [
    {
     "name": "stdout",
     "output_type": "stream",
     "text": [
      "salam\n",
      "alam\n",
      "lam\n",
      "am\n",
      "m\n"
     ]
    }
   ],
   "source": [
    "text = \"salam\"\n",
    "\n",
    "for i in range(len(text)):\n",
    "    print(text[i:])"
   ]
  },
  {
   "cell_type": "code",
   "execution_count": 118,
   "id": "4b60aeda",
   "metadata": {},
   "outputs": [
    {
     "name": "stdout",
     "output_type": "stream",
     "text": [
      "s\n",
      "a\n",
      "l\n",
      "a\n",
      "m\n",
      "salam\n"
     ]
    }
   ],
   "source": [
    "text = \"\"\n",
    "\n",
    "\n",
    "for i in range(5):\n",
    "    alphabet = input()\n",
    "    text += alphabet\n",
    "\n",
    "print(text)"
   ]
  },
  {
   "cell_type": "code",
   "execution_count": 112,
   "id": "87dedb8b",
   "metadata": {},
   "outputs": [
    {
     "data": {
      "text/plain": [
       "2500"
      ]
     },
     "execution_count": 112,
     "metadata": {},
     "output_type": "execute_result"
    }
   ],
   "source": [
    "result = 0\n",
    "\n",
    "for i in range(1,100):\n",
    "    if i % 2:\n",
    "        result += i  \n",
    "\n",
    "result"
   ]
  },
  {
   "cell_type": "code",
   "execution_count": 113,
   "id": "928c03e7",
   "metadata": {},
   "outputs": [
    {
     "data": {
      "text/plain": [
       "2450"
      ]
     },
     "execution_count": 113,
     "metadata": {},
     "output_type": "execute_result"
    }
   ],
   "source": [
    "result = 0\n",
    "\n",
    "for i in range(1,100):\n",
    "    if not i % 2:\n",
    "        result += i  \n",
    "\n",
    "result"
   ]
  },
  {
   "cell_type": "code",
   "execution_count": 116,
   "id": "f4606547",
   "metadata": {},
   "outputs": [
    {
     "name": "stdout",
     "output_type": "stream",
     "text": [
      "1\n",
      "2\n",
      "3\n",
      "4\n",
      "5\n",
      "[1, 2, 3, 4, 5]\n"
     ]
    }
   ],
   "source": [
    "list_ = []\n",
    "\n",
    "\n",
    "for i in range(5):\n",
    "    x = int(input())\n",
    "    list_.append(x)\n",
    "\n",
    "print(list_) "
   ]
  },
  {
   "cell_type": "code",
   "execution_count": 141,
   "id": "1f3aa7a4",
   "metadata": {},
   "outputs": [
    {
     "name": "stdout",
     "output_type": "stream",
     "text": [
      "1\n",
      "3\n",
      "4\n",
      "5\n",
      "6\n"
     ]
    }
   ],
   "source": [
    "a = [1, 3, 4, 5, 6]\n",
    "\n",
    "\n",
    "for i in a:\n",
    "    print(i)"
   ]
  },
  {
   "cell_type": "code",
   "execution_count": 142,
   "id": "b3748fd2",
   "metadata": {},
   "outputs": [
    {
     "name": "stdout",
     "output_type": "stream",
     "text": [
      "1\n",
      "3\n",
      "4\n",
      "5\n",
      "6\n"
     ]
    }
   ],
   "source": [
    "a = [1, 3, 4, 5, 6]\n",
    "\n",
    "\n",
    "for i in range(len(a)):\n",
    "    print(a[i])"
   ]
  },
  {
   "cell_type": "code",
   "execution_count": 143,
   "id": "7b38a496",
   "metadata": {},
   "outputs": [
    {
     "ename": "TypeError",
     "evalue": "can only concatenate list (not \"int\") to list",
     "output_type": "error",
     "traceback": [
      "\u001b[1;31m---------------------------------------------------------------------------\u001b[0m",
      "\u001b[1;31mTypeError\u001b[0m                                 Traceback (most recent call last)",
      "Cell \u001b[1;32mIn[143], line 3\u001b[0m\n\u001b[0;32m      1\u001b[0m a \u001b[38;5;241m=\u001b[39m [\u001b[38;5;241m1\u001b[39m, \u001b[38;5;241m3\u001b[39m, \u001b[38;5;241m4\u001b[39m, \u001b[38;5;241m5\u001b[39m, \u001b[38;5;241m6\u001b[39m]\n\u001b[1;32m----> 3\u001b[0m b \u001b[38;5;241m=\u001b[39m a \u001b[38;5;241m+\u001b[39m \u001b[38;5;241m1\u001b[39m\n\u001b[0;32m      5\u001b[0m b\n",
      "\u001b[1;31mTypeError\u001b[0m: can only concatenate list (not \"int\") to list"
     ]
    }
   ],
   "source": [
    "a = [1, 3, 4, 5, 6]\n",
    "\n",
    "b = a + 1\n",
    "    \n",
    "b    "
   ]
  },
  {
   "cell_type": "code",
   "execution_count": 144,
   "id": "fb242df9",
   "metadata": {},
   "outputs": [
    {
     "data": {
      "text/plain": [
       "[2, 4, 5, 6, 7]"
      ]
     },
     "execution_count": 144,
     "metadata": {},
     "output_type": "execute_result"
    }
   ],
   "source": [
    "a = [1, 3, 4, 5, 6]\n",
    "\n",
    "\n",
    "for i in range(len(a)):\n",
    "    a[i] += 1\n",
    "\n",
    "a    "
   ]
  },
  {
   "cell_type": "code",
   "execution_count": 145,
   "id": "56d1a04a",
   "metadata": {},
   "outputs": [
    {
     "name": "stdout",
     "output_type": "stream",
     "text": [
      "[2, 4, 5, 6, 7]\n"
     ]
    }
   ],
   "source": [
    "a = [1, 3, 4, 5, 6]\n",
    "b = []\n",
    "\n",
    "for i in a:\n",
    "    b.append(i + 1)\n",
    "\n",
    "print(b)"
   ]
  },
  {
   "cell_type": "code",
   "execution_count": 147,
   "id": "c623a4c3",
   "metadata": {},
   "outputs": [
    {
     "data": {
      "text/plain": [
       "[2, 4, 5, 6, 7]"
      ]
     },
     "execution_count": 147,
     "metadata": {},
     "output_type": "execute_result"
    }
   ],
   "source": [
    "### list comprehension\n",
    "\n",
    "a = [1, 3, 4, 5, 6]\n",
    "\n",
    "a = [i+1 for i in a]\n",
    "\n",
    "a"
   ]
  },
  {
   "cell_type": "code",
   "execution_count": 150,
   "id": "10d99069",
   "metadata": {},
   "outputs": [
    {
     "name": "stdout",
     "output_type": "stream",
     "text": [
      "Name\n",
      "Author\n",
      "Rating\n",
      "Price\n"
     ]
    }
   ],
   "source": [
    "kitab = {\n",
    "    \"Name\": \"Ağıllı zadəgan Don Kixot\",\n",
    "    \"Author\": \"Servantes\",\n",
    "    \"Rating\": 9.5,\n",
    "    \"Price\": 10\n",
    "}\n",
    "\n",
    "\n",
    "for i in kitab:\n",
    "    print(i)"
   ]
  },
  {
   "cell_type": "code",
   "execution_count": 154,
   "id": "a81fa710",
   "metadata": {},
   "outputs": [
    {
     "name": "stdout",
     "output_type": "stream",
     "text": [
      "('Name', 'Ağıllı zadəgan Don Kixot')\n",
      "('Author', 'Servantes')\n",
      "('Rating', 9.5)\n",
      "('Price', 10)\n"
     ]
    }
   ],
   "source": [
    "for i in kitab.items():\n",
    "    print(i)"
   ]
  },
  {
   "cell_type": "code",
   "execution_count": 155,
   "id": "c38a36d4",
   "metadata": {},
   "outputs": [
    {
     "name": "stdout",
     "output_type": "stream",
     "text": [
      "Name\n",
      "Author\n",
      "Rating\n",
      "Price\n"
     ]
    }
   ],
   "source": [
    "for i in kitab.keys():\n",
    "    print(i)"
   ]
  },
  {
   "cell_type": "code",
   "execution_count": 156,
   "id": "edb1191c",
   "metadata": {},
   "outputs": [
    {
     "name": "stdout",
     "output_type": "stream",
     "text": [
      "Ağıllı zadəgan Don Kixot\n",
      "Servantes\n",
      "9.5\n",
      "10\n"
     ]
    }
   ],
   "source": [
    "for i in kitab.values():\n",
    "    print(i)"
   ]
  },
  {
   "cell_type": "code",
   "execution_count": 161,
   "id": "916e112c",
   "metadata": {},
   "outputs": [
    {
     "name": "stdout",
     "output_type": "stream",
     "text": [
      "Name: Ağıllı zadəgan Don Kixot\n",
      "Author: Servantes\n",
      "Rating: 9.5\n",
      "Price: 10\n"
     ]
    }
   ],
   "source": [
    "for i, j in kitab.items():\n",
    "    print(i, j, sep=\": \")"
   ]
  },
  {
   "cell_type": "markdown",
   "id": "c15f9c99",
   "metadata": {},
   "source": [
    "### for in for"
   ]
  },
  {
   "cell_type": "code",
   "execution_count": 162,
   "id": "f62b8c51",
   "metadata": {},
   "outputs": [
    {
     "name": "stdout",
     "output_type": "stream",
     "text": [
      "[1, 2, 3]\n",
      "[4, 5, 6]\n"
     ]
    }
   ],
   "source": [
    "a = [[1, 2, 3], [4, 5, 6]]\n",
    "\n",
    "for i in a:\n",
    "    print(i)"
   ]
  },
  {
   "cell_type": "code",
   "execution_count": 163,
   "id": "c307293f",
   "metadata": {
    "scrolled": true
   },
   "outputs": [
    {
     "name": "stdout",
     "output_type": "stream",
     "text": [
      "1\n",
      "2\n",
      "3\n",
      "4\n",
      "5\n",
      "6\n"
     ]
    }
   ],
   "source": [
    "a = [[1, 2, 3], [4, 5, 6]]\n",
    "\n",
    "for i in a:\n",
    "    for j in i:\n",
    "        print(j)"
   ]
  },
  {
   "cell_type": "code",
   "execution_count": 173,
   "id": "bd0aa9b7",
   "metadata": {},
   "outputs": [
    {
     "name": "stdout",
     "output_type": "stream",
     "text": [
      "['Azerbaijan', 'Baku']\n",
      "['Ganca']\n"
     ]
    }
   ],
   "source": [
    "a = [['Azerbaijan', \"Baku\"], [\"Ganca\"]]\n",
    "\n",
    "for i in a:\n",
    "    print(i)"
   ]
  },
  {
   "cell_type": "code",
   "execution_count": 174,
   "id": "98a36c50",
   "metadata": {},
   "outputs": [
    {
     "name": "stdout",
     "output_type": "stream",
     "text": [
      "Azerbaijan\n",
      "Baku\n",
      "Ganca\n"
     ]
    }
   ],
   "source": [
    "a = [['Azerbaijan', \"Baku\"], [\"Ganca\"]]\n",
    "\n",
    "for i in a:\n",
    "    for j in i:\n",
    "        print(j)"
   ]
  },
  {
   "cell_type": "code",
   "execution_count": 175,
   "id": "8441ec2b",
   "metadata": {
    "scrolled": true
   },
   "outputs": [
    {
     "name": "stdout",
     "output_type": "stream",
     "text": [
      "A\n",
      "z\n",
      "e\n",
      "r\n",
      "b\n",
      "a\n",
      "i\n",
      "j\n",
      "a\n",
      "n\n",
      "B\n",
      "a\n",
      "k\n",
      "u\n"
     ]
    }
   ],
   "source": [
    "a = [['Azerbaijan'], [\"Baku\"]]\n",
    "\n",
    "for i in a:\n",
    "    for j in i:\n",
    "        for k in j:\n",
    "            print(k)"
   ]
  },
  {
   "cell_type": "code",
   "execution_count": 181,
   "id": "3462cda5",
   "metadata": {},
   "outputs": [
    {
     "name": "stdout",
     "output_type": "stream",
     "text": [
      "Name\n",
      "Ağıllı zadəgan Don Kixot\n",
      "Author\n",
      "Servantes\n",
      "Rating\n",
      "9.5\n",
      "Price\n",
      "10\n"
     ]
    }
   ],
   "source": [
    "kitab = {\n",
    "    \"Name\": \"Ağıllı zadəgan Don Kixot\",\n",
    "    \"Author\": \"Servantes\",\n",
    "    \"Rating\": 9.5,\n",
    "    \"Price\": 10\n",
    "}\n",
    "\n",
    "\n",
    "for i in kitab.items():\n",
    "    for j in i:\n",
    "        print(j)"
   ]
  },
  {
   "cell_type": "code",
   "execution_count": 184,
   "id": "db2ea64b",
   "metadata": {},
   "outputs": [
    {
     "data": {
      "text/plain": [
       "[1, 2, 3, 2, 4, 6]"
      ]
     },
     "execution_count": 184,
     "metadata": {},
     "output_type": "execute_result"
    }
   ],
   "source": [
    "result = [i * j for i in range(1, 3) for j in range(1, 4)]\n",
    "result"
   ]
  },
  {
   "cell_type": "code",
   "execution_count": 185,
   "id": "12f400e6",
   "metadata": {},
   "outputs": [
    {
     "data": {
      "text/plain": [
       "[1, 2, 3, 2, 4, 6]"
      ]
     },
     "execution_count": 185,
     "metadata": {},
     "output_type": "execute_result"
    }
   ],
   "source": [
    "result = []\n",
    "for i in range(1, 3):\n",
    "    for j in range(1, 4):\n",
    "        result.append(i * j)\n",
    "result"
   ]
  },
  {
   "cell_type": "code",
   "execution_count": 186,
   "id": "83572b4a",
   "metadata": {
    "scrolled": true
   },
   "outputs": [
    {
     "name": "stdout",
     "output_type": "stream",
     "text": [
      "100\n",
      "100\n",
      "100\n",
      "100\n"
     ]
    }
   ],
   "source": [
    "for i in range(1,5):\n",
    "    print(100)"
   ]
  },
  {
   "cell_type": "markdown",
   "id": "f533b6fc",
   "metadata": {},
   "source": [
    "### for-else,  break, continue"
   ]
  },
  {
   "cell_type": "markdown",
   "id": "122ee152",
   "metadata": {},
   "source": [
    "Python-da `for-else` konstruksiyası dövr (loop) normal şəkildə başa çatanda (`break` olmadan) `else` blokunun işləməsini təmin edir.\n",
    "\n",
    "* Əgər `axtarilan` ədədi siyahıda tapılarsa, `break` ilə dövr dayandırılır və `else` işləməz.\n",
    "* Əgər `axtarilan` siyahıda yoxdursa, dövr `break` olmadan bitər və `else` bloku işləyər.\n",
    "\n",
    "Bu konstruksiya, xüsusilə axtarış əməliyyatlarında istifadə olunur.\n"
   ]
  },
  {
   "cell_type": "code",
   "execution_count": 12,
   "id": "e0f05f18",
   "metadata": {},
   "outputs": [
    {
     "name": "stdout",
     "output_type": "stream",
     "text": [
      "Ədəd tapılmadı.\n"
     ]
    }
   ],
   "source": [
    "axtarilan = 5\n",
    "ededler = [1, 3, 4, 6, 7]\n",
    "\n",
    "for i in ededler:\n",
    "    if i == axtarilan:\n",
    "        print(\"Ədəd tapıldı!\")\n",
    "        break\n",
    "else:\n",
    "    print(\"Ədəd tapılmadı.\")\n"
   ]
  },
  {
   "cell_type": "code",
   "execution_count": 13,
   "id": "52a2f907",
   "metadata": {},
   "outputs": [
    {
     "name": "stdout",
     "output_type": "stream",
     "text": [
      "0\n",
      "1\n",
      "2\n"
     ]
    }
   ],
   "source": [
    "for i in range(5):\n",
    "    if i == 3:\n",
    "        break\n",
    "    print(i)"
   ]
  },
  {
   "cell_type": "code",
   "execution_count": 14,
   "id": "ec076cb4",
   "metadata": {},
   "outputs": [
    {
     "name": "stdout",
     "output_type": "stream",
     "text": [
      "1\n",
      "2\n",
      "3\n",
      "4\n"
     ]
    }
   ],
   "source": [
    "for i in [1, 2, 3, 4, 5, 6, 7, 8, 9, 10]:\n",
    "    if i == 5:\n",
    "        break\n",
    "    print(i)"
   ]
  },
  {
   "cell_type": "code",
   "execution_count": 15,
   "id": "aafead08",
   "metadata": {},
   "outputs": [
    {
     "name": "stdout",
     "output_type": "stream",
     "text": [
      "1\n",
      "2\n",
      "3\n",
      "4\n",
      "6\n",
      "7\n",
      "8\n",
      "9\n",
      "10\n"
     ]
    }
   ],
   "source": [
    "for i in [1, 2, 3, 4, 5, 6, 7, 8, 9, 10]:\n",
    "    if i == 5:\n",
    "        continue\n",
    "    print(i)"
   ]
  },
  {
   "cell_type": "code",
   "execution_count": null,
   "id": "8caa9927",
   "metadata": {},
   "outputs": [],
   "source": []
  },
  {
   "cell_type": "markdown",
   "id": "982788c0",
   "metadata": {},
   "source": [
    "## Dərs 8. Dövr operatorları (for). Ev tapşırıqları"
   ]
  },
  {
   "cell_type": "markdown",
   "id": "4c7a276f",
   "metadata": {},
   "source": [
    "### 1. Bir list dəyişəni götürün.  Sonra bu listin elementlərini aralarında vergül qoymaqla çap edin."
   ]
  },
  {
   "cell_type": "code",
   "execution_count": 19,
   "id": "2b1cd751",
   "metadata": {},
   "outputs": [
    {
     "name": "stdout",
     "output_type": "stream",
     "text": [
      "1, 2, 3, Adil, 4, 5, 6, "
     ]
    }
   ],
   "source": [
    "list1 = [1, 2, 3, \"Adil\", 4, 5, 6]\n",
    "\n",
    "\n",
    "for i in list1:\n",
    "    print(i, end=\", \")\n"
   ]
  },
  {
   "cell_type": "markdown",
   "id": "1080f5c8",
   "metadata": {},
   "source": [
    "### 2. 1-dən 100-dək ədədlərin kvadratları cəmini çapa verin."
   ]
  },
  {
   "cell_type": "code",
   "execution_count": 20,
   "id": "18e479bf",
   "metadata": {},
   "outputs": [
    {
     "name": "stdout",
     "output_type": "stream",
     "text": [
      "328350\n"
     ]
    }
   ],
   "source": [
    "a = 0\n",
    "\n",
    "for i in range(1,100):\n",
    "    a += i**2\n",
    "\n",
    "print(a)"
   ]
  },
  {
   "cell_type": "markdown",
   "id": "449a4603",
   "metadata": {},
   "source": [
    "### 3. Bir list dəyişəni götürün. Bu listin 5-dən böyük olan elementlərini başqa listə yazın və çap edin."
   ]
  },
  {
   "cell_type": "code",
   "execution_count": 24,
   "id": "5fee0562",
   "metadata": {},
   "outputs": [
    {
     "name": "stdout",
     "output_type": "stream",
     "text": [
      "[2, 7, 8, 9, -11]\n",
      "[7, 8, 9]\n"
     ]
    }
   ],
   "source": [
    "list1 = [2, 7,  8, 9, -11]\n",
    "list2 = []\n",
    "\n",
    "for i in list1:\n",
    "    if i >  5:\n",
    "        list2.append(i)\n",
    "\n",
    "print(list1)        \n",
    "print(list2)"
   ]
  },
  {
   "cell_type": "markdown",
   "id": "c7ab542f",
   "metadata": {},
   "source": [
    "### 4. Bir list dəyişəni götürün. Bu listin tək elementlərinin kvadratları ilə cüt elementlərinin kubları cəmini hesablayıb çapa verin."
   ]
  },
  {
   "cell_type": "code",
   "execution_count": 28,
   "id": "4b2f1f70",
   "metadata": {},
   "outputs": [
    {
     "name": "stdout",
     "output_type": "stream",
     "text": [
      "965\n"
     ]
    }
   ],
   "source": [
    "list1 = [1, 2, 3, 4, 5, 6, 7, 8, 9]\n",
    "result = 0\n",
    "\n",
    "for i in list1:\n",
    "    if i % 2:\n",
    "        result += i**2\n",
    "    else:\n",
    "        result += i**3\n",
    "        \n",
    "print(result)"
   ]
  },
  {
   "cell_type": "markdown",
   "id": "cae17a8d",
   "metadata": {},
   "source": [
    "### 5. İnt tipli a və b (a < b) dəyişənləri götürün. a və b aralığında 5-ə bölünen ədədlərin hasilini çap edin."
   ]
  },
  {
   "cell_type": "code",
   "execution_count": 30,
   "id": "29bde464",
   "metadata": {},
   "outputs": [
    {
     "name": "stdout",
     "output_type": "stream",
     "text": [
      "50\n"
     ]
    }
   ],
   "source": [
    "a = 1\n",
    "b = 10\n",
    "flag = 1\n",
    "\n",
    "for i in range(a, b+1):\n",
    "    if not i % 5:\n",
    "        flag *= i\n",
    "            \n",
    "print(flag)"
   ]
  },
  {
   "cell_type": "markdown",
   "id": "19eb4e86",
   "metadata": {},
   "source": [
    "### 6. Bir list dəyişəni götürün. Bu listin ən böyük elementini çap edin."
   ]
  },
  {
   "cell_type": "code",
   "execution_count": 72,
   "id": "ddf293f5",
   "metadata": {},
   "outputs": [
    {
     "name": "stdout",
     "output_type": "stream",
     "text": [
      "7\n"
     ]
    }
   ],
   "source": [
    "list1 = [3, 5, 4, 7, -11, 0, -2]\n",
    "\n",
    "max_ = list1[0]\n",
    "\n",
    "for i in range(1, len(list1)):\n",
    "    if list1[i] > max_:\n",
    "        max_ = list1[i]\n",
    "\n",
    "print(max_)"
   ]
  },
  {
   "cell_type": "markdown",
   "id": "77ec8c12",
   "metadata": {},
   "source": [
    "### 7. Terminaldan daxil edilmiş ədədin faktorialını hesablayıb çap edin. Məs: 5! = 1*2*3*4*5 və s."
   ]
  },
  {
   "cell_type": "code",
   "execution_count": 33,
   "id": "96c10387",
   "metadata": {},
   "outputs": [
    {
     "name": "stdout",
     "output_type": "stream",
     "text": [
      "120\n"
     ]
    }
   ],
   "source": [
    "a = 5\n",
    "result = 1\n",
    "\n",
    "for i in range(2, a+1):\n",
    "    result *= i\n",
    "    \n",
    "print(result)"
   ]
  },
  {
   "cell_type": "code",
   "execution_count": 34,
   "id": "ae34b382",
   "metadata": {},
   "outputs": [
    {
     "data": {
      "text/plain": [
       "120"
      ]
     },
     "execution_count": 34,
     "metadata": {},
     "output_type": "execute_result"
    }
   ],
   "source": [
    "import math\n",
    "\n",
    "math.factorial(5)"
   ]
  },
  {
   "cell_type": "markdown",
   "id": "f1b23d45",
   "metadata": {},
   "source": [
    "### 8. Terminaldan daxil edilmiş ədədi sadə və ya mürəkkəb olduğunu çap edin."
   ]
  },
  {
   "cell_type": "code",
   "execution_count": 35,
   "id": "71cdde9f",
   "metadata": {},
   "outputs": [
    {
     "name": "stdout",
     "output_type": "stream",
     "text": [
      "17\n",
      "Eded sadedir\n"
     ]
    }
   ],
   "source": [
    "n = int(input())\n",
    "\n",
    "for i in range(2, n):\n",
    "    if not n % i:\n",
    "        print(\"Eded murekkebdir\")\n",
    "        break\n",
    "else:\n",
    "    print(\"Eded sadedir\")"
   ]
  },
  {
   "cell_type": "markdown",
   "id": "60c06c73",
   "metadata": {},
   "source": [
    "### 9. For dövr operatorundan istifadə edərək, aşağıdakı fiquru çap edin."
   ]
  },
  {
   "cell_type": "code",
   "execution_count": 36,
   "id": "aa5ca447",
   "metadata": {},
   "outputs": [],
   "source": [
    "# *\n",
    "# **\n",
    "# ***\n",
    "# ****\n",
    "# *****"
   ]
  },
  {
   "cell_type": "code",
   "execution_count": 44,
   "id": "8e72ca76",
   "metadata": {},
   "outputs": [
    {
     "name": "stdout",
     "output_type": "stream",
     "text": [
      "*\n",
      "**\n",
      "***\n",
      "****\n",
      "*****\n",
      "*\n",
      "**\n",
      "***\n",
      "****\n",
      "*****\n"
     ]
    }
   ],
   "source": [
    "a = 6\n",
    "\n",
    "for i in range(1, a):           \n",
    "    print(\"*\"*i)\n",
    "\n",
    "\n",
    "for i in range(1, 6):\n",
    "    print(\"*\" * i)"
   ]
  },
  {
   "cell_type": "markdown",
   "id": "a56ae3b6",
   "metadata": {},
   "source": [
    "### 10. Bir list dəyişəni götürün. Əgər listdəki element 5-dən kiçikdirsə, onu kvadratı ilə, 5-ə bərabərdirsə, 2 misli ilə, 5-dən böyükdürsə, kubu ilə əvəz edin.\n",
    "  "
   ]
  },
  {
   "cell_type": "code",
   "execution_count": 46,
   "id": "a9fd58b2",
   "metadata": {},
   "outputs": [
    {
     "name": "stdout",
     "output_type": "stream",
     "text": [
      "[1, 4, 9, 16, 10, 216, 343, 512, 729]\n"
     ]
    }
   ],
   "source": [
    "\n",
    "list1 = [1, 2, 3, 4, 5, 6, 7, 8, 9]\n",
    "\n",
    "\n",
    "\n",
    "for i in range(len(list1)):\n",
    "    if list1[i] < 5:\n",
    "        list1[i] = list1[i]**2\n",
    "    elif list1[i] == 5:\n",
    "        list1[i] = list1[i]*2\n",
    "    else:\n",
    "        list1[i] = list1[i]**3        \n",
    "\n",
    "print(list1)"
   ]
  },
  {
   "cell_type": "markdown",
   "id": "e9bafbe1",
   "metadata": {},
   "source": [
    "### 11.Listin elementlerinin sade ve ya murekkeb oldugunu yoxla."
   ]
  },
  {
   "cell_type": "code",
   "execution_count": 47,
   "id": "a94a65c3",
   "metadata": {},
   "outputs": [
    {
     "name": "stdout",
     "output_type": "stream",
     "text": [
      "143 murekkebdir\n",
      "27 murekkebdir\n",
      "17 sadedir\n",
      "55 murekkebdir\n"
     ]
    }
   ],
   "source": [
    "\n",
    "list1 = [143, 27, 17, 55]\n",
    "\n",
    "for i in list1:\n",
    "    for j in range(2,i):\n",
    "        if not i % j:\n",
    "            print(f\"{i} murekkebdir\")\n",
    "            break\n",
    "    else:\n",
    "        print(f\"{i} sadedir\") "
   ]
  },
  {
   "cell_type": "code",
   "execution_count": null,
   "id": "641dfae4",
   "metadata": {},
   "outputs": [],
   "source": []
  },
  {
   "cell_type": "markdown",
   "id": "8343e1c8",
   "metadata": {},
   "source": [
    "### While"
   ]
  },
  {
   "cell_type": "code",
   "execution_count": 81,
   "id": "6c9b7118",
   "metadata": {},
   "outputs": [
    {
     "name": "stdout",
     "output_type": "stream",
     "text": [
      "1, 2, 3, 4, 5, 6, 7, 8, 9, "
     ]
    }
   ],
   "source": [
    "for i in range(1, 100):\n",
    "    if i == 10:\n",
    "        break\n",
    "    print(i, end=\", \")"
   ]
  },
  {
   "cell_type": "code",
   "execution_count": 53,
   "id": "a0a5a23d",
   "metadata": {},
   "outputs": [
    {
     "name": "stdout",
     "output_type": "stream",
     "text": [
      "1, 2, 3, 4, 5, 6, 7, 8, 9, 11, 12, 13, 14, 15, 16, 17, 18, 19, 20, 21, 22, 23, 24, 25, 26, 27, 28, 29, 30, 31, 32, 33, 34, 35, 36, 37, 38, 39, 40, 41, 42, 43, 44, 45, 46, 47, 48, 49, 50, 51, 52, 53, 54, 55, 56, 57, 58, 59, 60, 61, 62, 63, 64, 65, 66, 67, 68, 69, 70, 71, 72, 73, 74, 75, 76, 77, 78, 79, 80, 81, 82, 83, 84, 85, 86, 87, 88, 89, 90, 91, 92, 93, 94, 95, 96, 97, 98, 99, "
     ]
    }
   ],
   "source": [
    "for i in range(1, 100):\n",
    "    if i == 10:\n",
    "        continue\n",
    "    print(i, end=', ')    \n"
   ]
  },
  {
   "cell_type": "code",
   "execution_count": 56,
   "id": "d0d26619",
   "metadata": {},
   "outputs": [
    {
     "name": "stdout",
     "output_type": "stream",
     "text": [
      "0, 1, 2, 3, 4, 5, 6, 7, 8, 9, 10, 11, 12, 13, 14, 15, 16, 17, 18, 19, 20, 21, 22, 23, 24, 25, 26, 27, 28, 29, 30, 31, 32, 33, 34, 35, 36, 37, 38, 39, 40, 41, 42, 43, 44, 45, 46, 47, 48, 49, 50, 51, 52, 53, 54, 55, 56, 57, 58, 59, 60, 61, 62, 63, 64, 65, 66, 67, 68, 69, 70, 71, 72, 73, 74, 75, 76, 77, 78, 79, 80, 81, 82, 83, 84, 85, 86, 87, 88, 89, 90, 91, 92, 93, 94, 95, 96, 97, 98, 99, "
     ]
    }
   ],
   "source": [
    "i = 0\n",
    "\n",
    "while i < 100:\n",
    "    print(i, end=\", \")\n",
    "    i += 1"
   ]
  },
  {
   "cell_type": "code",
   "execution_count": 60,
   "id": "91b9454f",
   "metadata": {},
   "outputs": [
    {
     "name": "stdout",
     "output_type": "stream",
     "text": [
      "99, 98, 97, 96, 95, 94, 93, 92, 91, 90, 89, 88, 87, 86, 85, 84, 83, 82, 81, 80, 79, 78, 77, 76, 75, 74, 73, 72, 71, 70, 69, 68, 67, 66, 65, 64, 63, 62, 61, 60, 59, 58, 57, 56, 55, 54, 53, 52, 51, 50, 49, 48, 47, 46, 45, 44, 43, 42, 41, 40, 39, 38, 37, 36, 35, 34, 33, 32, 31, 30, 29, 28, 27, 26, 25, 24, 23, 22, 21, 20, 19, 18, 17, 16, 15, 14, 13, 12, 11, 10, 9, 8, 7, 6, 5, 4, 3, 2, 1, "
     ]
    }
   ],
   "source": [
    "i = 1\n",
    "\n",
    "while i < 100:\n",
    "    print(100 - i, end=\", \")\n",
    "    i += 1"
   ]
  },
  {
   "cell_type": "code",
   "execution_count": 67,
   "id": "1ff37040",
   "metadata": {
    "scrolled": false
   },
   "outputs": [
    {
     "name": "stdout",
     "output_type": "stream",
     "text": [
      "99, 98, 97, 96, 95, 94, 93, 92, 91, 90, 89, 88, 87, 86, 85, 84, 83, 82, 81, 80, 79, 78, 77, 76, 75, 74, 73, 72, 71, 70, 69, 68, 67, 66, 65, 64, 63, 62, 61, 60, 59, 58, 57, 56, 55, 54, 53, 52, 51, 50, 49, 48, 47, 46, 45, 44, 43, 42, 41, 40, 39, 38, 37, 36, 35, 34, 33, 32, 31, 30, 29, 28, 27, 26, 25, 24, 23, 22, 21, 20, 19, 18, 17, 16, 15, 14, 13, 12, 11, 10, 9, 8, 7, 6, 5, 4, 3, 2, 1, "
     ]
    }
   ],
   "source": [
    "i = 99\n",
    "\n",
    "while i > 0:\n",
    "    print(i, end=\", \")\n",
    "    i -= 1"
   ]
  },
  {
   "cell_type": "code",
   "execution_count": 71,
   "id": "c5d46b7a",
   "metadata": {},
   "outputs": [
    {
     "name": "stdout",
     "output_type": "stream",
     "text": [
      "103, 102, 101, 100, "
     ]
    }
   ],
   "source": [
    "i = 104\n",
    "\n",
    "while i > 100:\n",
    "    i -= 1\n",
    "    print(i, end=\", \")\n",
    "   "
   ]
  },
  {
   "cell_type": "code",
   "execution_count": 72,
   "id": "74a46ed9",
   "metadata": {},
   "outputs": [
    {
     "name": "stdout",
     "output_type": "stream",
     "text": [
      "0, 1, 2, 3, 4, 5, 6, 7, 8, 9, 10, 11, 12, 13, 14, 15, 16, 17, 18, 19, 20, 21, 22, 23, 24, 25, 26, 27, 28, 29, 30, 31, 32, 33, 34, 35, 36, 37, 38, 39, "
     ]
    }
   ],
   "source": [
    "i = 0\n",
    "\n",
    "while i < 100:\n",
    "    print(i, end=\", \")\n",
    "    i += 1\n",
    "    if i == 40:\n",
    "        break"
   ]
  },
  {
   "cell_type": "code",
   "execution_count": 74,
   "id": "b2a13ce5",
   "metadata": {},
   "outputs": [
    {
     "name": "stdout",
     "output_type": "stream",
     "text": [
      "1, 2, 3, 4, 5, 6, 7, 8, 9, 10, 11, 12, 13, 14, 15, 16, 17, 18, 19, 20, 21, 22, 23, 24, 25, 26, 27, 28, 29, 30, 31, 32, 33, 34, 35, 36, 37, 38, 39, 40, 41, 42, 43, 44, 45, 46, 47, 48, 49, 50, 51, 52, 53, 54, 55, 56, 57, 58, 59, 60, 61, 62, 63, 64, 65, 66, 67, 68, 69, 70, 71, 72, 73, 74, 75, 76, 77, 78, 79, 80, 81, 82, 83, 84, 85, 86, 87, 88, 89, 90, 91, 92, 93, 94, 95, 96, 97, 98, 99, 100, "
     ]
    }
   ],
   "source": []
  },
  {
   "cell_type": "code",
   "execution_count": 76,
   "id": "658215d0",
   "metadata": {},
   "outputs": [
    {
     "name": "stdout",
     "output_type": "stream",
     "text": [
      "0, 1, 2, 3, 4, 5, 6, 7, 8, 9, "
     ]
    }
   ],
   "source": [
    "i = 0\n",
    "\n",
    "while True:\n",
    "    print(i, end=\", \")\n",
    "    i += 1\n",
    "    if i ==10:\n",
    "        break"
   ]
  },
  {
   "cell_type": "code",
   "execution_count": 80,
   "id": "fce34f30",
   "metadata": {},
   "outputs": [
    {
     "name": "stdout",
     "output_type": "stream",
     "text": [
      "100, 99, 98, 97, 96, 95, 94, 93, 92, 91, 90, 89, 88, 87, 86, 85, 84, 83, 82, 81, 80, 79, 78, 77, 76, 75, 74, 73, 72, 71, 70, 69, 68, 67, 66, 65, 64, 63, 62, 61, 60, 59, 58, 57, 56, 55, 54, 53, 52, 51, 50, 49, 48, 47, 46, 45, 44, 43, 42, 41, 40, 39, 38, 37, 36, 35, 34, 33, 32, 31, 30, 29, 28, 27, 26, 25, 24, 23, 22, 21, 20, 19, 18, 17, 16, 15, 14, 13, 12, 11, 10, 9, 8, 7, 6, 5, 4, 3, 2, 1, "
     ]
    }
   ],
   "source": [
    "i = 100\n",
    "\n",
    "while i:\n",
    "    print(i, end=\", \")\n",
    "    i -= 1\n",
    "    \n",
    "# Qeyd  i = 0 da False  dır,  while  qarşısıinda false gorüb saxladı dövrü   "
   ]
  },
  {
   "cell_type": "code",
   "execution_count": null,
   "id": "8fdb5eaa",
   "metadata": {},
   "outputs": [],
   "source": []
  },
  {
   "cell_type": "markdown",
   "id": "d9e3c5fe",
   "metadata": {},
   "source": [
    "##  Dərs 9. Dövr operatorları. While dövr operatoru. Ev tapşırıqları. Məsələləri həm for, həm də while operatoru ilə həll edin.)\n"
   ]
  },
  {
   "cell_type": "markdown",
   "id": "9bbd5af3",
   "metadata": {},
   "source": [
    "### 1. İki int tipli a və b dəyişəni götürün. a və b aralığında eyni anda həm 2-yə, həm də 3-ə bölünən ədədlərin cəmini hesablayın."
   ]
  },
  {
   "cell_type": "code",
   "execution_count": 87,
   "id": "546533b2",
   "metadata": {},
   "outputs": [
    {
     "name": "stdout",
     "output_type": "stream",
     "text": [
      "36\n",
      "36\n"
     ]
    }
   ],
   "source": [
    "a = 1 \n",
    "b = 20\n",
    "c = 0\n",
    "\n",
    "for i in range(a, b+1):\n",
    "    if not i % 2 and not i % 3:\n",
    "        c += i\n",
    "                                   \n",
    "if c == 0:\n",
    "    c = \"bu araligda bele eded yoxdur\"\n",
    "           \n",
    "print(c)\n",
    "\n",
    "\n",
    "#########################\n",
    "\n",
    "a = 1 \n",
    "b = 20\n",
    "c = 0\n",
    "\n",
    "i = a\n",
    "while i <= b:\n",
    "    if not i % 2 and not i % 3:\n",
    "        c += i\n",
    "    i += 1    \n",
    "\n",
    "if c == 0:\n",
    "    c = \"bu araligda bele eded yoxdur\"\n",
    "\n",
    "print(c)"
   ]
  },
  {
   "cell_type": "markdown",
   "id": "a4ddcb97",
   "metadata": {},
   "source": [
    "### 2. Bir list dəyişəni götürün. Bu listin 5-dən böyük və 20-dən kiçik olan elementlərini çap edin."
   ]
  },
  {
   "cell_type": "code",
   "execution_count": 93,
   "id": "0ed5b0a5",
   "metadata": {},
   "outputs": [
    {
     "name": "stdout",
     "output_type": "stream",
     "text": [
      "6, 7, 8, 9, 10, \n",
      "6, 7, 8, 9, 10, "
     ]
    }
   ],
   "source": [
    "list1 = [1, 2, 3, 4, 6, 7, 8, 9, 10, 21, 22, 23, 24, 25]\n",
    "\n",
    "for i in list1:\n",
    "    if i > 5 and i < 20:\n",
    "        print(i, end =\", \")\n",
    "print()\n",
    "###################################################\n",
    "\n",
    "list1 = [1, 2, 3, 4, 6, 7, 8, 9, 10, 21, 22, 23, 24, 25]\n",
    "\n",
    "i = 0\n",
    "while i < len(list1):\n",
    "    if list1[i] > 5 and list1[i] < 20:\n",
    "        print(list1[i], end= \", \")\n",
    "    i += 1"
   ]
  },
  {
   "cell_type": "markdown",
   "id": "e51f25e2",
   "metadata": {},
   "source": [
    "### 3. Bir int tipli dəyişən götürün. Daxil olunmuş ədədin bütün bölənlərini çapa verin."
   ]
  },
  {
   "cell_type": "code",
   "execution_count": 98,
   "id": "807cf064",
   "metadata": {},
   "outputs": [
    {
     "name": "stdout",
     "output_type": "stream",
     "text": [
      "1, 2, 4, 5, 10, 20, \n",
      "1, 2, 4, 5, 10, 20, "
     ]
    }
   ],
   "source": [
    "a = 20\n",
    "\n",
    "for i in range(1, a+1):\n",
    "    if not a % i:\n",
    "        print(i, end= \", \")\n",
    "\n",
    "print()        \n",
    "##############\n",
    "\n",
    "a = 20\n",
    "\n",
    "i = 1\n",
    "while i <= a:\n",
    "    if not a % i:\n",
    "        print(i, end= \", \")\n",
    "    i += 1    "
   ]
  },
  {
   "cell_type": "markdown",
   "id": "8beeeed9",
   "metadata": {},
   "source": [
    "### 4. Bütün elementləri str tipində olan bir list dəyişəni götürün. List daxilində palindrom lan elementləri çapa verin. (Palindrom string tərsi özünə bərabər olan stringdir. Məsələn: kiçik, kələk və s.)"
   ]
  },
  {
   "cell_type": "code",
   "execution_count": 130,
   "id": "ca91671e",
   "metadata": {},
   "outputs": [
    {
     "name": "stdout",
     "output_type": "stream",
     "text": [
      "kiçik, lol, \n",
      "kiçik, lol, "
     ]
    }
   ],
   "source": [
    "list1 = [\"kiçik\", \"Baku\", \"lol\"]\n",
    "\n",
    "for i in list1:\n",
    "    if i == i[::-1]:\n",
    "        print(i, end=\", \")\n",
    "\n",
    "print()\n",
    "#################################\n",
    "\n",
    "list1 = [\"kiçik\", \"Baku\", \"lol\"]\n",
    "\n",
    "i = 0\n",
    "while i < len(list1):\n",
    "    if list1[i] == list1[i][::-1]:\n",
    "        print(list1[i], end=\", \")\n",
    "    i += 1    "
   ]
  },
  {
   "cell_type": "markdown",
   "id": "435cce6e",
   "metadata": {},
   "source": [
    "### 5. İki int tipli a və b dəyişəni götürün. a və b aralığında mükəmməl ədədləri çapa verin. (Bütün bölənlərinin cəminə bərabər olan ədəd mükəmməl ədəddir. Məs: 6 = 1+2+3 və s.)"
   ]
  },
  {
   "cell_type": "code",
   "execution_count": 135,
   "id": "3be9eae2",
   "metadata": {},
   "outputs": [
    {
     "name": "stdout",
     "output_type": "stream",
     "text": [
      "6, 28, "
     ]
    }
   ],
   "source": [
    "\n",
    "a = 1\n",
    "b = 100\n",
    "\n",
    "for i in range(a, b+1):\n",
    "    c = 0\n",
    "    for j in range(1, i):\n",
    "        if not i % j:\n",
    "            c += j\n",
    "    if c == i:\n",
    "        print(i, end=\", \")\n",
    "\n",
    "  "
   ]
  },
  {
   "cell_type": "code",
   "execution_count": 136,
   "id": "4d8f10f4",
   "metadata": {},
   "outputs": [
    {
     "name": "stdout",
     "output_type": "stream",
     "text": [
      "6 mukemmel ededdir\n",
      "28 mukemmel ededdir\n"
     ]
    }
   ],
   "source": [
    "#################################\n",
    "\n",
    "a = 1\n",
    "b = 100\n",
    "\n",
    "i = a\n",
    "while i < b+1:\n",
    "    j = 1\n",
    "    c = 0\n",
    "    while j < i:\n",
    "        if not i % j:\n",
    "            c += j\n",
    "            \n",
    "        j += 1\n",
    "        \n",
    "    if c == i:\n",
    "        print(f\"{i} mukemmel ededdir\")\n",
    "    i += 1 "
   ]
  },
  {
   "cell_type": "markdown",
   "id": "096483b6",
   "metadata": {},
   "source": [
    "#### 6. Dövr operatorlarından istifadə edərək aşağıdakı fiquru çap edin:"
   ]
  },
  {
   "cell_type": "code",
   "execution_count": 137,
   "id": "46762e29",
   "metadata": {},
   "outputs": [
    {
     "name": "stdout",
     "output_type": "stream",
     "text": [
      "*****\n",
      "****\n",
      "***\n",
      "**\n",
      "*\n"
     ]
    }
   ],
   "source": [
    "# *****\n",
    "# ****\n",
    "# ***\n",
    "# **\n",
    "# *\n",
    "\n",
    "for i in range(0,5):\n",
    "    x = 5-i\n",
    "    print(\"*\" * x)"
   ]
  },
  {
   "cell_type": "code",
   "execution_count": 2,
   "id": "96e3a351",
   "metadata": {},
   "outputs": [
    {
     "name": "stdout",
     "output_type": "stream",
     "text": [
      "*****\n",
      "****\n",
      "***\n",
      "**\n",
      "*\n"
     ]
    }
   ],
   "source": [
    "for i in range(5, 0, -1):\n",
    "    print(\"*\" * i)"
   ]
  },
  {
   "cell_type": "code",
   "execution_count": 4,
   "id": "e0e63539",
   "metadata": {},
   "outputs": [
    {
     "name": "stdout",
     "output_type": "stream",
     "text": [
      "*****\n",
      "****\n",
      "***\n",
      "**\n"
     ]
    }
   ],
   "source": [
    "i = 0\n",
    "while i < 4:\n",
    "    x = 5-i\n",
    "    print(\"*\" * x)\n",
    "    i += 1"
   ]
  },
  {
   "cell_type": "code",
   "execution_count": 7,
   "id": "62a4398b",
   "metadata": {
    "scrolled": false
   },
   "outputs": [
    {
     "name": "stdout",
     "output_type": "stream",
     "text": [
      "*****\n",
      "****\n",
      "***\n",
      "**\n",
      "*\n"
     ]
    }
   ],
   "source": [
    "i = 5\n",
    "while i > 0:\n",
    "    print(\"*\" * i)\n",
    "    i -= 1"
   ]
  },
  {
   "cell_type": "code",
   "execution_count": 8,
   "id": "cde4b4e6",
   "metadata": {},
   "outputs": [
    {
     "name": "stdout",
     "output_type": "stream",
     "text": [
      "*****\n",
      "****\n",
      "***\n",
      "**\n",
      "*\n"
     ]
    }
   ],
   "source": [
    "i = 5\n",
    "while i:\n",
    "    print(\"*\" * i)\n",
    "    i -= 1"
   ]
  },
  {
   "cell_type": "markdown",
   "id": "723ee3ac",
   "metadata": {},
   "source": [
    "### 7. Dövr operatorlarından istifadə edərək aşağıdakı fiquru çap edin:"
   ]
  },
  {
   "cell_type": "code",
   "execution_count": 9,
   "id": "ecbdba72",
   "metadata": {},
   "outputs": [],
   "source": [
    "# *********\n",
    "#  *******\n",
    "#   *****\n",
    "#    ***\n",
    "#     *"
   ]
  },
  {
   "cell_type": "code",
   "execution_count": 12,
   "id": "67ebb678",
   "metadata": {},
   "outputs": [
    {
     "name": "stdout",
     "output_type": "stream",
     "text": [
      "*********\n",
      " ******* \n",
      "  *****  \n",
      "   ***   \n",
      "    *    \n"
     ]
    }
   ],
   "source": [
    "\n",
    "for i in range(5):\n",
    "    print((\"*\" * (9-2*i)).center(9))\n"
   ]
  },
  {
   "cell_type": "code",
   "execution_count": 13,
   "id": "7ce53b64",
   "metadata": {},
   "outputs": [
    {
     "name": "stdout",
     "output_type": "stream",
     "text": [
      "*********\n",
      " ******* \n",
      "  *****  \n",
      "   ***   \n",
      "    *    \n"
     ]
    }
   ],
   "source": [
    "i = 0\n",
    "while i < 5:\n",
    "    print((\"*\" * (9-2*i)).center(9))\n",
    "    i +=1"
   ]
  },
  {
   "cell_type": "markdown",
   "id": "f44737e5",
   "metadata": {},
   "source": [
    "### 8. İki int tipli a və b dəyişəni götürün. a və b aralığında kvadrat ədədlərin hasilini tapın."
   ]
  },
  {
   "cell_type": "code",
   "execution_count": 29,
   "id": "51ee2080",
   "metadata": {},
   "outputs": [
    {
     "name": "stdout",
     "output_type": "stream",
     "text": [
      "1, 4, 9, 16, 25, \n",
      "Hasil = 14400\n",
      "\n",
      "1, 4, 9, 16, 25, "
     ]
    }
   ],
   "source": [
    "a = 1\n",
    "b = 25\n",
    "c = 1\n",
    "\n",
    "for i in range(a, b+1):\n",
    "    if i**0.5 == int(i**0.5):\n",
    "        print(i, end=\", \")\n",
    "        c *= i\n",
    "\n",
    "print()       \n",
    "print(f\"Hasil = {c}\")\n",
    "print()\n",
    "\n",
    "##############################################\n",
    "\n",
    "a = 1\n",
    "b = 25\n",
    "\n",
    "i = a\n",
    "while i <= b:\n",
    "    if i**(1/2) == int(i**(1/2)):\n",
    "        print(i, end=\", \")\n",
    "    i += 1"
   ]
  },
  {
   "cell_type": "markdown",
   "id": "97e0db9c",
   "metadata": {},
   "source": [
    "### 9. İki int tipli a və b dəyişəni götürün. a və b aralığında bölənlərinin sayı 3 olan ədədləri çap edin. "
   ]
  },
  {
   "cell_type": "code",
   "execution_count": 37,
   "id": "885f0349",
   "metadata": {},
   "outputs": [
    {
     "name": "stdout",
     "output_type": "stream",
     "text": [
      "4, 9, 25, 49, "
     ]
    }
   ],
   "source": [
    "a = 1\n",
    "b = 100\n",
    "\n",
    "for i in range(a, b+1):\n",
    "    c = 0\n",
    "    for j in range(1, i+1):\n",
    "        if not i % j:\n",
    "            c += 1\n",
    "    if c == 3:\n",
    "        print(i, end=\", \")"
   ]
  },
  {
   "cell_type": "code",
   "execution_count": 40,
   "id": "bfff5dde",
   "metadata": {},
   "outputs": [
    {
     "name": "stdout",
     "output_type": "stream",
     "text": [
      "4, 9, 25, 49, "
     ]
    }
   ],
   "source": [
    "##############################################\n",
    "\n",
    "a = 1\n",
    "b = 100\n",
    "\n",
    "i = a\n",
    "while i <= b:\n",
    "    c = 0\n",
    "    j = 1\n",
    "    while j < i+1:\n",
    "        if not i % j:\n",
    "            c += 1\n",
    "        j += 1    \n",
    "    if c == 3:\n",
    "        print(i, end=\", \")         \n",
    "    i += 1"
   ]
  },
  {
   "cell_type": "markdown",
   "id": "9a802baf",
   "metadata": {},
   "source": [
    "### 10. Dövr operatorlarından istifadə edərək aşağıdakı vurma cədvəlini çapa verin:"
   ]
  },
  {
   "cell_type": "code",
   "execution_count": 41,
   "id": "4bc6ad2e",
   "metadata": {},
   "outputs": [],
   "source": [
    "# 5 * 1 = 5\n",
    "# 5 * 2 = 10\n",
    "# 5 * 3 = 15\n",
    "# 5 * 4 = 20\n",
    "# 5 * 5 = 25\n",
    "# .....\n",
    "# 5 * 10 = 50"
   ]
  },
  {
   "cell_type": "code",
   "execution_count": 43,
   "id": "0f8192e7",
   "metadata": {},
   "outputs": [
    {
     "name": "stdout",
     "output_type": "stream",
     "text": [
      "5 * 1 = 5\n",
      "5 * 2 = 10\n",
      "5 * 3 = 15\n",
      "5 * 4 = 20\n",
      "5 * 5 = 25\n",
      "5 * 6 = 30\n",
      "5 * 7 = 35\n",
      "5 * 8 = 40\n",
      "5 * 9 = 45\n",
      "5 * 10 = 50\n"
     ]
    }
   ],
   "source": [
    "\n",
    "for i in range(1, 11):\n",
    "    x = 5*i\n",
    "    print(f\"{5} * {i} = {x}\")"
   ]
  },
  {
   "cell_type": "code",
   "execution_count": 46,
   "id": "50069f39",
   "metadata": {},
   "outputs": [
    {
     "name": "stdout",
     "output_type": "stream",
     "text": [
      "5 * 1 = 5\n",
      "5 * 2 = 10\n",
      "5 * 3 = 15\n",
      "5 * 4 = 20\n",
      "5 * 5 = 25\n",
      "5 * 6 = 30\n",
      "5 * 7 = 35\n",
      "5 * 8 = 40\n",
      "5 * 9 = 45\n",
      "5 * 10 = 50\n"
     ]
    }
   ],
   "source": [
    "#######################################\n",
    "\n",
    "i = 1\n",
    "while i <= 10:\n",
    "    x = 5 * i\n",
    "    print(\"{} * {} = {}\".format(5, i, x))\n",
    "    i += 1"
   ]
  },
  {
   "cell_type": "markdown",
   "id": "23b987d5",
   "metadata": {},
   "source": [
    "### 11. İki int tipli a və b dəyişəni götürün. Onların aranjemanını hesablayıb çap edin. (Aranjeman bu düsturla hesablanır: A(a,b) = a!/(a-b)!)"
   ]
  },
  {
   "cell_type": "code",
   "execution_count": 62,
   "id": "180cf6e1",
   "metadata": {},
   "outputs": [
    {
     "name": "stdout",
     "output_type": "stream",
     "text": [
      "120\n",
      "6\n",
      "20.0\n"
     ]
    }
   ],
   "source": [
    "a = 5\n",
    "b = 2\n",
    "c = 1\n",
    "d = 1\n",
    "\n",
    "# a!\n",
    "for i in range(2, a+1):\n",
    "    c *= i\n",
    "\n",
    "print(c)    \n",
    "\n",
    "# (a-b)!\n",
    "for j in range(2, a-b+1):\n",
    "    d *= j\n",
    "    \n",
    "print(d)    \n",
    "\n",
    "# a!/(a-b)!    \n",
    "print(c/d)"
   ]
  },
  {
   "cell_type": "code",
   "execution_count": 63,
   "id": "e45eba8e",
   "metadata": {},
   "outputs": [
    {
     "name": "stdout",
     "output_type": "stream",
     "text": [
      "20\n"
     ]
    }
   ],
   "source": [
    "###############################################\n",
    "\n",
    "a = 5\n",
    "b = 2\n",
    "c = 1\n",
    "\n",
    "for i in range(a-b+1, a+1):\n",
    "    c *= i\n",
    "print(c)"
   ]
  },
  {
   "cell_type": "code",
   "execution_count": 65,
   "id": "1e14823e",
   "metadata": {},
   "outputs": [
    {
     "name": "stdout",
     "output_type": "stream",
     "text": [
      "20.0\n"
     ]
    }
   ],
   "source": [
    "################################################\n",
    "\n",
    "a = 5\n",
    "b = 2\n",
    "c = 1\n",
    "d = 1\n",
    "\n",
    "i = 1\n",
    "while i <= a:\n",
    "    c *= i\n",
    "    i += 1\n",
    "    \n",
    "j = 1\n",
    "while j <= a - b:\n",
    "    d *= j\n",
    "    j += 1\n",
    "    \n",
    "print(c/d)"
   ]
  },
  {
   "cell_type": "markdown",
   "id": "97d182a1",
   "metadata": {},
   "source": [
    "### 12. Bir list dəyişəni götürün. Bu listin ən böyük elementi ilə ən kiçik elementini çap edin."
   ]
  },
  {
   "cell_type": "code",
   "execution_count": 85,
   "id": "9bddd0b0",
   "metadata": {},
   "outputs": [
    {
     "name": "stdout",
     "output_type": "stream",
     "text": [
      "-3 en kicik elementdir, 6 en boyuk elementdir\n"
     ]
    }
   ],
   "source": [
    "list1 = [4, 2, -3, 4, 5, 6]\n",
    "\n",
    "list1.sort()\n",
    "print(f\"{list1[0]} en kicik elementdir\", end=\", \")\n",
    "print(\"%d en boyuk elementdir\" % (list1[-1]))"
   ]
  },
  {
   "cell_type": "code",
   "execution_count": 86,
   "id": "c0260985",
   "metadata": {},
   "outputs": [
    {
     "name": "stdout",
     "output_type": "stream",
     "text": [
      "6\n",
      "-3\n"
     ]
    }
   ],
   "source": [
    "print(max(list1))\n",
    "print(min(list1))"
   ]
  },
  {
   "cell_type": "code",
   "execution_count": 87,
   "id": "0a96acc6",
   "metadata": {},
   "outputs": [
    {
     "name": "stdout",
     "output_type": "stream",
     "text": [
      "6\n",
      "-3\n"
     ]
    }
   ],
   "source": [
    "list1 = [4, 2, -3, 4, 5, 6]\n",
    "\n",
    "max_ =  list1[0]\n",
    "min_ = list1[0]\n",
    "\n",
    "for i in range(1, len(list1)):\n",
    "    if list1[i] > max_:\n",
    "        max_ =  list1[i]\n",
    "        \n",
    "    if list1[i] < min_:\n",
    "        min_ =  list1[i]    \n",
    "        \n",
    "print(max_)\n",
    "print(min_)"
   ]
  },
  {
   "cell_type": "code",
   "execution_count": 88,
   "id": "58e50ba2",
   "metadata": {},
   "outputs": [
    {
     "name": "stdout",
     "output_type": "stream",
     "text": [
      "6\n",
      "-3\n"
     ]
    }
   ],
   "source": [
    "#########################################\n",
    "\n",
    "list1 = [4, 2, -3, 4, 5, 6]\n",
    "\n",
    "max_ =  list1[0]\n",
    "min_ = list1[0]\n",
    "\n",
    "i = 0\n",
    "while i < len(list1):\n",
    "    if list1[i] > max_:\n",
    "        max_ =  list1[i]\n",
    "        \n",
    "    if list1[i] < min_:\n",
    "        min_ =  list1[i]\n",
    "        \n",
    "    i += 1    \n",
    "\n",
    "print(max_)\n",
    "print(min_)"
   ]
  },
  {
   "cell_type": "code",
   "execution_count": null,
   "id": "1cd2bbe9",
   "metadata": {},
   "outputs": [],
   "source": []
  }
 ],
 "metadata": {
  "kernelspec": {
   "display_name": "Python 3 (ipykernel)",
   "language": "python",
   "name": "python3"
  },
  "language_info": {
   "codemirror_mode": {
    "name": "ipython",
    "version": 3
   },
   "file_extension": ".py",
   "mimetype": "text/x-python",
   "name": "python",
   "nbconvert_exporter": "python",
   "pygments_lexer": "ipython3",
   "version": "3.11.5"
  }
 },
 "nbformat": 4,
 "nbformat_minor": 5
}
