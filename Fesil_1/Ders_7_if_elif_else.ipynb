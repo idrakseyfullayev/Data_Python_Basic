{
 "cells": [
  {
   "cell_type": "markdown",
   "id": "99321158",
   "metadata": {},
   "source": [
    "## Şərt operatorları"
   ]
  },
  {
   "cell_type": "markdown",
   "id": "1fb37984",
   "metadata": {},
   "source": [
    "## if"
   ]
  },
  {
   "cell_type": "markdown",
   "id": "8de7b9da",
   "metadata": {},
   "source": [
    "\n",
    "* `if` → qabağında müqayisə operatorlu ifadə və ya dəyişən olmalıdır. `if` ödənirsə, digər şərtlərə baxılmır!!!\n",
    "  → Kombinasiyada bir ədəd `if` ola bilər. Amma `if`-in daxilində `if` ola bilər. Təzə sıradakı `if` yeni kombinasiyadır."
   ]
  },
  {
   "cell_type": "code",
   "execution_count": 6,
   "id": "bbcd0950",
   "metadata": {},
   "outputs": [
    {
     "data": {
      "text/plain": [
       "True"
      ]
     },
     "execution_count": 6,
     "metadata": {},
     "output_type": "execute_result"
    }
   ],
   "source": [
    "a = 5\n",
    "\n",
    "a == 5"
   ]
  },
  {
   "cell_type": "code",
   "execution_count": 8,
   "id": "88c1b74e",
   "metadata": {},
   "outputs": [
    {
     "name": "stdout",
     "output_type": "stream",
     "text": [
      "a 5-ə bərabərdir\n"
     ]
    }
   ],
   "source": [
    "a = 5\n",
    "\n",
    "if a == 5:\n",
    "    print(\"a 5-ə bərabərdir\")"
   ]
  },
  {
   "cell_type": "code",
   "execution_count": 10,
   "id": "16259a9c",
   "metadata": {},
   "outputs": [],
   "source": [
    "a = 5\n",
    "\n",
    "if a > 5:\n",
    "    print(\"a 5-den boyukdur\") "
   ]
  },
  {
   "cell_type": "code",
   "execution_count": 12,
   "id": "b8ebd76f",
   "metadata": {},
   "outputs": [
    {
     "name": "stdout",
     "output_type": "stream",
     "text": [
      "a 5-den kiciçkdir\n"
     ]
    }
   ],
   "source": [
    "a = 4\n",
    "\n",
    "if a < 5:\n",
    "    print(\"a 5-den kiciçkdir\")"
   ]
  },
  {
   "cell_type": "code",
   "execution_count": 14,
   "id": "ef868fa0",
   "metadata": {},
   "outputs": [
    {
     "name": "stdout",
     "output_type": "stream",
     "text": [
      "ok\n"
     ]
    }
   ],
   "source": [
    "a = 4\n",
    "\n",
    "if a != 5:\n",
    "    print(\"ok\") "
   ]
  },
  {
   "cell_type": "code",
   "execution_count": 16,
   "id": "d9682354",
   "metadata": {},
   "outputs": [
    {
     "name": "stdout",
     "output_type": "stream",
     "text": [
      "ok\n",
      "ok\n"
     ]
    }
   ],
   "source": [
    "a = 4\n",
    "\n",
    "if a != 5:\n",
    "    print(\"ok\")\n",
    "    \n",
    "if a > 3:\n",
    "    print(\"ok\")"
   ]
  },
  {
   "cell_type": "code",
   "execution_count": 20,
   "id": "a33fcfe4",
   "metadata": {},
   "outputs": [
    {
     "name": "stdout",
     "output_type": "stream",
     "text": [
      "ok\n",
      "Yes\n",
      "ok\n"
     ]
    }
   ],
   "source": [
    "a = 4\n",
    "\n",
    "if a != 5:\n",
    "    print(\"ok\")\n",
    "    if a!= 3:\n",
    "        print(\"Yes\")\n",
    "    \n",
    "a = 3    \n",
    "    \n",
    "if a == 3:\n",
    "    print(\"ok\")"
   ]
  },
  {
   "cell_type": "markdown",
   "id": "6b9d1e3f",
   "metadata": {},
   "source": [
    "## else  "
   ]
  },
  {
   "cell_type": "markdown",
   "id": "90ba1930",
   "metadata": {},
   "source": [
    "* `else` → qabağında heç bir ifadə olmur. Digər şərtlərin heç biri ödənmirsə, `else` ödənir!!!!\n",
    "  → Kombinasiyada bir ədəd `else` ola bilər. Amma `if` və ya `elif`-in daxilində `if` və ya `elif`-in özünün `else`-si ola bilər!"
   ]
  },
  {
   "cell_type": "code",
   "execution_count": 24,
   "id": "869cdf68",
   "metadata": {},
   "outputs": [
    {
     "name": "stdout",
     "output_type": "stream",
     "text": [
      "a 4 Bərabərdir\n"
     ]
    }
   ],
   "source": [
    "a = 4\n",
    "\n",
    "if a > 5:\n",
    "    print(\"a 5-den boyukdur\")\n",
    "    a == 4\n",
    "else:\n",
    "    print(\"a 4 Bərabərdir\")  "
   ]
  },
  {
   "cell_type": "code",
   "execution_count": 26,
   "id": "eedd0f60",
   "metadata": {
    "scrolled": true
   },
   "outputs": [
    {
     "name": "stdout",
     "output_type": "stream",
     "text": [
      "ok\n",
      "a 4 Bərabərdir\n"
     ]
    }
   ],
   "source": [
    "a = 4\n",
    "if a != 5:\n",
    "    print(\"ok\")\n",
    "    if a!= 4:\n",
    "        print(\"Yes\")\n",
    "    else:\n",
    "        print(\"a 4 Bərabərdir\")\n",
    "else:\n",
    "    print(\"Baku\")"
   ]
  },
  {
   "cell_type": "markdown",
   "id": "5ec077e5",
   "metadata": {},
   "source": [
    "### elif"
   ]
  },
  {
   "cell_type": "markdown",
   "id": "8d797d7c",
   "metadata": {},
   "source": [
    "* `elif` → qabağında müqayisə operatorlu ifadə və ya dəyişən olmalıdır. `elif` ödənirsə, digər şərtlərə baxılmır!!!\n",
    "  → Kombinasiyada istənilən sayda `elif` ola bilər."
   ]
  },
  {
   "cell_type": "code",
   "execution_count": 28,
   "id": "a6a8f0f6",
   "metadata": {},
   "outputs": [
    {
     "name": "stdout",
     "output_type": "stream",
     "text": [
      "10 dan kiçik\n"
     ]
    }
   ],
   "source": [
    "a = 4\n",
    "if a == 5:\n",
    "    print(\"ok\")\n",
    "elif a < 10:\n",
    "    print(\"10 dan kiçik\")\n",
    "else:\n",
    "    print(\"Baku\")"
   ]
  },
  {
   "cell_type": "code",
   "execution_count": 32,
   "id": "bd8d6b97",
   "metadata": {},
   "outputs": [
    {
     "name": "stdout",
     "output_type": "stream",
     "text": [
      "Baku\n"
     ]
    }
   ],
   "source": [
    "a = 4\n",
    "\n",
    "if a == 5:\n",
    "    print(\"ok\")\n",
    "elif a == 10:\n",
    "    print(\"10 dan kiçik\")\n",
    "elif a > 10:\n",
    "    print(\"10 dan kiçik\")\n",
    "elif a - 4:\n",
    "    print(\"Netice '0'-dır\")\n",
    "else:\n",
    "    print(\"Baku\")"
   ]
  },
  {
   "cell_type": "markdown",
   "id": "25609ca8",
   "metadata": {},
   "source": [
    "### if , elif, else  riyazi əməliyyatlar"
   ]
  },
  {
   "cell_type": "code",
   "execution_count": 41,
   "id": "4c602e68",
   "metadata": {},
   "outputs": [
    {
     "name": "stdout",
     "output_type": "stream",
     "text": [
      "610\n"
     ]
    }
   ],
   "source": [
    "a = 10\n",
    "b = 100\n",
    "c = 500\n",
    "\n",
    "\n",
    "if a - b > 0:\n",
    "    print(a-b)\n",
    "elif a - c > 0:\n",
    "    print(a-c)\n",
    "elif b - a > 0:\n",
    "    print(a + b + c)\n",
    "else:\n",
    "    print(a**2 + a/b + b % a)"
   ]
  },
  {
   "cell_type": "code",
   "execution_count": null,
   "id": "c07db98e",
   "metadata": {},
   "outputs": [],
   "source": []
  },
  {
   "cell_type": "markdown",
   "id": "3f558ecd",
   "metadata": {},
   "source": [
    "## Məntiq operatorları"
   ]
  },
  {
   "cell_type": "markdown",
   "id": "06b27f47",
   "metadata": {},
   "source": [
    "\n",
    "* `and` → Hər hansı bir tərəf ödənmirsə, ifadə `False` olur.\n",
    "  → `True and False` → `False`\n",
    "\n",
    "* `or` → Hər hansı bir tərəf ödənirsə, ifadə `True` olur.\n",
    "  → `True or False` → `True`\n",
    "\n",
    "* `not` → `True`-nu `False`-a, `False`-i `True`-ya çevirir.\n",
    "  → `not True` → `False`\n"
   ]
  },
  {
   "cell_type": "code",
   "execution_count": 49,
   "id": "47134743",
   "metadata": {},
   "outputs": [
    {
     "name": "stdout",
     "output_type": "stream",
     "text": [
      "a 5-den boyukdur\n"
     ]
    }
   ],
   "source": [
    "a = 9\n",
    "\n",
    "b = 100\n",
    "\n",
    "if a > 6 and b > 12:\n",
    "    print(\"a 5-den boyukdur\")\n",
    "    a = 1"
   ]
  },
  {
   "cell_type": "code",
   "execution_count": 50,
   "id": "aa9f056b",
   "metadata": {},
   "outputs": [
    {
     "data": {
      "text/plain": [
       "1"
      ]
     },
     "execution_count": 50,
     "metadata": {},
     "output_type": "execute_result"
    }
   ],
   "source": [
    "a"
   ]
  },
  {
   "cell_type": "code",
   "execution_count": 51,
   "id": "4fe20bd4",
   "metadata": {},
   "outputs": [
    {
     "name": "stdout",
     "output_type": "stream",
     "text": [
      " a = 5\n"
     ]
    }
   ],
   "source": [
    "a = 5\n",
    "\n",
    "b = 15\n",
    "\n",
    "if a < 5 and b > 15:\n",
    "    print(\"a 5-den kicikdir\")\n",
    "    a = 6 \n",
    "elif a == 5 and b < 17:\n",
    "    print(\" a = 5\")\n",
    "else:\n",
    "    print( \"beraberlik yoxdur\")"
   ]
  },
  {
   "cell_type": "code",
   "execution_count": 67,
   "id": "c990ab7f",
   "metadata": {},
   "outputs": [
    {
     "name": "stdout",
     "output_type": "stream",
     "text": [
      "a 5-den kicikdir\n"
     ]
    }
   ],
   "source": [
    "a = 5\n",
    "\n",
    "b = 16\n",
    "\n",
    "if a < 5 or b > 15:\n",
    "    print(\"a 5-den kicikdir\")\n",
    "    a = 6 \n",
    "elif a == 5 and b < 17:\n",
    "    print(\" a = 5\")\n",
    "else:\n",
    "    print( \"beraberlik yoxdur\")"
   ]
  },
  {
   "cell_type": "code",
   "execution_count": 70,
   "id": "0170ef96",
   "metadata": {},
   "outputs": [
    {
     "name": "stdout",
     "output_type": "stream",
     "text": [
      "21\n"
     ]
    }
   ],
   "source": [
    "a = 5\n",
    "\n",
    "b = 16\n",
    "\n",
    "if a < 5 or b > 16 or a + b > 20:\n",
    "    result = a + b\n",
    "    \n",
    "print(result)    "
   ]
  },
  {
   "cell_type": "code",
   "execution_count": 75,
   "id": "8d5f6d65",
   "metadata": {},
   "outputs": [
    {
     "name": "stdout",
     "output_type": "stream",
     "text": [
      "ok\n"
     ]
    }
   ],
   "source": [
    "a = 0\n",
    "\n",
    "b = 15\n",
    "\n",
    "if not b == 20:\n",
    "    print('ok')"
   ]
  },
  {
   "cell_type": "code",
   "execution_count": 76,
   "id": "13fb07b9",
   "metadata": {},
   "outputs": [
    {
     "data": {
      "text/plain": [
       "False"
      ]
     },
     "execution_count": 76,
     "metadata": {},
     "output_type": "execute_result"
    }
   ],
   "source": [
    "a = 0\n",
    "a == 20"
   ]
  },
  {
   "cell_type": "code",
   "execution_count": 78,
   "id": "a05a77f2",
   "metadata": {},
   "outputs": [
    {
     "data": {
      "text/plain": [
       "True"
      ]
     },
     "execution_count": 78,
     "metadata": {},
     "output_type": "execute_result"
    }
   ],
   "source": [
    "a=0\n",
    "not a == 20"
   ]
  },
  {
   "cell_type": "code",
   "execution_count": 79,
   "id": "3a19f405",
   "metadata": {},
   "outputs": [],
   "source": [
    "a = 0\n",
    "\n",
    "b = 15\n",
    "\n",
    "if not (not a > b or b ==15):\n",
    "    pass   \n"
   ]
  },
  {
   "cell_type": "code",
   "execution_count": 81,
   "id": "3a80d092",
   "metadata": {},
   "outputs": [],
   "source": [
    "a = -1\n",
    "\n",
    "if a > 4:\n",
    "    if a < 2:     \n",
    "        print(8)"
   ]
  },
  {
   "cell_type": "code",
   "execution_count": 82,
   "id": "10b2499e",
   "metadata": {},
   "outputs": [
    {
     "name": "stdout",
     "output_type": "stream",
     "text": [
      "8\n"
     ]
    }
   ],
   "source": [
    "a = -1\n",
    "\n",
    "if a < 4:\n",
    "    if a > - 2:     \n",
    "        print(8)"
   ]
  },
  {
   "cell_type": "code",
   "execution_count": 52,
   "id": "629692f7",
   "metadata": {},
   "outputs": [
    {
     "name": "stdout",
     "output_type": "stream",
     "text": [
      "1\n"
     ]
    }
   ],
   "source": [
    "a = 1\n",
    "\n",
    "if a:\n",
    "    print(a)"
   ]
  },
  {
   "cell_type": "code",
   "execution_count": 54,
   "id": "0e946a96",
   "metadata": {},
   "outputs": [],
   "source": [
    "a = 0\n",
    "\n",
    "if a:\n",
    "    print(a)"
   ]
  },
  {
   "cell_type": "code",
   "execution_count": 55,
   "id": "2ba1ca56",
   "metadata": {},
   "outputs": [
    {
     "name": "stdout",
     "output_type": "stream",
     "text": [
      "0\n"
     ]
    }
   ],
   "source": [
    "a = 0\n",
    "\n",
    "if a == 0:\n",
    "    print(a)"
   ]
  },
  {
   "cell_type": "code",
   "execution_count": 65,
   "id": "ca0663f4",
   "metadata": {},
   "outputs": [
    {
     "name": "stdout",
     "output_type": "stream",
     "text": [
      "15\n"
     ]
    }
   ],
   "source": [
    "b = 15\n",
    "\n",
    "\n",
    "if print(b):\n",
    "    print('ok')"
   ]
  },
  {
   "cell_type": "code",
   "execution_count": null,
   "id": "15149e68",
   "metadata": {},
   "outputs": [],
   "source": []
  },
  {
   "cell_type": "markdown",
   "id": "8264bff2",
   "metadata": {},
   "source": [
    "## Dərs 7. Sert operatorlari. Ev tapşırıqları."
   ]
  },
  {
   "cell_type": "markdown",
   "id": "195c611c",
   "metadata": {},
   "source": [
    "### 9. int tipli a, b, c dəyişəni götürün. İf elif else operatorlarından istifadə edərək bunlardan ən kiçiyini k dəyişəninə yazaraq çapa verin."
   ]
  },
  {
   "cell_type": "code",
   "execution_count": 84,
   "id": "a3053737",
   "metadata": {},
   "outputs": [
    {
     "name": "stdout",
     "output_type": "stream",
     "text": [
      "-78\n"
     ]
    }
   ],
   "source": [
    "a = -42\n",
    "b = -78\n",
    "c = 65\n",
    "\n",
    "if a < b and a < c:\n",
    "    k = a\n",
    "elif b < c and b < a:\n",
    "    k = b \n",
    "else:\n",
    "    k = c\n",
    "    \n",
    "print(k)"
   ]
  },
  {
   "cell_type": "code",
   "execution_count": 85,
   "id": "a7ab33af",
   "metadata": {},
   "outputs": [
    {
     "data": {
      "text/plain": [
       "-78"
      ]
     },
     "execution_count": 85,
     "metadata": {},
     "output_type": "execute_result"
    }
   ],
   "source": [
    "min(a, b, c)"
   ]
  },
  {
   "cell_type": "markdown",
   "id": "f58a5f11",
   "metadata": {},
   "source": [
    "### 10. int tipli a və b dəyişəni götürün. Əgər a b-dən böyükdürsə, a+b, a b-dən kiçikdirsə, a-b, a b-yə bərabərdirsə, a-nı çapa verin. "
   ]
  },
  {
   "cell_type": "code",
   "execution_count": 86,
   "id": "227b2704",
   "metadata": {},
   "outputs": [
    {
     "name": "stdout",
     "output_type": "stream",
     "text": [
      "-1001\n"
     ]
    }
   ],
   "source": [
    "a = 1001\n",
    "b = 2002\n",
    "\n",
    "if a > b:\n",
    "    print(a+b)\n",
    "elif a < b:\n",
    "    print(a-b)\n",
    "else:\n",
    "    print(a)  "
   ]
  },
  {
   "cell_type": "markdown",
   "id": "d57c67d9",
   "metadata": {},
   "source": [
    "### 01. string daxil olunsun ,  stringin ilk simvolu a -dirsa a silinsin   esk halda ilk simvol stringin sonuna elave olunsun."
   ]
  },
  {
   "cell_type": "code",
   "execution_count": 90,
   "id": "86e7453f",
   "metadata": {},
   "outputs": [
    {
     "name": "stdout",
     "output_type": "stream",
     "text": [
      "softs\n"
     ]
    }
   ],
   "source": [
    "\n",
    "a1= 'soft'\n",
    "\n",
    "if a1[0] == \"a\":\n",
    "    a1 = a1[1:]\n",
    "else:\n",
    "    a1 = a1 + a1[0]\n",
    "\n",
    "print(a1)\n"
   ]
  },
  {
   "cell_type": "markdown",
   "id": "b34c97d6",
   "metadata": {},
   "source": [
    "### 02. iki str daxil olunsun    yoxlayiram ki ikinci str birinci str-in ilk sozudrse, onda birinci str-den ikinci  str-i sil, eks halda str ozu cap olunsun birinci str yani"
   ]
  },
  {
   "cell_type": "code",
   "execution_count": 1,
   "id": "c49fe9c8",
   "metadata": {},
   "outputs": [
    {
     "name": "stdout",
     "output_type": "stream",
     "text": [
      "Salam\n"
     ]
    }
   ],
   "source": [
    "a = \"Salam\"\n",
    "b = \"Salam Baku\"\n",
    "\n",
    "if a[:len(b)] == b:\n",
    "    a = a[len(b):]\n",
    "\n",
    "print(a)\n"
   ]
  },
  {
   "cell_type": "code",
   "execution_count": 3,
   "id": "cb1b3bd1",
   "metadata": {},
   "outputs": [
    {
     "data": {
      "text/plain": [
       "True"
      ]
     },
     "execution_count": 3,
     "metadata": {},
     "output_type": "execute_result"
    }
   ],
   "source": [
    "b.startswith(a)"
   ]
  },
  {
   "cell_type": "markdown",
   "id": "1e3749db",
   "metadata": {},
   "source": [
    "### 03. list olsun    listin elementlerinin sayi   listin birinci elementine bereberdirse onda listin elentlerimin sayi ile onun birinci elementinin cemi cap olunsn   eks halda onlarin ferqini cap etsin"
   ]
  },
  {
   "cell_type": "code",
   "execution_count": 4,
   "id": "720c6613",
   "metadata": {},
   "outputs": [
    {
     "name": "stdout",
     "output_type": "stream",
     "text": [
      "1\n"
     ]
    }
   ],
   "source": [
    "list1 = [2, 1, 0,]\n",
    "\n",
    "if list1[0] == len(list1):\n",
    "    print(len(list1) + list1[0])\n",
    "else:\n",
    "    print(len(list1) - list1[0])    \n"
   ]
  },
  {
   "cell_type": "markdown",
   "id": "b2828da6",
   "metadata": {},
   "source": [
    "### 04. bir eded str daxil olunsun    eger str de bosluq simvolu varsa bu bosluqa gore parcalansin eks halda, bu str tersine capa versin"
   ]
  },
  {
   "cell_type": "code",
   "execution_count": 6,
   "id": "6c16fb08",
   "metadata": {},
   "outputs": [
    {
     "name": "stdout",
     "output_type": "stream",
     "text": [
      "['Azerbaijan', 'is', 'our', 'Republic']\n"
     ]
    }
   ],
   "source": [
    "\n",
    "a = \"Azerbaijan is our Republic\"\n",
    "\n",
    "if ' ' in a:\n",
    "    b = a.split()\n",
    "else:\n",
    "    b = a[::-1]    \n",
    "\n",
    "print(b)\n"
   ]
  },
  {
   "cell_type": "markdown",
   "id": "2ece4d3f",
   "metadata": {},
   "source": [
    "## Dərs 7. Şərt operatorları(if/elif/else). Ev tapşırıqları "
   ]
  },
  {
   "cell_type": "markdown",
   "id": "13b8ff17",
   "metadata": {},
   "source": [
    "### 1. İki str tipli dəyişən götürün. Əgər birinci dəyişənin ilk elementi ikinci dəyişənin ilk elementinə bərabərdirsə, onları “*” simvolu ilə əvəzləyin, əks halda birinci dəyişənin ilk elementini ikinci dəyişənin ilk elementi ilə əvəzləyin."
   ]
  },
  {
   "cell_type": "code",
   "execution_count": 28,
   "id": "36139805",
   "metadata": {
    "scrolled": true
   },
   "outputs": [
    {
     "name": "stdout",
     "output_type": "stream",
     "text": [
      "*on Ki Xot\n",
      "*onna Rumma\n"
     ]
    }
   ],
   "source": [
    "a = \"Don Ki Xot\"\n",
    "b = \"Donna Rumma\"\n",
    "\n",
    "if a[0] == b[0]:\n",
    "    a = a.replace(a[0], \"*\")\n",
    "    b = b.replace(b[0], \"*\")\n",
    "    print(a)\n",
    "    print(b)\n",
    "else:\n",
    "    a = b[0] + a[1:]\n",
    "    print(a)\n",
    "    a = a.replace(a[0], b[0] )   # alma yazanda her iki a herfi b1[0] ile evez olundu??????\n",
    "    print(a)"
   ]
  },
  {
   "cell_type": "markdown",
   "id": "630fb3f2",
   "metadata": {},
   "source": [
    "### 2. Bir str tipli dəyişən götürün. Əgər bu dəyişəndə boşluqlar varsa, onu başlıq(title) formasında çap edin, əks halda onun uzunluğunu çap edin. "
   ]
  },
  {
   "cell_type": "code",
   "execution_count": 1,
   "id": "4e1d1a63",
   "metadata": {},
   "outputs": [
    {
     "name": "stdout",
     "output_type": "stream",
     "text": [
      "Bmv Company\n"
     ]
    }
   ],
   "source": [
    "a = \"BMV Company\"\n",
    "\n",
    "if \" \" in a:\n",
    "    print(a.title())\n",
    "else:\n",
    "    print(len(a))  "
   ]
  },
  {
   "cell_type": "markdown",
   "id": "c878cfd2",
   "metadata": {},
   "source": [
    "### 3. Bir str tipli dəyişən götürün. Əgər bu dəyişən böyük hərflə başlayıb, böyük hərflə bitirsə, onun bütün simvollarını böyük hərflə çap edin, əgər böyük hərflə başlayıb kiçik hərflə bitirsə, bütün simvolları swapcase formada çap edin, əgər kiçik hərflə başlayıb böyük hərflə bitirsə, olduğu kimi çap edin, əks halda bütün simvolları kiçik hərflə çap edin."
   ]
  },
  {
   "cell_type": "code",
   "execution_count": 4,
   "id": "d84e6641",
   "metadata": {},
   "outputs": [
    {
     "name": "stdout",
     "output_type": "stream",
     "text": [
      "NISSAN\n"
     ]
    }
   ],
   "source": [
    "a = \"NissaN\"\n",
    "\n",
    "if a.startswith(a[0].capitalize()) and a.endswith(a[-1].capitalize()):\n",
    "    print(a.upper()) \n",
    "elif a.startswith(a[0].capitalize()) and a.endswith(a[-1].casefold()):\n",
    "    print(a.swapcase())\n",
    "elif a.startswith(a[0].casefold()) and a.endswith(a[-1].capitalize()):\n",
    "    print(a)\n",
    "else:\n",
    "    print(a.casefold()) "
   ]
  },
  {
   "cell_type": "code",
   "execution_count": 5,
   "id": "9359ce4b",
   "metadata": {},
   "outputs": [
    {
     "name": "stdout",
     "output_type": "stream",
     "text": [
      "NISSAN\n"
     ]
    }
   ],
   "source": [
    "# Basqa metodla hell #\n",
    "\n",
    "uppers = \"ABCDEFGHIJKLMNOPQRSTUVWXYZ\"\n",
    "lowers = \"abcdefghijklmnopqrstuvwxyz\"\n",
    "\n",
    "if a[0] in uppers and a[-1] in uppers:\n",
    "    print(a.upper()) \n",
    "elif a[0] in uppers and a[-1] in lowers:\n",
    "    print(a.swapcase())\n",
    "elif a[0] in lowers and a[-1] in uppers:\n",
    "    print(a)\n",
    "else:\n",
    "    print(a.casefold())   "
   ]
  },
  {
   "cell_type": "markdown",
   "id": "38056285",
   "metadata": {},
   "source": [
    "### 4. Bir list dəyişəni götürün. Əgər bu listdə 5 element varsa, listə yeni 3 element, 6 element varsa 2 element, 7 element varsa 1 element əlavə edin. Elementlərin sayı 8- dən çoxdursa, 1 element silin.  "
   ]
  },
  {
   "cell_type": "code",
   "execution_count": 6,
   "id": "fa9edabf",
   "metadata": {},
   "outputs": [
    {
     "name": "stdout",
     "output_type": "stream",
     "text": [
      "[1000, 6, 78, 1089, 90, 'ups', 12, 90]\n"
     ]
    }
   ],
   "source": [
    "list1 = [1000, 6, 56, 78, 1089, 90, \"ups\", 12, 90]\n",
    "\n",
    "if len(list1) == 5:\n",
    "    list1.extend(\"543\")\n",
    "    print(list1)\n",
    "elif len(list1) == 6:\n",
    "    list1.append(78)\n",
    "    list1.append(101)\n",
    "    print(list1)\n",
    "elif len(list1) == 7:\n",
    "    list1.insert(2, 0)   \n",
    "    print(list1)\n",
    "elif len(list1) > 8:\n",
    "    list1.pop(2)\n",
    "    print(list1)  "
   ]
  },
  {
   "cell_type": "markdown",
   "id": "0f59724f",
   "metadata": {},
   "source": [
    "### 5. İki list dəyişəni götürün. Birinci listin ilk elementi, ikinci listin son elementinə bərabərdirsə, bu listləri tərs sıra ilə, böyükdürsə, birinci listi tərs, ikinci listi düz sıra ilə, əks halda, hər iki listi bu listləri düz sıra ilə nizamlayıb çap edin. "
   ]
  },
  {
   "cell_type": "code",
   "execution_count": 10,
   "id": "151435fd",
   "metadata": {},
   "outputs": [
    {
     "name": "stdout",
     "output_type": "stream",
     "text": [
      "[9, 7, 6, 4]\n",
      "[0, 3, 5, 8]\n"
     ]
    }
   ],
   "source": [
    "list1 = [9, 4, 6, 7]\n",
    "list2 = [0, 3, 5, 8]\n",
    "\n",
    "if list1[0] == list2[-1]:\n",
    "    list1.sort(reverse=True)\n",
    "    list2.sort(reverse=True)\n",
    "#     print(list1)\n",
    "#     print(list2)\n",
    "elif list1[0] > list2[-1]:\n",
    "    list1.sort(reverse=True)\n",
    "    list2.sort()\n",
    "#     print(list1)\n",
    "#     print(list2)\n",
    "else:\n",
    "    list1.sort()\n",
    "    list2.sort()\n",
    "#     print(list1)\n",
    "#     print(list2)\n",
    "\n",
    "print(list1)\n",
    "print(list2)"
   ]
  },
  {
   "cell_type": "markdown",
   "id": "cd58cd6e",
   "metadata": {},
   "source": [
    "### 6. İki set dəyişəni götürün. Birinci setin elementlərinin sayı ikinci listin elementlərinin sayına bərabərdirsə  onların birləşməsini, böyükdürsə kəsişməsini, əks halda fərqini çap edin."
   ]
  },
  {
   "cell_type": "code",
   "execution_count": 13,
   "id": "6fab2e7b",
   "metadata": {},
   "outputs": [
    {
     "name": "stdout",
     "output_type": "stream",
     "text": [
      "{78, 23}\n"
     ]
    }
   ],
   "source": [
    "set1 = {3, 45, 89, 9, \"salam\", 78, 23}\n",
    "set2 = {'Kim Cen In', 23, 56, 78}\n",
    "\n",
    "if len(set1) == len(set2):\n",
    "    print(set1.union(set2))\n",
    "elif len(set1) > len(set2):\n",
    "    print(set1.intersection(set2))\n",
    "else:\n",
    "    print(set1.difference(set2))"
   ]
  },
  {
   "cell_type": "markdown",
   "id": "d29ef554",
   "metadata": {},
   "source": [
    "### 7. a, b, c, d int tipli dəyişənləri götürün. Əgər a b-yə və c d-yə tam bölünürsə, a+b+c+d cəmini çap edin, a b-yə tam bölünür, c d-yə tam bölünmürsə, a+b+c-d çap edin, a b- yə tam bölünmür, c d-yə tam bölünürsə, a-b+c+d çap edin, əks halda, bu dəyişənləri çap edin."
   ]
  },
  {
   "cell_type": "code",
   "execution_count": 15,
   "id": "f2c666a4",
   "metadata": {},
   "outputs": [
    {
     "name": "stdout",
     "output_type": "stream",
     "text": [
      "173\n",
      "173\n"
     ]
    }
   ],
   "source": [
    "a =100\n",
    "b = 50\n",
    "c = 25\n",
    "d = 2\n",
    "\n",
    "if a % b == 0 and c % d == 0:\n",
    "    print(a + b + c + d)\n",
    "elif a % b == 0 and c % d != 0:\n",
    "    print(a + b + c - d)\n",
    "elif a % b != 0 and c % d == 0:\n",
    "    print(a - b + c + d)\n",
    "else:\n",
    "    print(a)\n",
    "    print(b)\n",
    "    print(c)\n",
    "    print(d)        \n",
    "\n",
    "\n",
    "# a = 10     \n",
    "# b = 5\n",
    "\n",
    "# if not a:\n",
    "#     print(a)\n",
    "# if a % b:\n",
    "#     print(a+b)\n",
    "\n",
    "\n",
    "a =100\n",
    "b = 50\n",
    "c = 25\n",
    "d = 2\n",
    "\n",
    "if not a % b and not c % d:\n",
    "    print(a + b + c + d)\n",
    "elif not a % b and c % d:\n",
    "    print(a + b + c - d) \n",
    "elif a % b and not c % d:\n",
    "    print( a - b + c + d)\n",
    "else:\n",
    "    print(a , b, c, d)"
   ]
  },
  {
   "cell_type": "markdown",
   "id": "5453faea",
   "metadata": {},
   "source": [
    "### 8. İki str tipli dəyişən götürün. Əgər ikinci dəyişənin bütün simvolları birinci dəyişəndə varsa, bu dəyişənlərin birləşməsini, əks halda hər iki dəyişəni tərsinə birləşdirib çap edin."
   ]
  },
  {
   "cell_type": "code",
   "execution_count": 18,
   "id": "c0d2bb30",
   "metadata": {},
   "outputs": [
    {
     "name": "stdout",
     "output_type": "stream",
     "text": [
      "imoaiXdnarb imoaiX\n"
     ]
    }
   ],
   "source": [
    "a = \"Xiaomi\"\n",
    "b = \"Xiaomi brand\"\n",
    "\n",
    "if b in a:\n",
    "    print(a + b)\n",
    "else:\n",
    "    print(a[::-1] + b[::-1])"
   ]
  },
  {
   "cell_type": "markdown",
   "id": "e2b3f907",
   "metadata": {},
   "source": [
    "### 9. a, b, c int tipli dəyişənlərin ən böyüyünü çap edin."
   ]
  },
  {
   "cell_type": "code",
   "execution_count": 19,
   "id": "535be7e9",
   "metadata": {},
   "outputs": [
    {
     "name": "stdout",
     "output_type": "stream",
     "text": [
      "15\n"
     ]
    }
   ],
   "source": [
    "a = 10\n",
    "b = 15\n",
    "c = -2\n",
    "\n",
    "\n",
    "if a > b and a > c:\n",
    "    print(a)\n",
    "elif b > a and b > c:\n",
    "    print(b)\n",
    "else:\n",
    "    print(c)"
   ]
  },
  {
   "cell_type": "markdown",
   "id": "15842ba5",
   "metadata": {},
   "source": [
    "### 10. a, b, c parametrləri verilmiş kvadrat tənliyin ən böyük kökünü çap edin.  \n",
    "\n",
    "- **ax^2 + bx + c**"
   ]
  },
  {
   "cell_type": "code",
   "execution_count": 22,
   "id": "bc82051e",
   "metadata": {},
   "outputs": [
    {
     "name": "stdout",
     "output_type": "stream",
     "text": [
      "2\n",
      "8\n",
      "3\n",
      "-5.58113883008419\n"
     ]
    }
   ],
   "source": [
    "a = int(input())\n",
    "b = int(input())\n",
    "c = int(input())\n",
    "\n",
    "D = b**2 - 4*a*c\n",
    "\n",
    "if D > 0:\n",
    "    x1 = (-b*22 + D**0.5) / (2*a)\n",
    "    x2 = (-b*2 - D**0.5) / (2*a)\n",
    "    if x1 > x2:\n",
    "        print(x1)\n",
    "    else:\n",
    "        print(x2)\n",
    "elif D == 0:\n",
    "    x = -b/(2*a)\n",
    "    print(x)\n",
    "else:\n",
    "    print(\"tenliyin heqiqi koku yoxdur\")    "
   ]
  },
  {
   "cell_type": "code",
   "execution_count": null,
   "id": "f7d58607",
   "metadata": {},
   "outputs": [],
   "source": []
  }
 ],
 "metadata": {
  "kernelspec": {
   "display_name": "Python 3 (ipykernel)",
   "language": "python",
   "name": "python3"
  },
  "language_info": {
   "codemirror_mode": {
    "name": "ipython",
    "version": 3
   },
   "file_extension": ".py",
   "mimetype": "text/x-python",
   "name": "python",
   "nbconvert_exporter": "python",
   "pygments_lexer": "ipython3",
   "version": "3.11.5"
  }
 },
 "nbformat": 4,
 "nbformat_minor": 5
}
