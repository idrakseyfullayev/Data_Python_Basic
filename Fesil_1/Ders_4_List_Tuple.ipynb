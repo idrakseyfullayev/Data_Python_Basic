{
 "cells": [
  {
   "cell_type": "markdown",
   "id": "0abf5a29",
   "metadata": {},
   "source": [
    "## List Ümumi anlayış"
   ]
  },
  {
   "cell_type": "code",
   "execution_count": 22,
   "id": "e652438a",
   "metadata": {},
   "outputs": [
    {
     "data": {
      "text/plain": [
       "[1, 2]"
      ]
     },
     "execution_count": 22,
     "metadata": {},
     "output_type": "execute_result"
    }
   ],
   "source": [
    "list1 = [1, 2]\n",
    "\n",
    "list1"
   ]
  },
  {
   "cell_type": "code",
   "execution_count": 23,
   "id": "51d5adb7",
   "metadata": {},
   "outputs": [
    {
     "data": {
      "text/plain": [
       "[1, 2]"
      ]
     },
     "execution_count": 23,
     "metadata": {},
     "output_type": "execute_result"
    }
   ],
   "source": [
    "list1 = list((1,2))\n",
    "list1"
   ]
  },
  {
   "cell_type": "code",
   "execution_count": 24,
   "id": "37dd9edd",
   "metadata": {},
   "outputs": [
    {
     "data": {
      "text/plain": [
       "1"
      ]
     },
     "execution_count": 24,
     "metadata": {},
     "output_type": "execute_result"
    }
   ],
   "source": [
    "list1[0]"
   ]
  },
  {
   "cell_type": "code",
   "execution_count": 25,
   "id": "7d47726c",
   "metadata": {},
   "outputs": [
    {
     "data": {
      "text/plain": [
       "[1, 2, 'salam', 4.5, True]"
      ]
     },
     "execution_count": 25,
     "metadata": {},
     "output_type": "execute_result"
    }
   ],
   "source": [
    "list1 = [1, 2, 'salam', 4.5, True]\n",
    "list1"
   ]
  },
  {
   "cell_type": "code",
   "execution_count": 26,
   "id": "488b5f15",
   "metadata": {},
   "outputs": [
    {
     "data": {
      "text/plain": [
       "[[1, 2], [3, 4]]"
      ]
     },
     "execution_count": 26,
     "metadata": {},
     "output_type": "execute_result"
    }
   ],
   "source": [
    "matrix = [[1, 2], [3, 4]]\n",
    "matrix"
   ]
  },
  {
   "cell_type": "code",
   "execution_count": 27,
   "id": "92d457c4",
   "metadata": {},
   "outputs": [
    {
     "data": {
      "text/plain": [
       "1"
      ]
     },
     "execution_count": 27,
     "metadata": {},
     "output_type": "execute_result"
    }
   ],
   "source": [
    "matrix[0][0]"
   ]
  },
  {
   "cell_type": "code",
   "execution_count": 61,
   "id": "eb934247",
   "metadata": {},
   "outputs": [
    {
     "data": {
      "text/plain": [
       "['S', 'a', 'l', 'a', 'm']"
      ]
     },
     "execution_count": 61,
     "metadata": {},
     "output_type": "execute_result"
    }
   ],
   "source": [
    "text = \"Salam\"\n",
    "\n",
    "list(text)"
   ]
  },
  {
   "cell_type": "code",
   "execution_count": 62,
   "id": "e9a8a9c7",
   "metadata": {},
   "outputs": [
    {
     "ename": "TypeError",
     "evalue": "'int' object is not iterable",
     "output_type": "error",
     "traceback": [
      "\u001b[1;31m---------------------------------------------------------------------------\u001b[0m",
      "\u001b[1;31mTypeError\u001b[0m                                 Traceback (most recent call last)",
      "Cell \u001b[1;32mIn[62], line 3\u001b[0m\n\u001b[0;32m      1\u001b[0m number \u001b[38;5;241m=\u001b[39m \u001b[38;5;241m555\u001b[39m\n\u001b[1;32m----> 3\u001b[0m \u001b[38;5;28mlist\u001b[39m(\u001b[38;5;241m555\u001b[39m)\n",
      "\u001b[1;31mTypeError\u001b[0m: 'int' object is not iterable"
     ]
    }
   ],
   "source": [
    "number = 555\n",
    "\n",
    "list(555)"
   ]
  },
  {
   "cell_type": "code",
   "execution_count": 63,
   "id": "ca3731ac",
   "metadata": {},
   "outputs": [
    {
     "data": {
      "text/plain": [
       "['5', '5', '5']"
      ]
     },
     "execution_count": 63,
     "metadata": {},
     "output_type": "execute_result"
    }
   ],
   "source": [
    "number = \"555\"\n",
    "\n",
    "list(number)"
   ]
  },
  {
   "cell_type": "code",
   "execution_count": 65,
   "id": "d77d6eea",
   "metadata": {},
   "outputs": [
    {
     "data": {
      "text/plain": [
       "[[1, 2, 3], [4, 5, 6]]"
      ]
     },
     "execution_count": 65,
     "metadata": {},
     "output_type": "execute_result"
    }
   ],
   "source": [
    "a = [1,2,3]\n",
    "\n",
    "b = [4,5,6]\n",
    "\n",
    "list([a, b])"
   ]
  },
  {
   "cell_type": "code",
   "execution_count": null,
   "id": "8ef4deba",
   "metadata": {},
   "outputs": [],
   "source": []
  },
  {
   "cell_type": "markdown",
   "id": "66d3b820",
   "metadata": {},
   "source": [
    "## List üzərində əməllər"
   ]
  },
  {
   "cell_type": "code",
   "execution_count": 29,
   "id": "75cedbf3",
   "metadata": {},
   "outputs": [
    {
     "data": {
      "text/plain": [
       "[1, 2, 3, 4, 5, 6, 7, 8, 9, 10]"
      ]
     },
     "execution_count": 29,
     "metadata": {},
     "output_type": "execute_result"
    }
   ],
   "source": [
    "a = [1, 2, 3, 4, 5]\n",
    "b = list((6, 7, 8, 9, 10))\n",
    "\n",
    "a+b"
   ]
  },
  {
   "cell_type": "code",
   "execution_count": 30,
   "id": "5af41b9e",
   "metadata": {},
   "outputs": [
    {
     "ename": "TypeError",
     "evalue": "unsupported operand type(s) for -: 'list' and 'list'",
     "output_type": "error",
     "traceback": [
      "\u001b[1;31m---------------------------------------------------------------------------\u001b[0m",
      "\u001b[1;31mTypeError\u001b[0m                                 Traceback (most recent call last)",
      "Cell \u001b[1;32mIn[30], line 1\u001b[0m\n\u001b[1;32m----> 1\u001b[0m a\u001b[38;5;241m-\u001b[39mb\n",
      "\u001b[1;31mTypeError\u001b[0m: unsupported operand type(s) for -: 'list' and 'list'"
     ]
    }
   ],
   "source": [
    "a-b"
   ]
  },
  {
   "cell_type": "code",
   "execution_count": 31,
   "id": "78498ddc",
   "metadata": {},
   "outputs": [
    {
     "ename": "TypeError",
     "evalue": "can't multiply sequence by non-int of type 'list'",
     "output_type": "error",
     "traceback": [
      "\u001b[1;31m---------------------------------------------------------------------------\u001b[0m",
      "\u001b[1;31mTypeError\u001b[0m                                 Traceback (most recent call last)",
      "Cell \u001b[1;32mIn[31], line 1\u001b[0m\n\u001b[1;32m----> 1\u001b[0m a\u001b[38;5;241m*\u001b[39mb\n",
      "\u001b[1;31mTypeError\u001b[0m: can't multiply sequence by non-int of type 'list'"
     ]
    }
   ],
   "source": [
    "a*b"
   ]
  },
  {
   "cell_type": "code",
   "execution_count": 32,
   "id": "d42873f8",
   "metadata": {},
   "outputs": [
    {
     "ename": "TypeError",
     "evalue": "unsupported operand type(s) for /: 'list' and 'list'",
     "output_type": "error",
     "traceback": [
      "\u001b[1;31m---------------------------------------------------------------------------\u001b[0m",
      "\u001b[1;31mTypeError\u001b[0m                                 Traceback (most recent call last)",
      "Cell \u001b[1;32mIn[32], line 1\u001b[0m\n\u001b[1;32m----> 1\u001b[0m a\u001b[38;5;241m/\u001b[39mb\n",
      "\u001b[1;31mTypeError\u001b[0m: unsupported operand type(s) for /: 'list' and 'list'"
     ]
    }
   ],
   "source": [
    "a/b"
   ]
  },
  {
   "cell_type": "code",
   "execution_count": 33,
   "id": "adf05df5",
   "metadata": {},
   "outputs": [
    {
     "data": {
      "text/plain": [
       "[1, 2, 3, 4, 5, 1, 2, 3, 4, 5, 1, 2, 3, 4, 5]"
      ]
     },
     "execution_count": 33,
     "metadata": {},
     "output_type": "execute_result"
    }
   ],
   "source": [
    "a*3"
   ]
  },
  {
   "cell_type": "code",
   "execution_count": 34,
   "id": "50c2321b",
   "metadata": {},
   "outputs": [
    {
     "ename": "TypeError",
     "evalue": "unsupported operand type(s) for /: 'list' and 'int'",
     "output_type": "error",
     "traceback": [
      "\u001b[1;31m---------------------------------------------------------------------------\u001b[0m",
      "\u001b[1;31mTypeError\u001b[0m                                 Traceback (most recent call last)",
      "Cell \u001b[1;32mIn[34], line 1\u001b[0m\n\u001b[1;32m----> 1\u001b[0m a\u001b[38;5;241m/\u001b[39m\u001b[38;5;241m3\u001b[39m\n",
      "\u001b[1;31mTypeError\u001b[0m: unsupported operand type(s) for /: 'list' and 'int'"
     ]
    }
   ],
   "source": [
    "a/3"
   ]
  },
  {
   "cell_type": "code",
   "execution_count": 35,
   "id": "fa6eebe2",
   "metadata": {},
   "outputs": [],
   "source": [
    "a = [1, 2, 3, 4, 5]"
   ]
  },
  {
   "cell_type": "code",
   "execution_count": 39,
   "id": "247c83fc",
   "metadata": {},
   "outputs": [
    {
     "data": {
      "text/plain": [
       "[3, 4, 5]"
      ]
     },
     "execution_count": 39,
     "metadata": {},
     "output_type": "execute_result"
    }
   ],
   "source": [
    "a[2:3] + a[3:5]"
   ]
  },
  {
   "cell_type": "code",
   "execution_count": 40,
   "id": "32b6961b",
   "metadata": {},
   "outputs": [
    {
     "data": {
      "text/plain": [
       "[1, 2, 3, 4, 5]"
      ]
     },
     "execution_count": 40,
     "metadata": {},
     "output_type": "execute_result"
    }
   ],
   "source": [
    "a[0:]"
   ]
  },
  {
   "cell_type": "code",
   "execution_count": 41,
   "id": "a5cdbe1b",
   "metadata": {},
   "outputs": [
    {
     "data": {
      "text/plain": [
       "[2, 3, 4]"
      ]
     },
     "execution_count": 41,
     "metadata": {},
     "output_type": "execute_result"
    }
   ],
   "source": [
    "a[1:4]"
   ]
  },
  {
   "cell_type": "code",
   "execution_count": 42,
   "id": "9fc623b0",
   "metadata": {},
   "outputs": [
    {
     "data": {
      "text/plain": [
       "[5, 4, 3, 2, 1]"
      ]
     },
     "execution_count": 42,
     "metadata": {},
     "output_type": "execute_result"
    }
   ],
   "source": [
    "a[::-1]"
   ]
  },
  {
   "cell_type": "code",
   "execution_count": 44,
   "id": "4e4ed975",
   "metadata": {},
   "outputs": [
    {
     "data": {
      "text/plain": [
       "[4, 3, 2]"
      ]
     },
     "execution_count": 44,
     "metadata": {},
     "output_type": "execute_result"
    }
   ],
   "source": [
    "a[3:-5:-1]"
   ]
  },
  {
   "cell_type": "code",
   "execution_count": 45,
   "id": "0338fd2a",
   "metadata": {},
   "outputs": [
    {
     "data": {
      "text/plain": [
       "5"
      ]
     },
     "execution_count": 45,
     "metadata": {},
     "output_type": "execute_result"
    }
   ],
   "source": [
    "len(a)"
   ]
  },
  {
   "cell_type": "code",
   "execution_count": null,
   "id": "5fa905fb",
   "metadata": {},
   "outputs": [],
   "source": []
  },
  {
   "cell_type": "markdown",
   "id": "d840ed35",
   "metadata": {},
   "source": [
    "## List Functions"
   ]
  },
  {
   "cell_type": "markdown",
   "id": "def35e2a",
   "metadata": {},
   "source": [
    "### 1. append() → listin axırına append()-ə yazdığımız qiyməti əlavə edir və None qaytarır → list1.append(4.5)"
   ]
  },
  {
   "cell_type": "code",
   "execution_count": 51,
   "id": "b5b6d5a1",
   "metadata": {},
   "outputs": [
    {
     "name": "stdout",
     "output_type": "stream",
     "text": [
      "None\n"
     ]
    }
   ],
   "source": [
    "a = [45, -20, 13, 34, 50, -21]\n",
    "\n",
    "print(a.append(4.5))"
   ]
  },
  {
   "cell_type": "code",
   "execution_count": 52,
   "id": "44d9e8a2",
   "metadata": {},
   "outputs": [
    {
     "data": {
      "text/plain": [
       "[45, -20, 13, 34, 50, -21, 4.5]"
      ]
     },
     "execution_count": 52,
     "metadata": {},
     "output_type": "execute_result"
    }
   ],
   "source": [
    "a"
   ]
  },
  {
   "cell_type": "code",
   "execution_count": 84,
   "id": "be43b848",
   "metadata": {},
   "outputs": [],
   "source": [
    "b = [1,2,3, \"C\"]\n",
    "c = [4,5,6, \"B\"]\n",
    "\n",
    "b.append(c)"
   ]
  },
  {
   "cell_type": "code",
   "execution_count": 86,
   "id": "90896a54",
   "metadata": {},
   "outputs": [
    {
     "data": {
      "text/plain": [
       "[1, 2, 3, 'C', [4, 5, 6, 'B']]"
      ]
     },
     "execution_count": 86,
     "metadata": {},
     "output_type": "execute_result"
    }
   ],
   "source": [
    "b"
   ]
  },
  {
   "cell_type": "code",
   "execution_count": 87,
   "id": "1dc8e79d",
   "metadata": {},
   "outputs": [
    {
     "data": {
      "text/plain": [
       "[4, 5, 6, 'B']"
      ]
     },
     "execution_count": 87,
     "metadata": {},
     "output_type": "execute_result"
    }
   ],
   "source": [
    "c"
   ]
  },
  {
   "cell_type": "markdown",
   "id": "9db8d8d0",
   "metadata": {},
   "source": [
    "### 2. remove() → listdən remove()-a yazdığımız qiyməti silirik və None qaytarır → list1.remove(4)"
   ]
  },
  {
   "cell_type": "code",
   "execution_count": 67,
   "id": "02a1c22b",
   "metadata": {},
   "outputs": [
    {
     "ename": "ValueError",
     "evalue": "list.remove(x): x not in list",
     "output_type": "error",
     "traceback": [
      "\u001b[1;31m---------------------------------------------------------------------------\u001b[0m",
      "\u001b[1;31mValueError\u001b[0m                                Traceback (most recent call last)",
      "Cell \u001b[1;32mIn[67], line 3\u001b[0m\n\u001b[0;32m      1\u001b[0m a \u001b[38;5;241m=\u001b[39m [\u001b[38;5;241m45\u001b[39m, \u001b[38;5;241m-\u001b[39m\u001b[38;5;241m20\u001b[39m, \u001b[38;5;241m13\u001b[39m, \u001b[38;5;241m34\u001b[39m, \u001b[38;5;241m50\u001b[39m, \u001b[38;5;241m-\u001b[39m\u001b[38;5;241m21\u001b[39m]\n\u001b[1;32m----> 3\u001b[0m a\u001b[38;5;241m.\u001b[39mremove(\u001b[38;5;241m4\u001b[39m)\n",
      "\u001b[1;31mValueError\u001b[0m: list.remove(x): x not in list"
     ]
    }
   ],
   "source": [
    "a = [45, -20, 13, 34, 50, -21]\n",
    "\n",
    "a.remove(4)"
   ]
  },
  {
   "cell_type": "code",
   "execution_count": 68,
   "id": "ef5e1b6e",
   "metadata": {},
   "outputs": [
    {
     "data": {
      "text/plain": [
       "[45, 13, 34, 50, -21]"
      ]
     },
     "execution_count": 68,
     "metadata": {},
     "output_type": "execute_result"
    }
   ],
   "source": [
    "a.remove(-20)\n",
    "a"
   ]
  },
  {
   "cell_type": "markdown",
   "id": "59ec09f0",
   "metadata": {},
   "source": [
    "### 3. insert() → listin neçənci element sırasına qiymət daxil etmək üçün birinci indeksi, sonra qiyməti yazırıq və None qaytarır → list1.insert(5, \"salam\")"
   ]
  },
  {
   "cell_type": "code",
   "execution_count": 69,
   "id": "82e7252c",
   "metadata": {},
   "outputs": [
    {
     "data": {
      "text/plain": [
       "[45, 13, 34, 50, -21]"
      ]
     },
     "execution_count": 69,
     "metadata": {},
     "output_type": "execute_result"
    }
   ],
   "source": [
    "a"
   ]
  },
  {
   "cell_type": "code",
   "execution_count": 70,
   "id": "e8c56381",
   "metadata": {},
   "outputs": [
    {
     "data": {
      "text/plain": [
       "[45, -20, 13, 34, 50, -21]"
      ]
     },
     "execution_count": 70,
     "metadata": {},
     "output_type": "execute_result"
    }
   ],
   "source": [
    "a.insert(1, -20)\n",
    "a"
   ]
  },
  {
   "cell_type": "code",
   "execution_count": 71,
   "id": "cd0c80c6",
   "metadata": {},
   "outputs": [
    {
     "data": {
      "text/plain": [
       "[45, -20, 13, 'Salam', 34, 50, -21]"
      ]
     },
     "execution_count": 71,
     "metadata": {},
     "output_type": "execute_result"
    }
   ],
   "source": [
    "a.insert(3, \"Salam\")\n",
    "a"
   ]
  },
  {
   "cell_type": "markdown",
   "id": "9565cd4c",
   "metadata": {},
   "source": [
    "### 4. pop() → default vəziyyətdə pop() listin axırıncı elementini index-ə əsasən silir və onun qiymətini qaytarır → list1.pop() → list1.pop(3)"
   ]
  },
  {
   "cell_type": "code",
   "execution_count": 76,
   "id": "6b40fdba",
   "metadata": {},
   "outputs": [
    {
     "data": {
      "text/plain": [
       "[45, -20, 13, 'Salam', 34, 50, -21]"
      ]
     },
     "execution_count": 76,
     "metadata": {},
     "output_type": "execute_result"
    }
   ],
   "source": [
    "a"
   ]
  },
  {
   "cell_type": "code",
   "execution_count": 77,
   "id": "745631d8",
   "metadata": {},
   "outputs": [
    {
     "data": {
      "text/plain": [
       "[45, -20, 13, 'Salam', 34, 50]"
      ]
     },
     "execution_count": 77,
     "metadata": {},
     "output_type": "execute_result"
    }
   ],
   "source": [
    "a.pop()\n",
    "\n",
    "a"
   ]
  },
  {
   "cell_type": "code",
   "execution_count": 78,
   "id": "9c9b7726",
   "metadata": {},
   "outputs": [
    {
     "data": {
      "text/plain": [
       "13"
      ]
     },
     "execution_count": 78,
     "metadata": {},
     "output_type": "execute_result"
    }
   ],
   "source": [
    "a.pop(2)"
   ]
  },
  {
   "cell_type": "code",
   "execution_count": 79,
   "id": "6d461826",
   "metadata": {},
   "outputs": [
    {
     "data": {
      "text/plain": [
       "[45, -20, 'Salam', 34, 50]"
      ]
     },
     "execution_count": 79,
     "metadata": {},
     "output_type": "execute_result"
    }
   ],
   "source": [
    "a"
   ]
  },
  {
   "cell_type": "markdown",
   "id": "0e53feab",
   "metadata": {},
   "source": [
    "### 5. extend() → extend()-ə daxil etdiyimiz iterable tipli dəyişəni string kimi parçalayaraq listin axırına ayrı-ayrı elementlər kimi əlavə edir və None qaytarır → list1.extend(\"53\")"
   ]
  },
  {
   "cell_type": "code",
   "execution_count": 80,
   "id": "09b4356c",
   "metadata": {},
   "outputs": [
    {
     "data": {
      "text/plain": [
       "[45, -20, 'Salam', 34, 50]"
      ]
     },
     "execution_count": 80,
     "metadata": {},
     "output_type": "execute_result"
    }
   ],
   "source": [
    "a"
   ]
  },
  {
   "cell_type": "code",
   "execution_count": 81,
   "id": "ad975ad3",
   "metadata": {},
   "outputs": [],
   "source": [
    "a.extend(\"salam\")"
   ]
  },
  {
   "cell_type": "code",
   "execution_count": 82,
   "id": "768361d9",
   "metadata": {},
   "outputs": [
    {
     "data": {
      "text/plain": [
       "[45, -20, 'Salam', 34, 50, 's', 'a', 'l', 'a', 'm']"
      ]
     },
     "execution_count": 82,
     "metadata": {},
     "output_type": "execute_result"
    }
   ],
   "source": [
    "a"
   ]
  },
  {
   "cell_type": "code",
   "execution_count": 1,
   "id": "1e41096d",
   "metadata": {},
   "outputs": [],
   "source": [
    "car = [\"Pirius\", 'Prado', \"Nissan\"]\n",
    "\n",
    "speed = [180, 200, 240]"
   ]
  },
  {
   "cell_type": "code",
   "execution_count": 2,
   "id": "b4da9064",
   "metadata": {},
   "outputs": [],
   "source": [
    "car.extend(speed)"
   ]
  },
  {
   "cell_type": "code",
   "execution_count": 3,
   "id": "d99c89f0",
   "metadata": {},
   "outputs": [
    {
     "data": {
      "text/plain": [
       "['Pirius', 'Prado', 'Nissan', 180, 200, 240]"
      ]
     },
     "execution_count": 3,
     "metadata": {},
     "output_type": "execute_result"
    }
   ],
   "source": [
    "car"
   ]
  },
  {
   "cell_type": "code",
   "execution_count": 4,
   "id": "6fd7070d",
   "metadata": {},
   "outputs": [
    {
     "data": {
      "text/plain": [
       "[180, 200, 240]"
      ]
     },
     "execution_count": 4,
     "metadata": {},
     "output_type": "execute_result"
    }
   ],
   "source": [
    "speed"
   ]
  },
  {
   "cell_type": "code",
   "execution_count": 5,
   "id": "be5693e5",
   "metadata": {},
   "outputs": [
    {
     "data": {
      "text/plain": [
       "['Pirius', 'Prado', 'Nissan', 'Mercedes', 'Mitsubishi']"
      ]
     },
     "execution_count": 5,
     "metadata": {},
     "output_type": "execute_result"
    }
   ],
   "source": [
    "car = [\"Pirius\", 'Prado', \"Nissan\"]\n",
    "car_next = [\"Mercedes\", \"Mitsubishi\"]\n",
    "\n",
    "car.extend(car_next)\n",
    "\n",
    "car"
   ]
  },
  {
   "cell_type": "code",
   "execution_count": null,
   "id": "1c9ccfc5",
   "metadata": {},
   "outputs": [],
   "source": []
  },
  {
   "cell_type": "markdown",
   "id": "09068125",
   "metadata": {},
   "source": [
    "### 6. count() → count()-a daxil etdiyimiz dəyərin baş vermə sayını qaytarır və listə heç bir dəyişiklik etmir → k = list1.count(50)"
   ]
  },
  {
   "cell_type": "code",
   "execution_count": 8,
   "id": "15f8a172",
   "metadata": {},
   "outputs": [
    {
     "data": {
      "text/plain": [
       "3"
      ]
     },
     "execution_count": 8,
     "metadata": {},
     "output_type": "execute_result"
    }
   ],
   "source": [
    "a = [45, -20, 50, 13, 50, 34, 50, -21]\n",
    "\n",
    "a.count(50)"
   ]
  },
  {
   "cell_type": "code",
   "execution_count": 9,
   "id": "feb0b3f8",
   "metadata": {},
   "outputs": [
    {
     "data": {
      "text/plain": [
       "[45, -20, 50, 13, 50, 34, 50, -21]"
      ]
     },
     "execution_count": 9,
     "metadata": {},
     "output_type": "execute_result"
    }
   ],
   "source": [
    "a"
   ]
  },
  {
   "cell_type": "markdown",
   "id": "1398d29f",
   "metadata": {},
   "source": [
    "### 7.  index() → index()-ə daxil etdiyimiz dəyərin indeksini qaytarır və listə heç bir dəyişiklik etmir → k = list1.index(-21)"
   ]
  },
  {
   "cell_type": "code",
   "execution_count": 10,
   "id": "cc26ae72",
   "metadata": {},
   "outputs": [
    {
     "data": {
      "text/plain": [
       "7"
      ]
     },
     "execution_count": 10,
     "metadata": {},
     "output_type": "execute_result"
    }
   ],
   "source": [
    "a = [45, -20, 50, 13, 50, 34, 50, -21]\n",
    "\n",
    "k = a.index(-21)\n",
    "k"
   ]
  },
  {
   "cell_type": "code",
   "execution_count": 11,
   "id": "6224debe",
   "metadata": {},
   "outputs": [
    {
     "data": {
      "text/plain": [
       "[45, -20, 50, 13, 50, 34, 50, -21]"
      ]
     },
     "execution_count": 11,
     "metadata": {},
     "output_type": "execute_result"
    }
   ],
   "source": [
    "a"
   ]
  },
  {
   "cell_type": "code",
   "execution_count": 14,
   "id": "5020e6f3",
   "metadata": {},
   "outputs": [],
   "source": [
    "a = [45, -20, \"BMV\"]"
   ]
  },
  {
   "cell_type": "code",
   "execution_count": 17,
   "id": "557fc653",
   "metadata": {},
   "outputs": [
    {
     "data": {
      "text/plain": [
       "2"
      ]
     },
     "execution_count": 17,
     "metadata": {},
     "output_type": "execute_result"
    }
   ],
   "source": [
    "a.index(\"BMV\")"
   ]
  },
  {
   "cell_type": "code",
   "execution_count": 20,
   "id": "b1f7b9ed",
   "metadata": {},
   "outputs": [
    {
     "data": {
      "text/plain": [
       "4"
      ]
     },
     "execution_count": 20,
     "metadata": {},
     "output_type": "execute_result"
    }
   ],
   "source": [
    "a = [45, -20, 50, 13, 50, 34, 50, -21]\n",
    "\n",
    "a.index(50, 3)"
   ]
  },
  {
   "cell_type": "markdown",
   "id": "2a86f1c7",
   "metadata": {},
   "source": [
    "### 8. reverse() → reverse() listi tərsinə çevirir və None qaytarır → list1.reverse()"
   ]
  },
  {
   "cell_type": "code",
   "execution_count": 40,
   "id": "7fc009d9",
   "metadata": {},
   "outputs": [],
   "source": [
    "a = [45, -20, 13, 34, 50, -21]\n",
    "\n",
    "a.reverse()"
   ]
  },
  {
   "cell_type": "code",
   "execution_count": 41,
   "id": "eefdc08c",
   "metadata": {},
   "outputs": [
    {
     "data": {
      "text/plain": [
       "[-21, 50, 34, 13, -20, 45]"
      ]
     },
     "execution_count": 41,
     "metadata": {},
     "output_type": "execute_result"
    }
   ],
   "source": [
    "a"
   ]
  },
  {
   "cell_type": "code",
   "execution_count": 42,
   "id": "cd2fcde9",
   "metadata": {},
   "outputs": [],
   "source": [
    "a[0:3].reverse()    # bele bir sey niye alinmir?"
   ]
  },
  {
   "cell_type": "code",
   "execution_count": 43,
   "id": "eaa08504",
   "metadata": {},
   "outputs": [
    {
     "data": {
      "text/plain": [
       "[-21, 50, 34]"
      ]
     },
     "execution_count": 43,
     "metadata": {},
     "output_type": "execute_result"
    }
   ],
   "source": [
    "a[0:3]"
   ]
  },
  {
   "cell_type": "code",
   "execution_count": 44,
   "id": "13dd1ab5",
   "metadata": {},
   "outputs": [
    {
     "data": {
      "text/plain": [
       "[-21, 50, 34, 13, -20, 45]"
      ]
     },
     "execution_count": 44,
     "metadata": {},
     "output_type": "execute_result"
    }
   ],
   "source": [
    "a"
   ]
  },
  {
   "cell_type": "code",
   "execution_count": 46,
   "id": "ad1443ef",
   "metadata": {},
   "outputs": [
    {
     "data": {
      "text/plain": [
       "[34, 50, -21]"
      ]
     },
     "execution_count": 46,
     "metadata": {},
     "output_type": "execute_result"
    }
   ],
   "source": [
    "b = a[0:3]\n",
    "b.reverse()\n",
    "b"
   ]
  },
  {
   "cell_type": "markdown",
   "id": "d65c6466",
   "metadata": {},
   "source": [
    "### 9. sort() → sort() listi azdan çoxa, sort(reverse=True) isə çoxdan aza sıralayır və None qaytarır → list1.sort() → list1.sort(reverse=True)"
   ]
  },
  {
   "cell_type": "code",
   "execution_count": 48,
   "id": "f8e318ba",
   "metadata": {},
   "outputs": [],
   "source": [
    "a = [45, -20, 13, 34, 50, -21]\n",
    "\n",
    "a.sort()"
   ]
  },
  {
   "cell_type": "code",
   "execution_count": 49,
   "id": "715704cc",
   "metadata": {},
   "outputs": [
    {
     "data": {
      "text/plain": [
       "[-21, -20, 13, 34, 45, 50]"
      ]
     },
     "execution_count": 49,
     "metadata": {},
     "output_type": "execute_result"
    }
   ],
   "source": [
    "a"
   ]
  },
  {
   "cell_type": "code",
   "execution_count": 52,
   "id": "83c81507",
   "metadata": {},
   "outputs": [
    {
     "ename": "TypeError",
     "evalue": "'<' not supported between instances of 'str' and 'int'",
     "output_type": "error",
     "traceback": [
      "\u001b[1;31m---------------------------------------------------------------------------\u001b[0m",
      "\u001b[1;31mTypeError\u001b[0m                                 Traceback (most recent call last)",
      "Cell \u001b[1;32mIn[52], line 3\u001b[0m\n\u001b[0;32m      1\u001b[0m a \u001b[38;5;241m=\u001b[39m [\u001b[38;5;241m45\u001b[39m, \u001b[38;5;241m-\u001b[39m\u001b[38;5;241m20\u001b[39m, \u001b[38;5;124m\"\u001b[39m\u001b[38;5;124mTable\u001b[39m\u001b[38;5;124m\"\u001b[39m, \u001b[38;5;241m13\u001b[39m, \u001b[38;5;124m\"\u001b[39m\u001b[38;5;124mNissan\u001b[39m\u001b[38;5;124m\"\u001b[39m,  \u001b[38;5;241m34\u001b[39m, \u001b[38;5;241m50\u001b[39m, \u001b[38;5;241m-\u001b[39m\u001b[38;5;241m21\u001b[39m]\n\u001b[1;32m----> 3\u001b[0m a\u001b[38;5;241m.\u001b[39msort()\n\u001b[0;32m      5\u001b[0m a\n",
      "\u001b[1;31mTypeError\u001b[0m: '<' not supported between instances of 'str' and 'int'"
     ]
    }
   ],
   "source": [
    "a = [45, -20, \"Table\", 13, \"Nissan\",  34, 50, -21]\n",
    "\n",
    "a.sort()\n",
    "\n",
    "a"
   ]
  },
  {
   "cell_type": "code",
   "execution_count": 54,
   "id": "a1d3c2ca",
   "metadata": {},
   "outputs": [
    {
     "data": {
      "text/plain": [
       "['Nissan', 'Tab', 'Table']"
      ]
     },
     "execution_count": 54,
     "metadata": {},
     "output_type": "execute_result"
    }
   ],
   "source": [
    "a = [\"Table\", \"Nissan\", \"Tab\"]\n",
    "\n",
    "a.sort()\n",
    "\n",
    "a"
   ]
  },
  {
   "cell_type": "code",
   "execution_count": 55,
   "id": "f839871e",
   "metadata": {},
   "outputs": [
    {
     "data": {
      "text/plain": [
       "['A', 'B', 'Z']"
      ]
     },
     "execution_count": 55,
     "metadata": {},
     "output_type": "execute_result"
    }
   ],
   "source": [
    "a = [\"B\", \"A\", \"Z\"]\n",
    "\n",
    "a.sort()\n",
    "\n",
    "a"
   ]
  },
  {
   "cell_type": "code",
   "execution_count": 56,
   "id": "d3c61299",
   "metadata": {},
   "outputs": [
    {
     "data": {
      "text/plain": [
       "[50, 45, 34, 13, -20, -21]"
      ]
     },
     "execution_count": 56,
     "metadata": {},
     "output_type": "execute_result"
    }
   ],
   "source": [
    "a = [45, -20, 13, 34, 50, -21]\n",
    "\n",
    "a.sort(reverse=True)\n",
    "\n",
    "a"
   ]
  },
  {
   "cell_type": "code",
   "execution_count": 57,
   "id": "f2f3e110",
   "metadata": {},
   "outputs": [
    {
     "data": {
      "text/plain": [
       "['Table', 'Tab', 'Nissan']"
      ]
     },
     "execution_count": 57,
     "metadata": {},
     "output_type": "execute_result"
    }
   ],
   "source": [
    "a = [\"Table\", \"Nissan\", \"Tab\"]\n",
    "\n",
    "a.sort(reverse=True)\n",
    "\n",
    "a"
   ]
  },
  {
   "cell_type": "code",
   "execution_count": 58,
   "id": "df85642a",
   "metadata": {},
   "outputs": [
    {
     "data": {
      "text/plain": [
       "['Z', 'B', 'A']"
      ]
     },
     "execution_count": 58,
     "metadata": {},
     "output_type": "execute_result"
    }
   ],
   "source": [
    "a = [\"B\", \"A\", \"Z\"]\n",
    "\n",
    "a.sort(reverse=True)\n",
    "\n",
    "a"
   ]
  },
  {
   "cell_type": "code",
   "execution_count": null,
   "id": "e3407df7",
   "metadata": {},
   "outputs": [],
   "source": []
  },
  {
   "cell_type": "code",
   "execution_count": 70,
   "id": "5b9bc486",
   "metadata": {},
   "outputs": [
    {
     "data": {
      "text/plain": [
       "[('English', 88), ('Maths', 97), ('Science', 90), ('Social sciences', 82)]"
      ]
     },
     "execution_count": 70,
     "metadata": {},
     "output_type": "execute_result"
    }
   ],
   "source": [
    "list3 = [('English', 88), ('Science', 90), ('Maths', 97), ('Social sciences', 82)]\n",
    "list3.sort(key=lambda x: x[0])\n",
    "list3"
   ]
  },
  {
   "cell_type": "code",
   "execution_count": 71,
   "id": "303b74ce",
   "metadata": {},
   "outputs": [
    {
     "data": {
      "text/plain": [
       "[('Social sciences', 82), ('English', 88), ('Science', 90), ('Maths', 97)]"
      ]
     },
     "execution_count": 71,
     "metadata": {},
     "output_type": "execute_result"
    }
   ],
   "source": [
    "list3 = [('English', 88), ('Science', 90), ('Maths', 97), ('Social sciences', 82)]\n",
    "list3.sort(key=lambda x: x[1])\n",
    "list3"
   ]
  },
  {
   "cell_type": "code",
   "execution_count": null,
   "id": "74c2ed81",
   "metadata": {},
   "outputs": [],
   "source": []
  },
  {
   "cell_type": "code",
   "execution_count": 73,
   "id": "53c5583c",
   "metadata": {},
   "outputs": [
    {
     "data": {
      "text/plain": [
       "[{'make': 'Nokia', 'model': 216, 'color': 'Black'},\n",
       " {'make': 'Samsung', 'model': 7, 'color': 'Blue'},\n",
       " {'make': 'Mi Max', 'model': '2', 'color': 'Gold'}]"
      ]
     },
     "execution_count": 73,
     "metadata": {},
     "output_type": "execute_result"
    }
   ],
   "source": [
    "list4 = [{'make': 'Nokia', 'model': 216, 'color': 'Black'}, {'make': 'Mi Max', 'model': '2', 'color': 'Gold'},\n",
    "{'make': 'Samsung', 'model': 7, 'color': 'Blue'}]\n",
    "list4.sort(key=lambda x: x[\"color\"])\n",
    "\n",
    "list4"
   ]
  },
  {
   "cell_type": "code",
   "execution_count": null,
   "id": "3099f80b",
   "metadata": {},
   "outputs": [],
   "source": []
  },
  {
   "cell_type": "code",
   "execution_count": 89,
   "id": "56de148d",
   "metadata": {},
   "outputs": [
    {
     "name": "stdout",
     "output_type": "stream",
     "text": [
      "[1, 2, 0, -2, -1]\n"
     ]
    }
   ],
   "source": [
    "list5 = [-2, 0, 1, -1, 2]\n",
    "list5.sort(key=lambda i: 0 if i == 0 else -1 / i)\n",
    "\n",
    "print(list5)\n"
   ]
  },
  {
   "cell_type": "markdown",
   "id": "4fd9d8fa",
   "metadata": {},
   "source": [
    "\n",
    "\n",
    "### Qısa izah:\n",
    "\n",
    "* **Əgər element `0`-dırsa**, `key` olaraq `0` təyin olunur.\n",
    "* **Əks halda**, `key = -1 / i` olur.\n",
    "\n",
    "### Məqsəd:\n",
    "\n",
    "Bu sıralama **0-ları ortada** saxlamaq və qalan ədədləri isə xüsusi qaydada yerləşdirmək üçündür:\n",
    "\n",
    "* **Müsbət ədədlər**: `-1 / i` mənfi olur → daha **aşağı key**, yəni **sonda** yerləşəcək.\n",
    "* **Mənfi ədədlər**: `-1 / i` müsbət olur → daha **yuxarı key**, yəni **əvvəldə** yerləşəcək.\n",
    "* **0-lar**: `key = 0`, yəni **ortada** yerləşir.\n",
    "\n",
    "\n",
    "### Yəni:\n",
    "\n",
    "* Mənfi ədədlər əvvəl\n",
    "* 0 ortada\n",
    "* Müsbət ədədlər sonra\n",
    "\n",
    "Bu, **\"simmetrik sıralama\"** üçün istifadə olunan ağıllı bir hiylədir.\n"
   ]
  },
  {
   "cell_type": "code",
   "execution_count": null,
   "id": "33006fe3",
   "metadata": {},
   "outputs": [],
   "source": []
  },
  {
   "cell_type": "code",
   "execution_count": 90,
   "id": "55d083b3",
   "metadata": {},
   "outputs": [
    {
     "name": "stdout",
     "output_type": "stream",
     "text": [
      "['fig', 'kiwi', 'apple', 'banana']\n"
     ]
    }
   ],
   "source": [
    "list6 = ['apple', 'kiwi', 'banana', 'fig']\n",
    "list6.sort(key=lambda x: len(x))\n",
    "print(list6)\n"
   ]
  },
  {
   "cell_type": "markdown",
   "id": "2aed674b",
   "metadata": {},
   "source": [
    "### İzah:\n",
    "\n",
    "* `'fig'` → 3 hərf\n",
    "* `'kiwi'` → 4 hərf\n",
    "* `'apple'` → 5 hərf\n",
    "* `'banana'` → 6 hərf\n",
    "\n",
    "Yəni siyahı **ən qısa sözlərdən uzuna doğru** sıralanır.\n"
   ]
  },
  {
   "cell_type": "code",
   "execution_count": 91,
   "id": "448220f2",
   "metadata": {},
   "outputs": [
    {
     "data": {
      "text/plain": [
       "['banana', 'apple', 'kiwi', 'fig']"
      ]
     },
     "execution_count": 91,
     "metadata": {},
     "output_type": "execute_result"
    }
   ],
   "source": [
    "list6.sort(reverse=True, key=lambda x: len(x))\n",
    "\n",
    "list6"
   ]
  },
  {
   "cell_type": "code",
   "execution_count": null,
   "id": "fc833d13",
   "metadata": {},
   "outputs": [],
   "source": []
  },
  {
   "cell_type": "markdown",
   "id": "314c464e",
   "metadata": {},
   "source": [
    "### 10. clear() → clear() listin elementlərini tamamilə silir və None qaytarır → list1.clear()"
   ]
  },
  {
   "cell_type": "code",
   "execution_count": 92,
   "id": "7fd53314",
   "metadata": {},
   "outputs": [
    {
     "data": {
      "text/plain": [
       "[]"
      ]
     },
     "execution_count": 92,
     "metadata": {},
     "output_type": "execute_result"
    }
   ],
   "source": [
    "a= [45, -20, 13, 34, 50, -21]\n",
    "\n",
    "a.clear()     \n",
    "\n",
    "a"
   ]
  },
  {
   "cell_type": "code",
   "execution_count": 98,
   "id": "3ca1d6e6",
   "metadata": {},
   "outputs": [
    {
     "data": {
      "text/plain": [
       "[]"
      ]
     },
     "execution_count": 98,
     "metadata": {},
     "output_type": "execute_result"
    }
   ],
   "source": [
    "a= [45, -20, 13, 34, 50, -21]\n",
    "\n",
    "b = a[0:6]\n",
    "\n",
    "b.clear()\n",
    "\n",
    "b"
   ]
  },
  {
   "cell_type": "code",
   "execution_count": 100,
   "id": "ebb21624",
   "metadata": {},
   "outputs": [
    {
     "data": {
      "text/plain": [
       "[45, -20, 13, 34, 50, -21]"
      ]
     },
     "execution_count": 100,
     "metadata": {},
     "output_type": "execute_result"
    }
   ],
   "source": [
    "a"
   ]
  },
  {
   "cell_type": "markdown",
   "id": "5bb99934",
   "metadata": {},
   "source": [
    "### del "
   ]
  },
  {
   "cell_type": "code",
   "execution_count": 112,
   "id": "cf0327c2",
   "metadata": {},
   "outputs": [
    {
     "data": {
      "text/plain": [
       "[34, 50, -21]"
      ]
     },
     "execution_count": 112,
     "metadata": {},
     "output_type": "execute_result"
    }
   ],
   "source": [
    "a= [45, -20, 13, 34, 50, -21]\n",
    "\n",
    "del a[:3]\n",
    "\n",
    "a"
   ]
  },
  {
   "cell_type": "markdown",
   "id": "32fa37a1",
   "metadata": {},
   "source": [
    "### reversed"
   ]
  },
  {
   "cell_type": "code",
   "execution_count": 114,
   "id": "2c4f28af",
   "metadata": {},
   "outputs": [
    {
     "data": {
      "text/plain": [
       "[-21, 50, 34, 13, -20, 45]"
      ]
     },
     "execution_count": 114,
     "metadata": {},
     "output_type": "execute_result"
    }
   ],
   "source": [
    "a= [45, -20, 13, 34, 50, -21]\n",
    "\n",
    "\n",
    "list(reversed(a))"
   ]
  },
  {
   "cell_type": "code",
   "execution_count": null,
   "id": "84f175ca",
   "metadata": {},
   "outputs": [],
   "source": []
  },
  {
   "cell_type": "markdown",
   "id": "5421702e",
   "metadata": {},
   "source": [
    "### 11. copy() → copy() listin nüsxəsini yaradır və yeni bir dəyişənə yazılmalıdır → list2 = list1.copy()"
   ]
  },
  {
   "cell_type": "code",
   "execution_count": 130,
   "id": "0bc68a26",
   "metadata": {},
   "outputs": [
    {
     "data": {
      "text/plain": [
       "[45, -20, 13, 13, 34, 50, -21]"
      ]
     },
     "execution_count": 130,
     "metadata": {},
     "output_type": "execute_result"
    }
   ],
   "source": [
    "a = [45, -20, 13, 13, 34, 50, -21]\n",
    "\n",
    "a.copy()"
   ]
  },
  {
   "cell_type": "code",
   "execution_count": 131,
   "id": "2699930f",
   "metadata": {},
   "outputs": [
    {
     "data": {
      "text/plain": [
       "[45, -20, 13, 13, 34, 50, -21]"
      ]
     },
     "execution_count": 131,
     "metadata": {},
     "output_type": "execute_result"
    }
   ],
   "source": [
    "b = a.copy()\n",
    "b"
   ]
  },
  {
   "cell_type": "code",
   "execution_count": 132,
   "id": "33936751",
   "metadata": {},
   "outputs": [
    {
     "data": {
      "text/plain": [
       "[45, -20, 13, 13, 34, 50]"
      ]
     },
     "execution_count": 132,
     "metadata": {},
     "output_type": "execute_result"
    }
   ],
   "source": [
    "b.pop()\n",
    "b"
   ]
  },
  {
   "cell_type": "code",
   "execution_count": 133,
   "id": "de828452",
   "metadata": {},
   "outputs": [
    {
     "data": {
      "text/plain": [
       "[45, -20, 13, 13, 34, 50, -21]"
      ]
     },
     "execution_count": 133,
     "metadata": {},
     "output_type": "execute_result"
    }
   ],
   "source": [
    "a"
   ]
  },
  {
   "cell_type": "code",
   "execution_count": 143,
   "id": "66200188",
   "metadata": {},
   "outputs": [
    {
     "data": {
      "text/plain": [
       "[45, -20, 13, 13, 34, 50, -21]"
      ]
     },
     "execution_count": 143,
     "metadata": {},
     "output_type": "execute_result"
    }
   ],
   "source": [
    "a = [45, -20, 13, 13, 34, 50, -21]\n",
    "\n",
    "b = a\n",
    "\n",
    "b"
   ]
  },
  {
   "cell_type": "code",
   "execution_count": 144,
   "id": "c5c96afd",
   "metadata": {},
   "outputs": [
    {
     "data": {
      "text/plain": [
       "[45, -20, 13, 13, 34, 50]"
      ]
     },
     "execution_count": 144,
     "metadata": {},
     "output_type": "execute_result"
    }
   ],
   "source": [
    "b.pop()\n",
    "b"
   ]
  },
  {
   "cell_type": "code",
   "execution_count": 145,
   "id": "3c4f673b",
   "metadata": {},
   "outputs": [
    {
     "data": {
      "text/plain": [
       "[45, -20, 13, 13, 34, 50]"
      ]
     },
     "execution_count": 145,
     "metadata": {},
     "output_type": "execute_result"
    }
   ],
   "source": [
    "a"
   ]
  },
  {
   "cell_type": "code",
   "execution_count": null,
   "id": "a5fdce69",
   "metadata": {},
   "outputs": [],
   "source": []
  },
  {
   "cell_type": "markdown",
   "id": "24708507",
   "metadata": {},
   "source": [
    "### listin elementini dəyişmək üçün "
   ]
  },
  {
   "cell_type": "code",
   "execution_count": 146,
   "id": "4c65307f",
   "metadata": {},
   "outputs": [
    {
     "data": {
      "text/plain": [
       "45"
      ]
     },
     "execution_count": 146,
     "metadata": {},
     "output_type": "execute_result"
    }
   ],
   "source": [
    "a = [45, -20, 13, 13, 34, 50, -21, \"SALAM\", 'Azerbaijan']\n",
    "\n",
    "a[0]"
   ]
  },
  {
   "cell_type": "code",
   "execution_count": 147,
   "id": "563aa5aa",
   "metadata": {},
   "outputs": [
    {
     "data": {
      "text/plain": [
       "'SALAM'"
      ]
     },
     "execution_count": 147,
     "metadata": {},
     "output_type": "execute_result"
    }
   ],
   "source": [
    "a[7]"
   ]
  },
  {
   "cell_type": "code",
   "execution_count": 148,
   "id": "b867d923",
   "metadata": {},
   "outputs": [
    {
     "data": {
      "text/plain": [
       "[45, -20, 13, 13, 34, 50, -21, 'Baku', 'Azerbaijan']"
      ]
     },
     "execution_count": 148,
     "metadata": {},
     "output_type": "execute_result"
    }
   ],
   "source": [
    "a[7] = \"Baku\"\n",
    "\n",
    "a"
   ]
  },
  {
   "cell_type": "code",
   "execution_count": null,
   "id": "ade7ed6b",
   "metadata": {},
   "outputs": [],
   "source": []
  },
  {
   "cell_type": "markdown",
   "id": "232b144d",
   "metadata": {},
   "source": [
    "### Tuple"
   ]
  },
  {
   "cell_type": "code",
   "execution_count": 153,
   "id": "a93e3e1f",
   "metadata": {},
   "outputs": [
    {
     "data": {
      "text/plain": [
       "(2, 1, 0, 4, 0, -5)"
      ]
     },
     "execution_count": 153,
     "metadata": {},
     "output_type": "execute_result"
    }
   ],
   "source": [
    "a = (2, 1, 0, 4, 0, -5)\n",
    "a"
   ]
  },
  {
   "cell_type": "code",
   "execution_count": null,
   "id": "26b3b566",
   "metadata": {},
   "outputs": [],
   "source": []
  },
  {
   "cell_type": "markdown",
   "id": "f6433d2b",
   "metadata": {},
   "source": [
    "Python-da **list** və **tuple** arasındakı əsas fərqlər qısaca belədir:\n",
    "\n",
    "| Xüsusiyyət       | `list`                  | `tuple`                 |\n",
    "| ---------------- | ----------------------- | ----------------------- |\n",
    "| **Dəyişkənlik**  | Dəyişə bilir (mutable)  | Dəyişməzdir (immutable) |\n",
    "| **Söz yığımı**   | `[]` mötərizədə yazılır | `()` mötərizədə yazılır |\n",
    "| **Sürət**        | Daha yavaşdır           | Daha sürətlidir         |\n",
    "| **Əməliyyatlar** | Əlavə, silmə mümkündür  | Əlavə, silmə olmaz      |\n",
    "\n",
    "### Nümunə:\n",
    "\n",
    "```python\n",
    "my_list = [1, 2, 3]\n",
    "my_tuple = (1, 2, 3)\n",
    "\n",
    "my_list[0] = 10   # OK\n",
    "# my_tuple[0] = 10  # Xəta verir (TypeError)\n",
    "```\n",
    "\n",
    "> Yəni: **dəyişəcək məlumatlar üçün `list`**, **dəyişməyəcək sabit məlumatlar üçün `tuple`** istifadə olunur.\n",
    "\n"
   ]
  },
  {
   "cell_type": "code",
   "execution_count": null,
   "id": "8dd2eb4d",
   "metadata": {},
   "outputs": [],
   "source": []
  },
  {
   "cell_type": "code",
   "execution_count": 154,
   "id": "ac7a8e0c",
   "metadata": {},
   "outputs": [
    {
     "data": {
      "text/plain": [
       "2"
      ]
     },
     "execution_count": 154,
     "metadata": {},
     "output_type": "execute_result"
    }
   ],
   "source": [
    "a = (2, 1, 0, 4, 0, -5)\n",
    "a[0]"
   ]
  },
  {
   "cell_type": "code",
   "execution_count": 155,
   "id": "08e0b9db",
   "metadata": {},
   "outputs": [
    {
     "ename": "TypeError",
     "evalue": "'tuple' object does not support item assignment",
     "output_type": "error",
     "traceback": [
      "\u001b[1;31m---------------------------------------------------------------------------\u001b[0m",
      "\u001b[1;31mTypeError\u001b[0m                                 Traceback (most recent call last)",
      "Cell \u001b[1;32mIn[155], line 1\u001b[0m\n\u001b[1;32m----> 1\u001b[0m a[\u001b[38;5;241m0\u001b[39m] \u001b[38;5;241m=\u001b[39m \u001b[38;5;241m5\u001b[39m\n",
      "\u001b[1;31mTypeError\u001b[0m: 'tuple' object does not support item assignment"
     ]
    }
   ],
   "source": [
    "a[0] = 5"
   ]
  },
  {
   "cell_type": "code",
   "execution_count": 156,
   "id": "9f687f1b",
   "metadata": {},
   "outputs": [
    {
     "data": {
      "text/plain": [
       "2"
      ]
     },
     "execution_count": 156,
     "metadata": {},
     "output_type": "execute_result"
    }
   ],
   "source": [
    "a.count(0)"
   ]
  },
  {
   "cell_type": "code",
   "execution_count": 157,
   "id": "52ec763b",
   "metadata": {},
   "outputs": [
    {
     "data": {
      "text/plain": [
       "2"
      ]
     },
     "execution_count": 157,
     "metadata": {},
     "output_type": "execute_result"
    }
   ],
   "source": [
    "a.index(0)"
   ]
  },
  {
   "cell_type": "code",
   "execution_count": 158,
   "id": "be5b3c9f",
   "metadata": {},
   "outputs": [
    {
     "data": {
      "text/plain": [
       "4"
      ]
     },
     "execution_count": 158,
     "metadata": {},
     "output_type": "execute_result"
    }
   ],
   "source": [
    "a.index(0, 3)"
   ]
  },
  {
   "cell_type": "code",
   "execution_count": 159,
   "id": "a4ba22de",
   "metadata": {},
   "outputs": [
    {
     "data": {
      "text/plain": [
       "[2, 1, 0, 4, 0, -5]"
      ]
     },
     "execution_count": 159,
     "metadata": {},
     "output_type": "execute_result"
    }
   ],
   "source": [
    "a = (2, 1, 0, 4, 0, -5)\n",
    "\n",
    "a = list(a)\n",
    "\n",
    "a"
   ]
  },
  {
   "cell_type": "code",
   "execution_count": 160,
   "id": "368ccc23",
   "metadata": {},
   "outputs": [
    {
     "data": {
      "text/plain": [
       "[5, 1, 0, 4, 0, -5]"
      ]
     },
     "execution_count": 160,
     "metadata": {},
     "output_type": "execute_result"
    }
   ],
   "source": [
    "a[0] = 5\n",
    "a"
   ]
  },
  {
   "cell_type": "code",
   "execution_count": 161,
   "id": "7f9f638c",
   "metadata": {},
   "outputs": [
    {
     "data": {
      "text/plain": [
       "(5, 1, 0, 4, 0, -5)"
      ]
     },
     "execution_count": 161,
     "metadata": {},
     "output_type": "execute_result"
    }
   ],
   "source": [
    "a = tuple(a)\n",
    "\n",
    "a"
   ]
  },
  {
   "cell_type": "code",
   "execution_count": null,
   "id": "d5a83c41",
   "metadata": {},
   "outputs": [],
   "source": []
  },
  {
   "cell_type": "markdown",
   "id": "563557b4",
   "metadata": {},
   "source": [
    " ### Ev tapşırıqları  Dərs 4. List/Tuple."
   ]
  },
  {
   "cell_type": "markdown",
   "id": "88cd8ff8",
   "metadata": {},
   "source": [
    "### 1. İki list dəyişəni götürün. Birinci listin ilk iki elementi ilə ikinci listin son üç elementinin cəmini tapın. Alınan listi tərs sıra ilə çapa verin."
   ]
  },
  {
   "cell_type": "code",
   "execution_count": 166,
   "id": "5bf0de6d",
   "metadata": {},
   "outputs": [
    {
     "name": "stdout",
     "output_type": "stream",
     "text": [
      "[-1, 14, 20, 5, 2]\n"
     ]
    }
   ],
   "source": [
    "\n",
    "a = [2, 5, 9, 11, 4]\n",
    "\n",
    "b = [23, 41, 20, 14 , -1]\n",
    "\n",
    "c= a[0:2] + b[-3:]\n",
    "\n",
    "c.reverse()\n",
    "\n",
    "print(c)"
   ]
  },
  {
   "cell_type": "code",
   "execution_count": 167,
   "id": "32a771fa",
   "metadata": {},
   "outputs": [
    {
     "data": {
      "text/plain": [
       "40"
      ]
     },
     "execution_count": 167,
     "metadata": {},
     "output_type": "execute_result"
    }
   ],
   "source": [
    "sum(a[0:2]) + sum( b[-3:])"
   ]
  },
  {
   "cell_type": "markdown",
   "id": "50b3a98f",
   "metadata": {},
   "source": [
    "### 2. İki list dəyişəni götürün və onları nizamlayın (sort). Alınmış listlərin cəmini çapa verin."
   ]
  },
  {
   "cell_type": "code",
   "execution_count": 168,
   "id": "32621fdf",
   "metadata": {},
   "outputs": [
    {
     "name": "stdout",
     "output_type": "stream",
     "text": [
      "[-39, -3, 0, 21, 23, 44, 55, -34, 6, 7, 99]\n"
     ]
    }
   ],
   "source": [
    "a = [-3, 21, 44, 55, 23, 0 , -39,] \n",
    "\n",
    "b = [7, -34, 6, 99]\n",
    "\n",
    "a.sort()\n",
    "\n",
    "b.sort()\n",
    "\n",
    "print(a + b)"
   ]
  },
  {
   "cell_type": "markdown",
   "id": "d106e0c6",
   "metadata": {},
   "source": [
    "### 3. Bir list dəyişəni götürün və həmin listə “Python” sözünün hər bir simvolunu əlavə edib çapa verin."
   ]
  },
  {
   "cell_type": "code",
   "execution_count": 169,
   "id": "0dc1e956",
   "metadata": {},
   "outputs": [
    {
     "name": "stdout",
     "output_type": "stream",
     "text": [
      "[' ', 4, 67, -1, 'qubernator', 4, 'P', 'y', 't', 'h', 'o', 'n']\n"
     ]
    }
   ],
   "source": [
    "\n",
    "a = [\" \", 4, 67, -1, \"qubernator\", 4]\n",
    "\n",
    "a.extend(\"Python\")\n",
    "\n",
    "print(a)"
   ]
  },
  {
   "cell_type": "markdown",
   "id": "73530f56",
   "metadata": {},
   "source": [
    "### 4. İki list dəyişəni götürün. Birinci listi tərs sıra ilə nizamlayıb, ikinci listin son 3 elementi  ilə toplayın. Alınan listi tərs sıra ilə nizamlayıb çapa verin."
   ]
  },
  {
   "cell_type": "code",
   "execution_count": 170,
   "id": "7edad048",
   "metadata": {},
   "outputs": [
    {
     "name": "stdout",
     "output_type": "stream",
     "text": [
      "[67, 45, 32, 9, 7, 3, 2, 1, 0]\n"
     ]
    }
   ],
   "source": [
    "\n",
    "a = [32, 67, 0, 1 ,3 ,2]\n",
    "\n",
    "b = [-3, 45, 7, 9 ,6]\n",
    "\n",
    "a.sort(reverse=True)\n",
    "\n",
    "c = a + b[-4:-1]\n",
    "\n",
    "c.sort(reverse=True)\n",
    "\n",
    "print(c)"
   ]
  },
  {
   "cell_type": "markdown",
   "id": "d22b40aa",
   "metadata": {},
   "source": [
    "### 5. İki list dəyişəni götürün və birinci listdə ikinci listin ilk elementinin sayını tapın."
   ]
  },
  {
   "cell_type": "code",
   "execution_count": 171,
   "id": "9cc826fa",
   "metadata": {},
   "outputs": [
    {
     "name": "stdout",
     "output_type": "stream",
     "text": [
      "2\n"
     ]
    }
   ],
   "source": [
    "\n",
    "a = [3, 78, 44, 23, 44, 56]\n",
    "\n",
    "b = [44, 22, 33, \"salam\"]\n",
    "\n",
    "print(a.count(b[0]))"
   ]
  },
  {
   "cell_type": "markdown",
   "id": "485ad129",
   "metadata": {},
   "source": [
    "### 6. Üç list dəyişəni götürün. “a” simvolunu birinci listin 0-cı, ikinci listin sonuncu, üçüncü listin 5-ci indeksinə əlavə edin."
   ]
  },
  {
   "cell_type": "code",
   "execution_count": 176,
   "id": "e114a078",
   "metadata": {},
   "outputs": [
    {
     "name": "stdout",
     "output_type": "stream",
     "text": [
      "['a', 3, 'm', 'l', '3', 9]\n",
      "[89, 101, 100, 0, -90, 'a']\n",
      "['klon', 'Z', 4, 8, -4, 'a', 23, 55, 66]\n"
     ]
    }
   ],
   "source": [
    "\n",
    "a = [3, \"m\", \"l\", \"3\", 9]\n",
    "\n",
    "b = [89, 101, 100, 0, -90]\n",
    "\n",
    "c = [\"klon\", 'Z', 4, 8, -4, 23, 55, 66]\n",
    "\n",
    "\n",
    "a.insert(0, \"a\")\n",
    "b.append('a')\n",
    "c.insert(5, \"a\")\n",
    "\n",
    "print(a)\n",
    "print(b)\n",
    "print(c)"
   ]
  },
  {
   "cell_type": "markdown",
   "id": "afa500c0",
   "metadata": {},
   "source": [
    "### 7. Bir list dəyişəni götürün və bu listi başqa bir dəyişənə kopyalayın və bu listlərin cəminin tərsini yeni bir dəyişənə yazın. Alınmış listin elementlərini 1 element ötürərək çapa verin."
   ]
  },
  {
   "cell_type": "code",
   "execution_count": 178,
   "id": "bf5bf50a",
   "metadata": {},
   "outputs": [
    {
     "name": "stdout",
     "output_type": "stream",
     "text": [
      "[3, 1987, 38, 3, 1987, 38]\n"
     ]
    }
   ],
   "source": [
    "a = [-89, 38, 1001, 1987, 31, 3]\n",
    "\n",
    "b = a.copy()\n",
    "\n",
    "c = a + b\n",
    "\n",
    "c.reverse()\n",
    "\n",
    "print(c[0::2])\n"
   ]
  },
  {
   "cell_type": "markdown",
   "id": "b674c35c",
   "metadata": {},
   "source": [
    "### 8. İki list dəyişəni götürün. Birinci listin ilk elementini, ikinci listin son elementini silin. Birinci listi tərs sıra ilə, ikinci listi düz sıra ilə nizamlayıb çapa verin."
   ]
  },
  {
   "cell_type": "code",
   "execution_count": 179,
   "id": "fcbd8460",
   "metadata": {},
   "outputs": [
    {
     "name": "stdout",
     "output_type": "stream",
     "text": [
      "[1001, 99, 89, 44, 14, 0, -1, -2]\n",
      "[34, 35, 67, 89, 89, 100, 202]\n"
     ]
    }
   ],
   "source": [
    "a = [5, 14, -2, -1, 44, 0, 89, 1001, 99]\n",
    "\n",
    "b = [202, 100, 67, 89, 34, 35, 89, 2]\n",
    "\n",
    "a.remove(5)    # ve ya list81.pop(0)\n",
    "\n",
    "b.remove(2)     # ve yalist82.pop(-1)\n",
    "\n",
    "\n",
    "a.sort(reverse=True)\n",
    "\n",
    "print(a)\n",
    "\n",
    "\n",
    "b.sort()\n",
    "\n",
    "print(b)"
   ]
  },
  {
   "cell_type": "markdown",
   "id": "a68f9792",
   "metadata": {},
   "source": [
    "### 9. Bir tuple dəyişəni götürün. Bu dəyişənin sonuna yeni bir element əlavə edərək çapa verin."
   ]
  },
  {
   "cell_type": "code",
   "execution_count": 181,
   "id": "81eaffaa",
   "metadata": {},
   "outputs": [
    {
     "name": "stdout",
     "output_type": "stream",
     "text": [
      "[5, 56, 76, 'salam', 'gelincik']\n"
     ]
    }
   ],
   "source": [
    "a = (5, 56, 76, \"salam\")\n",
    "\n",
    "a = list(a)\n",
    "\n",
    "a.append(\"gelincik\")   # veya   list91.insert(4, \"gelincik\")\n",
    "\n",
    "print(a)\n"
   ]
  },
  {
   "cell_type": "markdown",
   "id": "fd24af89",
   "metadata": {},
   "source": [
    "### 10. İki tuple dəyişəni götürün. Onların cəmini yeni bir dəyişənə yazın. Alınmış yeni  dəyişənin uzunluğunu çapa verin."
   ]
  },
  {
   "cell_type": "code",
   "execution_count": 183,
   "id": "6871e332",
   "metadata": {},
   "outputs": [
    {
     "name": "stdout",
     "output_type": "stream",
     "text": [
      "7\n"
     ]
    }
   ],
   "source": [
    "a = (-999, 888, \"Idark\", \"motor\")\n",
    "\n",
    "b = (\"seher\", 4, 5)\n",
    "\n",
    "c = a + b\n",
    "\n",
    "print(len(c))"
   ]
  },
  {
   "cell_type": "code",
   "execution_count": null,
   "id": "d8773979",
   "metadata": {},
   "outputs": [],
   "source": []
  }
 ],
 "metadata": {
  "kernelspec": {
   "display_name": "Python 3 (ipykernel)",
   "language": "python",
   "name": "python3"
  },
  "language_info": {
   "codemirror_mode": {
    "name": "ipython",
    "version": 3
   },
   "file_extension": ".py",
   "mimetype": "text/x-python",
   "name": "python",
   "nbconvert_exporter": "python",
   "pygments_lexer": "ipython3",
   "version": "3.11.5"
  }
 },
 "nbformat": 4,
 "nbformat_minor": 5
}
