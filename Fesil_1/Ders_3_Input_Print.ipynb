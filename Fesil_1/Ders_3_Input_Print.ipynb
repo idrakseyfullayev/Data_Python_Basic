{
 "cells": [
  {
   "cell_type": "markdown",
   "id": "b97b91b8",
   "metadata": {},
   "source": [
    "## Input/Output"
   ]
  },
  {
   "cell_type": "code",
   "execution_count": 3,
   "id": "18ea0660",
   "metadata": {},
   "outputs": [
    {
     "name": "stdout",
     "output_type": "stream",
     "text": [
      "1\n",
      "2\n",
      "3\n"
     ]
    }
   ],
   "source": [
    "a = input()\n",
    "\n",
    "b = input()\n",
    "\n",
    "c = input()\n"
   ]
  },
  {
   "cell_type": "code",
   "execution_count": 5,
   "id": "dd06d6ab",
   "metadata": {},
   "outputs": [
    {
     "name": "stdout",
     "output_type": "stream",
     "text": [
      "123\n"
     ]
    }
   ],
   "source": [
    "print(a + b +c)"
   ]
  },
  {
   "cell_type": "code",
   "execution_count": 6,
   "id": "412235a7",
   "metadata": {},
   "outputs": [
    {
     "name": "stdout",
     "output_type": "stream",
     "text": [
      "1\n",
      "2\n",
      "3\n",
      "1 2 3\n"
     ]
    }
   ],
   "source": [
    "a = input()\n",
    "b = input()\n",
    "c = input()\n",
    "\n",
    "print(a, b, c)"
   ]
  },
  {
   "cell_type": "code",
   "execution_count": 1,
   "id": "5609ba70",
   "metadata": {},
   "outputs": [
    {
     "name": "stdout",
     "output_type": "stream",
     "text": [
      "1\n"
     ]
    },
    {
     "data": {
      "text/plain": [
       "'1'"
      ]
     },
     "execution_count": 1,
     "metadata": {},
     "output_type": "execute_result"
    }
   ],
   "source": [
    "a = input()\n",
    "a"
   ]
  },
  {
   "cell_type": "code",
   "execution_count": 2,
   "id": "326a22d4",
   "metadata": {},
   "outputs": [
    {
     "data": {
      "text/plain": [
       "str"
      ]
     },
     "execution_count": 2,
     "metadata": {},
     "output_type": "execute_result"
    }
   ],
   "source": [
    "type(a)"
   ]
  },
  {
   "cell_type": "code",
   "execution_count": 6,
   "id": "3cfc21fc",
   "metadata": {},
   "outputs": [
    {
     "name": "stdout",
     "output_type": "stream",
     "text": [
      "Daxil et: Salam\n"
     ]
    },
    {
     "data": {
      "text/plain": [
       "'Salam'"
      ]
     },
     "execution_count": 6,
     "metadata": {},
     "output_type": "execute_result"
    }
   ],
   "source": [
    "a = input(\"Daxil et: \")\n",
    "a"
   ]
  },
  {
   "cell_type": "code",
   "execution_count": 9,
   "id": "27f21cff",
   "metadata": {},
   "outputs": [
    {
     "name": "stdout",
     "output_type": "stream",
     "text": [
      "Rəqəm daxil et:2\n"
     ]
    },
    {
     "data": {
      "text/plain": [
       "2"
      ]
     },
     "execution_count": 9,
     "metadata": {},
     "output_type": "execute_result"
    }
   ],
   "source": [
    "a = int(input(\"Rəqəm daxil et:\"))\n",
    "a"
   ]
  },
  {
   "cell_type": "code",
   "execution_count": 10,
   "id": "0c15bd46",
   "metadata": {},
   "outputs": [
    {
     "name": "stdout",
     "output_type": "stream",
     "text": [
      "Rəqəm daxil et:salam\n"
     ]
    },
    {
     "ename": "ValueError",
     "evalue": "invalid literal for int() with base 10: 'salam'",
     "output_type": "error",
     "traceback": [
      "\u001b[1;31m---------------------------------------------------------------------------\u001b[0m",
      "\u001b[1;31mValueError\u001b[0m                                Traceback (most recent call last)",
      "Cell \u001b[1;32mIn[10], line 1\u001b[0m\n\u001b[1;32m----> 1\u001b[0m a \u001b[38;5;241m=\u001b[39m \u001b[38;5;28mint\u001b[39m(\u001b[38;5;28minput\u001b[39m(\u001b[38;5;124m\"\u001b[39m\u001b[38;5;124mRəqəm daxil et:\u001b[39m\u001b[38;5;124m\"\u001b[39m))\n\u001b[0;32m      2\u001b[0m a\n",
      "\u001b[1;31mValueError\u001b[0m: invalid literal for int() with base 10: 'salam'"
     ]
    }
   ],
   "source": [
    "a = int(input(\"Rəqəm daxil et:\"))\n",
    "a"
   ]
  },
  {
   "cell_type": "code",
   "execution_count": null,
   "id": "12f347f9",
   "metadata": {},
   "outputs": [],
   "source": []
  },
  {
   "cell_type": "markdown",
   "id": "43f39fe8",
   "metadata": {},
   "source": [
    "### print() → Konsola (terminala) qiymet capa vermek ucun istifade edilir\n",
    "\n",
    "- print() funksiyasinda stringler 3 formada formatlanir:"
   ]
  },
  {
   "cell_type": "code",
   "execution_count": 12,
   "id": "3ab52880",
   "metadata": {},
   "outputs": [
    {
     "name": "stdout",
     "output_type": "stream",
     "text": [
      "Adil\n"
     ]
    }
   ],
   "source": [
    "print(\"Adil\")"
   ]
  },
  {
   "cell_type": "markdown",
   "id": "f5d0bf34",
   "metadata": {},
   "source": [
    "### 1. format() funksiyasindan istifade ederek:"
   ]
  },
  {
   "cell_type": "code",
   "execution_count": 18,
   "id": "1ba6cfb1",
   "metadata": {},
   "outputs": [],
   "source": [
    "a = \"Adil\"\n",
    "b = \"Aliyev\""
   ]
  },
  {
   "cell_type": "code",
   "execution_count": 19,
   "id": "369bac30",
   "metadata": {},
   "outputs": [
    {
     "name": "stdout",
     "output_type": "stream",
     "text": [
      "Adil Aliyev nece yasi var\n"
     ]
    }
   ],
   "source": [
    "print(a, b,  \"nece yasi var\")"
   ]
  },
  {
   "cell_type": "code",
   "execution_count": 22,
   "id": "d71d3a00",
   "metadata": {},
   "outputs": [
    {
     "name": "stdout",
     "output_type": "stream",
     "text": [
      "Adil Aliyevin  nece yasi var\n"
     ]
    }
   ],
   "source": [
    "print(\"{} {}in  nece yasi var\". format(a, b))"
   ]
  },
  {
   "cell_type": "code",
   "execution_count": 23,
   "id": "17acc049",
   "metadata": {},
   "outputs": [
    {
     "name": "stdout",
     "output_type": "stream",
     "text": [
      "Adil Aliyevin  nece yasi var\n"
     ]
    }
   ],
   "source": [
    "print(\"{0} {1}in  nece yasi var\". format(a, b))"
   ]
  },
  {
   "cell_type": "code",
   "execution_count": 24,
   "id": "1e5fb849",
   "metadata": {},
   "outputs": [
    {
     "name": "stdout",
     "output_type": "stream",
     "text": [
      "Aliyev Adilin  nece yasi var\n"
     ]
    }
   ],
   "source": [
    "print(\"{1} {0}in  nece yasi var\". format(a, b))"
   ]
  },
  {
   "cell_type": "markdown",
   "id": "07a708bf",
   "metadata": {},
   "source": [
    "### 2. % simvolundan istifade ederek:"
   ]
  },
  {
   "cell_type": "code",
   "execution_count": 27,
   "id": "4dcb92bd",
   "metadata": {},
   "outputs": [],
   "source": [
    "ad = \"Adil\"\n",
    "soyad = \"Aliyev\""
   ]
  },
  {
   "cell_type": "code",
   "execution_count": 29,
   "id": "e9613a08",
   "metadata": {},
   "outputs": [
    {
     "name": "stdout",
     "output_type": "stream",
     "text": [
      "Adil Aliyevin nece yasi var?\n"
     ]
    }
   ],
   "source": [
    "print(\"%s %sin nece yasi var?\" % (ad, soyad))"
   ]
  },
  {
   "cell_type": "code",
   "execution_count": 31,
   "id": "5109b517",
   "metadata": {},
   "outputs": [],
   "source": [
    "a = 2\n",
    "b = 3"
   ]
  },
  {
   "cell_type": "code",
   "execution_count": 40,
   "id": "2282c76d",
   "metadata": {},
   "outputs": [
    {
     "name": "stdout",
     "output_type": "stream",
     "text": [
      "2 və 3  rəqəmlərdir\n"
     ]
    }
   ],
   "source": [
    "print(\"%d və %d  rəqəmlərdir\" % (a, b))"
   ]
  },
  {
   "cell_type": "code",
   "execution_count": 41,
   "id": "b1150486",
   "metadata": {},
   "outputs": [],
   "source": [
    "a = 2\n",
    "b = 3"
   ]
  },
  {
   "cell_type": "code",
   "execution_count": 42,
   "id": "42a1b96d",
   "metadata": {},
   "outputs": [
    {
     "name": "stdout",
     "output_type": "stream",
     "text": [
      "2.000000 3.000000\n"
     ]
    }
   ],
   "source": [
    "print(\"%f %f\" % (a, b))"
   ]
  },
  {
   "cell_type": "code",
   "execution_count": 44,
   "id": "280cd872",
   "metadata": {},
   "outputs": [
    {
     "name": "stdout",
     "output_type": "stream",
     "text": [
      "2.500000 3.200000 kəsr ədədlərdir\n"
     ]
    }
   ],
   "source": [
    "a = 2.5\n",
    "b = 3.2\n",
    "\n",
    "print(\"%f %f kəsr ədədlərdir\" % (a, b))"
   ]
  },
  {
   "cell_type": "markdown",
   "id": "0d303f41",
   "metadata": {},
   "source": [
    "### 3.  f simvolundan istifade ederek:"
   ]
  },
  {
   "cell_type": "code",
   "execution_count": 45,
   "id": "980e7706",
   "metadata": {},
   "outputs": [],
   "source": [
    "ad = \"Idrak\"\n",
    "\n",
    "soyad = \"Seyfullayev\"\n",
    "\n",
    "yas = \"35\""
   ]
  },
  {
   "cell_type": "code",
   "execution_count": 47,
   "id": "716a2ef7",
   "metadata": {},
   "outputs": [
    {
     "name": "stdout",
     "output_type": "stream",
     "text": [
      "Idrak Seyfullayevin 35 yaşı var\n"
     ]
    }
   ],
   "source": [
    "print(f\"{ad} {soyad}in {yas} yaşı var\")"
   ]
  },
  {
   "cell_type": "code",
   "execution_count": 55,
   "id": "a5a197d7",
   "metadata": {},
   "outputs": [
    {
     "name": "stdout",
     "output_type": "stream",
     "text": [
      "5 3\n"
     ]
    }
   ],
   "source": [
    "a = 5\n",
    "b = 3\n",
    "\n",
    "print(a, b)"
   ]
  },
  {
   "cell_type": "code",
   "execution_count": 57,
   "id": "252cc8b2",
   "metadata": {},
   "outputs": [
    {
     "name": "stdout",
     "output_type": "stream",
     "text": [
      "5,3\n"
     ]
    }
   ],
   "source": [
    "print(a, b, sep=\",\")"
   ]
  },
  {
   "cell_type": "code",
   "execution_count": 61,
   "id": "92f78018",
   "metadata": {},
   "outputs": [
    {
     "name": "stdout",
     "output_type": "stream",
     "text": [
      "5 3,"
     ]
    }
   ],
   "source": [
    "print(a, b, end=\",\")"
   ]
  },
  {
   "cell_type": "code",
   "execution_count": 65,
   "id": "c39087a4",
   "metadata": {},
   "outputs": [
    {
     "name": "stdout",
     "output_type": "stream",
     "text": [
      "1\n",
      "2\n",
      "3\n",
      "4\n",
      "5\n"
     ]
    }
   ],
   "source": [
    "a = [1,2,3,4,5]\n",
    "\n",
    "for i in a:\n",
    "    print(i)"
   ]
  },
  {
   "cell_type": "code",
   "execution_count": 66,
   "id": "07f57f89",
   "metadata": {},
   "outputs": [
    {
     "name": "stdout",
     "output_type": "stream",
     "text": [
      "1,2,3,4,5,"
     ]
    }
   ],
   "source": [
    "a = [1,2,3,4,5]\n",
    "\n",
    "for i in a:\n",
    "    print(i, end=\",\")"
   ]
  },
  {
   "cell_type": "code",
   "execution_count": 71,
   "id": "411d54be",
   "metadata": {},
   "outputs": [
    {
     "name": "stdout",
     "output_type": "stream",
     "text": [
      "1\n",
      "2\n",
      "3\n",
      "4\n",
      "5\n"
     ]
    }
   ],
   "source": [
    "a = [1,2,3,4,5]\n",
    "\n",
    "for i in a:\n",
    "    print(i, end=\"\\n\")"
   ]
  },
  {
   "cell_type": "code",
   "execution_count": null,
   "id": "5e6a9e85",
   "metadata": {},
   "outputs": [],
   "source": []
  },
  {
   "cell_type": "markdown",
   "id": "ccff2c94",
   "metadata": {},
   "source": [
    "### Ev tapşırıqları  Dərs 3. Input/Output. "
   ]
  },
  {
   "cell_type": "markdown",
   "id": "1ac36d16",
   "metadata": {},
   "source": [
    "### 1. Konsoldan (terminaldan) 2 str tipli dəyişən daxil edin. Bu dəyişənlərin ilk simvolunu böyük hərflə format() funksiyasından istifadə edərək arasında boşluq qoyaraq çapa verin."
   ]
  },
  {
   "cell_type": "code",
   "execution_count": 75,
   "id": "18f235fd",
   "metadata": {},
   "outputs": [
    {
     "name": "stdout",
     "output_type": "stream",
     "text": [
      "salam Baku\n",
      "Salam Baku\n"
     ]
    }
   ],
   "source": [
    "# a = input()\n",
    "\n",
    "# b = input()\n",
    "\n",
    "a, b = input().split()\n",
    "\n",
    "print(\"{} {}\".format(a.capitalize(), b.capitalize()))"
   ]
  },
  {
   "cell_type": "markdown",
   "id": "1d4f0b61",
   "metadata": {},
   "source": [
    "###  2. Konsoldan 3 str tipli dəyişən daxil edin. Bu dəyişənləri format() funksiyasından istifadə edərək tərs sıra ilə böyük hərflərlə çapa verin."
   ]
  },
  {
   "cell_type": "code",
   "execution_count": 82,
   "id": "19262b58",
   "metadata": {},
   "outputs": [
    {
     "name": "stdout",
     "output_type": "stream",
     "text": [
      "salam Baku Gence\n",
      "GenceBakuSalam\n"
     ]
    }
   ],
   "source": [
    "# a= input()\n",
    "\n",
    "# b= input()\n",
    "\n",
    "# c= input()\n",
    "\n",
    "a, b , c = input().split()\n",
    "\n",
    "print(\"{2}{1}{0}\".format(a.capitalize(), b.capitalize(), c.capitalize()))"
   ]
  },
  {
   "cell_type": "markdown",
   "id": "72087f5c",
   "metadata": {},
   "source": [
    "### 3. Konsolda yanaşı 2 qiymət daxil edin və bu qiymətləri int tipinə çevirərək cəmini, fərqini, hasilini, nisbətini, tam nisbətini aşağıdakı kimi çapa verin:\n",
    "- Meselen, daxil edilsin: 5 3\n",
    "- Çapa verilsin:\n",
    "- Cem : 5 + 3 = 8\n",
    "- Ferq : 5 – 3 = 2\n",
    "- Hasil : 5 * 3 = 15\n",
    "- Nisbet : 5 / 3 = 1.777\n",
    "- Tam nisbet : 5 // 3 = 1\n"
   ]
  },
  {
   "cell_type": "code",
   "execution_count": 83,
   "id": "9a3ec363",
   "metadata": {},
   "outputs": [
    {
     "name": "stdout",
     "output_type": "stream",
     "text": [
      "2 3\n",
      "2 + 3 = 5\n",
      "2 - 3 = -1\n",
      "2 * 3 = 6\n",
      "2 / 3 = 0.6666666666666666\n",
      "2 // 3 = 0\n"
     ]
    }
   ],
   "source": [
    "\n",
    "a, b = input().split()\n",
    "\n",
    "a, b = int(a), int(b)\n",
    "\n",
    "\n",
    "print((f\"{a} + {b} = {a+b}\"))  \n",
    "\n",
    "print((f\"{a} - {b} =\"), (a-b))  \n",
    "\n",
    "print((f\"{a} * {b} =\"), (a*b))  \n",
    "\n",
    "print((f\"{a} / {b} =\"), (a/b))  \n",
    "\n",
    "print((f\"{a} // {b} =\"), (a//b)) "
   ]
  },
  {
   "cell_type": "markdown",
   "id": "0f8a067b",
   "metadata": {},
   "source": [
    "### 4. Konsoldan 1 str tipli qiymət daxil edin və % simvolundan istifadə edərək bu dəyişəni böyük hərflərlə, kiçik hərflərlə çapa verin."
   ]
  },
  {
   "cell_type": "code",
   "execution_count": 84,
   "id": "0a9c9de0",
   "metadata": {},
   "outputs": [
    {
     "name": "stdout",
     "output_type": "stream",
     "text": [
      "Salam\n",
      "sALAM\n"
     ]
    }
   ],
   "source": [
    "\n",
    "\n",
    "a = input()\n",
    "\n",
    "\n",
    "\n",
    "print(\"%s\" % (a.swapcase()))"
   ]
  },
  {
   "cell_type": "markdown",
   "id": "8b2243bf",
   "metadata": {},
   "source": [
    "### 5. Konsolda 2 str tipli qiymət daxil edin və % simvolundan istifadə edərək 1-ci dəyişənin ilk iki, 2-ci dəyişənin son 2 simvolunu və bu simvolları birləşdirərərək çapa verin."
   ]
  },
  {
   "cell_type": "code",
   "execution_count": 86,
   "id": "aa458a26",
   "metadata": {},
   "outputs": [
    {
     "name": "stdout",
     "output_type": "stream",
     "text": [
      "salam\n",
      "baku\n",
      "salam baku\n",
      "saku\n"
     ]
    }
   ],
   "source": [
    "\n",
    "a = input()\n",
    "\n",
    "b = input()\n",
    "\n",
    "a, b = input().split()\n",
    "\n",
    "print(\"%s%s\" % (a[0:2], b[-2:]))"
   ]
  },
  {
   "cell_type": "markdown",
   "id": "dcd67100",
   "metadata": {},
   "source": [
    "### 6. Konsoldan 1 str tipli qiymət daxil edin və f simvolundan istifadə edərək bu dəyişəni boşluq simvoluna görə parçalayaraq çapa verin."
   ]
  },
  {
   "cell_type": "code",
   "execution_count": 90,
   "id": "e736d7f2",
   "metadata": {},
   "outputs": [
    {
     "name": "stdout",
     "output_type": "stream",
     "text": [
      "salam baku\n",
      "['salam', 'baku']\n"
     ]
    }
   ],
   "source": [
    "\n",
    "a = input().split()\n",
    "\n",
    "print(f\"{a}\")"
   ]
  },
  {
   "cell_type": "markdown",
   "id": "0ce87005",
   "metadata": {},
   "source": [
    "### 7. Konsoldan kitabın adı, müəllifin adı və kitabın səhifə sayını daxil edin və onları f simvolundan\n",
    "- istifadə edərək aşağıdakı kimi çapa verin:\n",
    "- Daxil edilsin:\n",
    "- Oyunbaz\n",
    "- Vulf Dorn\n",
    "- 452\n",
    "- Çap edilsin:\n",
    "- Mağazada Vulf Dornun 452 səhifəlik Oyunbaz kitabı mövcuddur."
   ]
  },
  {
   "cell_type": "code",
   "execution_count": 91,
   "id": "2bc513e3",
   "metadata": {},
   "outputs": [
    {
     "name": "stdout",
     "output_type": "stream",
     "text": [
      "Oyunbaz\n",
      "Vulf Dorn\n",
      "452\n",
      "Magazada Vulf Dornun 452 sehifelik Oyunbaz kitabi movcuddur.\n"
     ]
    }
   ],
   "source": [
    "kitabin_adi7= input()\n",
    "\n",
    "muellifin_adi7= input()\n",
    "\n",
    "kitabin_sehife_sayi= int(input())\n",
    "print(f\"Magazada {muellifin_adi7}un {kitabin_sehife_sayi} sehifelik {kitabin_adi7} kitabi movcuddur.\")"
   ]
  },
  {
   "cell_type": "markdown",
   "id": "7f00e5ad",
   "metadata": {},
   "source": [
    "### 8. Konsoldan yanaşı 3 str tipli dəyişən daxil edin və onları hər 3 formatlama üsulundan istifadə\n",
    "- edərək aşağıdakı kimi daxil edin:\n",
    "- Daxil edilsin:\n",
    "- Bakı Sumqayıt Gəncə\n",
    "- Çap edilsin:\n",
    "- Bakı, Sumqayıt, Gəncə Azərbaycanın ən böyük şəhərləridir.\n"
   ]
  },
  {
   "cell_type": "code",
   "execution_count": 94,
   "id": "7249eb87",
   "metadata": {},
   "outputs": [
    {
     "name": "stdout",
     "output_type": "stream",
     "text": [
      "Baki Sumqayit Gence\n",
      "Baki, Sumqayit, Gence Azerbaycanin en boyuk seherleridir.\n",
      "Baki, Sumqayit, Gence Azerbaycanin en boyuk seherleridir.\n",
      "Baki, Sumqayit, Gence Azerbaycanin en boyuk seherleridir.\n"
     ]
    }
   ],
   "source": [
    "a, b, c = input().split()\n",
    "\n",
    "\n",
    "print(\"{}, {}, {} Azerbaycanin en boyuk seherleridir.\".format(a, b, c))\n",
    "\n",
    "\n",
    "print(\"%s, %s, %s Azerbaycanin en boyuk seherleridir.\" % (a, b, c))\n",
    "\n",
    "\n",
    "print(f\"{a}, {b}, {c} Azerbaycanin en boyuk seherleridir.\")\n"
   ]
  },
  {
   "cell_type": "markdown",
   "id": "ae465c6d",
   "metadata": {},
   "source": [
    "### 9. Konsoldan yanaşı 3 int tipli dəyişən daxil edin və end parametrindən istifadə edərək onları yanaşı çapa verin."
   ]
  },
  {
   "cell_type": "code",
   "execution_count": 96,
   "id": "f9e6819d",
   "metadata": {},
   "outputs": [
    {
     "name": "stdout",
     "output_type": "stream",
     "text": [
      "1 2 3\n",
      "1 2 3\n"
     ]
    }
   ],
   "source": [
    "a, b, c = input().split()\n",
    "\n",
    "a, b, c = int(a), int(b), int(c)\n",
    "\n",
    "print(a, end=\" \")                             # /n    ne idi?????\n",
    "\n",
    "print(b, end=\" \")\n",
    "\n",
    "print(c)"
   ]
  },
  {
   "cell_type": "markdown",
   "id": "c0423817",
   "metadata": {},
   "source": [
    "### 10. Konsoldan yanaşı 3 float tipli dəyişən daxil edin və sep parametrindən istifadə edərək onları  vergüllə ayıraraq çapa verin."
   ]
  },
  {
   "cell_type": "code",
   "execution_count": 98,
   "id": "c9dbb5a0",
   "metadata": {},
   "outputs": [
    {
     "name": "stdout",
     "output_type": "stream",
     "text": [
      "1 2 3\n",
      "1.0,2.0,3.0\n"
     ]
    }
   ],
   "source": [
    "a, b, c = input().split()\n",
    "\n",
    "a, b, c = float(a), float(b), float(c)\n",
    "\n",
    "print(a, b, c, sep=\",\")"
   ]
  },
  {
   "cell_type": "code",
   "execution_count": null,
   "id": "f1cb9c30",
   "metadata": {},
   "outputs": [],
   "source": []
  }
 ],
 "metadata": {
  "kernelspec": {
   "display_name": "Python 3 (ipykernel)",
   "language": "python",
   "name": "python3"
  },
  "language_info": {
   "codemirror_mode": {
    "name": "ipython",
    "version": 3
   },
   "file_extension": ".py",
   "mimetype": "text/x-python",
   "name": "python",
   "nbconvert_exporter": "python",
   "pygments_lexer": "ipython3",
   "version": "3.11.5"
  }
 },
 "nbformat": 4,
 "nbformat_minor": 5
}
